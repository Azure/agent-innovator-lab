{
 "cells": [
  {
   "cell_type": "markdown",
   "id": "c26ab996",
   "metadata": {},
   "source": [
    "# Understand Agentic architecture concept with AutoGen Studio\n",
    "\n",
    "----\n",
    "AutoGen Studio offers four main interfaces to help you build and manage multi-agent systems:\n",
    "\n",
    "1. Team Builder\n",
    "* A visual interface for creating agent teams through declarative specification (JSON) or drag-and-drop\n",
    "* Supports configuration of all core components: teams, agents, tools, models, and termination conditions\n",
    "* Fully compatible with AgentChat’s component definitions\n",
    "2. Playground\n",
    "* Interactive environment for testing and running agent teams\n",
    "* Features include:\n",
    "    * Live message streaming between agents\n",
    "    * Visual representation of message flow through a control transition graph\n",
    "    * Interactive sessions with teams using UserProxyAgent\n",
    "    * Full run control with the ability to pause or stop execution\n",
    "3. Gallery\n",
    "* Central hub for discovering and importing community-created components\n",
    "* Enables easy integration of third-party components\n",
    "4. Deployment\n",
    "* Export and run teams in python code\n",
    "* Setup and test endpoints based on a team configuration\n",
    "* Run teams in a docker container\n",
    "\n",
    "**Reference**\n",
    "- [AutoGen Studio repo](https://github.com/microsoft/autogen/tree/main/python/packages/autogen-studio) "
   ]
  },
  {
   "cell_type": "code",
   "execution_count": null,
   "id": "92afdfe2",
   "metadata": {},
   "outputs": [
    {
     "name": "stdout",
     "output_type": "stream",
     "text": [
      "\u001b[32mINFO\u001b[0m:     Loading environment from '/home/azureuser/.autogenstudio/temp_env_vars.env'\n",
      "\u001b[32m2025-02-17 04:55:30.641\u001b[0m | \u001b[1mINFO    \u001b[0m | \u001b[36mautogenstudio.web.initialization\u001b[0m:\u001b[36m__init__\u001b[0m:\u001b[36m40\u001b[0m - \u001b[1mInitializing application data folder: /home/azureuser/.autogenstudio \u001b[0m\n",
      "\u001b[32mINFO\u001b[0m:     Started server process [\u001b[36m17361\u001b[0m]\n",
      "\u001b[32mINFO\u001b[0m:     Waiting for application startup.\n",
      "\u001b[32m2025-02-17 04:55:30.657\u001b[0m | \u001b[1mINFO    \u001b[0m | \u001b[36mautogenstudio.database.db_manager\u001b[0m:\u001b[36minitialize_database\u001b[0m:\u001b[36m52\u001b[0m - \u001b[1mCreating database tables...\u001b[0m\n",
      "\u001b[32m2025-02-17 04:55:30.701\u001b[0m | \u001b[1mINFO    \u001b[0m | \u001b[36mautogenstudio.database.schema_manager\u001b[0m:\u001b[36m_initialize_alembic\u001b[0m:\u001b[36m154\u001b[0m - \u001b[1mAlembic initialization complete\u001b[0m\n",
      "INFO  [alembic.runtime.migration] Context impl SQLiteImpl.\n",
      "INFO  [alembic.runtime.migration] Will assume non-transactional DDL.\n",
      "\u001b[32m2025-02-17 04:55:30.734\u001b[0m | \u001b[1mINFO    \u001b[0m | \u001b[36mautogenstudio.web.app\u001b[0m:\u001b[36mlifespan\u001b[0m:\u001b[36m35\u001b[0m - \u001b[1mApplication startup complete. Navigate to http://127.0.0.1:8081\u001b[0m\n",
      "\u001b[32m2025-02-17 04:58:09.969\u001b[0m | \u001b[1mINFO    \u001b[0m | \u001b[36mautogenstudio.database.db_manager\u001b[0m:\u001b[36mdelete\u001b[0m:\u001b[36m233\u001b[0m - \u001b[1mRow with filters {'id': 1, 'user_id': 'guestuser@gmail.com'} not found\u001b[0m\n",
      "\u001b[32m2025-02-17 04:59:43.191\u001b[0m | \u001b[1mINFO    \u001b[0m | \u001b[36mautogenstudio.web.routes.ws\u001b[0m:\u001b[36mrun_websocket\u001b[0m:\u001b[36m44\u001b[0m - \u001b[1mWebSocket connection established for run d7e55af3-483d-44fe-b4d2-d80a177ec15c\u001b[0m\n",
      "\u001b[32m2025-02-17 04:59:43.489\u001b[0m | \u001b[1mINFO    \u001b[0m | \u001b[36mautogenstudio.web.routes.ws\u001b[0m:\u001b[36mrun_websocket\u001b[0m:\u001b[36m53\u001b[0m - \u001b[1mReceived start request for run d7e55af3-483d-44fe-b4d2-d80a177ec15c\u001b[0m\n",
      "/anaconda/envs/venv_agent/lib/python3.11/site-packages/autogen_core/_component_config.py:252: UserWarning: \n",
      "⚠️  SECURITY WARNING ⚠️\n",
      "Loading a FunctionTool from config will execute code to import the provided global imports and and function code.\n",
      "Only load configs from TRUSTED sources to prevent arbitrary code execution.\n",
      "  instance = component_class._from_config(validated_config)  # type: ignore\n",
      "\u001b[32m2025-02-17 04:59:53.203\u001b[0m | \u001b[1mINFO    \u001b[0m | \u001b[36mautogenstudio.web.routes.ws\u001b[0m:\u001b[36mrun_websocket\u001b[0m:\u001b[36m93\u001b[0m - \u001b[1mWebSocket disconnected for run d7e55af3-483d-44fe-b4d2-d80a177ec15c\u001b[0m\n",
      "\u001b[32m2025-02-17 05:00:01.831\u001b[0m | \u001b[1mINFO    \u001b[0m | \u001b[36mautogenstudio.web.routes.ws\u001b[0m:\u001b[36mrun_websocket\u001b[0m:\u001b[36m44\u001b[0m - \u001b[1mWebSocket connection established for run 1e0f2dbe-bc55-4abb-9701-0fbbd15529c2\u001b[0m\n",
      "\u001b[32m2025-02-17 05:00:02.128\u001b[0m | \u001b[1mINFO    \u001b[0m | \u001b[36mautogenstudio.web.routes.ws\u001b[0m:\u001b[36mrun_websocket\u001b[0m:\u001b[36m53\u001b[0m - \u001b[1mReceived start request for run 1e0f2dbe-bc55-4abb-9701-0fbbd15529c2\u001b[0m\n",
      "\u001b[32m2025-02-17 05:00:03.016\u001b[0m | \u001b[1mINFO    \u001b[0m | \u001b[36mautogenstudio.web.routes.ws\u001b[0m:\u001b[36mrun_websocket\u001b[0m:\u001b[36m93\u001b[0m - \u001b[1mWebSocket disconnected for run 1e0f2dbe-bc55-4abb-9701-0fbbd15529c2\u001b[0m\n",
      "\u001b[32m2025-02-17 05:03:50.813\u001b[0m | \u001b[1mINFO    \u001b[0m | \u001b[36mautogenstudio.database.db_manager\u001b[0m:\u001b[36mdelete\u001b[0m:\u001b[36m233\u001b[0m - \u001b[1mRow with filters {'id': 1, 'user_id': 'guestuser@gmail.com'} not found\u001b[0m\n",
      "\u001b[32m2025-02-17 05:03:51.124\u001b[0m | \u001b[1mINFO    \u001b[0m | \u001b[36mautogenstudio.database.db_manager\u001b[0m:\u001b[36mdelete\u001b[0m:\u001b[36m233\u001b[0m - \u001b[1mRow with filters {'id': 1, 'user_id': 'guestuser@gmail.com'} not found\u001b[0m\n",
      "\u001b[32m2025-02-17 05:03:51.941\u001b[0m | \u001b[1mINFO    \u001b[0m | \u001b[36mautogenstudio.database.db_manager\u001b[0m:\u001b[36mdelete\u001b[0m:\u001b[36m233\u001b[0m - \u001b[1mRow with filters {'id': 1, 'user_id': 'guestuser@gmail.com'} not found\u001b[0m\n",
      "\u001b[32m2025-02-17 05:04:41.482\u001b[0m | \u001b[1mINFO    \u001b[0m | \u001b[36mautogenstudio.database.db_manager\u001b[0m:\u001b[36mdelete\u001b[0m:\u001b[36m233\u001b[0m - \u001b[1mRow with filters {'id': 2, 'user_id': 'guestuser@gmail.com'} not found\u001b[0m\n",
      "\u001b[32m2025-02-17 05:04:53.140\u001b[0m | \u001b[1mINFO    \u001b[0m | \u001b[36mautogenstudio.web.routes.ws\u001b[0m:\u001b[36mrun_websocket\u001b[0m:\u001b[36m44\u001b[0m - \u001b[1mWebSocket connection established for run f5973b26-c910-4351-925b-506e490e0892\u001b[0m\n",
      "\u001b[32m2025-02-17 05:04:54.231\u001b[0m | \u001b[1mINFO    \u001b[0m | \u001b[36mautogenstudio.web.routes.ws\u001b[0m:\u001b[36mrun_websocket\u001b[0m:\u001b[36m53\u001b[0m - \u001b[1mReceived start request for run f5973b26-c910-4351-925b-506e490e0892\u001b[0m\n",
      "\u001b[32m2025-02-17 05:05:17.616\u001b[0m | \u001b[1mINFO    \u001b[0m | \u001b[36mautogenstudio.database.db_manager\u001b[0m:\u001b[36mdelete\u001b[0m:\u001b[36m233\u001b[0m - \u001b[1mRow with filters {'id': 3, 'user_id': 'guestuser@gmail.com'} not found\u001b[0m\n",
      "\u001b[32m2025-02-17 05:05:17.745\u001b[0m | \u001b[1mINFO    \u001b[0m | \u001b[36mautogenstudio.web.routes.ws\u001b[0m:\u001b[36mrun_websocket\u001b[0m:\u001b[36m93\u001b[0m - \u001b[1mWebSocket disconnected for run f5973b26-c910-4351-925b-506e490e0892\u001b[0m\n"
     ]
    }
   ],
   "source": [
    "# you can do it in the terminal as well\n",
    "!autogenstudio ui --port 8081"
   ]
  },
  {
   "cell_type": "markdown",
   "id": "18b243d6",
   "metadata": {},
   "source": [
    "## 🧪 Step 1. Set up components in your gallery \n",
    "---\n",
    "\n",
    "1. Go to the started localhost:{your port} website.\n",
    "2. Click on the `Gallery` menu.\n",
    "3. Click on the `+ New Gallery` button to add a new component.\n",
    "4. Upload the customized sample_gallery.json file. \n",
    "5. Check the 9 components in the gallery."
   ]
  },
  {
   "cell_type": "markdown",
   "id": "1d61247b",
   "metadata": {},
   "source": [
    "## 🧪 Step 2. Single Agent with Tools\n",
    "---\n",
    "\n",
    "1. Go to the Team Builder menu and Click on the `+ New Team` button.\n",
    "2. Remove the default agent and termination condition.\n",
    "3. Drag and drop the `single_tool_use_agent` and `CombinationTemination` in the team box.\n",
    "4. Click the save button and goes to the Playground menu.\n",
    "5. Click the `+ New Session` button to start a session and input the name of session and select your team created.\n",
    "6. Click the `Create` button to run the session.\n",
    "7. input your query in the input box and click the `Send` button.\n",
    "\n",
    "![Single-Agent Workflow](images/single-agent.png)"
   ]
  },
  {
   "cell_type": "markdown",
   "id": "ae4a73a0",
   "metadata": {},
   "source": [
    "### 🚀 Example of your messages\n",
    "\n",
    "1. What is the history of microsoft?\n",
    "2. get info from https://www.sqlite.org/copyright.html\n",
    "3. what is the weather in Seoul?\n",
    "4. 4.11 + 5.11?"
   ]
  },
  {
   "cell_type": "markdown",
   "id": "c2c07ac3",
   "metadata": {},
   "source": [
    "### ✅ sample response\n",
    "\n",
    "1. What is the history of microsoft?\n",
    "\n",
    "![screenshot1](images/screenshot1.png)\n",
    "\n",
    "2. get info from https://www.sqlite.org/copyright.html\n",
    "\n",
    "![screenshot2](images/screenshot2.png)\n",
    "\n",
    "3. what is the weather in Seoul?\n",
    "\n",
    "![screenshot3](images/screenshot3.png)\n",
    "\n",
    "4. 4.11 + 5.11?\n",
    "\n",
    "![screenshot4](images/screenshot4.png)\n",
    "\n"
   ]
  },
  {
   "cell_type": "markdown",
   "id": "f9d65321",
   "metadata": {},
   "source": [
    "## 🧪 Step 3. Multi-Agent (Writer and Reviewer)\n",
    "---\n",
    "\n",
    "1. Go to the Team Builder menu and Click on the `+ New Team` button.\n",
    "2. Remove the default agent and termination condition.\n",
    "3. Drag and drop the `writer_agent`, `reviwer_agent` and `CombinationTemination` in the team box.\n",
    "4. Click the save button and goes to the Playground menu.\n",
    "5. Click the `+ New Session` button to start a session and input the name of session and select your team created.\n",
    "6. Click the `Create` button to run the session.\n",
    "7. input your query in the input box and click the `Send` button.\n",
    "\n",
    "![Multi-Agent Workflow](images/multi-agent.png)"
   ]
  },
  {
   "cell_type": "markdown",
   "id": "4cc73fe8",
   "metadata": {},
   "source": [
    "### 🚀 Example of your messages\n",
    "\n",
    "1. what is the height of the eiffel tower\n",
    "2. make a bedtime story for 5 years old kids\n",
    "2. make a bedtime story for 10 years old kids"
   ]
  },
  {
   "cell_type": "markdown",
   "id": "0ce6e5dc",
   "metadata": {},
   "source": [
    "### ✅ sample response\n",
    "\n",
    "1. make a bedtime story for 10 years old kids\n",
    "\n",
    "![screenshot5](images/screenshot5.png)"
   ]
  },
  {
   "cell_type": "markdown",
   "id": "77a2e7aa",
   "metadata": {},
   "source": [
    "### "
   ]
  },
  {
   "cell_type": "markdown",
   "id": "177d7df9",
   "metadata": {},
   "source": []
  }
 ],
 "metadata": {
  "kernelspec": {
   "display_name": "venv_agent",
   "language": "python",
   "name": "python3"
  },
  "language_info": {
   "codemirror_mode": {
    "name": "ipython",
    "version": 3
   },
   "file_extension": ".py",
   "mimetype": "text/x-python",
   "name": "python",
   "nbconvert_exporter": "python",
   "pygments_lexer": "ipython3",
   "version": "3.11.11"
  }
 },
 "nbformat": 4,
 "nbformat_minor": 5
}
