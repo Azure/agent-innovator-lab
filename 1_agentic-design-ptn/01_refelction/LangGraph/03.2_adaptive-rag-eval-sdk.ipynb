{
 "cells": [
  {
   "cell_type": "markdown",
   "id": "635d8ebb",
   "metadata": {},
   "source": [
    "# Adaptive RAG with Azure AI Evaluation SDK\n",
    "\n",
    "----\n",
    "\n",
    "In this notebook, we will demonstrate how to use the Azure AI Evaluation SDK.\n",
    "\n",
    "> ✨ ***Note*** <br>\n",
    "> 1. Please check the reference document before you get started - https://learn.microsoft.com/en-us/azure/ai-studio/how-to/develop/evaluate-sdk <br>\n",
    "> 2. Check the region support for the Azure AI Evaluation SDK. https://learn.microsoft.com/en-us/azure/ai-studio/concepts/evaluation-metrics-built-in?tabs=warning#region-support\n",
    "\n",
    "\n",
    "Adaptive RAG predicts the **complexity of the input question** using a SLM/LLM and selects an appropriate processing workflow accordingly.\n",
    "\n",
    "- **Very simple question (No Retrieval)**: Generates answers without RAG.\n",
    "- **Simple question (Single-shot RAG)**: Efficiently generates answers through a single-step search and generation.\n",
    "- **Complex question (Iterative RAG)**: Provides accurate answers to complex questions through repeated multi-step search and generation.\n",
    "\n",
    "\n",
    "Adaptive-RAG, Self-RAG, and Corrective RAG are similar approach, but they have different focuses.\n",
    "\n",
    "- **Adaptive-RAG**: Dynamically selects appropriate retrieval and generation strategies based on the complexity of the question.\n",
    "- **Self-RAG**: The model determines the need for retrieval on its own, performs retrieval when necessary, and improves the quality through self-reflection on the generated answers.\n",
    "- **Corrective RAG**: Evaluates the quality of retrieved documents, and performs additional retrievals such as web searches to supplement the information if the reliability is low.\n",
    "\n",
    "**Reference**\n",
    "\n",
    "- [Adaptive-RAG paper](https://arxiv.org/abs/2403.14403)  "
   ]
  },
  {
   "cell_type": "code",
   "execution_count": 1,
   "id": "f25ec196",
   "metadata": {},
   "outputs": [
    {
     "name": "stdout",
     "output_type": "stream",
     "text": [
      "Does not use LangSmith tracing.\n"
     ]
    }
   ],
   "source": [
    "from dotenv import load_dotenv\n",
    "from azure_genai_utils.tracer import get_langchain_api_key, set_langsmith\n",
    "\n",
    "load_dotenv()\n",
    "\n",
    "# If you want to trace your RAG API calls, please set the tracing=True. You need to have a valid Langchain API key.\n",
    "langchain_key, has_langchain_key = get_langchain_api_key()\n",
    "set_langsmith(\"[RAG Innv Lab] 1_Agentic-Design-Pattern\", tracing=False)"
   ]
  },
  {
   "cell_type": "code",
   "execution_count": 2,
   "id": "45f25be1",
   "metadata": {},
   "outputs": [
    {
     "name": "stdout",
     "output_type": "stream",
     "text": [
      "{'project_name': None, 'resource_group_name': None, 'subscription_id': None}\n",
      "{'api_key': '6YO1QYXkvZKTR9H0klf9RVPEuwCY3QJkqMgt0xuqrR02lbPYiHSbJQQJ99BAACYeBjFXJ3w3AAAAACOG5aIo',\n",
      " 'api_version': '2024-12-01-preview',\n",
      " 'azure_deployment': 'gpt-4o-mini',\n",
      " 'azure_endpoint': 'https://aiservices-aihub-eastus.openai.azure.com/',\n",
      " 'type': 'azure_openai'}\n"
     ]
    }
   ],
   "source": [
    "import os\n",
    "import pprint\n",
    "from azure.identity import DefaultAzureCredential\n",
    "from azure.ai.evaluation import evaluate\n",
    "from azure.ai.evaluation import (\n",
    "    ContentSafetyEvaluator,\n",
    "    RelevanceEvaluator,\n",
    "    CoherenceEvaluator,\n",
    "    GroundednessEvaluator,\n",
    "    FluencyEvaluator,\n",
    "    SimilarityEvaluator,\n",
    "    F1ScoreEvaluator,\n",
    "    RetrievalEvaluator,\n",
    ")\n",
    "\n",
    "credential = DefaultAzureCredential()\n",
    "\n",
    "# Initialize Azure AI project and Azure OpenAI conncetion with your environment variables\n",
    "azure_ai_project = {\n",
    "    \"subscription_id\": os.environ.get(\"AZURE_SUBSCRIPTION_ID\"),\n",
    "    \"resource_group_name\": os.environ.get(\"AZURE_RESOURCE_GROUP_NAME\"),\n",
    "    \"project_name\": os.environ.get(\"AZURE_PROJECT_NAME\"),\n",
    "}\n",
    "\n",
    "model_config = {\n",
    "    \"azure_endpoint\": os.environ.get(\"AZURE_OPENAI_ENDPOINT\"),\n",
    "    \"api_key\": os.environ.get(\"AZURE_OPENAI_API_KEY\"),\n",
    "    \"azure_deployment\": os.environ.get(\"AZURE_OPENAI_DEPLOYMENT_NAME\"),\n",
    "    \"api_version\": os.environ.get(\"AZURE_OPENAI_API_VERSION\"),\n",
    "    \"type\": \"azure_openai\",\n",
    "}\n",
    "\n",
    "pprint.pprint(azure_ai_project)\n",
    "pprint.pprint(model_config)"
   ]
  },
  {
   "cell_type": "markdown",
   "id": "aa00c3f4",
   "metadata": {},
   "source": [
    "<br>\n",
    "\n",
    "## 🧪 Step 1. Test and Construct each module\n",
    "---\n",
    "\n",
    "### Construct Retrieval Chain based on PDF"
   ]
  },
  {
   "cell_type": "code",
   "execution_count": 3,
   "id": "69cb77da",
   "metadata": {},
   "outputs": [
    {
     "name": "stdout",
     "output_type": "stream",
     "text": [
      "AutoGen is a versatile framework designed for building applications that utilize multiple agents, offering several key features. Firstly, it emphasizes **customizability** and **conversability**, allowing developers to define agent interaction behaviors flexibly. This is achieved through the use of both natural language and computer code, enabling the programming of various conversation patterns tailored to specific applications.\n",
      "\n",
      "Another significant feature is **modularity**, which divides tasks into separate agents. This promotes independent development, testing, and maintenance of each agent, simplifying the overall development process and enhancing code management. Additionally, AutoGen supports **programmability**, allowing users to extend or customize existing agents to meet specific needs easily. For instance, it can reduce core workflow code significantly, exemplified by a reduction from over 430 lines to just 100 lines in certain scenarios.\n",
      "\n",
      "Moreover, AutoGen introduces an **agent auto-reply mechanism** that facilitates conversation-driven control. Agents automatically generate replies upon receiving messages unless a termination condition is met. This system includes built-in reply functions based on LLM inference, code execution, or human input, and it allows for the registration of custom reply functions.\n",
      "\n",
      "Lastly, AutoGen supports both **static and dynamic conversation patterns**, enabling flexible interactions among agents. This flexibility is crucial for applications requiring complex multi-agent cooperation, making it easier to build innovative solutions while maintaining simplicity in implementation (source: AutoGen-paper.pdf, pages 0, 4, 8, 15)."
     ]
    }
   ],
   "source": [
    "from azure_genai_utils.rag.pdf import PDFRetrievalChain\n",
    "\n",
    "pdf_path = \"../../../sample-docs/AutoGen-paper.pdf\"\n",
    "\n",
    "pdf = PDFRetrievalChain(\n",
    "    source_uri=[pdf_path],\n",
    "    loader_type=\"PDFPlumber\",\n",
    "    model_name=\"gpt-4o-mini\",\n",
    "    embedding_name=\"text-embedding-3-large\",\n",
    "    chunk_size=500,\n",
    "    chunk_overlap=50,\n",
    ").create_chain()\n",
    "\n",
    "pdf_retriever = pdf.retriever\n",
    "pdf_chain = pdf.chain\n",
    "\n",
    "question = \"What is AutoGen's main features?\"\n",
    "docs = pdf_retriever.invoke(question)\n",
    "\n",
    "# Non-streaming\n",
    "# results = pdf_chain.invoke({\"chat_history\": \"\", \"question\": question, \"context\": docs})\n",
    "\n",
    "# Streaming\n",
    "for text in pdf_chain.stream(\n",
    "    {\"chat_history\": \"\", \"question\": question, \"context\": docs}\n",
    "):\n",
    "    print(text, end=\"\", flush=True)"
   ]
  },
  {
   "cell_type": "markdown",
   "id": "2b2fc536",
   "metadata": {},
   "source": [
    "### Query Routing and Document Evaluation\n",
    "\n",
    "Adaptive RAG performs query routing and document evaluation to provide accurate and reliable information. This process is essential for maximizing the performance of LLMs.\n",
    "\n",
    "- **Query Routing**: Analyze user queries to route them to appropriate information sources. This allows you to set the optimal search path for the purpose of the query.\n",
    "- **Document Evaluation**: Evaluate the quality and relevance of retrieved documents to increase the accuracy of the final results."
   ]
  },
  {
   "cell_type": "code",
   "execution_count": 4,
   "id": "1b78d33f",
   "metadata": {},
   "outputs": [],
   "source": [
    "from typing import Literal\n",
    "\n",
    "from langchain_core.prompts import ChatPromptTemplate\n",
    "from pydantic import BaseModel, Field\n",
    "from langchain_openai import AzureChatOpenAI\n",
    "from langchain_teddynote.models import get_model_name, LLMs\n",
    "\n",
    "\n",
    "class RouteQuery(BaseModel):\n",
    "    \"\"\"Route a user query to the most relevant datasource.\"\"\"\n",
    "\n",
    "    datasource: Literal[\"vectorstore\", \"web_search\"] = Field(\n",
    "        ...,\n",
    "        description=\"Given a user question choose to route it to web search or a vectorstore.\",\n",
    "    )\n",
    "\n",
    "\n",
    "llm = AzureChatOpenAI(model=\"gpt-4o-mini\", temperature=0)\n",
    "structured_llm_router = llm.with_structured_output(RouteQuery)\n",
    "\n",
    "TOPIC = \"AutoGen\"\n",
    "system = f\"\"\"You are an expert at routing a user question to a vectorstore or web search.\n",
    "The vectorstore contains documents related to {TOPIC}.\n",
    "Use the vectorstore for questions on these topics. Otherwise, use web-search.\"\"\"\n",
    "\n",
    "\n",
    "route_prompt = ChatPromptTemplate.from_messages(\n",
    "    [\n",
    "        (\"system\", system),\n",
    "        (\"human\", \"{question}\"),\n",
    "    ]\n",
    ")\n",
    "\n",
    "question_router = route_prompt | structured_llm_router"
   ]
  },
  {
   "cell_type": "markdown",
   "id": "c9e4d831",
   "metadata": {},
   "source": [
    "Test Query if it is routed to Web Search or VectorStore"
   ]
  },
  {
   "cell_type": "code",
   "execution_count": 5,
   "id": "595a16db",
   "metadata": {},
   "outputs": [
    {
     "data": {
      "text/plain": [
       "RouteQuery(datasource='vectorstore')"
      ]
     },
     "execution_count": 5,
     "metadata": {},
     "output_type": "execute_result"
    }
   ],
   "source": [
    "question_router.invoke({\"question\": \"What is the main features of AutoGen?\"})"
   ]
  },
  {
   "cell_type": "markdown",
   "id": "5fc43b99",
   "metadata": {},
   "source": [
    "### Question-Retrieval Grader"
   ]
  },
  {
   "cell_type": "code",
   "execution_count": 6,
   "id": "814af453",
   "metadata": {},
   "outputs": [],
   "source": [
    "class GradeDocuments(BaseModel):\n",
    "    \"\"\"Binary score for relevance check on retrieved documents.\"\"\"\n",
    "\n",
    "    binary_score: str = Field(\n",
    "        description=\"Documents are relevant to the question, 'yes' or 'no'\"\n",
    "    )\n",
    "\n",
    "\n",
    "# Custom class based evaluator for grading documents\n",
    "class GradeDocumentsEvaluator:\n",
    "    system = \"\"\"You are a grader assessing relevance of a retrieved document to a user question. \\n \n",
    "        If the document contains keyword(s) or semantic meaning related to the user question, grade it as relevant. \\n\n",
    "        It does not need to be a stringent test. The goal is to filter out erroneous retrievals. \\n\n",
    "        Give a binary score 'yes' or 'no' score to indicate whether the document is relevant to the question.\"\"\"\n",
    "\n",
    "    def __init__(self, llm_client):\n",
    "        self.llm_client = llm_client\n",
    "\n",
    "    def __call__(self, *, question: str, document: str, **kwargs):\n",
    "        grade_prompt = ChatPromptTemplate.from_messages(\n",
    "            [\n",
    "                (\"system\", self.system),\n",
    "                (\n",
    "                    \"human\",\n",
    "                    \"Retrieved document: \\n\\n {document} \\n\\n User question: {question}\",\n",
    "                ),\n",
    "            ]\n",
    "        )\n",
    "        structured_llm_grader = self.llm_client.with_structured_output(GradeDocuments)\n",
    "        retrieval_grader = grade_prompt | structured_llm_grader\n",
    "        results = retrieval_grader.invoke({\"question\": question, \"document\": document})\n",
    "        return results\n",
    "\n",
    "\n",
    "document_evaluator = GradeDocumentsEvaluator(llm)"
   ]
  },
  {
   "cell_type": "code",
   "execution_count": 7,
   "id": "2fa5e0d7",
   "metadata": {},
   "outputs": [],
   "source": [
    "question = \"What is the main features of AutoGen?\"\n",
    "docs = pdf_retriever.invoke(question)"
   ]
  },
  {
   "cell_type": "code",
   "execution_count": 8,
   "id": "ef397b71",
   "metadata": {},
   "outputs": [
    {
     "name": "stdout",
     "output_type": "stream",
     "text": [
      "[Retrieved Doc sample]\n",
      "tasks. AutoGen agents are customizable, conversable, and can operate in vari-\n",
      "ous modes that employ combinations of LLMs, human inputs, and tools. Using\n",
      "AutoGen, developers can also flexibly define agent interaction behaviors. Both\n",
      "naturallanguageandcomputercodecanbeusedtoprogramflexibleconversation\n",
      "patterns for different applications. AutoGen serves as a generic framework for\n",
      "building diverse applications of various complexities and LLM capacities. Em-\n",
      "\n",
      "binary_score='yes'\n"
     ]
    }
   ],
   "source": [
    "retrieved_doc = docs[0].page_content\n",
    "print(f\"[Retrieved Doc sample]\\n{retrieved_doc}\\n\")\n",
    "print(document_evaluator(question=question, document=retrieved_doc))"
   ]
  },
  {
   "cell_type": "code",
   "execution_count": 9,
   "id": "dce41bfd",
   "metadata": {},
   "outputs": [],
   "source": [
    "filtered_docs = []\n",
    "for doc in docs:\n",
    "    result = document_evaluator(question=question, document=doc.page_content)\n",
    "    if result.binary_score == \"yes\":\n",
    "        filtered_docs.append(doc)"
   ]
  },
  {
   "cell_type": "markdown",
   "id": "54dce7a1",
   "metadata": {},
   "source": [
    "### Answer Generator\n",
    "\n",
    "Construct a LLM Generation node. This is a Naive RAG chain that generates an answer based on the retrieved documents. \n",
    "\n",
    "We recommend you to use more advanced RAG chain for production"
   ]
  },
  {
   "cell_type": "code",
   "execution_count": 10,
   "id": "992ef15a",
   "metadata": {},
   "outputs": [
    {
     "name": "stdout",
     "output_type": "stream",
     "text": [
      "Load prompt from LangChain Hub.\n",
      "AutoGen is a versatile framework designed for building customizable and conversable agent systems. Its main features include modularity, programmability, and flexible conversation patterns. Modularity allows tasks to be divided into separate agents, enabling independent development, testing, and maintenance, which simplifies the overall development process. Programmability empowers users to extend and customize existing agents to meet specific needs, significantly reducing the core workflow code from over 430 lines to just 100 lines in some cases.\n",
      "\n",
      "The framework supports both static and dynamic conversation flows, allowing for a variety of interaction patterns based on application requirements. AutoGen features unified interfaces and an auto-reply mechanism that facilitates automated agent communication. Agents can automatically generate replies based on received messages, utilizing built-in functions for LLM inference, code execution, or human input. This flexibility in conversation programming enables the creation of complex applications involving multiple agents and dynamic interactions, making AutoGen a powerful tool for developers looking to innovate in agent-based systems. \n",
      "\n",
      "Overall, AutoGen enhances performance, reduces development burdens, and allows for creative applications through its comprehensive design patterns and ease of use.\n"
     ]
    }
   ],
   "source": [
    "from langchain import hub\n",
    "from langchain_core.output_parsers import StrOutputParser\n",
    "from langchain_core.prompts import load_prompt\n",
    "\n",
    "if has_langchain_key:\n",
    "    print(f\"Load prompt from LangChain Hub.\")\n",
    "    prompt = hub.pull(\"daekeun-ml/rag-baseline\")\n",
    "else:\n",
    "    print(\"LANGCHAIN_API_KEY is not set. Load prompt from YAML file.\")\n",
    "    prompt = load_prompt(\"prompts/rag-baseline.yaml\")\n",
    "\n",
    "\n",
    "def format_docs(docs):\n",
    "    return \"\\n\\n\".join(\n",
    "        [\n",
    "            f'<document><content>{doc.page_content}</content><source>{doc.metadata[\"source\"]}</source><page>{doc.metadata[\"page\"]+1}</page></document>'\n",
    "            for doc in docs\n",
    "        ]\n",
    "    )\n",
    "\n",
    "\n",
    "rag_chain = prompt | llm | StrOutputParser()\n",
    "generation = rag_chain.invoke({\"context\": format_docs(docs), \"question\": question})\n",
    "print(generation)"
   ]
  },
  {
   "cell_type": "markdown",
   "id": "a0e9f601",
   "metadata": {},
   "source": [
    "### Groundedness Evaluator\n",
    "\n",
    "We can utilize Azure AI Evaluation API to evaluate the groundedness of the answer."
   ]
  },
  {
   "cell_type": "code",
   "execution_count": 11,
   "id": "d9340878",
   "metadata": {},
   "outputs": [],
   "source": [
    "def get_groundedness_score(context, response):\n",
    "\n",
    "    groundedness_eval = GroundednessEvaluator(model_config)\n",
    "    query_response = dict(\n",
    "        context=context,\n",
    "        response=response,\n",
    "    )\n",
    "\n",
    "    # Running Groundedness Evaluator on a query and response pair\n",
    "    groundedness_score = groundedness_eval(**query_response)\n",
    "    return groundedness_score"
   ]
  },
  {
   "cell_type": "code",
   "execution_count": 12,
   "id": "4566fcc0",
   "metadata": {},
   "outputs": [
    {
     "data": {
      "text/plain": [
       "{'groundedness': 3.0,\n",
       " 'gpt_groundedness': 3.0,\n",
       " 'groundedness_reason': 'The RESPONSE is well-grounded in the CONTEXT, accurately reflecting the main points and features of the AutoGen framework. However, it includes some additional details that, while relevant, are not directly supported by the CONTEXT. This leads to a score of 3, as it is accurate but includes unsupported additions.'}"
      ]
     },
     "metadata": {},
     "output_type": "display_data"
    }
   ],
   "source": [
    "display(get_groundedness_score(context=docs, response=generation))"
   ]
  },
  {
   "cell_type": "markdown",
   "id": "395f56cd",
   "metadata": {},
   "source": [
    "### Answer Grader\n",
    "\n",
    "We can utilize Azure AI Evaluation API to evaluate the relevance of the answer."
   ]
  },
  {
   "cell_type": "code",
   "execution_count": 13,
   "id": "a112fc4d",
   "metadata": {},
   "outputs": [],
   "source": [
    "def get_answer_relevace_score(query, response):\n",
    "\n",
    "    relevance_eval = RelevanceEvaluator(model_config)\n",
    "    query_response = dict(\n",
    "        query=query,\n",
    "        response=response,\n",
    "    )\n",
    "    relevance_score = relevance_eval(**query_response)\n",
    "    return relevance_score"
   ]
  },
  {
   "cell_type": "code",
   "execution_count": 14,
   "id": "a50e8c9f",
   "metadata": {},
   "outputs": [
    {
     "data": {
      "text/plain": [
       "{'relevance': 4.0,\n",
       " 'gpt_relevance': 4.0,\n",
       " 'relevance_reason': 'The RESPONSE fully addresses the QUERY by providing accurate and complete information about the main features of AutoGen, making it a complete response.'}"
      ]
     },
     "metadata": {},
     "output_type": "display_data"
    }
   ],
   "source": [
    "display(get_answer_relevace_score(query=question, response=generation))"
   ]
  },
  {
   "cell_type": "markdown",
   "id": "a9fc11dd",
   "metadata": {},
   "source": [
    "### Question Re-writer\n",
    "\n",
    "Construct a `question_rewriter` node to rewrite the question based on the retrieved documents and the generated answer."
   ]
  },
  {
   "cell_type": "code",
   "execution_count": 15,
   "id": "e9df325a",
   "metadata": {},
   "outputs": [],
   "source": [
    "from langchain_core.prompts import ChatPromptTemplate\n",
    "from langchain_core.output_parsers import StrOutputParser\n",
    "\n",
    "system = \"\"\"You a question re-writer that converts an input question to a better version that is optimized \\n \n",
    "for vectorstore retrieval. Look at the input and try to reason about the underlying semantic intent / meaning.\"\"\"\n",
    "\n",
    "re_write_prompt = ChatPromptTemplate.from_messages(\n",
    "    [\n",
    "        (\"system\", system),\n",
    "        (\n",
    "            \"human\",\n",
    "            \"Here is the initial question: \\n\\n {question} \\n Formulate an improved question.\",\n",
    "        ),\n",
    "    ]\n",
    ")\n",
    "\n",
    "question_rewriter = re_write_prompt | llm | StrOutputParser()"
   ]
  },
  {
   "cell_type": "code",
   "execution_count": 16,
   "id": "c6eb92e7",
   "metadata": {},
   "outputs": [
    {
     "name": "stdout",
     "output_type": "stream",
     "text": [
      "[Original question] What is the main features of AutoGen?\n"
     ]
    },
    {
     "data": {
      "text/plain": [
       "'What are the key features of AutoGen?'"
      ]
     },
     "execution_count": 16,
     "metadata": {},
     "output_type": "execute_result"
    }
   ],
   "source": [
    "print(f\"[Original question] {question}\")\n",
    "question_rewriter.invoke({\"question\": question})"
   ]
  },
  {
   "cell_type": "markdown",
   "id": "d8d5ee42",
   "metadata": {},
   "source": [
    "### Web Search Tool\n",
    "\n",
    "Web search tool is used to enhance the context."
   ]
  },
  {
   "cell_type": "code",
   "execution_count": 17,
   "id": "3a383ae6",
   "metadata": {},
   "outputs": [],
   "source": [
    "from azure_genai_utils.tools import BingSearch\n",
    "\n",
    "WEB_SEARCH_FORMAT_OUTPUT = False\n",
    "\n",
    "web_search_tool = BingSearch(\n",
    "    max_results=3,\n",
    "    locale=\"en-US\",\n",
    "    include_news=True,\n",
    "    include_entity=False,\n",
    "    format_output=WEB_SEARCH_FORMAT_OUTPUT,\n",
    ")"
   ]
  },
  {
   "cell_type": "code",
   "execution_count": 18,
   "id": "8851c837",
   "metadata": {},
   "outputs": [
    {
     "name": "stdout",
     "output_type": "stream",
     "text": [
      "{'kind': 'web', 'title': 'Exploring AutoGen: The Future of AI-Assisted Conversations and ... - Medium', 'snippet': '<b>Main</b> <b>features</b> <b>of AutoGen</b>. Example code snippet demonstrating a basic <b>AutoGen</b> setup. 3. Agent Creation and Management. Group chat simulation using <b>AutoGen</b>. Handling user inputs and system messages.', 'content': 'Sign up Sign in Sign up Sign in DanShw Follow -- Listen Share Dive into the world of AutoGen and discover how it’s revolutionizing AI interactions, agent management, and data processing, shaping the future of AI technology 1. Introduction 2. What is AutoGen? 3. Agent Creation and Management 4. Data Analysis and Processing 5. Efficiency and Accuracy 6. Process Explanation 7. Future Prospects of AutoGen In an era where artificial intelligence (AI) is rapidly evolving, a revolutionary technology known as AutoGen is stepping into the spotlight. AutoGen, a sophisticated framework developed by tech giant Microsoft, is transforming the way we think about AI and its applications in our daily lives. AutoGen is not just another AI tool; it’s a game-changer in the realm of AI assistants and large language models (LLMs). It’s designed to simplify and enhance the creation and management of AI agents, paving the way for more intuitive, effective multi-agent conversations and collaborations. The significance of AutoGen lies in its ability to streamline complex AI processes. By offering an advanced platform for agent creation, data processing, and conversation management, AutoGen is becoming a crucial asset in various fields. From automated code generation to creative content creation, the versatility of AutoGen is already being leveraged in numerous sectors. At its core, AutoGen is about creating a network of AI agents that can interact seamlessly with each other and with human users. These agents, powered by LLMs, can undertake a variety of tasks, making them invaluable in handling complex, multifaceted challenges. In the following sections, we’ll delve deeper into the world of AutoGen, exploring its components, functionalities, and real-world applications. In the landscape of AI technologies, AutoGen emerges as a standout innovation. But what exactly is AutoGen, and what makes it so pivotal in the realm of AI and LLMs? AutoGen is built on a foundation of advanced AI principles. Its main components include a network of digital agents, each with specialized capabilities and roles. These agents are designed to interact with each other and with users, making the process of managing AI conversations more intuitive and effective. The heart of AutoGen’s functionality lies in its integration with Large Language Models like GPT-3 and GPT-4. These LLMs provide the intelligence and learning capabilities that power the agents, enabling them to handle a wide range of tasks, from simple queries to complex problem-solving scenarios. AutoGen stands out for its flexibility and adaptability. It can be used to build anything from a simple AI assistant to a complex multi-agent system for intricate tasks. Some of its main features include: Let’s look at a basic example of setting up an AutoGen environment: In this simple code snippet, we create two agents and initiate a conversation between them, demonstrating the ease with which AutoGen can be implemented. In the next section, we’ll explore the intricate world of agent creation and management within AutoGen. The true prowess of AutoGen lies in its ability to create and manage AI agents, forming the backbone of its advanced AI applications. Let’s dive into how this is achieved and what it means for the future of AI-assisted tasks. One of the standout features of AutoGen is its ability to simulate group chats. By creating multiple agents, each with distinct roles and capabilities, AutoGen can mimic real-world conversation dynamics, providing a more natural and effective communication experience. AutoGen excels in managing user inputs and system messages, ensuring smooth interactions between AI agents and users. This capability is essential for applications like customer service bots, where understanding and responding to user queries accurately is crucial. From corporate boardrooms to online classrooms, the applications of AutoGen in agent management are vast and varied. It can be used for tasks like coordinating team workflows, simulating customer interactions, or even managing complex logistical operations. Here’s a glimpse into how an agent interaction might be coded in AutoGen: In this example, each agent is defined with a specific role and message context. TheUserProxyAgentserves as an interface for human input, theDeveloperfocuses on technical aspects, and theQA_Specialistis responsible for quality assurance aspects. TheGroupChatobject is where the agents are brought together for interaction, and theGroupChatManageris used to manage this conversation. This code illustrates how different agents can be created and used to handle specific types of interactions within the AutoGen framework. In the upcoming section, we will explore how AutoGen aids in data analysis and processing, further showcasing its versatility. AutoGen’s capabilities are not just limited to conversation and agent management; it also excels in the realm of data analysis and processing. Let’s explore how AutoGen revolutionizes these vital aspects of AI applications. One of the most exciting features of AutoGen is automated code generation. This allows for the rapid development of software solutions, significantly reducing the time and effort traditionally required in coding. AutoGen is also making waves in the creative industries. Its ability to assist in creative writing and content creation opens up new possibilities for artists, writers, and content creators, offering a unique blend of AI-powered creativity and human insight. While AutoGen offers several advantages in data processing, such as speed and efficiency, it’s important to recognize its limitations. Understanding these helps in better utilizing the technology for suitable applications and pushing for future improvements. Here’s a simple example of how data analysis can be implemented using AutoGen: In this code, aData_Analystagent is defined with capabilities to use Pandas for data manipulation and Matplotlib for plotting. Theanalyze_datafunction is where the data analysis takes place.It reads a dataset, computes summary statistics, and generates a histogram. This function can be modified to include different types of analyses or visualizations based on your specific data and requirements. In the next section, we’ll discuss the efficiency and accuracy of AutoGen, further underscoring its significance in the AI landscape. AutoGen isn’t just about the automation of tasks; it’s about doing them efficiently and accurately. This section explores how AutoGen achieves these critical aspects in AI applications. One of the most appealing features of AutoGen is its user-friendliness. The framework is designed to be intuitive, allowing even those with limited technical expertise to harness the power of advanced AI technologies. While AutoGen is a powerful tool, it’s important to acknowledge its current limitations. These include the need for refinement in understanding complex queries and the handling of nuanced human interactions. However, the future looks bright as continuous improvements are being made to overcome these challenges. Consider the creation of this very blog post. Utilizing AutoGen’s capabilities, the process becomes significantly more streamlined and efficient. The AI assists in organizing thoughts, structuring content, and even in drafting sections, all while ensuring the accuracy and relevance of the information. Here’s a snippet showcasing the efficiency of AutoGen: This example illustrates how AutoGen can be used to efficiently manage and complete tasks, enhancing productivity and accuracy. Next, we will delve into the process of creating and interacting with agents in AutoGen, providing a deeper understanding of its inner workings. AutoGen’s true power lies in its ability to facilitate seamless creation and interaction between AI agents. This section delves into the intricacies of this process. AutoGen enables the creation of agents with specific roles, such as data analyzers, conversation facilitators, or task managers. The interaction among these agents is key to the efficient and effective execution of tasks. This orchestration is what makes AutoGen a versatile and powerful tool in various AI applications. The output generated by these interactions is another crucial aspect. AutoGen ensures that the results are not only accurate but also relevant and actionable. This analysis capability is essential in making informed decisions based on the AI’s output. The process of creating and interacting with agents in AutoGen represents a significant advancement in AI technology. It demonstrates how AI can be more than just a tool; it can be a collaborator, enhancing human capabilities and driving innovation. Here’s an example demonstrating the process flow in AutoGen with CrewAI: This code snippet illustrates the dynamic interaction between different agents, each playing its role in a larger process flow within the AutoGen ecosystem. In the following section, we’ll explore the future prospects of AutoGen and what it holds for the world of AI. As we approach the end of our exploration into AutoGen, it’s important to look ahead and contemplate what the future holds for this innovative technology. The potential of AutoGen is boundless. As AI continues to evolve, AutoGen is expected to become even more sophisticated, with enhanced capabilities in understanding, analysis, and interaction. The future may see AutoGen playing a pivotal role in various sectors, driving innovation and efficiency. While embracing AutoGen’s potential, it’s crucial to navigate its use responsibly. Ensuring ethical AI practices, safeguarding data privacy, and staying abreast of technological advancements will be key to maximizing the benefits of AutoGen. AutoGen stands as a testament to the remarkable progress in AI technology. Its ability to streamline processes, enhance human-AI collaboration, and push the boundaries of what’s possible in AI applications paints a promising picture for the future. In conclusion, AutoGen is not just a tool for today; it’s a gateway to the future of AI. Its capabilities in agent creation, data processing, and intelligent automation herald a new era in AI technology, one that is more intuitive, efficient, and impactful. As we continue to explore and expand the horizons of AI, AutoGen will undoubtedly be at the forefront, shaping the way we interact with and benefit from this transformative technology. -- -- Help Status About Careers Press Blog Privacy Terms Text to speech Teams', 'url': 'https://medium.com/@kofsitho/exploring-autogen-the-future-of-ai-assisted-conversations-and-automation-2763f10615f6', 'thumbnail_url': None, 'source': 'Medium'}\n"
     ]
    }
   ],
   "source": [
    "results = web_search_tool.invoke({\"query\": question})\n",
    "print(results[0])"
   ]
  },
  {
   "cell_type": "markdown",
   "id": "1ac37855",
   "metadata": {},
   "source": [
    "<br>\n",
    "\n",
    "## 🧪 Step 2. Define the Graph\n",
    "---\n",
    "\n",
    "### State Definition\n",
    "\n",
    "- `question`: Question from the user\n",
    "- `generation`: Generated answer\n",
    "- `documents`: Retrieved documents"
   ]
  },
  {
   "cell_type": "code",
   "execution_count": 19,
   "id": "6d23ab6f",
   "metadata": {},
   "outputs": [],
   "source": [
    "from typing import List\n",
    "from typing_extensions import TypedDict, Annotated\n",
    "\n",
    "\n",
    "class GraphState(TypedDict):\n",
    "    question: Annotated[str, \"User question\"]\n",
    "    generation: Annotated[str, \"LLM generated answer\"]\n",
    "    documents: Annotated[List[str], \"List of documents\"]"
   ]
  },
  {
   "cell_type": "markdown",
   "id": "f266cc42",
   "metadata": {},
   "source": [
    "### Define Nodes\n",
    "\n",
    "We will define the following nodes in the graph:\n",
    "\n",
    "- `retrieve`: Retrieve documents based on the user question.\n",
    "- `generate`: Grade documents based on their relevance to the user question.\n",
    "- `grade_documents`: Generate an answer based on the retrieved documents and user question.\n",
    "- `rewrite_query`: Rewrite the user question to improve retrieval performance.\n",
    "- `web_search`: Search the web for additional information."
   ]
  },
  {
   "cell_type": "code",
   "execution_count": 20,
   "id": "ee6f34d0",
   "metadata": {},
   "outputs": [],
   "source": [
    "from langchain_core.documents import Document\n",
    "\n",
    "\n",
    "def retrieve(state: GraphState):\n",
    "    \"\"\"\n",
    "    Retrieve documents based on the user question.\n",
    "    \"\"\"\n",
    "    print(\"\\n==== [RETRIEVE] ====\\n\")\n",
    "    question = state[\"question\"]\n",
    "\n",
    "    documents = pdf_retriever.invoke(question)\n",
    "    return {\"documents\": documents}\n",
    "\n",
    "\n",
    "def generate(state: GraphState):\n",
    "    \"\"\"Generate an answer based on the retrieved documents and user question.\"\"\"\n",
    "    print(\"\\n==== [GENERATE] ====\\n\")\n",
    "    question = state[\"question\"]\n",
    "    documents = state[\"documents\"]\n",
    "\n",
    "    generation = rag_chain.invoke({\"context\": documents, \"question\": question})\n",
    "    return {\"generation\": generation}\n",
    "\n",
    "\n",
    "def grade_documents(state: GraphState):\n",
    "    \"\"\"Grade documents based on their relevance to the user question.\"\"\"\n",
    "    print(\"==== [CHECK DOCUMENT RELEVANCE TO QUESTION] ====\")\n",
    "    question = state[\"question\"]\n",
    "    documents = state[\"documents\"]\n",
    "\n",
    "    filtered_docs = []\n",
    "    for d in documents:\n",
    "        score = document_evaluator(question=question, document=d.page_content)\n",
    "        grade = score.binary_score\n",
    "        if grade == \"yes\":\n",
    "            print(\"---GRADE: DOCUMENT RELEVANT---\")\n",
    "            # Add related documents to filtered_docs\n",
    "            filtered_docs.append(d)\n",
    "        else:\n",
    "            print(\"---GRADE: DOCUMENT NOT RELEVANT---\")\n",
    "            continue\n",
    "    return {\"documents\": filtered_docs}\n",
    "\n",
    "\n",
    "def rewrite_query(state: GraphState):\n",
    "    \"\"\"Rewrite the user question to improve web search results\"\"\"\n",
    "    print(\"\\n==== [REWRITE QUERY] ====\\n\")\n",
    "    question = state[\"question\"]\n",
    "\n",
    "    better_question = question_rewriter.invoke({\"question\": question})\n",
    "    return {\"question\": better_question}\n",
    "\n",
    "\n",
    "def web_search(state: GraphState):\n",
    "    \"\"\"Search the web for additional information.\"\"\"\n",
    "    print(\"==== [WEB SEARCH] ====\")\n",
    "    question = state[\"question\"]\n",
    "\n",
    "    web_results = web_search_tool.invoke({\"query\": question})\n",
    "    web_results_docs = [\n",
    "        Document(\n",
    "            page_content=web_result[\"content\"],\n",
    "            metadata={\"source\": web_result[\"url\"]},\n",
    "        )\n",
    "        for web_result in web_results\n",
    "    ]\n",
    "\n",
    "    return {\"documents\": web_results_docs}"
   ]
  },
  {
   "cell_type": "markdown",
   "id": "069ac4e8",
   "metadata": {},
   "source": [
    "### Define Conditional Nodes\n",
    "\n",
    "- `route_query`: Route the user question to the most relevant datasource such as vectorstore or web search.\n",
    "- `decide_to_generate`: Decide whether to generate an answer or not.\n",
    "- `hallucination_check`: Evaluate whether the generated answer is grounded in the retrieved documents."
   ]
  },
  {
   "cell_type": "code",
   "execution_count": 21,
   "id": "d33976b9",
   "metadata": {},
   "outputs": [],
   "source": [
    "def route_question(state: GraphState):\n",
    "    \"\"\"Route the user question to the most relevant datasource such as vectorstore or web search.\"\"\"\n",
    "    print(\"==== [ROUTE QUESTION] ====\")\n",
    "    question = state[\"question\"]\n",
    "    source = question_router.invoke({\"question\": question})\n",
    "    if source.datasource == \"web_search\":\n",
    "        print(\"==== [ROUTE QUESTION TO WEB SEARCH] ====\")\n",
    "        return \"web_search\"\n",
    "    elif source.datasource == \"vectorstore\":\n",
    "        print(\"==== [ROUTE QUESTION TO VECTORSTORE] ====\")\n",
    "        return \"vectorstore\"\n",
    "\n",
    "\n",
    "def decide_to_generate(state: GraphState):\n",
    "    \"\"\"Return the decision to generate an answer or rewrite the question.\"\"\"\n",
    "    print(\"==== [DECISION TO GENERATE] ====\")\n",
    "    filtered_documents = state[\"documents\"]\n",
    "\n",
    "    if not filtered_documents:\n",
    "        print(\n",
    "            \"==== [DECISION: ALL DOCUMENTS ARE NOT RELEVANT TO QUESTION, REWRITE QUERY] ====\"\n",
    "        )\n",
    "        return \"rewrite_query\"\n",
    "    else:\n",
    "        print(\"==== [DECISION: GENERATE] ====\")\n",
    "        return \"generate\"\n",
    "\n",
    "\n",
    "def hallucination_check(state: GraphState):\n",
    "    \"\"\"Evaluate whether the generated answer is grounded in the retrieved documents.\"\"\"\n",
    "    print(\"\\n==== [CHECK HALLUCINATIONS] ===\")\n",
    "    question = state[\"question\"]\n",
    "    documents = state[\"documents\"]\n",
    "    generation = state[\"generation\"]\n",
    "\n",
    "    groundedness_score = get_groundedness_score(context=documents, response=generation)\n",
    "    grade = groundedness_score[\"groundedness\"]\n",
    "    print(f\"Groundness_score (1-5; higher is better): {grade}\\n\")\n",
    "\n",
    "    if grade >= 4:\n",
    "        print(\"==== [DECISION: GENERATION IS GROUNDED IN DOCUMENTS] ====\\n\")\n",
    "        print(\"==== [GRADE GENERATED ANSWER vs QUESTION] ====\")\n",
    "        relevance_score = get_answer_relevace_score(query=question, response=generation)\n",
    "        grade = relevance_score[\"relevance\"]\n",
    "        if grade >= 4:\n",
    "            print(\n",
    "                f\"==== [DECISION: GENERATED ANSWER ADDRESSES QUESTION, Relevance Score {grade}] ====\"\n",
    "            )\n",
    "            return \"relevant\"\n",
    "        else:\n",
    "            print(\"==== [DECISION: GENERATED ANSWER DOES NOT ADDRESS QUESTION] ====\")\n",
    "            return \"not relevant\"\n",
    "    else:\n",
    "        print(\"==== [DECISION: GENERATION IS NOT GROUNDED IN DOCUMENTS, RE-TRY] ====\")\n",
    "        return \"hallucination\""
   ]
  },
  {
   "cell_type": "markdown",
   "id": "2412119d",
   "metadata": {},
   "source": [
    "### Construct the Graph"
   ]
  },
  {
   "cell_type": "code",
   "execution_count": 22,
   "id": "c106a028",
   "metadata": {},
   "outputs": [],
   "source": [
    "from langgraph.graph import END, StateGraph, START\n",
    "from langgraph.checkpoint.memory import MemorySaver\n",
    "\n",
    "workflow = StateGraph(GraphState)\n",
    "\n",
    "# Node definition\n",
    "workflow.add_node(\"web_search\", web_search)\n",
    "workflow.add_node(\"retrieve\", retrieve)\n",
    "workflow.add_node(\"grade_documents\", grade_documents)\n",
    "workflow.add_node(\"generate\", generate)\n",
    "workflow.add_node(\"rewrite_query\", rewrite_query)\n",
    "\n",
    "# Edge connections\n",
    "workflow.add_conditional_edges(\n",
    "    START,\n",
    "    route_question,\n",
    "    {\n",
    "        \"web_search\": \"web_search\",\n",
    "        \"vectorstore\": \"retrieve\",\n",
    "    },\n",
    ")\n",
    "workflow.add_edge(\"web_search\", \"generate\")  # Answer generation from web search\n",
    "workflow.add_edge(\"retrieve\", \"grade_documents\")\n",
    "workflow.add_conditional_edges(\n",
    "    \"grade_documents\",\n",
    "    decide_to_generate,\n",
    "    {\"rewrite_query\": \"rewrite_query\", \"generate\": \"generate\"},\n",
    ")\n",
    "\n",
    "# Re-write the query and then retrieve the documents\n",
    "workflow.add_edge(\"rewrite_query\", \"retrieve\")\n",
    "workflow.add_conditional_edges(\n",
    "    \"generate\",\n",
    "    hallucination_check,\n",
    "    {\n",
    "        \"hallucination\": \"generate\",  # Re-generate the answer if hallucination is detected\n",
    "        \"relevant\": END,  # If the answer is relevant to the question, end the workflow\n",
    "        \"not relevant\": \"rewrite_query\",  # Rewrite the query if the answer is not relevant\n",
    "    },\n",
    ")\n",
    "\n",
    "# Compile the workflow\n",
    "app = workflow.compile(checkpointer=MemorySaver())"
   ]
  },
  {
   "cell_type": "markdown",
   "id": "748f4505",
   "metadata": {},
   "source": [
    "### Visualize the graph"
   ]
  },
  {
   "cell_type": "code",
   "execution_count": 23,
   "id": "46ce79fe",
   "metadata": {},
   "outputs": [
    {
     "data": {
      "image/png": "[encoded data removed]",
      "text/plain": [
       "<IPython.core.display.Image object>"
      ]
     },
     "metadata": {},
     "output_type": "display_data"
    }
   ],
   "source": [
    "from azure_genai_utils.graphs import visualize_langgraph\n",
    "\n",
    "visualize_langgraph(app, xray=True)"
   ]
  },
  {
   "cell_type": "markdown",
   "id": "3fd2739b",
   "metadata": {},
   "source": [
    "<br>\n",
    "\n",
    "## 🧪 Step 3. Execute the Graph\n",
    "---\n",
    "\n",
    "### Execute the graph"
   ]
  },
  {
   "cell_type": "code",
   "execution_count": 24,
   "id": "b020b140",
   "metadata": {},
   "outputs": [
    {
     "name": "stdout",
     "output_type": "stream",
     "text": [
      "==== [ROUTE QUESTION] ====\n",
      "==== [ROUTE QUESTION TO VECTORSTORE] ====\n",
      "\n",
      "==== [RETRIEVE] ====\n",
      "\n",
      "==== [CHECK DOCUMENT RELEVANCE TO QUESTION] ====\n",
      "\n",
      "==================================================\n",
      "🔄 Node: \u001b[1;36mgrade_documents\u001b[0m 🔄\n",
      "- - - - - - - - - - - - - - - - - - - - - - - - - \n",
      "{\"binary_score\":\"yes\"}---GRADE: DOCUMENT RELEVANT---\n",
      "{\"binary_score\":\"yes\"}---GRADE: DOCUMENT RELEVANT---\n",
      "{\"binary_score\":\"yes\"}---GRADE: DOCUMENT RELEVANT---\n",
      "{\"binary_score\":\"yes\"}---GRADE: DOCUMENT RELEVANT---\n",
      "{\"binary_score---GRADE: DOCUMENT RELEVANT---\n",
      "\":\"yes\"}{\"binary---GRADE: DOCUMENT RELEVANT---\n",
      "_score\":\"yes\"}{\"binary_score\":\"no\"}---GRADE: DOCUMENT NOT RELEVANT---\n",
      "{\"binary_score\":\"yes\"}---GRADE: DOCUMENT RELEVANT---\n",
      "{\"binary_score\":\"yes\"}---GRADE: DOCUMENT RELEVANT---\n",
      "{\"binary_score\":\"yes\"}---GRADE: DOCUMENT RELEVANT---\n",
      "==== [DECISION TO GENERATE] ====\n",
      "==== [DECISION: GENERATE] ====\n",
      "\n",
      "==== [GENERATE] ====\n",
      "\n",
      "\n",
      "==================================================\n",
      "🔄 Node: \u001b[1;36mgenerate\u001b[0m 🔄\n",
      "- - - - - - - - - - - - - - - - - - - - - - - - - \n",
      "AutoGen is a versatile framework designed for building applications that utilize multiple agents, offering several key features that enhance its functionality and usability. One of its main features is **customizability**, allowing developers to define agent interaction behaviors flexibly. This includes programming conversation patterns using both natural language and computer code, which caters to various application needs.\n",
      "\n",
      "Another significant feature is **modularity**. AutoGen promotes the division of tasks into separate agents, enabling independent development, testing, and maintenance of each agent. This modular approach simplifies the overall development process and facilitates better code management.\n",
      "\n",
      "**Programmability** is also a core aspect of AutoGen, as it allows users to extend and customize existing agents to meet specific requirements easily. For instance, the framework can significantly reduce the core workflow code, exemplified by a reduction from over 430 lines to just 100 lines in certain scenarios.\n",
      "\n",
      "Additionally, AutoGen supports **dynamic conversation flows** between agents, which can adapt based on the context of the conversation. It provides built-in reply functions based on LLM inference, code execution, or human input, and allows for the registration of custom reply functions. This flexibility enables the creation of complex applications that can handle multi-turn interactions and dynamic agent cooperation effectively.\n",
      "\n",
      "Overall, AutoGen's features contribute to improved performance, reduced development burden, and enhanced opportunities for innovation in agent-based applications (source: AutoGen-paper.pdf, pages 0, 4, 8, 15).\n",
      "==== [CHECK HALLUCINATIONS] ===\n",
      "Groundness_score (1-5; higher is better): 5.0\n",
      "\n",
      "==== [DECISION: GENERATION IS GROUNDED IN DOCUMENTS] ====\n",
      "\n",
      "==== [GRADE GENERATED ANSWER vs QUESTION] ====\n",
      "==== [DECISION: GENERATED ANSWER ADDRESSES QUESTION, Relevance Score 5.0] ====\n"
     ]
    }
   ],
   "source": [
    "from azure_genai_utils.messages import stream_graph, invoke_graph, random_uuid\n",
    "from langchain_core.runnables import RunnableConfig\n",
    "\n",
    "config = RunnableConfig(recursion_limit=10, configurable={\"thread_id\": random_uuid()})\n",
    "\n",
    "inputs = {\n",
    "    \"question\": \"What is AutoGen's main features?\",\n",
    "}\n",
    "\n",
    "stream_graph(app, inputs, config, [\"grade_documents\", \"rewrite\", \"generate\"])"
   ]
  },
  {
   "cell_type": "code",
   "execution_count": 25,
   "id": "e25d23b6",
   "metadata": {},
   "outputs": [
    {
     "name": "stdout",
     "output_type": "stream",
     "text": [
      "==== [ROUTE QUESTION] ====\n",
      "==== [ROUTE QUESTION TO WEB SEARCH] ====\n",
      "==== [WEB SEARCH] ====\n",
      "\n",
      "==== [GENERATE] ====\n",
      "\n",
      "\n",
      "==================================================\n",
      "🔄 Node: \u001b[1;36mgenerate\u001b[0m 🔄\n",
      "- - - - - - - - - - - - - - - - - - - - - - - - - \n",
      "Satya Nadella, born on August 19, 1967, in Hyderabad, India, is an Indian-born American business executive who has served as the Chairman and Chief Executive Officer (CEO) of Microsoft since February 4, 2014. He succeeded Steve Ballmer as CEO and John W. Thompson as chairperson in 2021. Nadella's educational background includes a bachelor's degree in electrical engineering from the Manipal Institute of Technology, a master's degree in computer science from the University of Wisconsin-Milwaukee, and an MBA from the University of Chicago Booth School of Business.\n",
      "\n",
      "Before becoming CEO, Nadella held various leadership roles at Microsoft, including executive vice president of the Cloud and Enterprise group, where he was instrumental in the company's transition to cloud computing. His leadership has significantly impacted Microsoft's growth, with the company's stock increasing nearly tenfold since he took over, reflecting a 27% annual growth rate. Under his guidance, Microsoft has made several high-profile acquisitions, including LinkedIn for $26.2 billion in 2016 and GitHub for $7.5 billion in 2018.\n",
      "\n",
      "Nadella is known for fostering a cultural shift within Microsoft, emphasizing empathy, collaboration, and a growth mindset. He has also been recognized for his leadership, being named Financial Times Person of the Year in 2019 and receiving the Padma Bhushan, India's third-highest civilian award, in 2022. In addition to his professional achievements, Nadella is a family man, married to Anupama, with whom he has three children. His personal experiences, particularly as a father to a son with special needs, have profoundly influenced his leadership style and approach to business. \n",
      "\n",
      "Overall, Satya Nadella's tenure at Microsoft has been marked by a focus on innovation, inclusivity, and a commitment to transforming the company's culture and business practices.\n",
      "==== [CHECK HALLUCINATIONS] ===\n",
      "Groundness_score (1-5; higher is better): 5.0\n",
      "\n",
      "==== [DECISION: GENERATION IS GROUNDED IN DOCUMENTS] ====\n",
      "\n",
      "==== [GRADE GENERATED ANSWER vs QUESTION] ====\n",
      "==== [DECISION: GENERATED ANSWER ADDRESSES QUESTION, Relevance Score 5.0] ====\n"
     ]
    }
   ],
   "source": [
    "inputs = {\n",
    "    \"question\": \"Who is Satya Nadella?\",\n",
    "}\n",
    "\n",
    "stream_graph(app, inputs, config, [\"agent\", \"rewrite\", \"generate\"])"
   ]
  }
 ],
 "metadata": {
  "kernelspec": {
   "display_name": "py312-dev",
   "language": "python",
   "name": "python3"
  },
  "language_info": {
   "codemirror_mode": {
    "name": "ipython",
    "version": 3
   },
   "file_extension": ".py",
   "mimetype": "text/x-python",
   "name": "python",
   "nbconvert_exporter": "python",
   "pygments_lexer": "ipython3",
   "version": "3.12.2"
  }
 },
 "nbformat": 4,
 "nbformat_minor": 5
}
