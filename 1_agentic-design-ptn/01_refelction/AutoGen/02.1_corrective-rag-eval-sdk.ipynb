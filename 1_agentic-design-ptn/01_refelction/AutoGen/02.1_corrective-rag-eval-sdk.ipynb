{
 "cells": [
  {
   "cell_type": "markdown",
   "id": "c26ab996",
   "metadata": {},
   "source": [
    "# Corrective RAG (CRAG)\n",
    "---\n",
    "\n",
    "### What is Corrective RAG?\n",
    "\n",
    "Corrective RAG (CRAG) is a methodology that adds a step to the RAG (Retrieval Augmented Generation) strategy to evaluate the documents found during the search process and refine the knowledge. This includes a series of processes to check the search results before generation and, if necessary, perform auxiliary searches to generate high-quality answers.\n",
    "\n",
    "- Retrieval Grader: Evaluates the relevance of retrieved documents and assigns a score to each document.\n",
    "- Web Search Integration: If quality of retrieved documents is low, CRAG uses web searches to augment retrieval results. It optimizes search results through query rewriting.\n",
    "\n",
    "**Reference**\n",
    "\n",
    "- [Corrective RAG paper](https://arxiv.org/pdf/2401.15884)  "
   ]
  },
  {
   "cell_type": "code",
   "execution_count": 1,
   "id": "b6458235",
   "metadata": {},
   "outputs": [
    {
     "data": {
      "text/plain": [
       "True"
      ]
     },
     "execution_count": 1,
     "metadata": {},
     "output_type": "execute_result"
    }
   ],
   "source": [
    "from dotenv import load_dotenv\n",
    "import os\n",
    "import json\n",
    "from azure.core.credentials import AzureKeyCredential\n",
    "from azure.identity import DefaultAzureCredential\n",
    "from azure.search.documents import SearchClient\n",
    "from azure.search.documents.models import VectorizableTextQuery\n",
    "from azure.ai.evaluation import GroundednessEvaluator, RelevanceEvaluator, RetrievalEvaluator\n",
    "from autogen_ext.models.openai import AzureOpenAIChatCompletionClient\n",
    "from autogen_core.models import ChatCompletionClient, SystemMessage, UserMessage, AssistantMessage\n",
    "from autogen_core import MessageContext, RoutedAgent, SingleThreadedAgentRuntime, TopicId, message_handler, type_subscription\n",
    "from pydantic import BaseModel\n",
    "from typing import List\n",
    "from dataclasses import dataclass\n",
    "\n",
    "\n",
    "load_dotenv(\"../../../.env\")"
   ]
  },
  {
   "cell_type": "code",
   "execution_count": 2,
   "id": "05d7dfed",
   "metadata": {},
   "outputs": [],
   "source": [
    "# Get the environment variables\n",
    "azure_ai_search_endpoint = os.getenv(\"AZURE_SEARCH_SERVICE_ENDPOINT\")\n",
    "search_credential = AzureKeyCredential(os.getenv(\"AZURE_SEARCH_ADMIN_KEY\", \"\")) if len(os.getenv(\"AZURE_SEARCH_ADMIN_KEY\", \"\")) > 0 else DefaultAzureCredential()\n",
    "index_name = os.getenv(\"AZURE_SEARCH_INDEX_NAME\", \"hotels-sample-index\")\n",
    "\n",
    "azure_openai_endpoint = os.getenv(\"AZURE_OPENAI_ENDPOINT\")\n",
    "azure_openai_key = os.getenv(\"AZURE_OPENAI_API_KEY\", \"\") if len(os.getenv(\"AZURE_OPENAI_API_KEY\", \"\")) > 0 else None\n",
    "azure_openai_chat_deployment_name = os.getenv(\"AZURE_OPENAI_CHAT_DEPLOYMENT_NAME\")\n",
    "azure_openai_embedding_deployment_name = os.getenv(\"AZURE_OPENAI_EMBEDDING_DEPLOYMENT_NAME\", \"text-embedding-ada-002\")\n",
    "openai_api_version = os.getenv(\"OPENAI_API_VERSION\", \"2024-06-01\")\n",
    "\n",
    "bing_subscription_key = os.getenv(\"BING_SUBSCRIPTION_KEY\", \"\") if len(os.getenv(\"BING_SUBSCRIPTION_KEY\", \"\")) > 0 else None\n",
    "\n",
    "model_config = {\n",
    "    \"azure_endpoint\": azure_openai_endpoint,\n",
    "    \"api_key\": azure_openai_key,\n",
    "    \"azure_deployment\": azure_openai_chat_deployment_name,\n",
    "    \"api_version\": openai_api_version,\n",
    "    \"type\": \"azure_openai\",\n",
    "}"
   ]
  },
  {
   "cell_type": "markdown",
   "id": "5ec192a9",
   "metadata": {},
   "source": [
    "## 🧪 Step 1. Test and Construct each module\n",
    "---\n",
    "\n",
    "Before building the entire the graph pipeline, we will test and construct each module separately.\n",
    "\n",
    "- **Retrieval Grader**\n",
    "- **Answer Generator**\n",
    "- **Question Re-writer**\n",
    "- **Web Search Tool**\n",
    "\n",
    "### Construct Retrieval Chain based on PDF\n",
    "- We use the hotels-sample-index, which can be created in minutes and runs on any search service tier. This index is created by a wizard using built-in sample data."
   ]
  },
  {
   "cell_type": "code",
   "execution_count": 3,
   "id": "4cde195c",
   "metadata": {},
   "outputs": [
    {
     "name": "stdout",
     "output_type": "stream",
     "text": [
      "Lion's Den Inn:Full breakfast buffet for 2 for only $1. Excited to show off our room upgrades, faster high speed WiFi, updated corridors & meeting space. Come relax and enjoy your stay.:['laundry service', 'free wifi', 'restaurant']\n",
      "Lakefront Captain Inn:Every stay starts with a warm cookie. Amenities like the Counting Sheep sleep experience, our Wake-up glorious breakfast buffet and spacious workout facilities await.:['restaurant', 'laundry service', 'coffee in lobby']\n",
      "Starlight Suites:Complimentary Airport Shuttle & WiFi. Book Now and save - Spacious All Suite Hotel, Indoor Outdoor Pool, Fitness Center, Florida Green certified, Complimentary Coffee, HDTV:['pool', 'coffee in lobby', 'free wifi']\n"
     ]
    }
   ],
   "source": [
    "azure_ai_search_endpoint = os.getenv(\"AZURE_SEARCH_SERVICE_ENDPOINT\")\n",
    "azure_search_admin_key = os.getenv(\"AZURE_SEARCH_ADMIN_KEY\", \"\")\n",
    "search_client = SearchClient(\n",
    "    endpoint=azure_ai_search_endpoint,\n",
    "    index_name=index_name,\n",
    "    credential=AzureKeyCredential(azure_search_admin_key),\n",
    "    semantic_configuration_name='my-semantic-config', \n",
    ")\n",
    "\n",
    "# Query is the question being asked. It's sent to the search engine and the LLM.\n",
    "query=\"Can you recommend a few hotels with complimentary breakfast?\"\n",
    "\n",
    "fields = \"descriptionVector\" # TODO: Check if this is the correct field name\n",
    "# don't use exhaustive search for large indexes\n",
    "vector_query = VectorizableTextQuery(text=query, k_nearest_neighbors=2, fields=fields, exhaustive=True)\n",
    "\n",
    "# Search results are created by the search client.\n",
    "# Search results are composed of the top 3 results and the fields selected from the search index.\n",
    "# Search results include the top 3 matches to your query.\n",
    "search_results = search_client.search(\n",
    "    search_text=query,\n",
    "    vector_queries= [vector_query],\n",
    "    select=\"Description,HotelName,Tags\",\n",
    "    top=3,\n",
    ")\n",
    "sources_formatted = \"\\n\".join([f'{document[\"HotelName\"]}:{document[\"Description\"]}:{document[\"Tags\"]}' for document in search_results])\n",
    "\n",
    "print(sources_formatted)"
   ]
  },
  {
   "cell_type": "markdown",
   "id": "083d39ad",
   "metadata": {},
   "source": [
    "### Define your LLM\n",
    "\n",
    "This hands-on only uses the `gpt-4o-mini`, but you can utilize multiple models in the pipeline."
   ]
  },
  {
   "cell_type": "code",
   "execution_count": 4,
   "id": "18d3a8f8",
   "metadata": {},
   "outputs": [],
   "source": [
    "# aoai_client = AzureOpenAI(\n",
    "#     azure_endpoint=azure_openai_endpoint,\n",
    "#     api_key=azure_openai_key,\n",
    "#     api_version=openai_api_version,\n",
    "# )\n",
    "\n",
    "# This is not the same object as the one above. This is the client that is used to interact with the Azure OpenAI Chat API.\n",
    "autogen_aoai_client = AzureOpenAIChatCompletionClient(\n",
    "    azure_endpoint=azure_openai_endpoint,\n",
    "    model = azure_openai_chat_deployment_name,\n",
    "    api_version=openai_api_version,\n",
    "    api_key=azure_openai_key\n",
    ")"
   ]
  },
  {
   "cell_type": "markdown",
   "id": "65ec10e5",
   "metadata": {},
   "source": [
    "### Question-Retrieval Grader\n",
    "\n",
    "Construct a retrieval grader that evaluates the relevance of the retrieved documents to the input question. The retrieval grader should take the input question and the retrieved documents as input and output a relevance score for each document.<br>\n",
    "Note that the retrieval grader should be able to handle **multiple documents** as input."
   ]
  },
  {
   "cell_type": "code",
   "execution_count": 5,
   "id": "5c85e4c2",
   "metadata": {},
   "outputs": [
    {
     "name": "stdout",
     "output_type": "stream",
     "text": [
      "{'retrieval': 5.0, 'gpt_retrieval': 5.0, 'retrieval_reason': 'The context chunks contain relevant information about hotels that offer complimentary breakfast, with the most pertinent chunks appearing at the top of the list. Therefore, the retrieval quality is high.'}\n"
     ]
    },
    {
     "data": {
      "text/plain": [
       "5.0"
      ]
     },
     "execution_count": 5,
     "metadata": {},
     "output_type": "execute_result"
    }
   ],
   "source": [
    "retrieval_eval  = RetrievalEvaluator(model_config)\n",
    "\n",
    "query_response = dict(\n",
    "    query=query,\n",
    "    context=sources_formatted\n",
    ")\n",
    "\n",
    "relevance_score = retrieval_eval(\n",
    "    **query_response\n",
    ")\n",
    "print(relevance_score)\n",
    "relevance_score['retrieval']\n"
   ]
  },
  {
   "cell_type": "markdown",
   "id": "702b7f87",
   "metadata": {},
   "source": [
    "### Answer Generator\n",
    "\n",
    "Construct a LLM Generation node. This is a Naive RAG chain that generates an answer based on the retrieved documents. \n",
    "\n",
    "We recommend you to use more advanced RAG chain for production"
   ]
  },
  {
   "cell_type": "code",
   "execution_count": 6,
   "id": "2168105c",
   "metadata": {},
   "outputs": [],
   "source": [
    "from pydantic import BaseModel\n",
    "from typing import List\n",
    "\n",
    "class HotelInfo(BaseModel):\n",
    "    hotel_name: str\n",
    "    description: str\n",
    "\n",
    "class RecommendationList(BaseModel):\n",
    "    recommendation: List[HotelInfo]"
   ]
  },
  {
   "cell_type": "code",
   "execution_count": 7,
   "id": "d080f695",
   "metadata": {},
   "outputs": [
    {
     "name": "stdout",
     "output_type": "stream",
     "text": [
      "{'hotel_name': \"Lion's Den Inn\", 'description': 'Full breakfast buffet for 2 for only $1. Excited to show off our room upgrades.'}\n",
      "{'hotel_name': 'Lakefront Captain Inn', 'description': 'Amenities like the Counting Sheep sleep experience and our Wake-up glorious breakfast buffet.'}\n",
      "{'hotel_name': 'Starlight Suites', 'description': 'Complimentary Airport Shuttle & WiFi, Complimentary Coffee.'}\n"
     ]
    }
   ],
   "source": [
    "# This prompt provides instructions to the model\n",
    "GROUNDED_PROMPT=\"\"\"\n",
    "You are a friendly assistant that recommends hotels based on activities and amenities.\n",
    "Answer the query using only the context provided below in a friendly and concise bulleted manner.\n",
    "Answer ONLY with the facts listed in the list of context below.\n",
    "If there isn't enough information below, say you don't know.\n",
    "Generate a response that includes the top 3 results.\n",
    "Do not generate answers that don't use the context below.\n",
    "Query: {query}\n",
    "Context:\\n{context}\n",
    "\"\"\"\n",
    "\n",
    "# Send the search results and the query to the LLM to generate a response based on the prompt.\n",
    "response = await autogen_aoai_client.create(\n",
    "        messages = [\n",
    "        UserMessage(content=GROUNDED_PROMPT.format(query=query, context=sources_formatted), source=\"user\"),\n",
    "    ],\n",
    "        extra_create_args={\"response_format\": RecommendationList},\n",
    ")\n",
    "\n",
    "response_content = json.loads(response.content)\n",
    "for recommendation in response_content['recommendation']:\n",
    "    print(recommendation)"
   ]
  },
  {
   "cell_type": "markdown",
   "id": "fd05275c",
   "metadata": {},
   "source": [
    "### Keyword Re-writer\n",
    "\n",
    "Construct a `keyword_rewriter` agent to rewrite the question as the search keyword."
   ]
  },
  {
   "cell_type": "code",
   "execution_count": 8,
   "id": "806f6d04",
   "metadata": {},
   "outputs": [
    {
     "name": "stdout",
     "output_type": "stream",
     "text": [
      "\"best hotels offering complimentary breakfast options\"\n"
     ]
    }
   ],
   "source": [
    "query=\"Can you recommend a few hotels with complimentary breakfast?\"\n",
    "\n",
    "# This prompt provides instructions to the model\n",
    "KEYWORD_REWRITE_PROMPT=\"\"\"\n",
    "You a keyword re-writer that converts an input question to a better version that is optimized for search. \n",
    "Generate search keyword from a user query \n",
    "to be more specific, detailed, and likely to retrieve relevant information, allowing for a more accurate response through web search.\n",
    "Don't include the additional context from the user question.\n",
    "\n",
    "Query: {query}\n",
    "Revised web search query:\n",
    "\"\"\"\n",
    "\n",
    "# Send the search results and the query to the LLM to generate a response based on the prompt.\n",
    "response = await autogen_aoai_client.create(\n",
    "        messages = [\n",
    "        UserMessage(content=KEYWORD_REWRITE_PROMPT.format(query=query), source=\"user\"),\n",
    "    ]\n",
    ")\n",
    "\n",
    "\n",
    "# Here is the response from the chat model.\n",
    "print(response.content)"
   ]
  },
  {
   "cell_type": "markdown",
   "id": "00a7d8b2",
   "metadata": {},
   "source": [
    "### Web Search Tool\n",
    "\n",
    "Web search tool is used to enhance the context. <br>\n",
    "\n",
    "It is used when all the documents do not meet the relevance threshold or the evaluator is not confident."
   ]
  },
  {
   "cell_type": "code",
   "execution_count": 9,
   "id": "e5444bcf",
   "metadata": {},
   "outputs": [],
   "source": [
    "from azure_genai_utils.tools import BingSearch\n",
    "\n",
    "WEB_SEARCH_FORMAT_OUTPUT = False\n",
    "\n",
    "web_search_tool = BingSearch(\n",
    "    max_results=3,\n",
    "    locale=\"en-US\",\n",
    "    include_news=False,\n",
    "    include_entity=False,\n",
    "    format_output=WEB_SEARCH_FORMAT_OUTPUT,\n",
    ")"
   ]
  },
  {
   "cell_type": "code",
   "execution_count": 10,
   "id": "595b71f8",
   "metadata": {},
   "outputs": [
    {
     "name": "stdout",
     "output_type": "stream",
     "text": [
      "This page was last updated: 2024-12-19 Best new hotels in NYC (New York City)\n",
      "- Days Inn New York Chinatown (Dec 2024)\n",
      "- The Manner (2024) - Aura Hotel Times Square (2024) - The Luxury Collection Hotel (2024) - The Surrey (2024) - SpringHill Suites Manhattan (2024) -\n",
      "Tru by Hilton\n",
      "Brooklyn\n",
      "(2024) -\n",
      "Warren Street Hotel (2024) - Holiday Inn Express Bronx (2024)﻿ - Waldorf Astoria (Reopening 2025)... Newest Hotels in New York City 2024 Hotel near Chinatown opened in December 2024 This new Days Inn hotel near Chinatown was opened in December 2024. The\n",
      "Days Inn\n",
      "is located on Eldridge Street, offering modern guest accommodations that come with a free breakfast, free Wi-Fi, a\n",
      "business center, and a fitness center. Read Reviews / Check Prices New Hotel in\n",
      "SoHo\n",
      "NYC opened in September 2024 This new upscale hotel in NYC is located on Thompson Street in the SoHo neighborhood of Lower Manhattan. The Manner offers a total of 97 guest rooms or suites and features an in-house restaurant and a cocktail bar. Read Reviews / Check Prices New Hotel in Times Square opened in August 2024 This new hotel near Times Square in Manhattan is located on W 44th Street, offering recently renovated guest accommodations (it was formerly the Mela Hotel). The pet-friendly Aura Hotel features an in-house restaurant, a bar, free Wi-Fi, and a fitness center. Read Reviews / Check Prices New Marriott Luxury Hotel in Midtown Manhattan 2024 Formerly the Conrad Hotel, this new Marriott hotel is located on 54th Street close to the southern end of Central Park, offering a range of upscale guest rooms, suites, and apartments. The Luxury Collection Hotel features an in-house restaurant, room service, a fitness center, free Wi-Fi, and valet parking (fees apply). Read Reviews / Check Prices Newly Renovated Luxury Hotel in\n",
      "Upper East Side\n",
      "Manhattan 2024 This newly renovated luxury hotel has recently reopened again. The Surrey is located close to Central Park in the Upper East Side of Manhattan, offering a total of 100 luxurious guest rooms or suites, in-house restaurants, a spa, and a gym. Read Reviews / Check Prices New Hotel in Times Square opened in May 2024 This brand new Marriott hotel in Times Square New York was opened in May 2024 offering 167 guest accommodations that include a free daily breakfast. Read Reviews / Check Prices New Hotel in Brooklyn opened in 2024 This new Hilton hotel in Brooklyn was recently opened in March 2024 offering modern guest rooms that come with a free hot breakfast.Read more... Read Reviews / Check Prices New Luxury NYC Hotel opened in February 2024 This new luxury hotel in the Tribeca neighborhood of Manhattan, NYC, offers a total of 69 individually designed guest rooms, suites, and residences and features an in-house restaurant and bar. Read Reviews / Check Prices New IHG Hotel in the Bronx NYC opening soon in 2024 This new InterContinental Hotels Group hotel in the Bronx NYC was opened in 2024.Read more... Luxury Hilton Hotel in NYC reopening in 2025 This historic luxury hotel in the\n",
      "Midtown Manhattan\n",
      "area of New York City is currently undergoing a transformative restoration and is due to reopen in the spring of 2025. Read Reviews / Check Prices Hotels in NYC Opened in 2023 Marriott Hotel in Chelsea NYC opened in November 2023 This new Marriott hotel in Chelsea, Manhattan, New York City, was opened in November. The Aloft New York Chelsea is located at 132 West 28th Street, half a mile away from Chelsea Park and the Empire State Building. At the property there are 234 guest accommodations, a bar, a fitness center, free Wi-Fi and a meeting room. Luxury Hotel in NYC opened in October 2023 This new luxury hotel in Midtown Manhattan was opened in October. The Fifth Avenue Hotel is located in the heart of Midtown in the NoMad district, just a few minutes walk away from Madison Square Park and a little over 5 minutes walk away from the Empire State Building. At the property you will find a range of upscale accommodations in spacious guest rooms or suites, their signature restaurant - Café Carmellini, and The Portrait Bar. Hilton Hotel near Times Square opened in October 2023 This new all-suites hotel near Times Square has been opened by Hilton in October. The Home2 Suites by Hilton New York Times Square is located just a couple of minutes walk away from Times Square and 5 minutes walk away from the Theater District. The pet-friendly property offers accommodation in spacious suites that come with a kitchenette/kitchen, a free daily breakfast, free Wi-Fi, and features a rooftop lounge, a lobby bar, a fitness center, a business center, and valet parking (fees apply). Boutique Hotel in New York City opened in September 2023 This new luxury hotel in Midtown Manhattan was opened by InterContinental Hotels Group (IHG) in September. The Kimpton Theta Hotel is located along 8th Avenue, around 5 minutes walk away from Times Square, the Broadway Theater, the Gershwin Theater, and many other nearby attractions. At this pet-friendly new boutique hotel, you will find upscale accommodation in spacious guest rooms or suites, a fitness center, valet parking (fees apply), a rooftop restaurant - Bar Sprezzatura, Café Otto, evening socials, and room service. Hotel in Hell's Kitchen NYC opened in September 2023 This brand new hotel in Hell's Kitchen in the West Side of Midtown Manhattan was recently opened in September. The Romer Hell's Kitchen Hotel is located just a few minutes walk away from the Broadway Theater District, offering accommodation in a choice of stylish guest rooms or suites. At the pet-friendly property, you will find the all-day cafe - Hell’s Kitchen Neighborhood Café, the Corner Store, So & So’s speakeasy restaurant and piano bar, and valet parking (fees apply). Hilton Hotel near Times Square opened in September 2023 This new hotel in the Times Square area of Midtown Manhattan was opened by Hilton in September. The Motto by Hilton New York City Times Square Hotel is located just a few minutes walk away from Times Square, Radio City Music Hall, M&M World, and the Rockefeller Center. The property offers a range of fairly compact, pet-friendly guest rooms (connecting rooms available) and features a fitness center and free Wi-Fi internet access. Hotel in\n",
      "Midtown Manhattan\n",
      "opened in August 2023 This new hotel in Midtown West NYC was opened by Marriott in August offering 310 modern guest rooms over 32 floors. The Delta Hotels by Marriott Times Square Hotel is located within walking distance of Times Square, Madison Square Garden and Madame Tussauds. At the hotel you will find a full-service restaurant - George’s Nephew, The George - Lobby Bar, a coffee house, room service, a fitness center, a business center, off-site parking / valet parking (fees apply) and free Wi-Fi internet access for guests. Hotel in Times Square NYC opened in August 2023 This new hotel in Times Square was opened by Hilton in August offering a good central location just a minute away from Times Square and 5 minutes walk away from the Theater District. The Tempo by Hilton New York Times Square features a wide choice of guest rooms or suites, an on-site restaurant,\n",
      "the Highball cocktail bar that overlooks Times Square,\n",
      "a fitness center, valet parking (fees apply) and free Wi-Fi internet access. Hotel in Harlem NY opened in August 2023 This new hotel in Harlem, New York was recently opened by Marriott in August. The Renaissance New York Harlem Hotel offers a total of 211 stylish guest rooms and features a rooftop bar and an in-house restaurant and bar. Hotel in Downtown Manhattan opened in March 2023 The Fidi Hotel is new hotel in the financial district of New York City that was recently opened in March, offering a total of\n",
      "131\n",
      "modern guest rooms and suites. Marriott Hotel in Williamsburg opened in March 2023 The Moxy Brooklyn Williamsburg is a new Marriott hotel in Brooklyn, NY recently opened in March.Read more... See all new hotels in Brooklyn here > Virgin Hotel NYC opened in February 2023 This new upscale hotel in NoMad, in the heart of Midtown Manhattan, was opened in February, offering a range of upmarket guest rooms (chambers) and suites. Virgin Hotels New York City is located less than 10 minutes walk away from the Empire State Building. At the property you will find multiple dining and drinking outlets, a seasonal pool and bar, a state-of-the-art fitness center, meeting and event spaces, and room service. Hotels in NYC Opened in 2022 Hotel in Lower Manhattan opened in December 2022 This new hotel in the Financial District of Lower Manhattan was recently opened by IHG. The Hotel Indigo NYC Financial District offers 180 stylish guest accommodations and features the\n",
      "Half Moon\n",
      "restaurant and lounge. Hotel in Soho opened in December 2022 This newly built hotel in SoHo, NYC that was recently opened in December. The Best Western Plus Soho Hotel offers modern guest rooms that come with a free breakfast included in the price of your stay. Hotel on Fifth Avenue NYC opened in December 2022 Le Méridien is new Marriott hotel on 5th Avenue that was recently opened in December, offering 165 upmarket guest rooms and 17 luxurious suites. Hotel LES, New York opened in November 2022 This brand new Marriott hotel in SoHo, Lower Manhattan was recently opened in early November. The Moxy NYC Lower East Side offers 303 guest accommodations and features 5 on-site restaurants and bars. Luxury Hotel in Midtown Manhattan NYC opened in November 2022 This new upscale hotel in Mahattan was opened in November. The Grayson Hotel offers 296 rooms or suites and features three restaurants / bars and a fitness centre. Hotel near JFK Airport opened in November 2022 This new Marriott hotel near JFK Airport was opened on November. The Residence Inn by Marriott New York JFK Airport offers spacious, extended-stay accommodation with studio, one and two bedroom suites that come with a full kitchen and a complimentary breakfast included in the price. Luxury Hotel in Tribeca, Lower Manhattan opened in September 2022 The Hôtel Barrière Fouquet's is new top luxury hotel in Tribeca, Lower Manhattan, New York City offering a total of 97 residential-style guest rooms and suites. Top Luxury Hotel in NYC opened in August 2022 This new luxurious hotel is located in the North of Madison (NoMad) neighborhood of NYC and offers a total of 250 upmarket guest rooms and luxurious suites. The Ritz-Carlton New York, NoMad features two on-site restaurants and bars, a luxury spa, a 24-hour fitness center, and 10,000 sq. ft. of both indoor and outdoor event spaces. Luxury Suites Hotel in Manhattan opened in July 2022 Aman New York is a new luxury suites hotel housed in the Crown Building located on the corner of 5th Avenue and 57th Street. The property offers a total of 83 suites with Japanese-inspired interiors. Luxury Residence Club in New York City opened in July 2022 5th & 55th was opened in July. This new Residence Club is housed within the St. Regis Hotel New York offering luxurious accommodation in studio, one-bedroom and two-bedroom residences that include a 24-hour personal butler service. Hotel in Lower East Side of Manhattan opened in June 2022 This new hotel in LES is a recently opened luxury accommodation housed in a restored Beaux-Arts building originally built in 1912. The Nine Orchard Hotel offers 116 upscale guest rooms and features the\n",
      "Corner Bar restaurant. 5 Star Hotel in New York City opened in June 2022 This new 5-star hotel in New York City was recently opened on June 1. Located on Wall Street in the Financial District of NYC, the Wall Street Hotel offers 180 luxury guest rooms and suites. Hotel in the NoMad Neighborhood NYC\n",
      "opened in June 2022 The Ned NoMad is a new upscale hotel and members' club located in NoMad, Manhattan. Housed in the Johnston Building, the historic property offers a total of 167 guest accommodations. Hotel in Midtown NYC opened in April 2022 The new Hard Rock Hotel in New York City was opened in April. Located in Midtown Manhattan, the 36-storey property offers 446 guestrooms and suites, and features the RT60 rooftop bar and lounge, the NYY Steak Restaurant, Sessions Restaurant & Bar and various entertainment venues. We try to keep our pages about new hotels in NYC as\n",
      "up-to-date as possible and will be updating this page when any new\n",
      "hotels open or when any upcoming hotels in NYC open for reservation.\n",
      "However, if you know of any good quality, recently opened new hotels\n",
      "not mentioned in the list above, or you are the owner / manager of an\n",
      "upcoming hotel in New York City opening soon and want some publicity for your\n",
      "grand opening, you cancontact us hereand let us know the details so that we can possibly add your property to our site. Find more new hotels in New York Albany-Bronx-Brooklyn-Flushing-New York City-Queens-Rochester New hotels opened in popular destinations around the USA: Albuquerque-Amarillo-Anaheim (Disneyland)-Anchorage-Atlanta-Austin-Baltimore-Baton Rouge-Birmingham-Boise-Boston-Boulder-Charleston-Charlotte-Cheyenne-Chicago-Cincinnati-Colorado Springs-Columbus-Dallas-Delaware-Des Moines-Destin-Detroit-Denver-Flagstaff-Fargo-Florence-Fort Lauderdale-Fort Worth-Hawaii-Hilton Head-Hollywood-Houston-Indianapolis-Jackson-Kansas City-Las Vegas-Lexington-Little Rock-Los Angeles-Lubbock-Manchester-Memphis-Miami-Miami Beach-Milwaukee-Minneapolis-Montana-Montgomery-Morgantown-Myrtle Beach-Nashville-New Haven-New Jersey-New Orleans-New York City-Oklahoma City-Omaha-Orlando-Philadelphia-Phoenix-Portland (ME)-Portland (OR)-Providence-Raleigh-Reno-Richmond-St Louis-Sacramento-Salt Lake City-San Antonio-San Diego-San Francisco-San Jose-Savannah-Scottsdale-Seattle-Sedona-Sioux Falls-Tacoma-Tallahassee-Tampa-Tucson-Tuscaloosa-Vermont-Virginia Beach-Waco-Washington-Wilmington See more destinations in the USA > Find new hotels opened in popular destinations in Canada: Banff-Calgary-Halifax-Montreal-Ottawa-Toronto-Vancouver Find the latest hotels opened in popular destinations in Mexico: Cancun-Los Cabos-Mazatlan-Mexico City-Playa del Carmen-Puerto Vallarta-Riviera Maya-San Miguel de Allende-Tulum Find the latest hotels opened in popular destinations in the Caribbean: Aruba-Antigua-Curacao-Dominican Republic-Jamaica-Puerto Rico-Santo Domingo-Turks & Caicos Others in this area:Costa Rica Other Destinations: Mauritius-Seychelles Home Page Copyright © 2025 Privacy Policy / Disclaimer\n"
     ]
    }
   ],
   "source": [
    "query = \"Newest Openings Hotels in NYC 2024 2025?\"\n",
    "results = web_search_tool.invoke({\"query\": query})\n",
    "print(results[0].get(\"content\", \"No content\"))"
   ]
  },
  {
   "cell_type": "markdown",
   "id": "f08d720d",
   "metadata": {},
   "source": [
    "<br>\n",
    "\n",
    "## 🧪 Step 2. Define the Agentic Architecture\n",
    "- Before building the agentic pipeline, we need to design the message, topic, agent and message routing logic. \n",
    "- You should define the terminate condition for the pipeline.\n",
    "\n",
    "### Message, Topic, Agent Definition\n",
    "\n",
    "```markdown\n",
    "```python\n",
    "\n",
    "# Message Definition\n",
    "@dataclass\n",
    "class Message:\n",
    "    query: str = None\n",
    "    context: str = None\n",
    "    response: str = None\n",
    "    source: str = None\n",
    "\n",
    "\n",
    "# Topic Definition\n",
    "user_query_topic_type = \"UserQueryTopic\"\n",
    "rewrite_topic_type = \"RewriteQueryTopic\"\n",
    "generate_topic_type = \"GenerateTopic\"\n",
    "web_search_topic_type = \"WebSearchTopic\"\n",
    "user_topic_type = \"UserAgent\"\n",
    "\n",
    "# Agent Definition\n",
    "class RetrievalGraderAgent(RoutedAgent):\n",
    "class KeywordRewriteAgent(RoutedAgent):\n",
    "class GenerateAgent(RoutedAgent):\n",
    "class WebSearchAgent(AssistantAgent):\n",
    "class UserAgent(AssistantAgent):\n",
    "\n",
    "# Message Routing Definition\n",
    "user_query_topic -> RetrievalGraderAgent -> KeywordRewriteAgent -> WebSearchAgent-> GenerateAgent -> UserAgent\n",
    "                                         -> GenerateAgent -> UserAgent\n",
    "\n",
    "\n",
    "```\n",
    "```"
   ]
  },
  {
   "cell_type": "code",
   "execution_count": 11,
   "id": "87d1f724",
   "metadata": {},
   "outputs": [],
   "source": [
    "@dataclass\n",
    "class Message:\n",
    "    query: str = None\n",
    "    context: str = None\n",
    "    response: str = None\n",
    "    source: str = None\n",
    "    def set_source(self, source: str) -> \"Message\":\n",
    "        self.source = source\n",
    "        return self\n",
    "\n",
    "# Topic Definition\n",
    "user_query_topic_type = \"UserQueryTopic\"\n",
    "keyword_rewrite_topic_type = \"KeywordRewriteTopic\"\n",
    "generate_topic_type = \"GenerateTopic\"\n",
    "websearch_topic_type = \"WebSearchTopic\"\n",
    "user_topic_type = \"UserAgent\""
   ]
  },
  {
   "cell_type": "code",
   "execution_count": 12,
   "id": "883dde68",
   "metadata": {},
   "outputs": [],
   "source": [
    "\n",
    "@type_subscription(topic_type=user_query_topic_type)\n",
    "class RAGGraderAgent(RoutedAgent):\n",
    "\n",
    "    def __init__(\n",
    "            self, \n",
    "            azure_ai_search_endpoint:str, \n",
    "            azure_search_admin_key:str,\n",
    "            index_name: str,\n",
    "            retrieval_evaluator: RetrievalEvaluator,\n",
    "            ) -> None:\n",
    "        \n",
    "        super().__init__(\"RAG Grader Agent\")\n",
    "        self.index_name = index_name\n",
    "        self.azure_ai_search_endpoint = azure_ai_search_endpoint\n",
    "        self.azure_search_admin_key = azure_search_admin_key\n",
    "        self.retrieval_evaluator = retrieval_evaluator\n",
    "\n",
    "    def config_search(self) -> SearchClient:\n",
    "        service_endpoint = self.azure_ai_search_endpoint\n",
    "        key = self.azure_search_admin_key\n",
    "        index_name = self.index_name\n",
    "        credential = AzureKeyCredential(key)\n",
    "        return SearchClient(endpoint=service_endpoint, index_name=index_name, credential=credential)\n",
    "\n",
    "    async def do_search(self, query: str) -> str:\n",
    "        \"\"\"Search indexed data using Azure Cognitive Search with vector-based queries.\"\"\"\n",
    "        aia_search_client = self.config_search()\n",
    "\n",
    "        fields = \"descriptionVector\" # TODO: Check if this is the correct field name\n",
    "        # don't use exhaustive search for large indexes\n",
    "        vector_query = VectorizableTextQuery(text=query, k_nearest_neighbors=1, fields=fields, exhaustive=True)\n",
    " \n",
    "        search_results = aia_search_client.search(  \n",
    "            search_text=query,  \n",
    "            vector_queries= [vector_query],\n",
    "            select=[\"Description,HotelName,Tags\"], #TODO: Check if these are the correct field names\n",
    "            top=3 #TODO: Check if this is the correct number of results\n",
    "        )\n",
    "        answer = \"\\n\".join([f'{document[\"HotelName\"]}:{document[\"Description\"]}:{document[\"Tags\"]}' for document in search_results])  \n",
    "        return answer\n",
    "    \n",
    "    @message_handler\n",
    "    async def handle_message(self, message: Message, ctx: MessageContext) -> None:\n",
    "        \n",
    "        context_from_ai_search = await self.do_search(message.query)\n",
    "        print(context_from_ai_search)\n",
    "\n",
    "        query_response = dict(\n",
    "            query=query,\n",
    "            context=context_from_ai_search\n",
    "        )\n",
    "\n",
    "        retrieval_score = self.retrieval_evaluator (\n",
    "            **query_response\n",
    "        )\n",
    "\n",
    "        print(f\"retrieval_score: {retrieval_score['retrieval']}\")\n",
    "       \n",
    "        if(retrieval_score[\"retrieval\"] >= 3.0):\n",
    "            await self.publish_message(Message(query=query, context=context_from_ai_search, source=message.source), topic_id=TopicId(type=generate_topic_type, source=message.source))\n",
    "        else:\n",
    "            await self.publish_message(Message(query=query, context=context_from_ai_search, source=message.source), topic_id=TopicId(type=keyword_rewrite_topic_type, source=message.source))"
   ]
  },
  {
   "cell_type": "code",
   "execution_count": 13,
   "id": "452355a4",
   "metadata": {},
   "outputs": [],
   "source": [
    "KEYWORD_REWRITE_PROMPT=\"\"\"\n",
    "You a keyword re-writer that converts an input question to a better version that is optimized for search. \n",
    "Generate search keyword from a user query \n",
    "to be more specific, detailed, and likely to retrieve relevant information, allowing for a more accurate response through web search.\n",
    "Don't include the additional context from the user question.\n",
    "\n",
    "Query: {query}\n",
    "Revised web search query:\n",
    "\"\"\"\n",
    "\n",
    "@type_subscription(topic_type=keyword_rewrite_topic_type)\n",
    "class KeywordRewriteAgent(RoutedAgent):\n",
    "    def __init__(self, model_client: ChatCompletionClient) -> None:\n",
    "        super().__init__(\"Query Rewrite Agent\")\n",
    "        self._system_message = SystemMessage(\n",
    "            content=(\n",
    "                \"\"\"\n",
    "                    You are an helper agent that can rewrite the query.\n",
    "                \"\"\"\n",
    "            )\n",
    "        )\n",
    "        self._model_client = model_client\n",
    "\n",
    "    @message_handler\n",
    "    async def handle_message(self, message: Message, ctx: MessageContext) -> None:\n",
    "        print(message)\n",
    "        llm_result = await self._model_client.create(\n",
    "            messages=[self._system_message, \n",
    "                        UserMessage(content=KEYWORD_REWRITE_PROMPT.format(query=message.query), source=message.source),\n",
    "                      ],\n",
    "            cancellation_token=ctx.cancellation_token,\n",
    "        )\n",
    "        response = llm_result.content\n",
    "        print(response)\n",
    "        assert isinstance(response, str)\n",
    "        print(f\"{'-'*80}\\n{self.id.type}:\\n{response}\")\n",
    "        \n",
    "        await self.publish_message(Message(query=response, context=message.context, source=message.source), topic_id=TopicId(type=websearch_topic_type, source=message.source))"
   ]
  },
  {
   "cell_type": "code",
   "execution_count": 14,
   "id": "3576b563",
   "metadata": {},
   "outputs": [],
   "source": [
    "INCORRECT_ANSWER=\"\"\"\n",
    "Hello, and thank you for bringing this to our attention! I may have provided an inaccurate or misleading response, and I sincerely apologize for the confusion.\n",
    "As an AI, I aim to deliver helpful and accurate information, but sometimes I might misinterpret or generate an incorrect response. Your feedback is invaluable and helps me improve.\n",
    "\n",
    "If you'd like, feel free to share more details or clarify your question, and I’ll do my best to assist you further. Thank you for your understanding and patience! 😊\n",
    "\"\"\"\n",
    "\n",
    "@type_subscription(topic_type=websearch_topic_type)\n",
    "class WebSearchAgent(RoutedAgent):\n",
    "\n",
    "    def __init__(\n",
    "            self, \n",
    "            web_search_tool: BingSearch,\n",
    "            retrieval_evaluator: RetrievalEvaluator,\n",
    "            ) -> None:\n",
    "        \n",
    "        super().__init__(\"WebSearch Agent\")\n",
    "        self.web_search_tool = web_search_tool\n",
    "        self.retrieval_evaluator = retrieval_evaluator\n",
    "\n",
    "    @message_handler\n",
    "    async def handle_message(self, message: Message, ctx: MessageContext) -> None:\n",
    "       \n",
    "        search_results = web_search_tool.invoke({\"query\": query})\n",
    "        print(search_results)\n",
    "        try:\n",
    "            contents = []\n",
    "            items = list(search_results)\n",
    "            for i in range(min(3, len(items))):\n",
    "                doc = items[i]\n",
    "                contents.append(doc.get(\"content\", \"No content\"))\n",
    "            content = \"\\n\".join(contents)\n",
    "        except Exception as e:\n",
    "            print(f\"Error: {e}\")\n",
    "            content = \"No content\"\n",
    "        \n",
    "        search_response = dict(\n",
    "            query=message.query,\n",
    "            context=content,\n",
    "            response=message.response\n",
    "            \n",
    "        )\n",
    "\n",
    "        retrieval_score = self.retrieval_evaluator (\n",
    "            **search_response\n",
    "        )\n",
    "        print(f\"retrieval_score: {retrieval_score['retrieval']}\")\n",
    "        if(retrieval_score[\"retrieval\"] < 3.0):\n",
    "            await self.publish_message(AssistantMessage(content=INCORRECT_ANSWER, source=message.source), topic_id=TopicId(type=user_topic_type, source=message.source))\n",
    "\n",
    "        await self.publish_message(Message(query=message.query, context=content, source=message.source), topic_id=TopicId(type=generate_topic_type, source=message.source))"
   ]
  },
  {
   "cell_type": "code",
   "execution_count": 15,
   "id": "93e9a219",
   "metadata": {},
   "outputs": [],
   "source": [
    "# This prompt provides instructions to the model\n",
    "GROUNDED_PROMPT=\"\"\"\n",
    "Answer the query using only the context provided below in a friendly and concise bulleted manner.\n",
    "Answer ONLY with the facts listed in the list of context below.\n",
    "If there isn't enough information below, say you don't know.\n",
    "Do not generate answers that don't use the context below.\n",
    "Query: {query}\n",
    "Context:\\n{context}\n",
    "\"\"\"\n",
    "\n",
    "@type_subscription(topic_type=generate_topic_type)\n",
    "class GenerateAgent(RoutedAgent):\n",
    "    def __init__(self, model_client: ChatCompletionClient) -> None:\n",
    "        super().__init__(\"Generate Agent\")\n",
    "        self._system_message = SystemMessage(\n",
    "            content=(\n",
    "                \"\"\"\n",
    "                    You are a friendly assistant that recommends hotels based on activities and amenities.\n",
    "                \"\"\"\n",
    "            )\n",
    "        )\n",
    "        self._model_client = model_client\n",
    "\n",
    "    @message_handler\n",
    "    async def handle_message(self, message: Message, ctx: MessageContext) -> None:\n",
    "        llm_result = await self._model_client.create(\n",
    "            messages=[self._system_message, \n",
    "                        UserMessage(content=GROUNDED_PROMPT.format(query=message.query, context=message.context), source=message.source),\n",
    "                      ],\n",
    "            extra_create_args={\"response_format\": RecommendationList},\n",
    "            cancellation_token=ctx.cancellation_token,\n",
    "        )\n",
    "\n",
    "        response_content = llm_result.content\n",
    "        print(response_content)\n",
    "        await self.publish_message(AssistantMessage(content=response_content, source=message.source), topic_id=TopicId(type=user_topic_type, source=message.source))"
   ]
  },
  {
   "cell_type": "code",
   "execution_count": 16,
   "id": "d39cebcb",
   "metadata": {},
   "outputs": [],
   "source": [
    "@type_subscription(topic_type=user_topic_type)\n",
    "class UserAgent(RoutedAgent):\n",
    "    def __init__(self) -> None:\n",
    "        super().__init__(\"A user agent that outputs the final copy to the user.\")\n",
    "\n",
    "    @message_handler\n",
    "    async def handle_final_copy(self, message: AssistantMessage, ctx: MessageContext) -> None:\n",
    "        print(f\"\\n{'-'*80}\\n{self.id.type} received final copy:\\n\")\n",
    "        assert isinstance(message.content, str)\n",
    "        response_content = json.loads(message.content)\n",
    "        for recommendation in response_content['recommendation']:\n",
    "            print(recommendation)"
   ]
  },
  {
   "cell_type": "markdown",
   "id": "2a8fce6e",
   "metadata": {},
   "source": [
    "<br>\n",
    "\n",
    "## 🧪 Step 3. Execute the Workflow\n",
    "---\n",
    "\n",
    "### Execute the workflow"
   ]
  },
  {
   "cell_type": "code",
   "execution_count": 17,
   "id": "8c329af2",
   "metadata": {},
   "outputs": [
    {
     "data": {
      "text/plain": [
       "AgentType(type='UserAgent')"
      ]
     },
     "execution_count": 17,
     "metadata": {},
     "output_type": "execute_result"
    }
   ],
   "source": [
    "runtime = SingleThreadedAgentRuntime()\n",
    "\n",
    "await RAGGraderAgent.register(runtime, type=user_query_topic_type, factory=lambda: RAGGraderAgent(\n",
    "    azure_ai_search_endpoint=azure_ai_search_endpoint,\n",
    "    azure_search_admin_key=azure_search_admin_key,\n",
    "    index_name=index_name,\n",
    "    retrieval_evaluator=RetrievalEvaluator(model_config),\n",
    "    ))\n",
    "\n",
    "await KeywordRewriteAgent.register(runtime, type=keyword_rewrite_topic_type, factory=lambda: KeywordRewriteAgent(model_client=autogen_aoai_client))\n",
    "\n",
    "await GenerateAgent.register(runtime, type=generate_topic_type, factory=lambda: GenerateAgent(model_client=autogen_aoai_client))\n",
    "\n",
    "WEB_SEARCH_FORMAT_OUTPUT = False\n",
    "\n",
    "await WebSearchAgent.register(runtime, type=websearch_topic_type, factory=lambda: WebSearchAgent(\n",
    "    web_search_tool=BingSearch(\n",
    "        max_results=3,\n",
    "        locale=\"en-US\",\n",
    "        include_news=False,\n",
    "        include_entity=False,\n",
    "        format_output=WEB_SEARCH_FORMAT_OUTPUT,\n",
    "    ),\n",
    "    retrieval_evaluator=RetrievalEvaluator(model_config),\n",
    "    ))\n",
    "\n",
    "\n",
    "await UserAgent.register(runtime, type=user_topic_type, factory=lambda: UserAgent())\n",
    "\n"
   ]
  },
  {
   "cell_type": "code",
   "execution_count": 19,
   "id": "32562244",
   "metadata": {},
   "outputs": [
    {
     "name": "stdout",
     "output_type": "stream",
     "text": [
      "Stay-Kay City Hotel:This classic hotel is fully-refurbished and ideally located on the main commercial artery of the city in the heart of New York. A few minutes away is Times Square and the historic centre of the city, as well as other places of interest that make New York one of America's most attractive and cosmopolitan cities.:['view', 'air conditioning', 'concierge']\n",
      "Double Sanctuary Resort:5 star Luxury Hotel - Biggest Rooms in the city. #1 Hotel in the area listed by Traveler magazine. Free WiFi, Flexible check in/out, Fitness Center & espresso in room.:['view', 'pool', 'restaurant', 'bar', 'continental breakfast']\n",
      "Head Wind Resort:The best of old town hospitality combined with views of the river and cool breezes off the prairie. Our penthouse suites offer views for miles and the rooftop plaza is open to all guests from sunset to 10 p.m. Enjoy a complimentary continental breakfast in the lobby, and free Wi-Fi throughout the hotel.:['coffee in lobby', 'free wifi', 'view']\n",
      "retrieval_score: 1.0\n",
      "Message(query='Newest Openings Hotels in NYC 2024 2025?', context=\"Stay-Kay City Hotel:This classic hotel is fully-refurbished and ideally located on the main commercial artery of the city in the heart of New York. A few minutes away is Times Square and the historic centre of the city, as well as other places of interest that make New York one of America's most attractive and cosmopolitan cities.:['view', 'air conditioning', 'concierge']\\nDouble Sanctuary Resort:5 star Luxury Hotel - Biggest Rooms in the city. #1 Hotel in the area listed by Traveler magazine. Free WiFi, Flexible check in/out, Fitness Center & espresso in room.:['view', 'pool', 'restaurant', 'bar', 'continental breakfast']\\nHead Wind Resort:The best of old town hospitality combined with views of the river and cool breezes off the prairie. Our penthouse suites offer views for miles and the rooftop plaza is open to all guests from sunset to 10 p.m. Enjoy a complimentary continental breakfast in the lobby, and free Wi-Fi throughout the hotel.:['coffee in lobby', 'free wifi', 'view']\", response=None, source='User')\n",
      "Latest hotel openings in New York City 2024 and 2025\n",
      "--------------------------------------------------------------------------------\n",
      "KeywordRewriteTopic:\n",
      "Latest hotel openings in New York City 2024 and 2025\n",
      "[{'kind': 'web', 'title': 'New Hotels in NYC 2024 2025 (Manhattan New York City) Newest Openings', 'snippet': '<b>New</b> <b>Hotels</b> <b>in NYC</b> <b>2024</b> <b>2025</b> (Manhattan <b>New York</b> City) <b>Newest</b> <b>Openings</b>. This page was last updated: <b>2024</b>-12-19. Best <b>new</b> <b>hotels</b> <b>in NYC</b> (<b>New York</b> City) - Days Inn <b>New York</b> Chinatown (Dec <b>2024</b>) - The Manner (<b>2024</b>) - Aura <b>Hotel</b> Times Square (<b>2024</b>) - The Luxury Collection <b>Hotel</b> (<b>2024</b>) - The Surrey (<b>2024</b>) - SpringHill Suites Manhattan (<b>2024</b>) - Tru by Hilton Brooklyn (<b>2024</b>) - Warren Street <b>Hotel</b> ...', 'content': \"This page was last updated: 2024-12-19 Best new hotels in NYC (New York City)\\n- Days Inn New York Chinatown (Dec 2024)\\n- The Manner (2024) - Aura Hotel Times Square (2024) - The Luxury Collection Hotel (2024) - The Surrey (2024) - SpringHill Suites Manhattan (2024) -\\nTru by Hilton\\nBrooklyn\\n(2024) -\\nWarren Street Hotel (2024) - Holiday Inn Express Bronx (2024)\\ufeff - Waldorf Astoria (Reopening 2025)... Newest Hotels in New York City 2024 Hotel near Chinatown opened in December 2024 This new Days Inn hotel near Chinatown was opened in December 2024. The\\nDays Inn\\nis located on Eldridge Street, offering modern guest accommodations that come with a free breakfast, free Wi-Fi, a\\nbusiness center, and a fitness center. Read Reviews / Check Prices New Hotel in\\nSoHo\\nNYC opened in September 2024 This new upscale hotel in NYC is located on Thompson Street in the SoHo neighborhood of Lower Manhattan. The Manner offers a total of 97 guest rooms or suites and features an in-house restaurant and a cocktail bar. Read Reviews / Check Prices New Hotel in Times Square opened in August 2024 This new hotel near Times Square in Manhattan is located on W 44th Street, offering recently renovated guest accommodations (it was formerly the Mela Hotel). The pet-friendly Aura Hotel features an in-house restaurant, a bar, free Wi-Fi, and a fitness center. Read Reviews / Check Prices New Marriott Luxury Hotel in Midtown Manhattan 2024 Formerly the Conrad Hotel, this new Marriott hotel is located on 54th Street close to the southern end of Central Park, offering a range of upscale guest rooms, suites, and apartments. The Luxury Collection Hotel features an in-house restaurant, room service, a fitness center, free Wi-Fi, and valet parking (fees apply). Read Reviews / Check Prices Newly Renovated Luxury Hotel in\\nUpper East Side\\nManhattan 2024 This newly renovated luxury hotel has recently reopened again. The Surrey is located close to Central Park in the Upper East Side of Manhattan, offering a total of 100 luxurious guest rooms or suites, in-house restaurants, a spa, and a gym. Read Reviews / Check Prices New Hotel in Times Square opened in May 2024 This brand new Marriott hotel in Times Square New York was opened in May 2024 offering 167 guest accommodations that include a free daily breakfast. Read Reviews / Check Prices New Hotel in Brooklyn opened in 2024 This new Hilton hotel in Brooklyn was recently opened in March 2024 offering modern guest rooms that come with a free hot breakfast.Read more... Read Reviews / Check Prices New Luxury NYC Hotel opened in February 2024 This new luxury hotel in the Tribeca neighborhood of Manhattan, NYC, offers a total of 69 individually designed guest rooms, suites, and residences and features an in-house restaurant and bar. Read Reviews / Check Prices New IHG Hotel in the Bronx NYC opening soon in 2024 This new InterContinental Hotels Group hotel in the Bronx NYC was opened in 2024.Read more... Luxury Hilton Hotel in NYC reopening in 2025 This historic luxury hotel in the\\nMidtown Manhattan\\narea of New York City is currently undergoing a transformative restoration and is due to reopen in the spring of 2025. Read Reviews / Check Prices Hotels in NYC Opened in 2023 Marriott Hotel in Chelsea NYC opened in November 2023 This new Marriott hotel in Chelsea, Manhattan, New York City, was opened in November. The Aloft New York Chelsea is located at 132 West 28th Street, half a mile away from Chelsea Park and the Empire State Building. At the property there are 234 guest accommodations, a bar, a fitness center, free Wi-Fi and a meeting room. Luxury Hotel in NYC opened in October 2023 This new luxury hotel in Midtown Manhattan was opened in October. The Fifth Avenue Hotel is located in the heart of Midtown in the NoMad district, just a few minutes walk away from Madison Square Park and a little over 5 minutes walk away from the Empire State Building. At the property you will find a range of upscale accommodations in spacious guest rooms or suites, their signature restaurant - Café Carmellini, and The Portrait Bar. Hilton Hotel near Times Square opened in October 2023 This new all-suites hotel near Times Square has been opened by Hilton in October. The Home2 Suites by Hilton New York Times Square is located just a couple of minutes walk away from Times Square and 5 minutes walk away from the Theater District. The pet-friendly property offers accommodation in spacious suites that come with a kitchenette/kitchen, a free daily breakfast, free Wi-Fi, and features a rooftop lounge, a lobby bar, a fitness center, a business center, and valet parking (fees apply). Boutique Hotel in New York City opened in September 2023 This new luxury hotel in Midtown Manhattan was opened by InterContinental Hotels Group (IHG) in September. The Kimpton Theta Hotel is located along 8th Avenue, around 5 minutes walk away from Times Square, the Broadway Theater, the Gershwin Theater, and many other nearby attractions. At this pet-friendly new boutique hotel, you will find upscale accommodation in spacious guest rooms or suites, a fitness center, valet parking (fees apply), a rooftop restaurant - Bar Sprezzatura, Café Otto, evening socials, and room service. Hotel in Hell's Kitchen NYC opened in September 2023 This brand new hotel in Hell's Kitchen in the West Side of Midtown Manhattan was recently opened in September. The Romer Hell's Kitchen Hotel is located just a few minutes walk away from the Broadway Theater District, offering accommodation in a choice of stylish guest rooms or suites. At the pet-friendly property, you will find the all-day cafe - Hell’s Kitchen Neighborhood Café, the Corner Store, So & So’s speakeasy restaurant and piano bar, and valet parking (fees apply). Hilton Hotel near Times Square opened in September 2023 This new hotel in the Times Square area of Midtown Manhattan was opened by Hilton in September. The Motto by Hilton New York City Times Square Hotel is located just a few minutes walk away from Times Square, Radio City Music Hall, M&M World, and the Rockefeller Center. The property offers a range of fairly compact, pet-friendly guest rooms (connecting rooms available) and features a fitness center and free Wi-Fi internet access. Hotel in\\nMidtown Manhattan\\nopened in August 2023 This new hotel in Midtown West NYC was opened by Marriott in August offering 310 modern guest rooms over 32 floors. The Delta Hotels by Marriott Times Square Hotel is located within walking distance of Times Square, Madison Square Garden and Madame Tussauds. At the hotel you will find a full-service restaurant - George’s Nephew, The George - Lobby Bar, a coffee house, room service, a fitness center, a business center, off-site parking / valet parking (fees apply) and free Wi-Fi internet access for guests. Hotel in Times Square NYC opened in August 2023 This new hotel in Times Square was opened by Hilton in August offering a good central location just a minute away from Times Square and 5 minutes walk away from the Theater District. The Tempo by Hilton New York Times Square features a wide choice of guest rooms or suites, an on-site restaurant,\\nthe Highball cocktail bar that overlooks Times Square,\\na fitness center, valet parking (fees apply) and free Wi-Fi internet access. Hotel in Harlem NY opened in August 2023 This new hotel in Harlem, New York was recently opened by Marriott in August. The\\xa0Renaissance New York Harlem Hotel offers a total of 211 stylish guest rooms and features a rooftop bar and an in-house restaurant and bar. Hotel in Downtown Manhattan opened in March 2023 The Fidi Hotel is new hotel in the financial district of New York City that was recently opened in March, offering a total of\\n131\\nmodern guest rooms and suites. Marriott Hotel in Williamsburg opened in March 2023 The Moxy Brooklyn Williamsburg is a new Marriott hotel in Brooklyn, NY recently opened in March.Read more... See all new hotels in Brooklyn here > Virgin Hotel NYC opened in February 2023 This new upscale hotel in NoMad, in the heart of Midtown Manhattan, was opened in February, offering a range of upmarket guest rooms (chambers) and suites. Virgin Hotels New York City is located less than 10 minutes walk away from the Empire State Building. At the property you will find multiple dining and drinking outlets, a seasonal pool and bar, a state-of-the-art fitness center, meeting and event spaces, and room service. Hotels in NYC Opened in 2022 Hotel in Lower Manhattan opened in December 2022 This new hotel in the Financial District of Lower Manhattan was recently opened by IHG. The Hotel Indigo NYC Financial District offers 180 stylish guest accommodations and features the\\nHalf Moon\\nrestaurant and lounge. Hotel in Soho opened in December 2022 This newly built hotel in SoHo, NYC that was recently opened in December. The\\xa0Best Western Plus Soho Hotel offers modern guest rooms that come with a free breakfast included in the price of your stay. Hotel on Fifth Avenue NYC opened in December 2022 Le Méridien is new Marriott hotel on 5th Avenue that was recently opened in December, offering 165 upmarket guest rooms and 17 luxurious suites. Hotel LES, New York opened in November 2022 This brand new Marriott hotel in SoHo, Lower Manhattan was recently opened in early November. The Moxy NYC Lower East Side offers 303 guest accommodations and features 5 on-site restaurants and bars. Luxury Hotel in Midtown Manhattan NYC opened in November 2022 This new upscale hotel in Mahattan was opened in November. The Grayson Hotel offers 296 rooms or suites and features three restaurants / bars and a fitness centre. Hotel near JFK Airport opened in November 2022 This new Marriott hotel near JFK Airport was opened on November. The Residence Inn by Marriott New York JFK Airport offers spacious, extended-stay accommodation with studio, one and two bedroom suites that come with a full kitchen and a complimentary breakfast included in the price. Luxury Hotel in Tribeca, Lower Manhattan opened in September 2022 The Hôtel Barrière Fouquet's is new top luxury hotel in Tribeca, Lower Manhattan, New York City offering a total of 97 residential-style guest rooms and suites. Top Luxury Hotel in NYC opened in August 2022 This new luxurious hotel is located in the North of Madison (NoMad) neighborhood of NYC and offers a total of 250 upmarket guest rooms and luxurious suites. The Ritz-Carlton New York, NoMad features two on-site restaurants and bars, a luxury spa, a 24-hour fitness center, and 10,000 sq. ft. of both indoor and outdoor event spaces. Luxury Suites Hotel in Manhattan opened in July 2022 Aman New York is a new luxury suites hotel housed in the Crown Building located on the corner of 5th Avenue and 57th Street. The property offers a total of 83 suites with Japanese-inspired interiors. Luxury Residence Club in New York City opened in July 2022 5th & 55th was opened in July. This new Residence Club is housed within the St. Regis Hotel New York offering luxurious accommodation in studio, one-bedroom and two-bedroom residences that include a 24-hour personal butler service. Hotel in Lower East Side of Manhattan opened in June 2022 This new hotel in LES is a recently opened luxury accommodation housed in a restored Beaux-Arts building originally built in 1912. The\\xa0Nine Orchard Hotel offers 116 upscale guest rooms and features the\\nCorner Bar restaurant. 5 Star Hotel in New York City opened in June 2022 This new 5-star hotel in New York City was recently opened on June 1. Located on Wall Street in the Financial District of NYC, the Wall Street Hotel offers 180 luxury guest rooms and suites. Hotel in the NoMad Neighborhood NYC\\nopened in June 2022 The Ned NoMad is a new upscale hotel and members' club located in NoMad, Manhattan. Housed in the Johnston Building, the historic property offers a total of 167 guest accommodations. Hotel in Midtown NYC opened in April 2022 The new Hard Rock Hotel in New York City was opened in April. Located in Midtown Manhattan, the 36-storey property offers 446 guestrooms and suites, and features the RT60 rooftop bar and lounge, the NYY Steak Restaurant, Sessions Restaurant & Bar and various entertainment venues. We try to keep our pages about new hotels in NYC as\\nup-to-date as possible and will be updating this page when any new\\nhotels open or when any upcoming hotels in NYC open for reservation.\\nHowever, if you know of any good quality, recently opened new hotels\\nnot mentioned in the list above, or you are the owner / manager of an\\nupcoming hotel in New York City opening soon and want some publicity for your\\ngrand opening, you cancontact us hereand let us know the details so that we can possibly add your property to our site. Find more new hotels in New York Albany-Bronx-Brooklyn-Flushing-New York City-Queens-Rochester New hotels opened in popular destinations around the USA: Albuquerque-Amarillo-Anaheim (Disneyland)-Anchorage-Atlanta-Austin-Baltimore-Baton Rouge-Birmingham-Boise-Boston-Boulder-Charleston-Charlotte-Cheyenne-Chicago-Cincinnati-Colorado Springs-Columbus-Dallas-Delaware-Des Moines-Destin-Detroit-Denver-Flagstaff-Fargo-Florence-Fort Lauderdale-Fort Worth-Hawaii-Hilton Head-Hollywood-Houston-Indianapolis-Jackson-Kansas City-Las Vegas-Lexington-Little Rock-Los Angeles-Lubbock-Manchester-Memphis-Miami-Miami Beach-Milwaukee-Minneapolis-Montana-Montgomery-Morgantown-Myrtle Beach-Nashville-New Haven-New Jersey-New Orleans-New York City-Oklahoma City-Omaha-Orlando-Philadelphia-Phoenix-Portland (ME)-Portland (OR)-Providence-Raleigh-Reno-Richmond-St Louis-Sacramento-Salt Lake City-San Antonio-San Diego-San Francisco-San Jose-Savannah-Scottsdale-Seattle-Sedona-Sioux Falls-Tacoma-Tallahassee-Tampa-Tucson-Tuscaloosa-Vermont-Virginia Beach-Waco-Washington-Wilmington See more destinations in the USA > Find new hotels opened in popular destinations in Canada: Banff-Calgary-Halifax-Montreal-Ottawa-Toronto-Vancouver Find the latest hotels opened in popular destinations in Mexico: Cancun-Los Cabos-Mazatlan-Mexico City-Playa del Carmen-Puerto Vallarta-Riviera Maya-San Miguel de Allende-Tulum Find the latest hotels opened in popular destinations in the Caribbean: Aruba-Antigua-Curacao-Dominican Republic-Jamaica-Puerto Rico-Santo Domingo-Turks & Caicos Others in this area:Costa Rica Other Destinations: Mauritius-Seychelles Home Page Copyright © 2025 Privacy Policy / Disclaimer\", 'url': 'https://www.newhotelsopening.com/new-hotels-in-nyc.html', 'thumbnail_url': 'https://www.bing.com/th?id=OIP.RIxp4R1abyIwWoSFYO7ZXgHaFL&w=80&h=80&c=1&pid=5.1', 'source': 'New Hotels Opening'}, {'kind': 'web', 'title': 'New Hotel Openings in 2024, 2025, 2026 | The Orange Studio', 'snippet': 'An overview of <b>New</b> <b>Hotel</b> <b>Openings</b> in <b>2024</b>, in <b>2025</b> and in 2026. Contact <b>New</b> <b>Hotel</b> <b>Openings</b>. Scroll down for more. The List. by The Orange Studio. Explore THE LIST curated by The Orange Studio to find out about the most relevant and upcoming <b>openings</b> of luxury and lifestyle <b>hotels</b>. ... Plaza Athénée Nobu <b>Hotel</b> &amp; Spa <b>New York</b> United States <b>2025</b> ...', 'content': 'Explore THE LIST curated by The Orange Studio to find out about the most relevant and upcoming openings of luxury and lifestyle hotels.We strive to keep this list of hotel openings accurate. If you have suggestions or spot any amends, please let us know athello@theorangestudio.com.We are constantly adding new and exciting hotel openings, so be sure to subscribe to stay in the know. COUNTRY Six Senses London will open in a restored art deco emporium within The Whiteley, offering 109 guest rooms suites and suites and 14 residences near Hyde Park. The property features a cozy lobby bar, an all-day dining restaurant, private event spaces, and a Six Senses Spa. Residents and members can access Six Senses Place, a social and wellness club with coworking spaces, a restaurant, and wellness rooms. The development promises a unique blend of vibrancy, serenity, and modern living. Originally a 1920s cinema, this boutique hotel will open on the 15th of January 2025. The rooms, suites, and apartments will have original historical details, while their interior design will give guests a feeling of serene minimalism. Find Park Lane Copenhagen opposite Øregårdsparken. Brach epitomizes a modern concept of community living, offering an immersive and authentic experience from dawn to dusk. As a dynamic and unexpected cosmopolitan hub, it fosters a vibrant atmosphere, bringing forth a convivial and sophisticated lifestyle in the midst of bustling neighborhoods. Opened in December 2024. Reopening in summer 2025 as part of the Althoff COLLECTION, \"The Florentin\" brings new life to a Frankfurt icon. Inspired by its lush inner courtyard, this stylish retreat symbolizes growth and renewal. Nestled in the serene Sachsenhausen district near the River Main, it offers 147 chic rooms, including 95 studios, 39 suites, 12 Signature Loft Suites, and a lavish 320m² Presidential Suite, blending luxury with vibrant city life. The Althoff Dom Hotel, a luxury icon in the heart of Cologne, will reopen in 2025 as part of the Althoff Collection after a complete renovation. Located next to the iconic Cologne Cathedral, this hotel offers an authentic Cologne experience with unmatched views of the Rhine metropolis. Anantara Kafue River Tented Camp, set in Zambia’s vast Kafue National Park, will offer a unique, elevated safari experience. Featuring 12 private luxury tents, including a 600-square-metre Presidential Villa with plunge pools, and exclusive boat access, the camp promises intimate luxury amidst the wilderness. Guests will enjoy a restaurant, bar, traditional African boma, wellness area with a pool, and immersive safari experiences, all with a sustainable, community-focused ethos. Four Seasons Hotels and Resorts, in collaboration with BRG Group, will open a new luxury hotel in Hanoi’s historic downtown. Four Seasons Hotel Hanoi at Hoan Kiem Lake will offer 95 rooms and suites, a spa, fitness centre, and various dining options including a rooftop bar. Located near Hoan Kiem Lake, it provides easy access to museums, galleries, shopping, and Hanoi\\'s vibrant culinary scene. Designed by WATG Architects and SRSS, the hotel will blend French Colonial influences with luxury. Radiating sophistication and historical grace, Capella Nanjing offers a luxurious retreat where cosmopolitan living meets serene repose. Situated in a historic apex, the retreat provides a harmonious escape amidst the urban pulse, blending timeless allure with Nanjing\\'s cultural riches. Designed by David Chipperfield Architects, the property features 190 guestrooms, suites, and villas, along with Capella Retail Street, Winter Garden, Manor Club, Auriga Spa, Capella Living Room and a Capella Bar. Viceroy at Ombria Algarve is a luxury resort set in Portugal\\'s Algarve region, offering 5-star accommodations surrounded by natural beauty. The resort features 76 hotel rooms and suites, private residences, a signature golf course, multiple dining options, a spa, and wellness facilities. Positioned as a sustainable destination, it blends modern design with traditional Algarve architecture, aiming to provide an immersive experience in nature and luxury. Opened October 2024. Amsterdam-based Sir Hotels is set to debut in the UK with Sir Devonshire Square, opening in London’s vibrant City. Situated in a historic former East India Tea Company warehouse, the hotel features 81 rooms, including 11 suites, three dining outlets, The Cover\\'s private members\\' club, and a gym. Sir Devonshire Square offers a luxurious blend of local charm and contemporary design, steps from Spitalfields Market and Shoreditch. SHA Emirates, a luxury wellness retreat, is set to open in 2026 within AlJurf along Sahel Al Emarat, between Abu Dhabi and Dubai. Nestled amidst thousands of planted trees and pristine coastline, SHA Emirates will feature elegant finishes, cascading gardens, and panoramic views of the turquoise sea. This exclusive destination blends modern architecture with natural elements, offering a serene setting dedicated to health, well-being, and tranquility. Six Senses The Forestias, set within Thailand\\'s most unique forest community, merges nature with advanced wellness and hospitality. The development features 27 residences with 3 to 5 bedrooms, surrounding a tranquil woodland lagoon. Guests can explore nature trails, enjoy tai chi, yoga, and seasonal festivals. The hotel offers diverse experiences, while Six Senses Place introduces a social and wellness club with a central bar, coworking spaces, a restaurant, and dedicated wellness rooms. Efteling Grand Hotel, a residence with grandeur located in the heart of the Netherlands’ largest theme park, ‘Efteling’, is set to open in 2025. In this vibrant new accommodation, both young and old can discover the enchanting atmosphere of a Grand Hotel together. The hotel - consisting of\\xa0seven wondrous floors with a width of 106 metres -\\xa0will feature 140 luxurious and elegant family rooms and suites, two wonderful dining venues and an indoor pool with spa facilities. Six Senses Lisbon, opening in 2025, will be housed in the historic Palácio de Pedrosas and Palácio de Lavra, offering 114 guest rooms and residences. This urban sanctuary will emphasize sustainability, integrating wellness facilities such as a spa, fitness center, and spaces designed to honor local culture and heritage. The hotel\\'s design will combine luxury with a deep connection to its historical surroundings, offering a unique blend of modern comfort and traditional Portuguese architecture. The Social Hub Rome invites you to experience a dynamic, community-centered hotel that blends stylish accommodations with vibrant social spaces. Ideal for travelers seeking more than just a place to stay, it offers coworking areas, creative workshops, and a lively atmosphere where you can connect with like-minded guests and locals. Located in the heart of Rome, it’s the perfect base for exploring the city while enjoying a collaborative and inspiring environment. Admiralty Arch in London is being transformed into a luxurious hotel, blending historic grandeur with cutting-edge technology. This iconic landmark will offer an unparalleled stay, combining the charm of its storied past with modern amenities. Guests will enjoy exquisitely designed rooms, exceptional service, and breathtaking views of the city, making it a premier destination for those seeking a unique and inspiring experience in the heart of London. Anantara Anji Resort, set on a mountainside surrounded by bamboo forests, offers a peaceful escape with 162 spacious rooms and suites. The resort blends modern design with natural materials and features an award-winning spa, a Zen pavilion, and its own tea plantation. Enjoy four dining options, a pool, gym, kids\\' club, and meeting facilities, all within a two-hour drive from Hangzhou and three hours from Shanghai. Capella at Galaxy Macau offers a serene retreat amid the city\\'s vibrant energy, with 93 light-filled Sky Villas and suites designed by Moinard Bētaille to reflect Macau\\'s tropical beauty. Nestled in the world-class Galaxy Macau™, the resort features private pools, the Capella Living Room, the Pony & Plume Lounge, and Michelin-star chef Vicky Cheng’s creations, blending sophistication with tranquility. Pause and embrace serene sophistication at Capella Taipei, nestled in the vibrant Songshan district. Just steps from Taipei 101 and a short drive from Songshan Airport, this urban oasis offers 86 rooms designed by André Fu Studio, blending luxury with personalized comfort. Enjoy 4 culinary concepts, Capella Wellness, Capella Living Room, a Cocktail Bar, and corporate meeting facilities. Discover a unique fusion of Taipei\\'s rich heritage and modern vibrancy. Marriott International and AB Living are set to launch The St. Regis Costa Mujeres Resort in early 2025. Located on a 3.5-hectare beachfront site north of Cancun, the resort will offer 158 rooms, 80 branded residences, three dining options, multiple pools, a beach club, and St. Regis Butler Service. This new luxury destination promises stunning views and high-end amenities in the tranquil Costa Mujeres area. Opening mid-2025, Six Senses Belize offers a unique blend of vibrant beach life and secluded island tranquility. Set on Ambergris Caye and a private island, this resort features 45 villas, 24 residences, and exceptional amenities. Enjoy Secret Beach’s dynamic activities and the island’s serene overwater villas, spa, and dining. With eco-friendly design and luxurious accommodations, Six Senses Belize promises an unparalleled escape. Located near the Cape Spartel Reserve, the highly anticipated Waldorf Astoria Tanger will bring luxury and elegance to Morocco’s coast. Hilton announced its debut in Morocco with a 2025 opening. The resort will feature 115 guest rooms, 21 villas with private pools, a 3,000-square-metre luxury spa, and five restaurants. Dino Michael of Hilton noted the brand\\'s global expansion and commitment to unique hospitality experiences. Marriott International and KAFD DMC announced W Riyadh, a new luxury hotel opening in 2025 within Riyadh\\'s King Abdullah Financial District (KAFD). The hotel will feature 210 guest rooms and suites, seven restaurants, retail space, event facilities, and signature W spaces like the WET Deck®, AWAY® Spa, and FIT® fitness center. Positioned as a dynamic lifestyle destination, W Riyadh aligns with Saudi Vision 2030\\'s aim to elevate Riyadh as a key global hub for business and leisure travelers. Red Sea Global and Four Seasons are developing Four Seasons Resort and Residences AMAALA at Triple Bay, set to open in 2025 on Saudi Arabia’s northwestern coast. The resort will offer 220 rooms and suites, villas with private pools, and 26 branded residences. It will feature a luxury spa, six dining options, event spaces, and wellness facilities, blending modern elegance with natural landscapes for a unique escape. Four Seasons Hotels and Resorts, in partnership with Gruppo Statuto, will assume management of Venice’s historic Hotel Danieli following extensive renovations. Reopening in 2025 as Hotel Danieli, Venezia, A Four Seasons Hotel, the property will feature restored Venetian Gothic architecture, luxury rooms with city views, and three dining venues, all overseen by renowned designer Pierre-Yves Rochon. Fairmont Hotels & Resorts and Kailas Companies have announced the redevelopment of 1010 Common Street, marking Fairmont\\'s return to New Orleans. Opening in summer 2025, Fairmont New Orleans will feature 250 luxury rooms, including 40 suites, three dining venues, a rooftop bar, and 20,000 sq. ft. of event space. The property will transform the 31-story former Bank of New Orleans Building, combining history with modern luxury. Designed by Foster + Partners, the new Four Seasons Resort on Shura Island will offer 149 rooms and suites, all with breathtaking beach views. Guests can enjoy six dining outlets, a marine discovery center, a full-service spa, tennis courts, three pools, and two beaches. Located within the Red Sea’s luxury beachside destination, the resort is near ancient sites like Mada’in Saleh and boasts access to coral reefs and natural wonders. Four Seasons, in partnership with Thor Urbana, Inmobilia Desarrollos, and GFA Grupo Inmobiliario, will transform Caye Chapel into a luxury private island in Belize. Featuring 50 Private Estate lots, 35 Private Residences, 100 guest rooms, overwater bungalows, a Greg Norman-designed golf course, and the Fabien Cousteau Nature Institute, this island offers exclusive luxury near the UNESCO-listed Belize Barrier Reef. Four Seasons Hotel Taipei, designed by RSHP, will feature 260 rooms with city and mountain views, diverse dining options, and wraparound views of Taipei 101 from its highest floors. Amenities include a fitness center, spa, and event spaces with floor-to-ceiling glass. The sustainable design targets LEED Silver and Taiwan Green Building Gold ratings, making it a standout urban landmark in the Xinyi District. Bvlgari Resort Ranfushi will debut in 2026 on Raa Atoll, Maldives. Spanning 20 hectares, it will feature 54 keys, including a private villa, 33 beach villas with pools, and 20 overwater villas. Designed by ACPV ARCHITECTS, the resort will prioritise sustainability and offer four dining experiences: Il Ristorante - Niko Romito, Bao Li Xuan, Hōseki, and La Spiaggia. Amenities include The Bulgari Bar, The Bulgari Spa, and a Bulgari boutique. 4o mini Lone Mountain Land Company and Kerzner International unveil One&Only Moonlight Basin, the brand\\'s first U.S. resort and residential community in Big Sky, Montana. The alpine retreat features 73 guest rooms, 19 villas, a ski lodge, and a spa. It also introduces 62 One&Only Private Homes with stunning mountain views. Designed by Olson Kundig, the resort integrates into Montana’s landscape, offering luxury and access to world-class skiing and outdoor activities. Aman Rosa Alpina is a luxurious retreat nestled in the Dolomites combining Alpine charm with modern sophistication. The resort offers 52 rooms with private chalets, each designed with elegant, cozy interiors. Guests can enjoy fine dining, with a 3-Michelinstar restaurant, a serene wellness spa, and year-round outdoor activities like skiing and hiking. Located in the UNESCO-listed Dolomites, it provides an exceptional base for exploring the region\\'s stunning natural beauty and cultural heritage Blue Palace, a Rosewood Resort, is a luxurious retreat located on the coast of Crete, offering breathtaking views of the Aegean Sea and Spinalonga Island. The resort combines traditional Cretan architecture with modern comforts, providing elegant accommodations, private infinity pools, world-class dining options, a serene spa, and various activities. It is an ideal destination for those seeking both relaxation and exploration in a stunning Mediterranean setting. Sani Ikos Resorts provides a luxurious all-inclusive experience along Greece\\'s picturesque coastlines, blending outstanding hospitality with the region\\'s stunning natural beauty. The resorts boast sophisticated accommodations, gourmet dining options, extensive wellness facilities, and a variety of recreational activities. Committed to sustainability, Sani Ikos ensures an eco-friendly stay for all guests. Elounda Hills introduces 1Hotels & Homes, a luxurious eco-conscious retreat in Crete, blending sustainable design with breathtaking natural beauty. Guests will enjoy elegant accommodations, world-class amenities, and stunning views of the Aegean Sea. This sanctuary offers a perfect harmony of luxury and nature, inviting you to unwind in a serene, environmentally friendly setting that celebrates the essence of Greek hospitality. Mandarin Oriental is opening its first hotel in Budapest, set in a historic building with views of the Danube River. This luxury property will offer beautifully designed rooms, world-class dining, and a serene spa, blending the brand\\'s signature elegance with the rich cultural heritage of Budapest. The hotel is poised to become a new landmark in the city, providing guests with an unparalleled luxury experience in one of Europe\\'s most captivating capitals. Centrally positioned in the heart of Madrid\\'s Cortes District, Nobu Hotel Madrid will transform an existing office building at 26 Calle Alcalá, between Plaza de Cibeles and Puerta del Sol. The hotel will feature a tri-level Nobu restaurant and bar, an expansive rooftop bar, and a lounge with skyline views, along with a state-of-the-art fitness center and spa. Nobu Hotel Sofia is a luxury destination in the heart of Bulgaria\\'s capital, offering a blend of modern design, comfort, and the renowned Nobu hospitality. It features elegant accommodations, a signature Nobu restaurant serving world-class cuisine, a serene wellness center, and event spaces that cater to both business and leisure travelers. Ikos Cortesia in Portugal offers a luxurious all-inclusive experience on the Algarve coast. The resort will feature elegantly designed suites, gourmet dining, and top-tier amenities, including private pools and wellness facilities. Blending Portugal\\'s natural beauty with exceptional service, Ikos Cortesia promises an unforgettable stay, perfect for those seeking relaxation and indulgence in a stunning seaside setting. Nobu Hotel Lisbon is a luxurious hotel that blends traditional Portuguese charm with modern elegance. Located in the heart of the city, the hotel offers stylish accommodations, exceptional dining at the Nobu restaurant, and a focus on wellness with a state-of-the-art fitness center and spa. The design reflects a fusion of local culture and the Nobu brand\\'s signature sophistication, making it an ideal destination for travelers seeking a refined urban retreat. Nobu Hotel Hamburg, set in the lively heart of the city, brings together sleek modern design with the signature Nobu experience. The hotel boasts refined accommodations, a renowned Nobu restaurant known for its unique Japanese-Peruvian fusion cuisine, and a wellness center for relaxation. With its prime location near cultural attractions, Nobu Hotel Hamburg creates an atmosphere of urban sophistication and tranquility. 1 Hotel Copenhagen will be a sustainable hotel located in the heart of Copenhagen\\'s historic Latin Quarter. Emphasizing eco-friendly practices, it features locally sourced materials, energy-efficient systems, and offers amenities like a wellness spa, farm-to-table dining, and pet-friendly accommodations, providing guests with a serene urban oasis. Nobu Hotel Varna is a luxurious property located along the Bulgarian Black Sea Coast, marking the Nobu brand\\'s second venture into the region. Situated in the vibrant city of Varna, the hotel offers a refined blend of contemporary design, exceptional service, and the iconic Nobu culinary experience, all set against the stunning backdrop of the Black Sea. The Social Hub Porto is a dynamic, multi-purpose space designed for students, travelers, and professionals. Located in the vibrant city of Porto, it offers modern accommodations, co-working spaces, and amenities like a gym, restaurant, and social areas. The hub fosters a creative and collaborative environment, ideal for living, working, and networking. It\\'s a place where individuals can connect, grow, and thrive, whether for short stays or longer-term living. Bob W Vienna is set to redefine the Austrian hospitality scene with its debut aparthotel in Vienna. This 2,000 sq.m. property will combine the comfort of home with the luxury of a hotel, offering stylish, fully equipped apartments for modern travelers. Known for its innovative approach to sustainable and tech-savvy accommodations, Bob W Vienna promises an inspiring stay, blending local culture with cutting-edge amenities in one of Europe\\'s most vibrant cities. The Social Hub will open their first hotel in Portugal in early 2025. The hotel will be located in the historic center of Porto and will include 310 rooms, also offering 39 long-stay apartments, a pool and rooftop bar. Rosewood Rome, opening in 2024, is a luxury hotel located in the heart of Rome, close to the Spanish Steps. The hotel will offer 132 rooms and suites, blending classic Roman elegance with contemporary design. Guests can enjoy a rooftop bar with stunning city views, a serene courtyard for dining, a luxurious spa, and elegant event spaces. The hotel\\'s design and amenities are crafted to provide an immersive experience of Rome\\'s rich history and vibrant culture. Nobu Hotel Roma is a luxurious fusion of Rome\\'s timeless elegance and Nobu\\'s signature minimalist sophistication. Located in the heart of the Eternal City, this hotel offers a serene escape with beautifully designed rooms and suites that reflect the perfect blend of tradition and modernity. The world-renowned Nobu Restaurant and a tranquil wellness area promise an inspiring experience, making it a unique destination where rich history meets contemporary luxury, creating unforgettable memories. Rosewood Milan, opening in 2026, is a luxury hotel situated in Milan\\'s fashion district, within the historic Palazzo Branca and Palazzo della Banca Commerciale. The hotel will feature 70 rooms, including 20 suites, blending Milanese heritage with modern design. Amenities will include a stylish bar, a restaurant with a courtyard garden, and an Asaya wellness center with an indoor pool. The hotel aims to be a serene retreat in the heart of Milan, catering to sophisticated travelers. Opening in spring 2025, The Lake Como EDITION will feature 142 guest rooms, including two penthouse suites, a lively lobby bar, a floating pool, and several restaurants and bars with stunning views of Lake Como and the Bellagio mountains. Located in a 19th-century building on the western shore, it will blend modern luxury with the rich heritage of the area, just a short drive from Milan. Experience the epitome of Venetian luxury at Rosewood Hotel Bauer, where timeless elegance meets modern sophistication. Located on the Grand Canal, this iconic hotel offers beautifully appointed rooms and suites, stunning views, and world-class dining. Immerse yourself in Venice’s rich culture with unparalleled access to its historic sites, all while enjoying the refined hospitality and comfort that Rosewood is known for. Discover unparalleled luxury with LXR Hotels & Resorts’ debut in Italy, set in a historic property in the heart of Venice. This extraordinary hotel will offer an intimate, high-end experience with exquisitely designed rooms, world-class dining, and bespoke services. Perfectly located to explore Venice\\'s iconic attractions, it promises an unforgettable stay where history, culture, and luxury intertwine seamlessly. The Social Hub Florence Belfiore offers a vibrant, creative space perfect for travelers, students, and professionals. Located in the heart of Florence, it combines stylish rooms with dynamic social areas, coworking spaces, and engaging events. Whether you\\'re here for a short stay or an extended visit, you\\'ll enjoy a community-driven environment that fosters connection and inspiration, all while being immersed in Florence\\'s rich cultural heritage. Collegio alla Querce by Auberge Resorts in Florence is a luxurious retreat set in a historic 16th-century estate. It combines classical architecture with modern design, offering refined accommodations, exceptional dining, and a world-class spa. Surrounded by lush gardens and the cultural richness of Florence, this sanctuary provides an inspiring setting for relaxation and exploration, making it an ideal destination for those seeking both tranquility and a deep connection to Italy’s heritage. SIRO Boka Place in Montenegro is a lifestyle-driven urban development set within Porto Montenegro, offering a mix of residences, a hotel, and retail spaces. This vibrant community is designed to promote well-being and active living, with amenities including fitness facilities, a wellness center, and a variety of dining options. The residences are available as SIRO-managed units or private homes, all benefiting from the energetic and health-focused environment. Rosewood Amsterdam is poised to become the epitome of luxury in the Netherlands, nestled along the prestigious Prinsengracht canal. This opulent retreat will offer lavishly appointed rooms, each a masterpiece of refined elegance, complemented by world-class dining and unparalleled wellness facilities. With its seamless blend of Dutch heritage and contemporary sophistication, it promises an extraordinary stay, embodying the pinnacle of luxury and timeless beauty in the heart of the city. Kasteel van Gemert is being transformed into a luxurious 5-star hotel with 75 rooms, a project driven by the vision to blend historic charm with modern elegance. This iconic castle, steeped in history, will feature opulent accommodations, fine dining, and unique amenities. The renovation aims to preserve the castle’s heritage while introducing contemporary comforts, making it a standout destination for travelers seeking both luxury and a deep connection to the past. Van Oys Retreat is an exclusive experience offering a unique blend of luxury, craftsmanship, and personal transformation. Set in a serene location, this retreat provides an opportunity for guests to explore their personal style through bespoke tailoring sessions, wellness activities, and inspirational workshops. It\\'s a journey of self-discovery, where impeccable service meets the art of fine tailoring, creating an unforgettable experience that enriches both body and soul. Opening on 2 April \\'25. Ruby Hotels is bringing its \"lean luxury\" concept to Rotterdam, offering a stylish and affordable stay in the city\\'s vibrant center. The new hotel will feature meticulously designed rooms that blend comfort with high-quality materials, alongside a lively bar and a rooftop terrace with stunning views. This expansion reflects Ruby’s commitment to providing guests with a unique and luxurious experience at a great value, all while immersing them in the dynamic energy of Rotterdam. Kempinski Hotel Poiana Brașov, soon to open in Romania, offers a luxurious retreat in the Carpathian Mountains. The resort will feature elegantly designed rooms, gourmet dining, and a world-class spa, all set against the backdrop of one of Europe’s top ski destinations. Whether for winter sports or serene relaxation, Kempinski promises an extraordinary experience, blending traditional charm with modern sophistication in the stunning landscape of Poiana Brașov. Two luxurious hotels are set to open in 2024 under the Vestige Collection brand in Spain. Vestige Son Ermita in Mallorca will offer an exclusive retreat in the Tramuntana mountains, featuring elegant suites and personalized services. Vestige Binideufà, located in Menorca, will provide a unique experience with its historic architecture and luxurious amenities, offering stunning views and serene surroundings. Both hotels promise unparalleled luxury, blending heritage with modern comforts. Cambridge House by Auberge Resorts Collection offers a luxurious escape in the heart of the English countryside. This historic estate, reimagined for modern luxury, provides guests with elegant accommodations, world-class dining, and bespoke experiences that celebrate the rich cultural heritage of Cambridge. Whether you seek tranquility or adventure, Cambridge House promises an inspiring and unforgettable stay, blending timeless charm with contemporary comfort. MiiRo London at Templeton Place is a luxurious urban oasis in the heart of the city, blending contemporary elegance with eco-conscious design. This boutique hotel offers guests an inspiring stay with beautifully appointed rooms, a serene garden, and exceptional service. It\\'s a sanctuary where modern luxury meets sustainability, providing a peaceful retreat amidst the vibrant energy of London. The hotel will open June 1st 2025. Macaenas Resort offers a luxurious escape on the Almería coast, blending modern elegance with natural beauty. Set against stunning landscapes, the resort features sophisticated accommodations, world-class amenities, and a serene atmosphere, perfect for relaxation and adventure. With breathtaking sea views, pristine beaches, and a focus on sustainability, Macaenas Resort promises an unforgettable experience where luxury meets nature. Anantara Shaoxing Resort, nestled on the slopes of the Kuaiji Mountains and surrounded by forests and lakes, offers a serene escape just 20 minutes from downtown Shaoxing. The resort features 120 rooms and suites, Chinese banqueting, tea ceremonies, a springwater pool, yoga, gym, and an award-winning Anantara Spa. Enjoy hiking, sailing, and traditional Chinese medicine, all within reach of Hangzhou, Ningbo, and Shanghai. Rosewood Shenzhen, set on bustling Shennan Boulevard at the crossroads of Nanshan, Futian, and Baoan Districts, will offer a prime location for business travelers and affluent explorers alike. Designed by Fosters + Partners, the 300-room hotel will also feature 50 Rosewood Residences with views of the Noble Merchant Golf Club and Shenzhen\\'s dynamic skyline. The property will include four unique restaurants and bars, a Rosewood Spa, indoor and outdoor pools, and a fitness center. Slow down your footsteps, contemplate, and uncover a world of noble simplicity and quiet elegance. Located on Yamatooji-dori in Kyoto\\'s historic Miyagawa-chō district, Capella Kyoto bridges the past and present, reflecting the city’s ethos. This four-storey retreat, home to 92 rooms, features Japanese artworks and artefacts, and is minutes from the Miyagawa-chō Kaburenjo theatre. Guests can enjoy Auriga Spa, Carte Blanche dining, a Signature Modern Brasserie, and Japanese Speciality Restaurant. AWC and Nobu are transforming a historic Upper East Side building into the Plaza Athénée Nobu Hotel & Spa. Combining Plaza Athénée\\'s luxury with Nobu\\'s modern elegance, the hotel will feature 145 rooms, including suites with glass terraces and a townhouse sanctuary. Amenities include a traditional Japanese Onsen, a Nobu omakase experience, a bar and lounge, and a rooftop space with panoramic city views. The Hearst Building, once the center of the Hearst newspaper empire, is being transformed into The Hearst Hotel, Auberge Resorts Collection. Opening in 2026, this reimagined icon will set a new standard for West Coast luxury and style in San Francisco. Located in Union Square, the hotel will feature 150 Hearst-inspired rooms and suites, vibrant dining venues, a rooftop bar, and a light-filled wellness center. Nestled along the Atlantic Ocean, Shell Bay will debut in 2026, redefining coastal luxury on the Gold Coast. The exclusive community features a boutique Auberge hotel, 60 guest rooms, 108 branded residences, and a private yacht club with a 48-slip marina. Enjoy an 18,000 sq. ft. spa, a 14,000 sq. ft. rooftop pool, a Greg Norman-designed golf course, and Florida’s only racquet club with all four Grand Slam surfaces. Opening in 2026, The Knox Hotel will anchor Dallas\\'s vibrant Knox Street neighborhood, blending luxury with the area\\'s historic charm. Featuring exclusive residences, this premier hotel offers a sophisticated retreat and a gateway to top shopping, dining, and the 3.5-mile Katy Trail. Designed to complement Knox Street\\'s dynamic character, The Knox Hotel will elevate the district\\'s allure and sophistication. Opening soon, Moon Palace The Grand-Punta Cana promises unparalleled luxury on the stunning Dominican coast. Featuring 1,000 ocean-view suites, gourmet dining, a world-class spa, and an 18-hole golf course, this all-inclusive paradise boasts endless pools, a pristine beach, and exceptional amenities. Discover the ultimate escape in 2025. First opened in 1999, Fregate Island in Seychelles is set for major upgrades and sustainability innovations from February 2022 until 2026. While the island remains closed, the exclusive sanctuary will be redesigned with 17 larger villas using glass, stone, and lightwood, minimizing energy use with solar technology. The conservation team will stay on-site to protect the unique flora and fauna, including the endangered Magpie Robin, Fregate Beetle, and Giant Aldabra Tortoises. Rosewood Hotels & Resorts® is expanding its global footprint with Rosewood Diriyah, a luxury hotel opening in Riyadh, Saudi Arabia, in 2027. Located near the UNESCO World Heritage Site of At-Turaif within the Diriyah Gate development, it will offer 250 accommodations, including Wadi Suites, four restaurants, a fitness center, and more. This property reflects Rosewood\\'s commitment to luxury and cultural immersion, enhancing Riyadh\\'s reputation as a key destination in the Middle East. Nobu Hotel Punta Cana, set on the eastern coast of the Dominican Republic, will feature 200 guest rooms and suites, 12 villas, a signature Nobu restaurant, meeting and event spaces, and 50 Nobu residences. Surrounded by endless white sand beaches and lush tropical landscapes, this new property will expand Nobu\\'s presence in the Caribbean, offering a luxurious and serene getaway. Nobu Hotel, Restaurant, and Residences Al Khobar will be located on the city\\'s waterfront, overlooking the Arabian Gulf. This luxury complex will feature 120 elegantly designed guest rooms and suites, a Nobu Restaurant on the lobby level, swimming pools, a wellness center, and spaces for meetings and events, providing a refined experience in a stunning coastal setting. EDITION’s second hotel in Saudi Arabia will be located on the main island of The Red Sea Project, Shura. Scheduled to open with 240 guest rooms, including one-, two- and three-bedroom suites, The Red Sea EDITION will also feature two restaurants and multiple bars along with a gym, swimming pool, and spa. Located next to the famous Dancing House, Sir Prague will feature 76 stylish rooms, an indoor courtyard, a gym, a library, and a hidden cocktail bar. The property will also host the third location of the award-winning Seven North restaurant, offering a blend of luxury and local charm in the heart of Prague. On Colombia’s Caribbean coast, Four Seasons is transforming historic 16th-century buildings in Cartagena’s Getsemaní neighborhood. The hotel will feature 131 accommodations, including 27 suites, and offer four restaurants and lounges. Guests can enjoy two ballrooms, a Spa, Fitness Centre, and two rooftop pools. Combining timeless style with legendary service, Four Seasons aims to become Cartagena’s cultural hub. Banyan Tree Veya Bacalar, opening early 2025 in Quintana Roo, Mexico, will feature 40 rooms, including 35 villas and five residences. The new resort will offer four dining venues with views over Bacalar Lagoon, a lakefront specialty restaurant, and watersports facilities. The Veya program focuses on holistic wellbeing with tailored experiences. This new resort, developed with Grupo UBK, expands Banyan Tree\\'s Mexico presence. Hilton announces the Waldorf Astoria San Miguel de Allende, opening in early 2025. Located in the heart of this UNESCO city, the hotel will offer 120 rooms and 24 luxury residences. Highlights include a rooftop pool with city views, a wellness center, a spa, and three dining options. Guests will enjoy an art gallery, local crafts store, and family-friendly amenities. This addition strengthens Hilton’s luxury presence in Mexico. Mondrian Tulum Hotel & Residences will debut in 2025 as the brand’s second Mexican location. The 64-room hotel will feature four dining outlets, a spa, fitness center, outdoor pool, and yoga area. The residential component includes 151 units, from 3-bedroom townhouses to a 4-bedroom Casa VIP. Located near Coba Avenue, the hotel offers easy access to Downtown Tulum and Tulum Beach. Mondrian’s vibrant design and programming will capture Tulum’s bohemian spirit. Opening in 2025, Amanvari in Baja\\'s East Cape offers a serene escape by the Sea of Cortés. Featuring a resort, Aman Residences, multiple dining options, and a private beach, Amanvari blends contemporary design with nature. Residences offer seamless indoor-outdoor living with stunning sea views. This tranquil retreat promises a luxurious sanctuary immersed in the breathtaking Baja landscape. Nobu Hotel and Restaurant will open within Caesars New Orleans following a multimillion-dollar renovation of Harrah’s New Orleans The Edition Hotel Nashville, set to open in 2025, will redefine luxury in Music City with its blend of urban sophistication and natural tranquility. Located in the vibrant Gulch neighborhood, the hotel will feature 280 rooms, a wellness floor with a spa, fitness center, and outdoor pool. Unique offerings include five dining venues, a street-level concert space, and an 8,900 sq. ft. food hall. With its eco-friendly design and commitment to immersive cultural experiences, the Edition Hotel Nashvil Aman Nai Lert Bangkok,  will offer a serene urban escape in the heart of Bangkok. Set within Nai Lert Park, the 52-suite hotel features Aman Wellness, an Omakase restaurant, Teppanyaki dining, a Jazz bar, and Arva, its Italian restaurant. It also includes 39 Aman branded residences. Designed by Jean-Michel Gathy, the property blends Aman’s signature style with Thai influences, creating a tranquil haven amidst an eight-acre tropical garden. Situated across from Osaka Castle and near Naniwanomiya-Ato Park, Patina Osaka is the first urban property of the Patina brand, reflecting Osaka’s essence as Japan’s City of Water. Inspired by local materials and the castle’s legacy, the hotel’s design integrates copper, wood, earth, and water. Rooms and suites blend modern and natural aesthetics with uninterrupted views of Osaka Castle, offering versatile spaces for work, relaxation, and wellness. In Sanya, known as the city at the end of the sky and sea, Patina Sanya stands as a tropical haven 40 minutes from the airport. Designed by Danish studio BIG, this architectural marvel offers a unique experience blending urban and natural elements. The resort mirrors 12 iconic Sanya landscapes, from the Broad Walk to the Summit. Rooms and suites feature skylights, bay terraces, and local materials, seamlessly integrating luxury with nature for a stimulating yet serene escape. Located in South Male Atoll, this serene resort offers an inspiring, sustainable escape with 38 stunning pool villas and private dining havens throughout the island. Emphasizing seclusion and sustainability, the resort provides a variety of multicultural dining experiences, blending luxury with the natural beauty of the scenic surroundings for an unforgettable getaway. Park Hyatt Los Cabos at Cabo del Sol is a luxurious beachfront retreat in the exclusive Cabo del Sol community on the Baja California Sur coast, near downtown Cabo San Lucas. The resort features uniquely designed rooms and suites with patios or terraces, some with plunge pools and breathtaking views of the Sea of Cortez. Lavish villas offer kitchens and lap pools. Guests can relax at the pools or beach club, enjoy gourmet dining, play golf, or unwind at the serene spa. Located in the historic former headquarters of the Dutch airline KLM, De Plesman will feature 100 rooms and 20 residences. It is situated between The Hague\\'s centre and Scheveningen beach. OKU Andalusia, on Spain\\'s Costa del Sol, offers barefoot luxury with stunning sea views. Enjoy infinity pools, a 1225m² spa, and an adults-only beach club. Stay in rooms with private pools or a 4-bedroom villa. Kids can enjoy the new OKU Kids Club with adventure playgrounds, while adults indulge in sports, hiking, or watersports. A retreat blending relaxation and adventure. OKU Bodrum, an adults-only retreat on the northern coast of the Bodrum peninsula, opens in summer 2025. This boutique hotel offers 58 eco-conscious rooms and suites, many with private pools. Enjoy a hillside pool with lounge areas, a serene spa, ocean access via a private jetty, and three diverse restaurants. Surrounded by mountains and ocean, OKU Bodrum promises luxury and stunning views. Aman Residences, Beverly Hills, opening in 2027, is an urban oasis within the One Beverly Hills development. Spread over eight acres of botanical gardens, this sanctuary offers serene living amidst Los Angeles\\' vibrant energy. Designed by Kerry Hill Architects, the residences feature artisan craftsmanship, neutral tones, private pools, and terraces with sweeping city views. Residents enjoy wellness facilities and priority access to the Aman Hotel and Club, blending elegance and comfort. Aman Miami Beach in the Faena District will blend serene luxury with Miami’s vibrant energy. Set in the restored Art Deco Versailles Hotel, the 56-suite hotel offers ocean views and direct beach access. Guests and residents will enjoy an Aman Spa, exclusive dining, and the private Aman Club. The Anantara Jewel Bagh Jaipur Hotel blends classic opulence with modern luxury in one of the world’s most historic cities. Featuring 150 rooms and suites, a signature Indian restaurant, a rooftop bar with city views, and an Anantara Spa, it offers authentic experiences. The hotel also hosts grand weddings for up to 2,500 guests. The Bulgari Hotel Miami Beach, located at 100 21st Street, will be the first Bulgari Hotel in the United States, offering stunning ocean views and proximity to South Beach\\'s attractions. Housed in a historic Miami Modern building, the hotel will feature 100 rooms, luxury amenities, a spa, pool, and a restaurant by Michelin-starred chef Niko Romito. Bulgari Hotels & Resorts plans to open Bulgari Resort Bodrum in 2026, marking the 12th property in its collection. Situated on a private peninsula, the resort will feature ten hectares of terraced gardens. The property will include 84 rooms and suites, signature dining, wellness experiences, and 100 exclusive Bulgari Mansions, emphasizing sustainability and a blend of ancient and modern design. Debuting in 2027, The Shore Club Resort and Residences, part of the Auberge Resorts Collection, will redefine luxury in Miami Beach. Preserving its historic charm, the iconic Collins Avenue address will feature an 18-story residential tower. Offering direct beach access, lush botanical surroundings, exclusive experiences, and five-star amenities, The Shore Club epitomizes the best of Miami living with Auberge\\'s renowned service. Capella Diriyah, set to open in 2026 in Riyadh’s historic Diriyah district, blends modern luxury with Saudi heritage. The hotel will feature 100 rooms, including a Royal Suite with a star-gazing window and a rooftop pool overlooking the At-Turaif UNESCO World Heritage Site. Guests can enjoy a holistic spa with a hammam, a fitness center, and four distinct dining venues. Capella Diriyah serves as a bridge between rich local culture and Capella’s renowned elegance. A stunning glass prism stands tall on 800 linear feet of scenic bayfront, nestled within the lush gardens of Miami’s most sought-after enclave. Designed by award-winning architect Bernardo Fort-Brescia of Arquitectonica and acclaimed Studio Munge, these residences provide a tranquil haven for discerning residents and guests, fostering relaxation, inspiration, and reflection amid the vibrant energy of Miami. Nestled on Rue Royale in Notre Dame aux Neiges, this Belle Époque jewel, crafted by Henri van Dievoet,  transformed into Corinthia Brussels, a symbol of elegance in the Belgian capital. The hotel seamlessly blends classical charm with modern sophistication, offering 126 rooms and suites, a gourmet restaurant and brasserie, and 1,200 square meters of wellness. Catering to discerning locals and luxury travelers, it harmonizes heritage with contemporary style. Opened in December 2024. The Dali EDITION, located on Cangshan Mountain, is set to redefine luxury in Yunnan. With easy access to transport hubs and nearby attractions like Dali Old Town and Three Pagodas, the hotel offers 150 serene rooms, suites, and villas with private pools. It features multiple restaurants, a spa, gym, and event spaces, all blending simplicity and style with breathtaking views of Cangshan Mountain or Erhai Lake. Four Seasons Resort and Residences Dominican Republic at Tropicalia, set to open in 2026, is a sustainable luxury destination on 60 acres of Playa Esmeralda beachfront. It will feature a 95-key resort, 25 private residences, a spa, wellness facilities, racquet sports, kids’ club, and various dining options. Four Seasons Hotel and Private Residences Jacksonville, opening in 2026, will feature 170 luxury rooms and suites, 26 private residences, four dining outlets including a rooftop restaurant, a world-class spa, pools, gym, and event spaces. Located in the Jacksonville Shipyards by the St. Johns River, it will be part of the city\\'s downtown revitalization and next to the renovated EverBank Stadium, home of the Jacksonville Jaguars. Opening in 2026, Four Seasons Hotel and Private Residences Jeddah at the Corniche will feature 269 guest rooms, 21 serviced apartments, and 64 private residences, including two penthouses. Located in Jeddah\\'s Corniche District, it offers stunning Red Sea views and luxurious amenities such as multiple dining options, pools, fitness centers, and dedicated spaces for residents. This project enhances Four Seasons\\' presence in Saudi Arabia. Four Seasons Hotel Diriyah, set to open near Riyadh, will feature 150 luxury rooms and suites, a wellness spa, fitness center, event spaces, and four dining outlets, including a poolside restaurant. Located within the historic Diriyah development, a UNESCO World Heritage site, the hotel blends modern luxury with traditional Najdi architecture. Set along Zanzibar’s pristine Pongwe Beach, Four Seasons Resort Zanzibar will offer 60 private villas with ocean views, five dining venues including a seafood restaurant and Levantine grill, an oceanfront pool, a luxury spa, and a Kids For All Seasons program. Guests can enjoy water sports, a fitness center, and a Discovery Centre focused on conservation and sustainability. The upcoming Four Seasons resort on Sindalah Island, part of the NEOM project, will feature 225 guest rooms and suites with Red Sea views, alongside 52 villas with private pools. Highlights include a luxury marina, yacht club, golf course, four dining venues, a spa with hammam, fitness center, pools, and a diving center, offering water sports and marine exploration. This luxurious retreat blends natural beauty with future-forward design. Four Seasons Resort and Private Residences Okinawa will span 100 acres on Okinawa’s western coast. The development includes 120 hotel rooms, 120 residences, and 40 villas across 30 acres. It features beach access, dining options, retail shops, and recreation facilities, all designed to harmonize with Okinawa’s natural and cultural heritage. The legendary former Naples Beach Hotel & Golf Club will be redeveloped into the Naples Beach Club, a 125-acre luxury beachfront community. It will feature a 216-room Four Seasons Resort, up to 185 luxury residences, and world-class club amenities curated by Discovery Land Company. The resort will include pools, restaurants, retail, and event spaces, offering an unparalleled Gulf Coast lifestyle. Four Seasons and Spring Garden Company will open Four Seasons Hotel Xi’an in 2026. This luxury hotel, set in a resort-style environment, will offer 250 guest rooms and suites, fine dining options, a rooftop bar, two ballrooms, and a spa. Located near Muta Temple Relics Park, it provides easy access to Xi’an’s cultural sites, including the Terracotta Warriors Museum and Tang Dynasty Wall Relics Park. Four Seasons and Fungseng Prosperity Holdings Limited will open Four Seasons Hotel Shanghai in 2027. This 44-story hotel will feature 160 luxurious rooms and suites on Huaihai Zhong Road in Puxi, near shopping and entertainment. It will incorporate traditional Shikumen architecture and offer five unique dining concepts, including a seafood restaurant and Italian trattoria. Amenities will include extensive wellness facilities, meeting spaces, and a resort-style outdoor heated pool. The Chedi Trojena is an upcoming luxury hotel in Saudi Arabia’s Trojena mountain resort, part of NEOM’s tourism project. Located in the Relax district, it will offer culinary, sports, wellness, and meditative activities with views of the Lake of Trojena. Its design blends local history with futuristic architecture, set within Trojena’s diverse districts and mountain landscape at 2,600 meters above sea level. Set to open in 2026, The Chedi Aquarius Koh Chang will be a luxury resort on Thailand\\'s third-largest island. Offering 200 rooms, the resort features an all-day dining restaurant, a cliff-edge restaurant, a rooftop bar, spa, infinity pool with a pool bar, and conference facilities with views of the Gulf of Thailand. It promises a serene coastal ecotourism experience, ideal for those seeking a peaceful retreat. The Chedi Hegra, opened in December 2024 in northwest Saudi Arabia,  redefining luxury within the ancient Nabataean site of Hegra, a UNESCO World Heritage Site. With 35 bespoke rooms blending modern architecture and heritage, the hotel preserves historic structures like the old railway station. Featuring three fine-dining restaurants, a spa, and a pool, it promises an authentic, sustainable luxury experience amidst captivating landscapes. The Chedi Wadi Safar, part of the Diriyah Gate Development in Saudi Arabia, will offer tranquil, elegant accommodations in the culturally significant Diriyah, the birthplace of Saudi Arabia. Known for authentic, unrivaled hospitality, the hotel will honor the majestic Wadi Safar with a blend of timeless elegance and respect for its sacred surroundings, providing guests with world-class cultural and lifestyle experiences. Patina Hotels & Resorts will open Patina Tianjin, offering a blend of modern luxury and simplicity in the historic Italian Heritage District of Tianjin. Set on an 18,000 sqm property with 17 heritage buildings, it features over 150 guest rooms and a historical presidential villa. The hotel emphasizes sustainability with LEED and WELL standards and offers immersive experiences like a restaurant, spa, and tranquil courtyards. Corinthia Bucharest, set in the heart of Romania\\'s capital, is restoring the historic Grand Hotel du Boulevard, originally built in 1867. The hotel will blend its rich heritage with modern luxury, featuring 30 suites, a fine-dining restaurant, café, club lounge, grand ballroom, and spa. In a notable collaboration, the hotel will host SASS\\' Restaurant & Lounge, bringing Monaco\\'s famed SASS’ Café to Bucharest. Corinthia Maldives, located on the Kaafu Atoll, will span two islands, with the larger hosting a 73-key luxury resort and the smaller offering secluded, private retreats. The resort’s manta ray-inspired design features fluid lines that reflect the elegance of marine life. Guests will enjoy state-of-the-art wellness facilities, fitness spaces, and five internationally renowned restaurants, creating an unparalleled island getaway. Corinthia Gewan Island, set amidst the Arabian Gulf, will offer 110 elegantly designed guestrooms, a grand banquet hall for up to 1,000 guests, three gourmet restaurants, and a luxurious spa. Spanning 13,000 square meters, this island sanctuary will also feature exclusive villas, blending sophistication with stunning views of the nearby golf club and beach club, redefining luxury hospitality in the region. Corinthia Riyadh, located in Diriyah, northwest of the capital, will blend sustainable design, avant-garde architecture, and warm hospitality to create a luxurious retreat. Positioned along a boulevard known for upscale boutiques, the hotel will reflect the area\\'s natural beauty. Corinthia Residences Diriyah will offer ten exclusive Najdi-style private homes, with residents enjoying seamless access to the five-star amenities of Corinthia Riyadh. Set in a grand neoclassical palazzo dating back to 1914, Corinthia will transform the former Central Bank of Italy into an ultra-luxury hotel, honoring its rich heritage while embracing artistic expression. Guests will enjoy 60 elegantly appointed suites and rooms, a luxurious spa, a stylish cocktail bar, and a welcoming lobby lounge, all surrounding a central courtyard. The hotel will blend historical grandeur with the vibrant artistic spirit of the lively streets of its location. The Corinthia Oasis marks the brand\\'s return to Malta, featuring a Mediterranean-style resort with 162 rooms, including 37 exclusive Water Suites with private decks along a scenic water feature. Set amid lush gardens, it will offer Malta\\'s largest wellness facility and numerous outdoor activities, including tennis, golf, and a kids’ club. Guests can enjoy electric buggies for easy access around the sprawling grounds, making it a perfect retreat for relaxation and adventure. Four Seasons and Omnam Group will open a resort in Puglia, Italy, offering 150 rooms and suites with views of the Adriatic Sea. Set on a beachfront, the resort will feature villa-style accommodations, six dining options, a beach club, a spa with 10 treatment rooms, and meeting spaces. Located near Ostuni, it provides direct beach access and proximity to Puglia’s cultural attractions, ideal for both leisure and business travelers. The Four Seasons Hotel Melbourne will feature 210 luxurious rooms and a Sky Lobby on the 63rd floor, offering stunning panoramic views of the city. Guests can enjoy a world-class integrated health and wellness experience, a sprawling rooftop restaurant and bar, and multiple versatile event spaces, all designed to provide an unmatched hospitality experience in the heart of Melbourne. The upcoming residential community on Paradise Island will feature a carefully curated selection of 67 residences, each offering stunning ocean views or direct oceanfront access, all conveniently located next to the renowned resort. Opening in 2026, the Four Seasons Hotel and Private Residences New Cairo Capital at Madinaty will be a luxurious destination in the heart of New Cairo. Set on 185 hectares of parkland, it will feature 346 rooms and suites, alongside 107 villas and 80 luxury residences. Guests can enjoy diverse dining options, a waterfront restaurant, a standalone spa, a grand ballroom, and outdoor event spaces. The property is designed by acclaimed architect Pierre Yves-Rochon, promising a blend of elegance and Four Seasons Resort and Private Residences Muscat, Oman, will transform a former yacht club into a luxury destination featuring 200 rooms and suites, plus 100 Private Residences. Guests will enjoy five dining options, a private beach, indoor and outdoor pools, and a tennis centre. Additional amenities include a spa, fitness facilities, a dedicated kids\\' club, and extensive event spaces, all delivered with Four Seasons\\' legendary service for both leisure and business travelers. Hoxton Edinburgh comprises 11 interconnected Georgian townhouses nestled in the vibrant heart of historic Edinburgh. Just a short walk from iconic attractions, it serves as the perfect base for exploring the eclectic Scottish capital. With 214 stylish rooms, a lively trattoria, a cozy cinema, and ample space for meetings and events, there are plenty of reasons to stay and enjoy all that Hoxton has to offer. Mandarin Oriental Hotel Group will rebrand and manage the historic Hotel Cristallo in Cortina d’Ampezzo, Italy, set to reopen in summer 2025. This will be the group’s first alpine resort. The renovated property will feature 83 rooms, including 30 suites with stunning Dolomite views, multiple dining options, a spa with an indoor-outdoor pool, and a Kid’s Club. Guests will enjoy various activities, including skiing, hiking, and tennis. Rocco Forte Hotels is set to open its first property in Milan in 2025, following a complete refurbishment. The hotel will feature approximately 70 rooms and suites, a restaurant and lounge bar, and a wellness center with a gym and spa. A rooftop bar will offer panoramic city views. Designed by Olga Polizzi with Paolo Moschino and Philip Vergeylen, the interiors will reflect Milanese sophistication, combining luxury with inviting spaces. This opening marks Rocco Forte’s eighth property in Italy. Jumeirah Marsa Al Arab, opening in March 2025, redefines luxury with its superyacht-inspired design by architect Shaun Killa. The hotel features 385 rooms and suites, plus 82 exclusive residences, all offering stunning 180° views of the Arabian Gulf. Guests will enjoy lavish cabana areas, multiple pools, and a wellness center. Killa emphasizes a seamless guest experience, ensuring comfort and privacy while connecting visitors to the resort’s unique offerings. Experience the magic of InterContinental Lifou Wadra Bay Resort, nestled in New Caledonia\\'s lush tropical forests. Surrounded by majestic coral cliffs and pristine beaches, this secluded retreat offers an authentic connection to ancient tribal cultures. Choose from a Resort Room or Forest Bungalow with garden views, a Lagoon Bungalow reflecting light off the water, or a Beach Villa with direct beach access, super king-sized beds, and private Jacuzzis, ensuring a serene escape. IHG Hotels & Resorts announces the return of InterContinental Hotels & Resorts to Serbia after 20 years, with InterContinental Belgrade set to open by late 2026. The hotel will feature 203 luxury rooms, including a Presidential Suite with panoramic views. Amenities include a sky pool, rooftop restaurant, spa, ballroom, and meeting spaces, situated in the new Delta District. This opening marks a continued partnership with Delta Holding and contributes to Belgrade’s growing hospitality scene. Langham Hospitality Group and Rabbit Holdings announce the anticipated opening of The Langham, Customs House, Bangkok in 2026. Situated along the Chao Praya River, the hotel will restore the historic Customs House, preserving its neo-Palladian architecture. It will feature 78 guest rooms, T’ang Court restaurant, Chuan Spa, and luxurious event spaces, blending traditional Thai heritage with modern luxury, enhancing the cultural significance of the Bang Rak District. Hjortviken Country Club opens their doors on the 20th of January 2025 in Hindås, closeby Gothenburg in Sweden. The hotel is part of the Ess Group. With 150 stylish rooms and a setting that embraces the beauty of nature, the hotel is designed for both relaxation and adventure, Hjortviken offers a 1750m² pool club with indoor and outdoor pools, a gym, padel-, boule- and croquet court, a children\\'s playground and two restaurants. Next to their facilities they offer a range of exciting activities. In October 2025 Rox Resort, part of Ess Group, will open their doors. Rox Resort will located on the coast of Copenhagen and offers 158 rooms, two restaurants, a garden with sea view, a spa and pool club with three pools. They describes the hotel as living with continental elegance. In the design there are details of Hong Kong harbours and British elegance incorporated. Hobo Hotel, part of Nordic Hotels & Resorts, will open a new boutique hotel in the heart of Oslo. Hobo Hotels are designed to be unique to each city, from the design to the activities that are located. It is an urban hub where both locals as international visitors meet. The hostel will consist of 181 unique rooms, 3 suites, several bars, cafes, restaurants, shops meeting rooms and their so called hang out venues.  Gran Hotel Taoro will be opening their doors this summer in Puerto de la Cruz, Tenerife. The hotel is will offer a combination of historical charm and modern amenities. Located between beautiful natural landscapes looking over the Atlantic Ocean and Mount Teide. The hotel features 199 luxurious rooms, several dining options and a wellness. Its location is perfect to explore what Tenerife has to offer.  Subscribe to our newsletter to be the first in the know about lifestyle & luxury hotel openings. For monthly updates, industry insights and our latest projects Danzigerbocht 39KAmsterdam, The Netherlands+31 (0)20 22 31 111hello@theorangestudio.com Get in Touch Get in Touch Danzigerbocht 39KAmsterdam, The Netherlandshello@theorangestudio.com+31 (0)20 22 31 111 Danzigerbocht 39KAmsterdam, The Netherlands+31 (0)20 22 31 111', 'url': 'https://www.theorangestudio.com/hotel-openings', 'thumbnail_url': 'https://www.bing.com/th?id=OIP.FRbhOCvXBg-ARgrvnlzayAHaIO&w=80&h=80&c=1&pid=5.1', 'source': None}, {'kind': 'web', 'title': '16 Best New Hotel Openings in New York for 2024 - NewHotelGuides.com', 'snippet': 'The Moxy Lower East Side <b>hotel</b> is a recently opened, 303-room, fashionable <b>hotel</b>. The downtown <b>New York</b> <b>hotel</b> allures with endless pleasures spiced with the spirit of the surreal, such as a modern Japanese restaurant, Sake No Hana; Silver Lining, the piano lounge; the rooftop bar at The Highlight Room; a lobby cafe and bar, The Fix; and the ...', 'content': 'New York City is a bustling and popular tourist destination, attracting millions of visitors each year. It is a city that never sleeps, with things to do at all hours of the day and night. Many famous landmarks in the city include the Statue of Liberty, the Empire State Building, and Central Park. There has been a surge in hotel openings in recent years, with many new hotels opening to welcome tourists from all over the world. These hotels provide excellent service and amenities, ensuring that visitors have a pleasant and comfortable stay in the city that never sleeps. Here’s the list of the 16 Best New Hotel Openings in New York for 2024. Keeping this list up to date is essential for providing you with the most accurate information possible. That’s why we are constantly making sure it is accurate and up-to-date. Last updated in January 2024, we strive to make sure that this page is always up to date with the latest information. Keep reading to get more tips, insights, and inspiration about the best new hotel openings in New York. Get uninterrupted internet access withAiralo’s eSIMs, book a hassle-free airport transfer withGetTransfer, store your luggage safely withRadical Storage, discover amazing things to do viaTiqets, book affordable car rentals withEconomy Bookings, and search for\\xa0sports, concert, and theater tickets\\xa0viaTicketNetwork. Subscribe to our newsletter to get all the latest information you need about newly opened hotels! Opened June 2023 | 234 rooms | 4-star hotel Experience New York like no other at the stylish, friendly Aloft Chelsea. Enchant yourself with the design of the rooms, which include the incredibly comfortable trademark bed, a walk-in shower, unique amenities from Bliss® Spa, and more. To maximize work and enjoyment, simply connect all of your equipment to the plug-and-play connectivity station, which also connects to the 42″ LCD TV. Opened 2023 | 131 rooms | 4-star hotel A post shared by The FIDI Hotel (@thefidihotel) The FIDI Hotel is the latest addition to downtown Manhattan’s vibrant revival on renowned Stone Street in the financial sector. This 31-story boutique hotel has contemporary architecture designed by New York-based Kroesser + Strat Design. It has a dazzling, colorful Piet Mondrian-inspired glass front and an interior fusion of raw, industrial, and opulent elements. The guest rooms and suites combine artistic sensibility with modern ingenuity. Each lodging is a contemporary retreat with custom furnishings, one-of-a-kind artworks that showcase New York’s burgeoning art scene, soft beds with luxurious linens, and thoughtfully chosen snacks and beverages. The MINT Bar’s inventive, modern American dishes are made with fresh, regional ingredients and with a Mediterranean flair. Opened 2023 | 216 rooms | 4-star hotel A post shared by Moxy Williamsburg (@moxywilliamsburg) Moxy Williamsburg is a 216-room boutique hotel with innovative, fun-loving, and welcoming features. The hotel’s classic design and well-lit interiors resonate with both savvy locals and smart visitors. Bar Lab, the creative engine behind Broken Shaker, has created a variety of dining and drinking establishments. Among them are Mesiba, a lively restaurant with Levantine cuisine that takes inspiration from Tel Aviv; Bar Bedford, a destination cocktail bar and all-day café; Jolene Sound Room, a high-energy sound room with cutting-edge audio and lighting technology; and LilliStar, an indoor/outdoor rooftop bar with a terrace that offers stunning views of the Williamsburg Bridge and the Manhattan skyline. Opened 2023 | 460 rooms | 4-star hotel A post shared by Virgin Hotels New York City (@virginhotelsnyc) The Virgin Hotels offers maximum functionality for a more comfortable stay. The distinctive two-chamber architecture of every room has sliding doors that separate the sleeping and relaxation lounge from the dressing area. Every guest’s stay includes a stand-alone vanity, lots of storage, plugs in all the right places, yoga mats, and other exciting comforts. Opened 2022 | 180 rooms | 3-star hotel Hotel Indigo NYC Financial District is a boutique hotel that blends genuine regional history with cutting-edge design, warm service, and an unforgettable experience. Introducing the brand-new hotel located at 50 Trinity Place, with a view of the famous Trinity Church, where people like Alexander Hamilton and the Schuyler Sisters, Elizabeth and Angelica Schuyler, are buried. Alternately, you can take in views of the Manhattan district in Downtown. Visitors may interact with New York City’s diverse culture, art, cuisine, and customs while enjoying customized, intimate service at the Hotel Indigo NYC Financial District, which is tucked away at the historic intersection of Trinity Place and Rector Street. Opened 2022 | 58 rooms | 3-star hotel A post shared by Best Western Plus SoHo (@bwplussoho) Indulge yourself in the fashionable SoHo district of New York City’s style. Stay in a district noted for its cast-iron buildings, cobblestone streets, and lofts and galleries owned by local artists. In a neighborhood of New York City known for the range of stores that make up the area, from hip, premium boutiques to independent designer outposts. The newly built Best Western Plus SOHO is dedicated to giving customers warm customer service and relaxing lodgings. The hotel provides generously sized guest rooms, each with mini-refrigerators, 42-inch LG televisions, and complimentary wireless high-speed Internet access. Nothing is better than starting your morning with an excellent, free, complete breakfast. Opened 2022 | 303 rooms | 4-star hotel A post shared by Moxy Lower East Side (@moxylowereastside) The Moxy Lower East Side hotel is a recently opened, 303-room, fashionable hotel. The downtown New York hotel allures with endless pleasures spiced with the spirit of the surreal, such as a modern Japanese restaurant, Sake No Hana; Silver Lining, the piano lounge; the rooftop bar at The Highlight Room; a lobby cafe and bar, The Fix; and the Loosie’s club. The demands of the connected modern traveler are met by cleverly designed rooms, tech-forward amenities, co-working areas, and adaptable conference studios. Opened 2022 | 296 rooms | 4-star hotel A post shared by Grayson Hotel (@graysonhotelnyc) The Grayson Hotel is a new premium hotel in the center of Midtown Manhattan and has 296 bedrooms and suites. Engage with Manhattan’s fascinating past while savoring the present with a stay. Enjoy the stunning views, luxurious amenities, and modern design. Create a new paradigm for city stays with a holistic sensory experience provided in each guest room. The hotel is also open to several food and beverage concepts, including a rooftop club. Take in the best of New York City, from busy Midtown to the Manhattan neighborhoods outside your front door. Here is where your journey starts, right in the middle of everything that counts. Opened 2022 | 165 rooms | 4-star hotel A post shared by Le Méridien New York, Fifth Avenue (@lemeridienfifthavenue) The Le Méridien New York sparkles with exquisitely designed lodging and a fantastic location on Fifth Avenue, the city’s most well-known boulevard. The guest rooms feature a stunning modern design, feature apartment-style suites for longer stays, and capture the authentic, bold, and dynamic character of New York City. The Empire State Building, the NoMad District, and the Flatiron Building are just a few of the neighboring New York City landmarks and areas you may visit when you’re ready to go sightseeing. Currently, NoMad serves as the city’s center for the creative and technological sectors, and it is constantly buzzing with activity. Visit the on-site restaurant after a day of sightseeing for your favorite beverages and cuisine with a seasonal twist. Opened 2022 | 381 rooms | 3-star hotel Welcome to the Holiday Inn LIC – LaGuardia West, a 381-room hotel that opened in Long Island City, a thriving neighborhood recognized for its range of restaurants and nightlife, and which provides the greatest value among hotels close to Roosevelt Island and Queens. Easily visit the Empire State Building, Central Park, and Broadway Theater District, as well as other well-known tourist destinations in New York City. Alternately, visit the nearby Astoria and Queens areas, which are home to MoMA PS1, the Noguchi Museum, local boutiques, top-notch dining options, and a vibrant nightlife. The hotel is conveniently close to the main New York City airports, including LaGuardia and Kennedy. Also, there are numerous significant train and subway lines nearby for your convenience. Opened 2022 | 182 rooms | 3-star hotel Feel at home at Residence Inn by Marriott New York JFK Airport, the only extended-stay hotel in the neighborhood with a large studio, one-, or two-bedroom suite with a separate living room and a fully functional kitchen. The hotel offers free delivery of groceries to stock your refrigerator and sate your appetite. Enjoy a complimentary delicious breakfast to get your day started right. JFK International Airport shuttle service and WiFi are free of charge. Also, the Belt Parkway, Van Wyck Expressway, and Federal Circle Station, as well as the nearby Resorts World Casino, Belmont Park, Queens Botanical Garden, UBS Arena, St. John’s University, and Arthur Ashe Stadium, are all easily accessible from the hotel. Opened 2022 | 250 rooms | 5-star hotel A post shared by The Ritz-Carlton, NoMad (@ritzcarltonnewyorknomad) The Ritz-Carlton New York, NoMad, offers the best of Manhattan inside, inspiring each visitor’s sense of wonder and imagination. The hotel brings to life the spirit of the new Madison Square Park with bold design, renowned eateries and pubs, and excitement with enhanced specialized hospitality. The hotel’s exquisitely designed furnishings and decor are inspired by the splendor of nature and were created to be a cornerstone of the city’s renowned floral area. The pinnacle of luxury are suites, with their vast living areas ornamented with contemporary designs and decor. Club Lounge guests, meanwhile, benefit from a specialized concierge’s attention and the finest quality gastronomic options all day long. Opened 2022 | 78 rooms | 5-star hotel A post shared by Fouquet’s New York (@fouquets.newyork) In the heart of New York’s style district, discover Hôtel Barrière Fouquet’s New York, the most renowned hotel on the Champs-Élysées, with family-run warmth and a warm personality. You’ll find a traditional brasserie, soigné bar, serene spa, dazzling amphitheater, and stylish, residential-style rooms and suites, all of which were brilliantly designed by Martin Brudnizki with distinctively French flair. Discover the French art of living in the city that never sleeps. Opened 2022 | 208 rooms | 4-star hotel A post shared by Renaissance New York Flushing (@renflushingnyc) The Renaissance New York Flushing Hotel is the center piece of Tangram, a four-phase development that spans two city blocks and is intended to be the hub of Flushing, Queens. The 208-room hotel is located above an 8-plex 4DX theater and is surrounded by upscale condos with a retail area of roughly 30 Asian-style eateries, a beer garden, and a sizable 5,000-square-foot fitness center with an Olympic-sized pool. The minimalist design of the guestrooms is complemented by colorful accents and features amenities that include refrigerators, rain showers, and 55-inch articulating LCD TVs. VIP visitors have access to the hotel’s Club Lounge, which offers small bites and a relaxing atmosphere. Free shuttle service to La Guardia Airport is also provided by the hotel. The hotel’s rooftop restaurant, Prime Met, combines western steakhouse cuisine with Asian flavors and has a whiskey bar and a sake bar. Stay in the heart of Tangram today. Opened 2022 | 116 rooms | 4-star hotel A post shared by Nine Orchard (@nineorchard) Nine Orchard has thoughtfully renovated and rebuilt the century-old Jarmulowsky Bank into an elegant hotel and culinary destination. Housed in a historic Lower East Side landmark, each of the 116 residentially designed hotel rooms offers a peaceful getaway from the busy streets of New York City outside our doors, and each is alive with unique Neo-Renaissance accents and inventive craftsmanship. Ignacio Mattos, a Michelin-starred chef formerly of Manhattan’s Estela, Altro Paradiso, and Lodi, oversees the bar, restaurants, and in-room dining at Nine Orchard. Renowned for his inventive interpretations of traditional cuisine, Mattos adds his distinctive elegance to the culinary experiences at Nine Orchard. Opened 2022 | 180 rooms | 5-star hotel A post shared by The Wall Street Hotel (@wallstreet.hotelnyc) The Wall Street Hotel is located in the Financial District’s safe, tranquil streets. While the neighborhood provides an emerging style, the hotel offers an exquisitely contemporary, pleasant approach to service and hospitality. Visitors are greeted with rooms that are warm and welcoming. Elegant guest rooms and roomy suites are all available, and all of them come with access to the concierge services, gym, and in-room dining. If you are planning a trip to other cities besidesNew York, don’t forget to check out the lists of hotels inDubaiandParis. These cities offer a great selection of accommodations. Whether you are looking for luxury, modern or business hotels, there is something for everyone in these vibrant cities. So why not check out our list to take advantage of the convenience and explore what these cities have to offer? If you have any suggestions on how we can make this page better, please let us know via ourcontact form! We value your feedback and appreciate your help in making sure that this page remains relevant and helpful for everyone.  Subscribe to our newsletter to get all the latest information you need about newly opened hotels! Subscribe to our newsletter to get all the latest information you need about newly opened hotels! ArticleAsiaAustriaBarcelonaChristmas MarketCouponsDealsDisneyEast EuropeEuropeFinlandFranceGermanyGreeceHelsinkiInariItalyKemiKilpisjärviKittiläLeviMalaysiaMunichNorth AmericaNorthern EuropeNorth EuropePenangPortoPortugalPyhäRanuaRomeRovaniemiSaariselkäScandinaviaSoutheastern FranceSouth EuropeSpainSwitzerlandtaipeitaiwanThailandUnited StatesViennaWest Europe Neve| Powered byWordPress Subscribe to our newsletter to get all the latest information you need about newly opened hotels! ArticleAsiaAustriaBarcelonaChristmas MarketCouponsDealsDisneyEast EuropeEuropeFinlandFranceGermanyGreeceHelsinkiInariItalyKemiKilpisjärviKittiläLeviMalaysiaMunichNorth AmericaNorthern EuropeNorth EuropePenangPortoPortugalPyhäRanuaRomeRovaniemiSaariselkäScandinaviaSoutheastern FranceSouth EuropeSpainSwitzerlandtaipeitaiwanThailandUnited StatesViennaWest Europe Neve| Powered byWordPress', 'url': 'https://newhotelguides.com/best-new-hotels-in-new-york/', 'thumbnail_url': 'https://www.bing.com/th?id=OIP.N0bYmmxEDEQLOzdfuNKNYgAAAA&w=80&h=80&c=1&pid=5.1', 'source': None}]\n",
      "retrieval_score: 5.0\n",
      "{\"recommendation\":[{\"hotel_name\":\"Days Inn New York Chinatown\",\"description\":\"Opened in December 2024, located near Chinatown, offering modern accommodations with free breakfast and Wi-Fi.\"},{\"hotel_name\":\"The Manner\",\"description\":\"New upscale hotel in SoHo, opened in September 2024, featuring an in-house restaurant and cocktail bar.\"},{\"hotel_name\":\"Aura Hotel Times Square\",\"description\":\"Opened in August 2024, pet-friendly hotel near Times Square offering a restaurant, bar, and fitness center.\"},{\"hotel_name\":\"The Luxury Collection Hotel\",\"description\":\"New Marriott hotel in Midtown Manhattan, set to open in 2024, featuring upscale accommodations.\"},{\"hotel_name\":\"The Surrey\",\"description\":\"A newly renovated luxury hotel in Upper East Side, opening in 2024 with a spa and gym.\"},{\"hotel_name\":\"SpringHill Suites Manhattan\",\"description\":\"Brand new hotel opened in May 2024 offering 167 accommodations with free daily breakfast.\"},{\"hotel_name\":\"Tru by Hilton Brooklyn\",\"description\":\"New Hilton hotel in Brooklyn, opened in March 2024, featuring modern guest rooms with hot breakfast.\"},{\"hotel_name\":\"Warren Street Hotel\",\"description\":\"A new hotel scheduled to open in 2024, details not specified.\"},{\"hotel_name\":\"Holiday Inn Express Bronx\",\"description\":\"New hotel in the Bronx, set to open in 2024.\"},{\"hotel_name\":\"Waldorf Astoria\",\"description\":\"Historic luxury hotel in Midtown Manhattan undergoing restoration, set to reopen in spring 2025.\"}]}\n",
      "\n",
      "--------------------------------------------------------------------------------\n",
      "UserAgent received final copy:\n",
      "\n",
      "{'hotel_name': 'Days Inn New York Chinatown', 'description': 'Opened in December 2024, located near Chinatown, offering modern accommodations with free breakfast and Wi-Fi.'}\n",
      "{'hotel_name': 'The Manner', 'description': 'New upscale hotel in SoHo, opened in September 2024, featuring an in-house restaurant and cocktail bar.'}\n",
      "{'hotel_name': 'Aura Hotel Times Square', 'description': 'Opened in August 2024, pet-friendly hotel near Times Square offering a restaurant, bar, and fitness center.'}\n",
      "{'hotel_name': 'The Luxury Collection Hotel', 'description': 'New Marriott hotel in Midtown Manhattan, set to open in 2024, featuring upscale accommodations.'}\n",
      "{'hotel_name': 'The Surrey', 'description': 'A newly renovated luxury hotel in Upper East Side, opening in 2024 with a spa and gym.'}\n",
      "{'hotel_name': 'SpringHill Suites Manhattan', 'description': 'Brand new hotel opened in May 2024 offering 167 accommodations with free daily breakfast.'}\n",
      "{'hotel_name': 'Tru by Hilton Brooklyn', 'description': 'New Hilton hotel in Brooklyn, opened in March 2024, featuring modern guest rooms with hot breakfast.'}\n",
      "{'hotel_name': 'Warren Street Hotel', 'description': 'A new hotel scheduled to open in 2024, details not specified.'}\n",
      "{'hotel_name': 'Holiday Inn Express Bronx', 'description': 'New hotel in the Bronx, set to open in 2024.'}\n",
      "{'hotel_name': 'Waldorf Astoria', 'description': 'Historic luxury hotel in Midtown Manhattan undergoing restoration, set to reopen in spring 2025.'}\n",
      "Elapsed time: 17.31449794396758 seconds\n"
     ]
    }
   ],
   "source": [
    "import time\n",
    "\n",
    "start_time = time.perf_counter()\n",
    "\n",
    "runtime.start()\n",
    "\n",
    "await runtime.publish_message(Message(query=\"Can you recommend the newest Openings Hotels in Manhattan Midtown 2024?\", source=\"User\"), topic_id=TopicId(type=user_query_topic_type, source=\"user\"))\n",
    "\n",
    "await runtime.stop_when_idle()\n",
    "\n",
    "\n",
    "end_time = time.perf_counter()\n",
    "print(f\"Elapsed time: {end_time - start_time} seconds\")"
   ]
  },
  {
   "cell_type": "markdown",
   "id": "2cda1a04",
   "metadata": {},
   "source": []
  },
  {
   "cell_type": "markdown",
   "id": "eea3e223",
   "metadata": {},
   "source": []
  }
 ],
 "metadata": {
  "kernelspec": {
   "display_name": "venv",
   "language": "python",
   "name": "python3"
  },
  "language_info": {
   "codemirror_mode": {
    "name": "ipython",
    "version": 3
   },
   "file_extension": ".py",
   "mimetype": "text/x-python",
   "name": "python",
   "nbconvert_exporter": "python",
   "pygments_lexer": "ipython3",
   "version": "3.10.15"
  }
 },
 "nbformat": 4,
 "nbformat_minor": 5
}
