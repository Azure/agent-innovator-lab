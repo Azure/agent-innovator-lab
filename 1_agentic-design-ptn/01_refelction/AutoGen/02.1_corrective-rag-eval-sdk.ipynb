{
 "cells": [
  {
   "cell_type": "markdown",
   "id": "c26ab996",
   "metadata": {},
   "source": [
    "# Corrective RAG (CRAG)\n",
    "---\n",
    "\n",
    "### What is Corrective RAG?\n",
    "\n",
    "Corrective RAG (CRAG) is a methodology that adds a step to the RAG (Retrieval Augmented Generation) strategy to evaluate the documents found during the search process and refine the knowledge. This includes a series of processes to check the search results before generation and, if necessary, perform auxiliary searches to generate high-quality answers.\n",
    "\n",
    "- Retrieval Grader: Evaluates the relevance of retrieved documents and assigns a score to each document.\n",
    "- Web Search Integration: If quality of retrieved documents is low, CRAG uses web searches to augment retrieval results. It optimizes search results through query rewriting.\n",
    "\n",
    "**Reference**\n",
    "\n",
    "- [Corrective RAG paper](https://arxiv.org/pdf/2401.15884)  "
   ]
  },
  {
   "cell_type": "code",
   "execution_count": 1,
   "id": "b6458235",
   "metadata": {},
   "outputs": [
    {
     "data": {
      "text/plain": [
       "True"
      ]
     },
     "execution_count": 1,
     "metadata": {},
     "output_type": "execute_result"
    }
   ],
   "source": [
    "from dotenv import load_dotenv\n",
    "import os\n",
    "import json\n",
    "from azure.core.credentials import AzureKeyCredential\n",
    "from azure.identity import DefaultAzureCredential\n",
    "from azure.search.documents import SearchClient\n",
    "from azure.search.documents.models import VectorizableTextQuery\n",
    "from azure.ai.evaluation import GroundednessEvaluator, RelevanceEvaluator, RetrievalEvaluator\n",
    "from autogen_ext.models.openai import AzureOpenAIChatCompletionClient\n",
    "from autogen_core.models import ChatCompletionClient, SystemMessage, UserMessage, AssistantMessage\n",
    "from autogen_core import MessageContext, RoutedAgent, SingleThreadedAgentRuntime, TopicId, message_handler, type_subscription\n",
    "from pydantic import BaseModel\n",
    "from typing import List\n",
    "from dataclasses import dataclass\n",
    "\n",
    "\n",
    "load_dotenv(\"../../../.env\")"
   ]
  },
  {
   "cell_type": "code",
   "execution_count": 2,
   "id": "05d7dfed",
   "metadata": {},
   "outputs": [],
   "source": [
    "# Get the environment variables\n",
    "azure_ai_search_endpoint = os.getenv(\"AZURE_SEARCH_SERVICE_ENDPOINT\")\n",
    "search_credential = AzureKeyCredential(os.getenv(\"AZURE_SEARCH_ADMIN_KEY\", \"\")) if len(os.getenv(\"AZURE_SEARCH_ADMIN_KEY\", \"\")) > 0 else DefaultAzureCredential()\n",
    "index_name = os.getenv(\"AZURE_SEARCH_INDEX_NAME\", \"hotels-sample-index\")\n",
    "\n",
    "azure_openai_endpoint = os.getenv(\"AZURE_OPENAI_ENDPOINT\")\n",
    "azure_openai_key = os.getenv(\"AZURE_OPENAI_API_KEY\", \"\") if len(os.getenv(\"AZURE_OPENAI_API_KEY\", \"\")) > 0 else None\n",
    "azure_openai_chat_deployment_name = os.getenv(\"AZURE_OPENAI_CHAT_DEPLOYMENT_NAME\")\n",
    "azure_openai_embedding_deployment_name = os.getenv(\"AZURE_OPENAI_EMBEDDING_DEPLOYMENT_NAME\", \"text-embedding-ada-002\")\n",
    "openai_api_version = os.getenv(\"OPENAI_API_VERSION\", \"2024-06-01\")\n",
    "\n",
    "bing_subscription_key = os.getenv(\"BING_SUBSCRIPTION_KEY\", \"\") if len(os.getenv(\"BING_SUBSCRIPTION_KEY\", \"\")) > 0 else None\n",
    "\n",
    "model_config = {\n",
    "    \"azure_endpoint\": azure_openai_endpoint,\n",
    "    \"api_key\": azure_openai_key,\n",
    "    \"azure_deployment\": azure_openai_chat_deployment_name,\n",
    "    \"api_version\": openai_api_version,\n",
    "    \"type\": \"azure_openai\",\n",
    "}"
   ]
  },
  {
   "cell_type": "markdown",
   "id": "5ec192a9",
   "metadata": {},
   "source": [
    "## 🧪 Step 1. Test and Construct each module\n",
    "---\n",
    "\n",
    "Before building the entire the graph pipeline, we will test and construct each module separately.\n",
    "\n",
    "- **Retrieval Grader**\n",
    "- **Answer Generator**\n",
    "- **Question Re-writer**\n",
    "- **Web Search Tool**\n",
    "\n",
    "### Construct Retrieval Chain based on PDF\n",
    "- We use the hotels-sample-index, which can be created in minutes and runs on any search service tier. This index is created by a wizard using built-in sample data."
   ]
  },
  {
   "cell_type": "code",
   "execution_count": 3,
   "id": "4cde195c",
   "metadata": {},
   "outputs": [
    {
     "name": "stdout",
     "output_type": "stream",
     "text": [
      "Lion's Den Inn:Full breakfast buffet for 2 for only $1. Excited to show off our room upgrades, faster high speed WiFi, updated corridors & meeting space. Come relax and enjoy your stay.:['laundry service', 'free wifi', 'restaurant']\n",
      "Lakefront Captain Inn:Every stay starts with a warm cookie. Amenities like the Counting Sheep sleep experience, our Wake-up glorious breakfast buffet and spacious workout facilities await.:['restaurant', 'laundry service', 'coffee in lobby']\n",
      "Starlight Suites:Complimentary Airport Shuttle & WiFi. Book Now and save - Spacious All Suite Hotel, Indoor Outdoor Pool, Fitness Center, Florida Green certified, Complimentary Coffee, HDTV:['pool', 'coffee in lobby', 'free wifi']\n"
     ]
    }
   ],
   "source": [
    "azure_ai_search_endpoint = os.getenv(\"AZURE_SEARCH_SERVICE_ENDPOINT\")\n",
    "azure_search_admin_key = os.getenv(\"AZURE_SEARCH_ADMIN_KEY\", \"\")\n",
    "search_client = SearchClient(\n",
    "    endpoint=azure_ai_search_endpoint,\n",
    "    index_name=index_name,\n",
    "    credential=AzureKeyCredential(azure_search_admin_key),\n",
    "    semantic_configuration_name='my-semantic-config', \n",
    ")\n",
    "\n",
    "# Query is the question being asked. It's sent to the search engine and the LLM.\n",
    "query=\"Can you recommend a few hotels with complimentary breakfast?\"\n",
    "\n",
    "fields = \"descriptionVector\" # TODO: Check if this is the correct field name\n",
    "# don't use exhaustive search for large indexes\n",
    "vector_query = VectorizableTextQuery(text=query, k_nearest_neighbors=2, fields=fields, exhaustive=True)\n",
    "\n",
    "# Search results are created by the search client.\n",
    "# Search results are composed of the top 3 results and the fields selected from the search index.\n",
    "# Search results include the top 3 matches to your query.\n",
    "search_results = search_client.search(\n",
    "    search_text=query,\n",
    "    vector_queries= [vector_query],\n",
    "    select=\"Description,HotelName,Tags\",\n",
    "    top=3,\n",
    ")\n",
    "sources_formatted = \"\\n\".join([f'{document[\"HotelName\"]}:{document[\"Description\"]}:{document[\"Tags\"]}' for document in search_results])\n",
    "\n",
    "print(sources_formatted)"
   ]
  },
  {
   "cell_type": "markdown",
   "id": "083d39ad",
   "metadata": {},
   "source": [
    "### Define your LLM\n",
    "\n",
    "This hands-on only uses the `gpt-4o-mini`, but you can utilize multiple models in the pipeline."
   ]
  },
  {
   "cell_type": "code",
   "execution_count": 4,
   "id": "18d3a8f8",
   "metadata": {},
   "outputs": [],
   "source": [
    "# aoai_client = AzureOpenAI(\n",
    "#     azure_endpoint=azure_openai_endpoint,\n",
    "#     api_key=azure_openai_key,\n",
    "#     api_version=openai_api_version,\n",
    "# )\n",
    "\n",
    "# This is not the same object as the one above. This is the client that is used to interact with the Azure OpenAI Chat API.\n",
    "autogen_aoai_client = AzureOpenAIChatCompletionClient(\n",
    "    azure_endpoint=azure_openai_endpoint,\n",
    "    model = azure_openai_chat_deployment_name,\n",
    "    api_version=openai_api_version,\n",
    "    api_key=azure_openai_key\n",
    ")"
   ]
  },
  {
   "cell_type": "markdown",
   "id": "65ec10e5",
   "metadata": {},
   "source": [
    "### Question-Retrieval Grader\n",
    "\n",
    "Construct a retrieval grader that evaluates the relevance of the retrieved documents to the input question. The retrieval grader should take the input question and the retrieved documents as input and output a relevance score for each document.<br>\n",
    "Note that the retrieval grader should be able to handle **multiple documents** as input."
   ]
  },
  {
   "cell_type": "code",
   "execution_count": 5,
   "id": "5c85e4c2",
   "metadata": {},
   "outputs": [
    {
     "name": "stdout",
     "output_type": "stream",
     "text": [
      "{'retrieval': 5.0, 'gpt_retrieval': 5.0, 'retrieval_reason': 'The context chunks contain relevant information about hotels that offer complimentary breakfast, with the most pertinent chunks appearing at the top of the list. Therefore, the retrieval quality is high.'}\n"
     ]
    },
    {
     "data": {
      "text/plain": [
       "5.0"
      ]
     },
     "execution_count": 5,
     "metadata": {},
     "output_type": "execute_result"
    }
   ],
   "source": [
    "retrieval_eval  = RetrievalEvaluator(model_config)\n",
    "\n",
    "query_response = dict(\n",
    "    query=query,\n",
    "    context=sources_formatted\n",
    ")\n",
    "\n",
    "relevance_score = retrieval_eval(\n",
    "    **query_response\n",
    ")\n",
    "print(relevance_score)\n",
    "relevance_score['retrieval']\n"
   ]
  },
  {
   "cell_type": "markdown",
   "id": "702b7f87",
   "metadata": {},
   "source": [
    "### Answer Generator\n",
    "\n",
    "Construct a LLM Generation node. This is a Naive RAG chain that generates an answer based on the retrieved documents. \n",
    "\n",
    "We recommend you to use more advanced RAG chain for production"
   ]
  },
  {
   "cell_type": "code",
   "execution_count": 6,
   "id": "2168105c",
   "metadata": {},
   "outputs": [],
   "source": [
    "from pydantic import BaseModel\n",
    "from typing import List\n",
    "\n",
    "class HotelInfo(BaseModel):\n",
    "    hotel_name: str\n",
    "    description: str\n",
    "\n",
    "class RecommendationList(BaseModel):\n",
    "    recommendation: List[HotelInfo]"
   ]
  },
  {
   "cell_type": "code",
   "execution_count": 7,
   "id": "d080f695",
   "metadata": {},
   "outputs": [
    {
     "name": "stdout",
     "output_type": "stream",
     "text": [
      "{'hotel_name': \"Lion's Den Inn\", 'description': 'Full breakfast buffet for 2 for only $1. Excited to show off our room upgrades.'}\n",
      "{'hotel_name': 'Lakefront Captain Inn', 'description': 'Amenities like the Counting Sheep sleep experience and our Wake-up glorious breakfast buffet.'}\n",
      "{'hotel_name': 'Starlight Suites', 'description': 'Complimentary Airport Shuttle & WiFi, Complimentary Coffee.'}\n"
     ]
    }
   ],
   "source": [
    "# This prompt provides instructions to the model\n",
    "GROUNDED_PROMPT=\"\"\"\n",
    "You are a friendly assistant that recommends hotels based on activities and amenities.\n",
    "Answer the query using only the context provided below in a friendly and concise bulleted manner.\n",
    "Answer ONLY with the facts listed in the list of context below.\n",
    "If there isn't enough information below, say you don't know.\n",
    "Generate a response that includes the top 3 results.\n",
    "Do not generate answers that don't use the context below.\n",
    "Query: {query}\n",
    "Context:\\n{context}\n",
    "\"\"\"\n",
    "\n",
    "# Send the search results and the query to the LLM to generate a response based on the prompt.\n",
    "response = await autogen_aoai_client.create(\n",
    "        messages = [\n",
    "        UserMessage(content=GROUNDED_PROMPT.format(query=query, context=sources_formatted), source=\"user\"),\n",
    "    ],\n",
    "        extra_create_args={\"response_format\": RecommendationList},\n",
    ")\n",
    "\n",
    "response_content = json.loads(response.content)\n",
    "for recommendation in response_content['recommendation']:\n",
    "    print(recommendation)"
   ]
  },
  {
   "cell_type": "markdown",
   "id": "fd05275c",
   "metadata": {},
   "source": [
    "### Keyword Re-writer\n",
    "\n",
    "Construct a `keyword_rewriter` agent to rewrite the question as the search keyword."
   ]
  },
  {
   "cell_type": "code",
   "execution_count": 8,
   "id": "806f6d04",
   "metadata": {},
   "outputs": [
    {
     "name": "stdout",
     "output_type": "stream",
     "text": [
      "\"best hotels offering complimentary breakfast options\"\n"
     ]
    }
   ],
   "source": [
    "query=\"Can you recommend a few hotels with complimentary breakfast?\"\n",
    "\n",
    "# This prompt provides instructions to the model\n",
    "KEYWORD_REWRITE_PROMPT=\"\"\"\n",
    "You a keyword re-writer that converts an input question to a better version that is optimized for search. \n",
    "Generate search keyword from a user query \n",
    "to be more specific, detailed, and likely to retrieve relevant information, allowing for a more accurate response through web search.\n",
    "Don't include the additional context from the user question.\n",
    "\n",
    "Query: {query}\n",
    "Revised web search query:\n",
    "\"\"\"\n",
    "\n",
    "# Send the search results and the query to the LLM to generate a response based on the prompt.\n",
    "response = await autogen_aoai_client.create(\n",
    "        messages = [\n",
    "        UserMessage(content=KEYWORD_REWRITE_PROMPT.format(query=query), source=\"user\"),\n",
    "    ]\n",
    ")\n",
    "\n",
    "\n",
    "# Here is the response from the chat model.\n",
    "print(response.content)"
   ]
  },
  {
   "cell_type": "markdown",
   "id": "00a7d8b2",
   "metadata": {},
   "source": [
    "### Web Search Tool\n",
    "\n",
    "Web search tool is used to enhance the context. <br>\n",
    "\n",
    "It is used when all the documents do not meet the relevance threshold or the evaluator is not confident."
   ]
  },
  {
   "cell_type": "code",
   "execution_count": 9,
   "id": "e5444bcf",
   "metadata": {},
   "outputs": [],
   "source": [
    "from azure_genai_utils.tools import BingSearch\n",
    "\n",
    "WEB_SEARCH_FORMAT_OUTPUT = False\n",
    "\n",
    "web_search_tool = BingSearch(\n",
    "    max_results=3,\n",
    "    locale=\"en-US\",\n",
    "    include_news=False,\n",
    "    include_entity=False,\n",
    "    format_output=WEB_SEARCH_FORMAT_OUTPUT,\n",
    ")"
   ]
  },
  {
   "cell_type": "code",
   "execution_count": 10,
   "id": "595b71f8",
   "metadata": {},
   "outputs": [
    {
     "name": "stdout",
     "output_type": "stream",
     "text": [
      "This page was last updated: 2024-12-19 Best new hotels in NYC (New York City)\n",
      "- Days Inn New York Chinatown (Dec 2024)\n",
      "- The Manner (2024) - Aura Hotel Times Square (2024) - The Luxury Collection Hotel (2024) - The Surrey (2024) - SpringHill Suites Manhattan (2024) -\n",
      "Tru by Hilton\n",
      "Brooklyn\n",
      "(2024) -\n",
      "Warren Street Hotel (2024) - Holiday Inn Express Bronx (2024)﻿ - Waldorf Astoria (Reopening 2025)... Newest Hotels in New York City 2024 Hotel near Chinatown opened in December 2024 This new Days Inn hotel near Chinatown was opened in December 2024. The\n",
      "Days Inn\n",
      "is located on Eldridge Street, offering modern guest accommodations that come with a free breakfast, free Wi-Fi, a\n",
      "business center, and a fitness center. Read Reviews / Check Prices New Hotel in\n",
      "SoHo\n",
      "NYC opened in September 2024 This new upscale hotel in NYC is located on Thompson Street in the SoHo neighborhood of Lower Manhattan. The Manner offers a total of 97 guest rooms or suites and features an in-house restaurant and a cocktail bar. Read Reviews / Check Prices New Hotel in Times Square opened in August 2024 This new hotel near Times Square in Manhattan is located on W 44th Street, offering recently renovated guest accommodations (it was formerly the Mela Hotel). The pet-friendly Aura Hotel features an in-house restaurant, a bar, free Wi-Fi, and a fitness center. Read Reviews / Check Prices New Marriott Luxury Hotel in Midtown Manhattan 2024 Formerly the Conrad Hotel, this new Marriott hotel is located on 54th Street close to the southern end of Central Park, offering a range of upscale guest rooms, suites, and apartments. The Luxury Collection Hotel features an in-house restaurant, room service, a fitness center, free Wi-Fi, and valet parking (fees apply). Read Reviews / Check Prices Newly Renovated Luxury Hotel in\n",
      "Upper East Side\n",
      "Manhattan 2024 This newly renovated luxury hotel has recently reopened again. The Surrey is located close to Central Park in the Upper East Side of Manhattan, offering a total of 100 luxurious guest rooms or suites, in-house restaurants, a spa, and a gym. Read Reviews / Check Prices New Hotel in Times Square opened in May 2024 This brand new Marriott hotel in Times Square New York was opened in May 2024 offering 167 guest accommodations that include a free daily breakfast. Read Reviews / Check Prices New Hotel in Brooklyn opened in 2024 This new Hilton hotel in Brooklyn was recently opened in March 2024 offering modern guest rooms that come with a free hot breakfast.Read more... Read Reviews / Check Prices New Luxury NYC Hotel opened in February 2024 This new luxury hotel in the Tribeca neighborhood of Manhattan, NYC, offers a total of 69 individually designed guest rooms, suites, and residences and features an in-house restaurant and bar. Read Reviews / Check Prices New IHG Hotel in the Bronx NYC opening soon in 2024 This new InterContinental Hotels Group hotel in the Bronx NYC was opened in 2024.Read more... Luxury Hilton Hotel in NYC reopening in 2025 This historic luxury hotel in the\n",
      "Midtown Manhattan\n",
      "area of New York City is currently undergoing a transformative restoration and is due to reopen in the spring of 2025. Read Reviews / Check Prices Hotels in NYC Opened in 2023 Marriott Hotel in Chelsea NYC opened in November 2023 This new Marriott hotel in Chelsea, Manhattan, New York City, was opened in November. The Aloft New York Chelsea is located at 132 West 28th Street, half a mile away from Chelsea Park and the Empire State Building. At the property there are 234 guest accommodations, a bar, a fitness center, free Wi-Fi and a meeting room. Luxury Hotel in NYC opened in October 2023 This new luxury hotel in Midtown Manhattan was opened in October. The Fifth Avenue Hotel is located in the heart of Midtown in the NoMad district, just a few minutes walk away from Madison Square Park and a little over 5 minutes walk away from the Empire State Building. At the property you will find a range of upscale accommodations in spacious guest rooms or suites, their signature restaurant - Café Carmellini, and The Portrait Bar. Hilton Hotel near Times Square opened in October 2023 This new all-suites hotel near Times Square has been opened by Hilton in October. The Home2 Suites by Hilton New York Times Square is located just a couple of minutes walk away from Times Square and 5 minutes walk away from the Theater District. The pet-friendly property offers accommodation in spacious suites that come with a kitchenette/kitchen, a free daily breakfast, free Wi-Fi, and features a rooftop lounge, a lobby bar, a fitness center, a business center, and valet parking (fees apply). Boutique Hotel in New York City opened in September 2023 This new luxury hotel in Midtown Manhattan was opened by InterContinental Hotels Group (IHG) in September. The Kimpton Theta Hotel is located along 8th Avenue, around 5 minutes walk away from Times Square, the Broadway Theater, the Gershwin Theater, and many other nearby attractions. At this pet-friendly new boutique hotel, you will find upscale accommodation in spacious guest rooms or suites, a fitness center, valet parking (fees apply), a rooftop restaurant - Bar Sprezzatura, Café Otto, evening socials, and room service. Hotel in Hell's Kitchen NYC opened in September 2023 This brand new hotel in Hell's Kitchen in the West Side of Midtown Manhattan was recently opened in September. The Romer Hell's Kitchen Hotel is located just a few minutes walk away from the Broadway Theater District, offering accommodation in a choice of stylish guest rooms or suites. At the pet-friendly property, you will find the all-day cafe - Hell’s Kitchen Neighborhood Café, the Corner Store, So & So’s speakeasy restaurant and piano bar, and valet parking (fees apply). Hilton Hotel near Times Square opened in September 2023 This new hotel in the Times Square area of Midtown Manhattan was opened by Hilton in September. The Motto by Hilton New York City Times Square Hotel is located just a few minutes walk away from Times Square, Radio City Music Hall, M&M World, and the Rockefeller Center. The property offers a range of fairly compact, pet-friendly guest rooms (connecting rooms available) and features a fitness center and free Wi-Fi internet access. Hotel in\n",
      "Midtown Manhattan\n",
      "opened in August 2023 This new hotel in Midtown West NYC was opened by Marriott in August offering 310 modern guest rooms over 32 floors. The Delta Hotels by Marriott Times Square Hotel is located within walking distance of Times Square, Madison Square Garden and Madame Tussauds. At the hotel you will find a full-service restaurant - George’s Nephew, The George - Lobby Bar, a coffee house, room service, a fitness center, a business center, off-site parking / valet parking (fees apply) and free Wi-Fi internet access for guests. Hotel in Times Square NYC opened in August 2023 This new hotel in Times Square was opened by Hilton in August offering a good central location just a minute away from Times Square and 5 minutes walk away from the Theater District. The Tempo by Hilton New York Times Square features a wide choice of guest rooms or suites, an on-site restaurant,\n",
      "the Highball cocktail bar that overlooks Times Square,\n",
      "a fitness center, valet parking (fees apply) and free Wi-Fi internet access. Hotel in Harlem NY opened in August 2023 This new hotel in Harlem, New York was recently opened by Marriott in August. The Renaissance New York Harlem Hotel offers a total of 211 stylish guest rooms and features a rooftop bar and an in-house restaurant and bar. Hotel in Downtown Manhattan opened in March 2023 The Fidi Hotel is new hotel in the financial district of New York City that was recently opened in March, offering a total of\n",
      "131\n",
      "modern guest rooms and suites. Marriott Hotel in Williamsburg opened in March 2023 The Moxy Brooklyn Williamsburg is a new Marriott hotel in Brooklyn, NY recently opened in March.Read more... See all new hotels in Brooklyn here > Virgin Hotel NYC opened in February 2023 This new upscale hotel in NoMad, in the heart of Midtown Manhattan, was opened in February, offering a range of upmarket guest rooms (chambers) and suites. Virgin Hotels New York City is located less than 10 minutes walk away from the Empire State Building. At the property you will find multiple dining and drinking outlets, a seasonal pool and bar, a state-of-the-art fitness center, meeting and event spaces, and room service. Hotels in NYC Opened in 2022 Hotel in Lower Manhattan opened in December 2022 This new hotel in the Financial District of Lower Manhattan was recently opened by IHG. The Hotel Indigo NYC Financial District offers 180 stylish guest accommodations and features the\n",
      "Half Moon\n",
      "restaurant and lounge. Hotel in Soho opened in December 2022 This newly built hotel in SoHo, NYC that was recently opened in December. The Best Western Plus Soho Hotel offers modern guest rooms that come with a free breakfast included in the price of your stay. Hotel on Fifth Avenue NYC opened in December 2022 Le Méridien is new Marriott hotel on 5th Avenue that was recently opened in December, offering 165 upmarket guest rooms and 17 luxurious suites. Hotel LES, New York opened in November 2022 This brand new Marriott hotel in SoHo, Lower Manhattan was recently opened in early November. The Moxy NYC Lower East Side offers 303 guest accommodations and features 5 on-site restaurants and bars. Luxury Hotel in Midtown Manhattan NYC opened in November 2022 This new upscale hotel in Mahattan was opened in November. The Grayson Hotel offers 296 rooms or suites and features three restaurants / bars and a fitness centre. Hotel near JFK Airport opened in November 2022 This new Marriott hotel near JFK Airport was opened on November. The Residence Inn by Marriott New York JFK Airport offers spacious, extended-stay accommodation with studio, one and two bedroom suites that come with a full kitchen and a complimentary breakfast included in the price. Luxury Hotel in Tribeca, Lower Manhattan opened in September 2022 The Hôtel Barrière Fouquet's is new top luxury hotel in Tribeca, Lower Manhattan, New York City offering a total of 97 residential-style guest rooms and suites. Top Luxury Hotel in NYC opened in August 2022 This new luxurious hotel is located in the North of Madison (NoMad) neighborhood of NYC and offers a total of 250 upmarket guest rooms and luxurious suites. The Ritz-Carlton New York, NoMad features two on-site restaurants and bars, a luxury spa, a 24-hour fitness center, and 10,000 sq. ft. of both indoor and outdoor event spaces. Luxury Suites Hotel in Manhattan opened in July 2022 Aman New York is a new luxury suites hotel housed in the Crown Building located on the corner of 5th Avenue and 57th Street. The property offers a total of 83 suites with Japanese-inspired interiors. Luxury Residence Club in New York City opened in July 2022 5th & 55th was opened in July. This new Residence Club is housed within the St. Regis Hotel New York offering luxurious accommodation in studio, one-bedroom and two-bedroom residences that include a 24-hour personal butler service. Hotel in Lower East Side of Manhattan opened in June 2022 This new hotel in LES is a recently opened luxury accommodation housed in a restored Beaux-Arts building originally built in 1912. The Nine Orchard Hotel offers 116 upscale guest rooms and features the\n",
      "Corner Bar restaurant. 5 Star Hotel in New York City opened in June 2022 This new 5-star hotel in New York City was recently opened on June 1. Located on Wall Street in the Financial District of NYC, the Wall Street Hotel offers 180 luxury guest rooms and suites. Hotel in the NoMad Neighborhood NYC\n",
      "opened in June 2022 The Ned NoMad is a new upscale hotel and members' club located in NoMad, Manhattan. Housed in the Johnston Building, the historic property offers a total of 167 guest accommodations. Hotel in Midtown NYC opened in April 2022 The new Hard Rock Hotel in New York City was opened in April. Located in Midtown Manhattan, the 36-storey property offers 446 guestrooms and suites, and features the RT60 rooftop bar and lounge, the NYY Steak Restaurant, Sessions Restaurant & Bar and various entertainment venues. We try to keep our pages about new hotels in NYC as\n",
      "up-to-date as possible and will be updating this page when any new\n",
      "hotels open or when any upcoming hotels in NYC open for reservation.\n",
      "However, if you know of any good quality, recently opened new hotels\n",
      "not mentioned in the list above, or you are the owner / manager of an\n",
      "upcoming hotel in New York City opening soon and want some publicity for your\n",
      "grand opening, you cancontact us hereand let us know the details so that we can possibly add your property to our site. Find more new hotels in New York Albany-Bronx-Brooklyn-Flushing-New York City-Queens-Rochester New hotels opened in popular destinations around the USA: Albuquerque-Amarillo-Anaheim (Disneyland)-Anchorage-Atlanta-Austin-Baltimore-Baton Rouge-Birmingham-Boise-Boston-Boulder-Charleston-Charlotte-Cheyenne-Chicago-Cincinnati-Colorado Springs-Columbus-Dallas-Delaware-Des Moines-Destin-Detroit-Denver-Flagstaff-Fargo-Florence-Fort Lauderdale-Fort Worth-Hawaii-Hilton Head-Hollywood-Houston-Indianapolis-Jackson-Kansas City-Las Vegas-Lexington-Little Rock-Los Angeles-Lubbock-Manchester-Memphis-Miami-Miami Beach-Milwaukee-Minneapolis-Montana-Montgomery-Morgantown-Myrtle Beach-Nashville-New Haven-New Jersey-New Orleans-New York City-Oklahoma City-Omaha-Orlando-Philadelphia-Phoenix-Portland (ME)-Portland (OR)-Providence-Raleigh-Reno-Richmond-St Louis-Sacramento-Salt Lake City-San Antonio-San Diego-San Francisco-San Jose-Savannah-Scottsdale-Seattle-Sedona-Sioux Falls-Tacoma-Tallahassee-Tampa-Tucson-Tuscaloosa-Vermont-Virginia Beach-Waco-Washington-Wilmington See more destinations in the USA > Find new hotels opened in popular destinations in Canada: Banff-Calgary-Halifax-Montreal-Ottawa-Toronto-Vancouver Find the latest hotels opened in popular destinations in Mexico: Cancun-Los Cabos-Mazatlan-Mexico City-Playa del Carmen-Puerto Vallarta-Riviera Maya-San Miguel de Allende-Tulum Find the latest hotels opened in popular destinations in the Caribbean: Aruba-Antigua-Curacao-Dominican Republic-Jamaica-Puerto Rico-Santo Domingo-Turks & Caicos Others in this area:Costa Rica Other Destinations: Mauritius-Seychelles Home Page Copyright © 2025 Privacy Policy / Disclaimer\n"
     ]
    }
   ],
   "source": [
    "query = \"Newest Openings Hotels in NYC 2024 2025?\"\n",
    "results = web_search_tool.invoke({\"query\": query})\n",
    "print(results[0].get(\"content\", \"No content\"))"
   ]
  },
  {
   "cell_type": "markdown",
   "id": "f08d720d",
   "metadata": {},
   "source": [
    "<br>\n",
    "\n",
    "## 🧪 Step 2. Define the Agentic Architecture\n",
    "- Before building the agentic pipeline, we need to design the message, topic, agent and message routing logic. \n",
    "- You should define the terminate condition for the pipeline.\n",
    "\n",
    "### Message, Topic, Agent Definition\n",
    "\n",
    "```markdown\n",
    "```python\n",
    "\n",
    "# Message Definition\n",
    "@dataclass\n",
    "class Message:\n",
    "    query: str = None\n",
    "    context: str = None\n",
    "    response: str = None\n",
    "    source: str = None\n",
    "\n",
    "\n",
    "# Topic Definition\n",
    "user_query_topic_type = \"UserQueryTopic\"\n",
    "rewrite_topic_type = \"RewriteQueryTopic\"\n",
    "generate_topic_type = \"GenerateTopic\"\n",
    "web_search_topic_type = \"WebSearchTopic\"\n",
    "user_topic_type = \"UserAgent\"\n",
    "\n",
    "# Agent Definition\n",
    "class RetrievalGraderAgent(RoutedAgent):\n",
    "class KeywordRewriteAgent(RoutedAgent):\n",
    "class GenerateAgent(RoutedAgent):\n",
    "class WebSearchAgent(AssistantAgent):\n",
    "class UserAgent(AssistantAgent):\n",
    "\n",
    "# Message Routing Definition\n",
    "user_query_topic -> RetrievalGraderAgent -> KeywordRewriteAgent -> WebSearchAgent-> GenerateAgent -> UserAgent\n",
    "                                         -> GenerateAgent -> EvalAgent -> UserAgent\n",
    "\n",
    "\n",
    "```\n",
    "```"
   ]
  },
  {
   "cell_type": "code",
   "execution_count": 11,
   "id": "87d1f724",
   "metadata": {},
   "outputs": [],
   "source": [
    "@dataclass\n",
    "class Message:\n",
    "    query: str = None\n",
    "    context: str = None\n",
    "    response: str = None\n",
    "    source: str = None\n",
    "    def set_source(self, source: str) -> \"Message\":\n",
    "        self.source = source\n",
    "        return self\n",
    "\n",
    "# Topic Definition\n",
    "user_query_topic_type = \"UserQueryTopic\"\n",
    "keyword_rewrite_topic_type = \"KeywordRewriteTopic\"\n",
    "generate_topic_type = \"GenerateTopic\"\n",
    "websearch_topic_type = \"WebSearchTopic\"\n",
    "user_topic_type = \"UserAgent\""
   ]
  },
  {
   "cell_type": "code",
   "execution_count": 12,
   "id": "883dde68",
   "metadata": {},
   "outputs": [],
   "source": [
    "\n",
    "@type_subscription(topic_type=user_query_topic_type)\n",
    "class RAGGraderAgent(RoutedAgent):\n",
    "\n",
    "    def __init__(\n",
    "            self, \n",
    "            azure_ai_search_endpoint:str, \n",
    "            azure_search_admin_key:str,\n",
    "            index_name: str,\n",
    "            retrieval_evaluator: RetrievalEvaluator,\n",
    "            ) -> None:\n",
    "        \n",
    "        super().__init__(\"RAG Grader Agent\")\n",
    "        self.index_name = index_name\n",
    "        self.azure_ai_search_endpoint = azure_ai_search_endpoint\n",
    "        self.azure_search_admin_key = azure_search_admin_key\n",
    "        self.retrieval_evaluator = retrieval_evaluator\n",
    "\n",
    "    def config_search(self) -> SearchClient:\n",
    "        service_endpoint = self.azure_ai_search_endpoint\n",
    "        key = self.azure_search_admin_key\n",
    "        index_name = self.index_name\n",
    "        credential = AzureKeyCredential(key)\n",
    "        return SearchClient(endpoint=service_endpoint, index_name=index_name, credential=credential)\n",
    "\n",
    "    async def do_search(self, query: str) -> str:\n",
    "        \"\"\"Search indexed data using Azure Cognitive Search with vector-based queries.\"\"\"\n",
    "        aia_search_client = self.config_search()\n",
    "\n",
    "        fields = \"descriptionVector\" # TODO: Check if this is the correct field name\n",
    "        # don't use exhaustive search for large indexes\n",
    "        vector_query = VectorizableTextQuery(text=query, k_nearest_neighbors=1, fields=fields, exhaustive=True)\n",
    " \n",
    "        search_results = aia_search_client.search(  \n",
    "            search_text=query,  \n",
    "            vector_queries= [vector_query],\n",
    "            select=[\"Description,HotelName,Tags\"], #TODO: Check if these are the correct field names\n",
    "            top=3 #TODO: Check if this is the correct number of results\n",
    "        )\n",
    "        answer = \"\\n\".join([f'{document[\"HotelName\"]}:{document[\"Description\"]}:{document[\"Tags\"]}' for document in search_results])  \n",
    "        return answer\n",
    "    \n",
    "    @message_handler\n",
    "    async def handle_message(self, message: Message, ctx: MessageContext) -> None:\n",
    "        \n",
    "        context_from_ai_search = await self.do_search(message.query)\n",
    "        print(context_from_ai_search)\n",
    "\n",
    "        query_response = dict(\n",
    "            query=query,\n",
    "            context=context_from_ai_search\n",
    "        )\n",
    "\n",
    "        retrieval_score = self.retrieval_evaluator (\n",
    "            **query_response\n",
    "        )\n",
    "\n",
    "        print(f\"retrieval_score: {retrieval_score['retrieval']}\")\n",
    "       \n",
    "        if(retrieval_score[\"retrieval\"] >= 3.0):\n",
    "            await self.publish_message(Message(query=query, context=context_from_ai_search, source=message.source), topic_id=TopicId(type=generate_topic_type, source=message.source))\n",
    "        else:\n",
    "            await self.publish_message(Message(query=query, context=context_from_ai_search, source=message.source), topic_id=TopicId(type=keyword_rewrite_topic_type, source=message.source))"
   ]
  },
  {
   "cell_type": "code",
   "execution_count": 13,
   "id": "452355a4",
   "metadata": {},
   "outputs": [],
   "source": [
    "KEYWORD_REWRITE_PROMPT=\"\"\"\n",
    "You a keyword re-writer that converts an input question to a better version that is optimized for search. \n",
    "Generate search keyword from a user query \n",
    "to be more specific, detailed, and likely to retrieve relevant information, allowing for a more accurate response through web search.\n",
    "Don't include the additional context from the user question.\n",
    "\n",
    "Query: {query}\n",
    "Revised web search query:\n",
    "\"\"\"\n",
    "\n",
    "@type_subscription(topic_type=keyword_rewrite_topic_type)\n",
    "class KeywordRewriteAgent(RoutedAgent):\n",
    "    def __init__(self, model_client: ChatCompletionClient) -> None:\n",
    "        super().__init__(\"Query Rewrite Agent\")\n",
    "        self._system_message = SystemMessage(\n",
    "            content=(\n",
    "                \"\"\"\n",
    "                    You are an helper agent that can rewrite the query.\n",
    "                \"\"\"\n",
    "            )\n",
    "        )\n",
    "        self._model_client = model_client\n",
    "\n",
    "    @message_handler\n",
    "    async def handle_message(self, message: Message, ctx: MessageContext) -> None:\n",
    "        print(message)\n",
    "        llm_result = await self._model_client.create(\n",
    "            messages=[self._system_message, \n",
    "                        UserMessage(content=KEYWORD_REWRITE_PROMPT.format(query=message.query), source=message.source),\n",
    "                      ],\n",
    "            cancellation_token=ctx.cancellation_token,\n",
    "        )\n",
    "        response = llm_result.content\n",
    "        print(response)\n",
    "        assert isinstance(response, str)\n",
    "        print(f\"{'-'*80}\\n{self.id.type}:\\n{response}\")\n",
    "        \n",
    "        await self.publish_message(Message(query=response, context=message.context, source=message.source), topic_id=TopicId(type=websearch_topic_type, source=message.source))"
   ]
  },
  {
   "cell_type": "code",
   "execution_count": 14,
   "id": "3576b563",
   "metadata": {},
   "outputs": [],
   "source": [
    "INCORRECT_ANSWER=\"\"\"\n",
    "Hello, and thank you for bringing this to our attention! I may have provided an inaccurate or misleading response, and I sincerely apologize for the confusion.\n",
    "As an AI, I aim to deliver helpful and accurate information, but sometimes I might misinterpret or generate an incorrect response. Your feedback is invaluable and helps me improve.\n",
    "\n",
    "If you'd like, feel free to share more details or clarify your question, and I’ll do my best to assist you further. Thank you for your understanding and patience! 😊\n",
    "\"\"\"\n",
    "\n",
    "@type_subscription(topic_type=websearch_topic_type)\n",
    "class WebSearchAgent(RoutedAgent):\n",
    "\n",
    "    def __init__(\n",
    "            self, \n",
    "            web_search_tool: BingSearch,\n",
    "            retrieval_evaluator: RetrievalEvaluator,\n",
    "            ) -> None:\n",
    "        \n",
    "        super().__init__(\"WebSearch Agent\")\n",
    "        self.web_search_tool = web_search_tool\n",
    "        self.retrieval_evaluator = retrieval_evaluator\n",
    "\n",
    "    @message_handler\n",
    "    async def handle_message(self, message: Message, ctx: MessageContext) -> None:\n",
    "       \n",
    "        search_results = web_search_tool.invoke({\"query\": query})\n",
    "        print(search_results)\n",
    "        try:\n",
    "            contents = []\n",
    "            items = list(search_results)\n",
    "            for i in range(min(3, len(items))):\n",
    "                doc = items[i]\n",
    "                contents.append(doc.get(\"content\", \"No content\"))\n",
    "            content = \"\\n\".join(contents)\n",
    "        except Exception as e:\n",
    "            print(f\"Error: {e}\")\n",
    "            content = \"No content\"\n",
    "        \n",
    "        search_response = dict(\n",
    "            query=message.query,\n",
    "            context=content,\n",
    "            response=message.response\n",
    "            \n",
    "        )\n",
    "\n",
    "        retrieval_score = self.retrieval_evaluator (\n",
    "            **search_response\n",
    "        )\n",
    "        print(f\"retrieval_score: {retrieval_score['retrieval']}\")\n",
    "        if(retrieval_score[\"retrieval\"] < 3.0):\n",
    "            await self.publish_message(AssistantMessage(content=INCORRECT_ANSWER, source=message.source), topic_id=TopicId(type=user_topic_type, source=message.source))\n",
    "\n",
    "        await self.publish_message(Message(query=message.query, context=content, source=message.source), topic_id=TopicId(type=generate_topic_type, source=message.source))"
   ]
  },
  {
   "cell_type": "code",
   "execution_count": 15,
   "id": "93e9a219",
   "metadata": {},
   "outputs": [],
   "source": [
    "# This prompt provides instructions to the model\n",
    "GROUNDED_PROMPT=\"\"\"\n",
    "Answer the query using only the context provided below in a friendly and concise bulleted manner.\n",
    "Answer ONLY with the facts listed in the list of context below.\n",
    "If there isn't enough information below, say you don't know.\n",
    "Do not generate answers that don't use the context below.\n",
    "Query: {query}\n",
    "Context:\\n{context}\n",
    "\"\"\"\n",
    "\n",
    "@type_subscription(topic_type=generate_topic_type)\n",
    "class GenerateAgent(RoutedAgent):\n",
    "    def __init__(self, model_client: ChatCompletionClient) -> None:\n",
    "        super().__init__(\"Generate Agent\")\n",
    "        self._system_message = SystemMessage(\n",
    "            content=(\n",
    "                \"\"\"\n",
    "                    You are a friendly assistant that recommends hotels based on activities and amenities.\n",
    "                \"\"\"\n",
    "            )\n",
    "        )\n",
    "        self._model_client = model_client\n",
    "\n",
    "    @message_handler\n",
    "    async def handle_message(self, message: Message, ctx: MessageContext) -> None:\n",
    "        llm_result = await self._model_client.create(\n",
    "            messages=[self._system_message, \n",
    "                        UserMessage(content=GROUNDED_PROMPT.format(query=message.query, context=message.context), source=message.source),\n",
    "                      ],\n",
    "            extra_create_args={\"response_format\": RecommendationList},\n",
    "            cancellation_token=ctx.cancellation_token,\n",
    "        )\n",
    "\n",
    "        response_content = llm_result.content\n",
    "        print(response_content)\n",
    "        await self.publish_message(AssistantMessage(content=response_content, source=message.source), topic_id=TopicId(type=user_topic_type, source=message.source))"
   ]
  },
  {
   "cell_type": "code",
   "execution_count": 16,
   "id": "d39cebcb",
   "metadata": {},
   "outputs": [],
   "source": [
    "@type_subscription(topic_type=user_topic_type)\n",
    "class UserAgent(RoutedAgent):\n",
    "    def __init__(self) -> None:\n",
    "        super().__init__(\"A user agent that outputs the final copy to the user.\")\n",
    "\n",
    "    @message_handler\n",
    "    async def handle_final_copy(self, message: AssistantMessage, ctx: MessageContext) -> None:\n",
    "        print(f\"\\n{'-'*80}\\n{self.id.type} received final copy:\\n\")\n",
    "        assert isinstance(message.content, str)\n",
    "        response_content = json.loads(message.content)\n",
    "        for recommendation in response_content['recommendation']:\n",
    "            print(recommendation)"
   ]
  },
  {
   "cell_type": "markdown",
   "id": "2a8fce6e",
   "metadata": {},
   "source": [
    "<br>\n",
    "\n",
    "## 🧪 Step 3. Execute the Workflow\n",
    "---\n",
    "\n",
    "### Execute the workflow"
   ]
  },
  {
   "cell_type": "code",
   "execution_count": 17,
   "id": "8c329af2",
   "metadata": {},
   "outputs": [
    {
     "data": {
      "text/plain": [
       "AgentType(type='UserAgent')"
      ]
     },
     "execution_count": 17,
     "metadata": {},
     "output_type": "execute_result"
    }
   ],
   "source": [
    "runtime = SingleThreadedAgentRuntime()\n",
    "\n",
    "await RAGGraderAgent.register(runtime, type=user_query_topic_type, factory=lambda: RAGGraderAgent(\n",
    "    azure_ai_search_endpoint=azure_ai_search_endpoint,\n",
    "    azure_search_admin_key=azure_search_admin_key,\n",
    "    index_name=index_name,\n",
    "    retrieval_evaluator=RetrievalEvaluator(model_config),\n",
    "    ))\n",
    "\n",
    "await KeywordRewriteAgent.register(runtime, type=keyword_rewrite_topic_type, factory=lambda: KeywordRewriteAgent(model_client=autogen_aoai_client))\n",
    "\n",
    "await GenerateAgent.register(runtime, type=generate_topic_type, factory=lambda: GenerateAgent(model_client=autogen_aoai_client))\n",
    "\n",
    "WEB_SEARCH_FORMAT_OUTPUT = False\n",
    "\n",
    "await WebSearchAgent.register(runtime, type=websearch_topic_type, factory=lambda: WebSearchAgent(\n",
    "    web_search_tool=BingSearch(\n",
    "        max_results=3,\n",
    "        locale=\"en-US\",\n",
    "        include_news=False,\n",
    "        include_entity=False,\n",
    "        format_output=WEB_SEARCH_FORMAT_OUTPUT,\n",
    "    ),\n",
    "    retrieval_evaluator=RetrievalEvaluator(model_config),\n",
    "    ))\n",
    "\n",
    "\n",
    "await UserAgent.register(runtime, type=user_topic_type, factory=lambda: UserAgent())\n",
    "\n"
   ]
  },
  {
   "cell_type": "code",
   "execution_count": null,
   "id": "32562244",
   "metadata": {},
   "outputs": [],
   "source": [
    "runtime.start()\n",
    "\n",
    "await runtime.publish_message(Message(query=\"Can you recommend the newest Openings Hotels in Manhattan Midtown 2024?\", source=\"User\"), topic_id=TopicId(type=user_query_topic_type, source=\"user\"))\n",
    "\n",
    "await runtime.stop_when_idle()"
   ]
  },
  {
   "cell_type": "markdown",
   "id": "2cda1a04",
   "metadata": {},
   "source": []
  },
  {
   "cell_type": "markdown",
   "id": "eea3e223",
   "metadata": {},
   "source": []
  }
 ],
 "metadata": {
  "kernelspec": {
   "display_name": "venv",
   "language": "python",
   "name": "python3"
  },
  "language_info": {
   "codemirror_mode": {
    "name": "ipython",
    "version": 3
   },
   "file_extension": ".py",
   "mimetype": "text/x-python",
   "name": "python",
   "nbconvert_exporter": "python",
   "pygments_lexer": "ipython3",
   "version": "3.10.15"
  }
 },
 "nbformat": 4,
 "nbformat_minor": 5
}
