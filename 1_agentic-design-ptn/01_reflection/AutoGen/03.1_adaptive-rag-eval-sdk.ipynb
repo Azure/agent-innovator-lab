{
 "cells": [
  {
   "cell_type": "markdown",
   "id": "c26ab996",
   "metadata": {},
   "source": [
    "# Adaptive RAG\n",
    "\n",
    "----\n",
    "\n",
    "Adaptive RAG predicts the **complexity of the input question** using a SLM/LLM and selects an appropriate processing workflow accordingly.\n",
    "\n",
    "- **Very simple question (No Retrieval)**: Generates answers without RAG.\n",
    "- **Simple question (Single-shot RAG)**: Efficiently generates answers through a single-step search and generation.\n",
    "- **Complex question (Iterative RAG)**: Provides accurate answers to complex questions through repeated multi-step search and generation.\n",
    "\n",
    "\n",
    "Adaptive-RAG, Self-RAG, and Corrective RAG are similar approach, but they have different focuses.\n",
    "\n",
    "- **Adaptive-RAG**: Dynamically selects appropriate retrieval and generation strategies based on the complexity of the question.\n",
    "- **Self-RAG**: The model determines the need for retrieval on its own, performs retrieval when necessary, and improves the quality through self-reflection on the generated answers.\n",
    "- **Corrective RAG**: Evaluates the quality of retrieved documents, and performs additional retrievals such as web searches to supplement the information if the reliability is low.\n",
    "\n",
    "**Reference**\n",
    "\n",
    "- [Adaptive-RAG paper](https://arxiv.org/abs/2403.14403)  "
   ]
  },
  {
   "cell_type": "code",
   "execution_count": 8,
   "id": "b6458235",
   "metadata": {},
   "outputs": [
    {
     "data": {
      "text/plain": [
       "True"
      ]
     },
     "execution_count": 8,
     "metadata": {},
     "output_type": "execute_result"
    }
   ],
   "source": [
    "from dotenv import load_dotenv\n",
    "import os\n",
    "import json\n",
    "from azure.core.credentials import AzureKeyCredential\n",
    "from azure.identity import DefaultAzureCredential\n",
    "from azure.search.documents import SearchClient\n",
    "from azure.search.documents.models import VectorizableTextQuery\n",
    "from azure.ai.evaluation import GroundednessEvaluator, RelevanceEvaluator, RetrievalEvaluator\n",
    "from autogen_ext.models.openai import AzureOpenAIChatCompletionClient\n",
    "from autogen_core.models import ChatCompletionClient, SystemMessage, UserMessage, AssistantMessage\n",
    "from autogen_core import MessageContext, RoutedAgent, SingleThreadedAgentRuntime, TopicId, message_handler, type_subscription\n",
    "from pydantic import BaseModel\n",
    "from typing import List\n",
    "from dataclasses import dataclass\n",
    "\n",
    "\n",
    "load_dotenv(override=True)"
   ]
  },
  {
   "cell_type": "code",
   "execution_count": 9,
   "id": "05d7dfed",
   "metadata": {},
   "outputs": [],
   "source": [
    "# Get the environment variables\n",
    "azure_ai_search_endpoint = os.getenv(\"AZURE_AI_SEARCH_ENDPOINT\")\n",
    "search_credential = AzureKeyCredential(os.getenv(\"AZURE_AI_SEARCH_API_KEY\", \"\")) if len(os.getenv(\"AZURE_AI_SEARCH_API_KEY\", \"\")) > 0 else DefaultAzureCredential()\n",
    "index_name = os.getenv(\"AZURE_SEARCH_INDEX_NAME\", \"hotels-sample-index\")\n",
    "\n",
    "azure_openai_endpoint = os.getenv(\"AZURE_OPENAI_ENDPOINT\")\n",
    "azure_openai_key = os.getenv(\"AZURE_OPENAI_API_KEY\", \"\") if len(os.getenv(\"AZURE_OPENAI_API_KEY\", \"\")) > 0 else None\n",
    "azure_openai_chat_deployment_name = os.getenv(\"AZURE_OPENAI_CHAT_DEPLOYMENT_NAME\")\n",
    "azure_openai_embedding_deployment_name = os.getenv(\"AZURE_OPENAI_EMBEDDING_DEPLOYMENT_NAME\", \"text-embedding-ada-002\")\n",
    "azure_penai_api_version = os.getenv(\"OPENAI_API_VERSION\", \"2024-06-01\")\n",
    "\n",
    "bing_subscription_key = os.getenv(\"BING_SUBSCRIPTION_KEY\", \"\") if len(os.getenv(\"BING_SUBSCRIPTION_KEY\", \"\")) > 0 else None\n",
    "\n",
    "model_config = {\n",
    "    \"azure_endpoint\": azure_openai_endpoint,\n",
    "    \"api_key\": azure_openai_key,\n",
    "    \"azure_deployment\": azure_openai_chat_deployment_name,\n",
    "    \"api_version\": azure_penai_api_version,\n",
    "    \"type\": \"azure_openai\",\n",
    "}"
   ]
  },
  {
   "cell_type": "markdown",
   "id": "5ec192a9",
   "metadata": {},
   "source": [
    "## 🧪 Step 1. Test and Construct each module\n",
    "---\n",
    "\n",
    "Before building the entire the graph pipeline, we will test and construct each module separately.\n",
    "\n",
    "- **IntentRouter**\n",
    "- **SearchClient(Retrieval)**\n",
    "- **Retrieval Grader**\n",
    "- **Question Re-writer**\n",
    "- **Answer Generator**\n",
    "- **Groundedness Evaluator**\n",
    "- **Relevance Evaluator**\n",
    "- **Keyword Re-writer**\n",
    "- **Web Search Tool**\n"
   ]
  },
  {
   "cell_type": "markdown",
   "id": "083d39ad",
   "metadata": {},
   "source": [
    "### Define your LLM\n",
    "\n",
    "This hands-on only uses the `gpt-4o-mini`, but you can utilize multiple models in the pipeline."
   ]
  },
  {
   "cell_type": "code",
   "execution_count": 10,
   "id": "18d3a8f8",
   "metadata": {},
   "outputs": [],
   "source": [
    "# aoai_client = AzureOpenAI(\n",
    "#     azure_endpoint=azure_openai_endpoint,\n",
    "#     api_key=azure_openai_key,\n",
    "#     api_version=openai_api_version,\n",
    "# )\n",
    "\n",
    "# This is not the same object as the one above. This is the client that is used to interact with the Azure OpenAI Chat API.\n",
    "autogen_aoai_client = AzureOpenAIChatCompletionClient(\n",
    "    azure_endpoint=azure_openai_endpoint,\n",
    "    model = azure_openai_chat_deployment_name,\n",
    "    api_version=azure_penai_api_version,\n",
    "    api_key=azure_openai_key\n",
    ")"
   ]
  },
  {
   "cell_type": "markdown",
   "id": "3e4c24d3",
   "metadata": {},
   "source": [
    "### Intent Router\n",
    "\n",
    "Construct a `intent_router` agent to analyze the intent from user's query to route the query to the appropriate module."
   ]
  },
  {
   "cell_type": "code",
   "execution_count": 11,
   "id": "4deb3a06",
   "metadata": {},
   "outputs": [],
   "source": [
    "from pydantic import BaseModel, Field\n",
    "from typing import List\n",
    "from enum import Enum\n",
    "\n",
    "class IntentType(str, Enum):\n",
    "    LLM = \"LLM\"\n",
    "    RAG = \"RAG\"\n",
    "    websearch = \"websearch\"    \n",
    "\n",
    "class IntentResponse(BaseModel):\n",
    "    intent_type: IntentType = Field(..., description=\"Processing status\")"
   ]
  },
  {
   "cell_type": "code",
   "execution_count": 12,
   "id": "6b10654c",
   "metadata": {},
   "outputs": [
    {
     "name": "stdout",
     "output_type": "stream",
     "text": [
      "{\"intent_type\":\"RAG\"}\n"
     ]
    }
   ],
   "source": [
    "#query=\"how are you today?\"\n",
    "query=\"Can you recommend a few hotels with complimentary breakfast?\"\n",
    "#query=\"Can you recommend the newest Openings Hotels in Manhattan Midtown 2025?\"\n",
    "\n",
    "# This prompt provides instructions to the model\n",
    "INTENT_ROUTER_PROMPT=\"\"\"\n",
    "You are an expert at routing a user question to LLM or RAG or websearch.\n",
    "                    The LLM covers casual topic such as greeting, small talks.\n",
    "                    Use the LLM for questions on casual topics.\n",
    "                    The RAG contains documents related to hotel information in New York until Aug, 2024.\n",
    "                    Use the RAG for questions on the hotel related topics. For all else, websearch.\n",
    "                    response inent_type such as LLM, RAG, or websearch.\n",
    "Query: {query}\n",
    "\"\"\"\n",
    "\n",
    "# Send the search results and the query to the LLM to generate a response based on the prompt.\n",
    "response = await autogen_aoai_client.create(\n",
    "        messages = [\n",
    "        UserMessage(content=INTENT_ROUTER_PROMPT.format(query=query), source=\"user\"),\n",
    "    ],\n",
    "        extra_create_args={\"response_format\": IntentResponse},\n",
    ")\n",
    "\n",
    "\n",
    "# Here is the response from the chat model.\n",
    "print(response.content)"
   ]
  },
  {
   "cell_type": "markdown",
   "id": "cdf92a96",
   "metadata": {},
   "source": [
    "### Construct Retrieval Chain based on PDF\n",
    "- We use the hotels-sample-index, which can be created in minutes and runs on any search service tier. This index is created by a wizard using built-in sample data."
   ]
  },
  {
   "cell_type": "code",
   "execution_count": 13,
   "id": "4121f7b6",
   "metadata": {},
   "outputs": [
    {
     "name": "stdout",
     "output_type": "stream",
     "text": [
      "Friendly Motor Inn:Close to historic sites, local attractions, and urban parks. Free Shuttle to the airport and casinos. Free breakfast and WiFi.:['24-hour front desk service', 'continental breakfast', 'free wifi']\n",
      "Lion's Den Inn:Full breakfast buffet for 2 for only $1. Excited to show off our room upgrades, faster high speed WiFi, updated corridors & meeting space. Come relax and enjoy your stay.:['laundry service', 'free wifi', 'restaurant']\n",
      "Starlight Suites:Complimentary Airport Shuttle & WiFi. Book Now and save - Spacious All Suite Hotel, Indoor Outdoor Pool, Fitness Center, Florida Green certified, Complimentary Coffee, HDTV:['pool', 'coffee in lobby', 'free wifi']\n"
     ]
    }
   ],
   "source": [
    "azure_ai_search_endpoint = os.getenv(\"AZURE_AI_SEARCH_ENDPOINT\")\n",
    "azure_search_admin_key = os.getenv(\"AZURE_AI_SEARCH_API_KEY\", \"\")\n",
    "search_client = SearchClient(\n",
    "    endpoint=azure_ai_search_endpoint,\n",
    "    index_name=index_name,\n",
    "    credential=AzureKeyCredential(azure_search_admin_key),\n",
    "    semantic_configuration_name='my-semantic-config', \n",
    ")\n",
    "\n",
    "# Query is the question being asked. It's sent to the search engine and the LLM.\n",
    "\n",
    "fields = \"descriptionVector\" # TODO: Check if this is the correct field name\n",
    "# don't use exhaustive search for large indexes\n",
    "vector_query = VectorizableTextQuery(text=query, k_nearest_neighbors=2, fields=fields, exhaustive=True)\n",
    "\n",
    "# Search results are created by the search client.\n",
    "# Search results are composed of the top 3 results and the fields selected from the search index.\n",
    "# Search results include the top 3 matches to your query.\n",
    "search_results = search_client.search(\n",
    "    search_text=query,\n",
    "    vector_queries= [vector_query],\n",
    "    select=\"Description,HotelName,Tags\",\n",
    "    top=3,\n",
    ")\n",
    "sources_formatted = \"\\n\".join([f'{document[\"HotelName\"]}:{document[\"Description\"]}:{document[\"Tags\"]}' for document in search_results])\n",
    "\n",
    "print(sources_formatted)"
   ]
  },
  {
   "cell_type": "markdown",
   "id": "65ec10e5",
   "metadata": {},
   "source": [
    "### Question-Retrieval Grader\n",
    "\n",
    "Construct a retrieval grader that evaluates the relevance of the retrieved documents to the input question. The retrieval grader should take the input question and the retrieved documents as input and output a relevance score for each document.<br>\n",
    "Note that the retrieval grader should be able to handle **multiple documents** as input."
   ]
  },
  {
   "cell_type": "code",
   "execution_count": 14,
   "id": "5c85e4c2",
   "metadata": {},
   "outputs": [
    {
     "name": "stdout",
     "output_type": "stream",
     "text": [
      "{'retrieval': 2.0, 'gpt_retrieval': 2.0, 'retrieval_reason': \"The input Data should get a Score of 2 because it contains partially relevant context chunks, with the most relevant chunk (Friendly Motor Inn) at the top, but the second chunk (Lion's Den Inn) introduces some ambiguity regarding whether breakfast is complimentary. The third chunk (Starlight Suites) is irrelevant to the query.\"}\n"
     ]
    },
    {
     "data": {
      "text/plain": [
       "2.0"
      ]
     },
     "execution_count": 14,
     "metadata": {},
     "output_type": "execute_result"
    }
   ],
   "source": [
    "retrieval_eval  = RetrievalEvaluator(model_config)\n",
    "\n",
    "query_response = dict(\n",
    "    query=query,\n",
    "    context=sources_formatted\n",
    ")\n",
    "\n",
    "relevance_score = retrieval_eval(\n",
    "    **query_response\n",
    ")\n",
    "print(relevance_score)\n",
    "relevance_score['retrieval']\n"
   ]
  },
  {
   "cell_type": "markdown",
   "id": "8209a547",
   "metadata": {},
   "source": [
    "### Question Re-writer\n",
    "\n",
    "Construct a `question_rewriter` node to rewrite the question based on the retrieved documents and the generated answer."
   ]
  },
  {
   "cell_type": "code",
   "execution_count": 15,
   "id": "b6f4bafb",
   "metadata": {},
   "outputs": [
    {
     "name": "stdout",
     "output_type": "stream",
     "text": [
      "Could you suggest some hotels that offer complimentary breakfast?\n"
     ]
    }
   ],
   "source": [
    "query=\"Can you recommend a few hoels with complimentary breakfast?\"\n",
    "\n",
    "# This prompt provides instructions to the model\n",
    "REWRITE_PROMPT=\"\"\"\n",
    "You a question re-writer that converts an input question to a better version that is optimized\n",
    "for vectorstore retrieval. Look at the input and try to reason about the underlying semantic intent / meaning.\n",
    "Query: {query}\n",
    "\"\"\"\n",
    "\n",
    "# Send the search results and the query to the LLM to generate a response based on the prompt.\n",
    "response = await autogen_aoai_client.create(\n",
    "        messages = [\n",
    "        UserMessage(content=REWRITE_PROMPT.format(query=query), source=\"user\"),\n",
    "    ]\n",
    ")\n",
    "\n",
    "\n",
    "# Here is the response from the chat model.\n",
    "print(response.content)"
   ]
  },
  {
   "cell_type": "code",
   "execution_count": 16,
   "id": "8f07b8c0",
   "metadata": {},
   "outputs": [],
   "source": [
    "query = response.content"
   ]
  },
  {
   "cell_type": "markdown",
   "id": "702b7f87",
   "metadata": {},
   "source": [
    "### Answer Generator\n",
    "\n",
    "Construct a LLM Generation node. This is a Naive RAG chain that generates an answer based on the retrieved documents. \n",
    "\n",
    "We recommend you to use more advanced RAG chain for production"
   ]
  },
  {
   "cell_type": "code",
   "execution_count": 17,
   "id": "2168105c",
   "metadata": {},
   "outputs": [],
   "source": [
    "class HotelInfo(BaseModel):\n",
    "    hotel_name: str\n",
    "    description: str\n",
    "\n",
    "class RecommendationList(BaseModel):\n",
    "    recommendation: List[HotelInfo]"
   ]
  },
  {
   "cell_type": "code",
   "execution_count": 18,
   "id": "d080f695",
   "metadata": {},
   "outputs": [
    {
     "name": "stdout",
     "output_type": "stream",
     "text": [
      "{'hotel_name': 'Friendly Motor Inn', 'description': 'Close to historic sites, local attractions, and urban parks. Free breakfast and WiFi.'}\n",
      "{'hotel_name': \"Lion's Den Inn\", 'description': 'Full breakfast buffet for 2 for only $1. Come relax and enjoy your stay.'}\n",
      "{'hotel_name': 'Starlight Suites', 'description': 'Complimentary Airport Shuttle & WiFi, with complimentary coffee in the lobby.'}\n"
     ]
    }
   ],
   "source": [
    "# This prompt provides instructions to the model\n",
    "GROUNDED_PROMPT=\"\"\"\n",
    "You are a friendly assistant that recommends hotels based on activities and amenities.\n",
    "Answer the query using only the context provided below in a friendly and concise bulleted manner.\n",
    "Answer ONLY with the facts listed in the list of context below.\n",
    "If there isn't enough information below, say you don't know.\n",
    "Generate a response that includes the top 3 results.\n",
    "Do not generate answers that don't use the context below.\n",
    "Query: {query}\n",
    "Context:\\n{context}\n",
    "\"\"\"\n",
    "\n",
    "# Send the search results and the query to the LLM to generate a response based on the prompt.\n",
    "response = await autogen_aoai_client.create(\n",
    "        messages = [\n",
    "        UserMessage(content=GROUNDED_PROMPT.format(query=query, context=sources_formatted), source=\"user\"),\n",
    "    ],\n",
    "        extra_create_args={\"response_format\": RecommendationList},\n",
    ")\n",
    "\n",
    "response_content = json.loads(response.content)\n",
    "for recommendation in response_content['recommendation']:\n",
    "    print(recommendation)"
   ]
  },
  {
   "cell_type": "markdown",
   "id": "b167e23e",
   "metadata": {},
   "source": [
    "### Groundedness Evaluator\n",
    "\n",
    "Construct a `groundedness_grader` node to evaluate the **hallucination** of the generated answer based on the retrieved documents.<br>\n",
    "\n",
    "`yes` means the answer is relevant to the retrieved documents, and `no` means the answer is not relevant to the retrieved documents."
   ]
  },
  {
   "cell_type": "code",
   "execution_count": 19,
   "id": "63d55c28",
   "metadata": {},
   "outputs": [
    {
     "name": "stdout",
     "output_type": "stream",
     "text": [
      "{'groundedness': 5.0, 'gpt_groundedness': 5.0, 'groundedness_reason': 'The RESPONSE accurately lists hotels that offer complimentary breakfast and provides relevant details from the CONTEXT, making it a fully correct and complete answer to the QUERY.'}\n"
     ]
    }
   ],
   "source": [
    "groundedness_eval  = GroundednessEvaluator(model_config)\n",
    "\n",
    "query_response = dict(\n",
    "    query=query,\n",
    "    context=sources_formatted,\n",
    "    response=response_content\n",
    ")\n",
    "\n",
    "groundedness_score = groundedness_eval(\n",
    "    **query_response\n",
    ")\n",
    "print(groundedness_score)\n"
   ]
  },
  {
   "cell_type": "markdown",
   "id": "b8a6c80a",
   "metadata": {},
   "source": [
    "### Relevance Evaluator\n",
    "\n",
    "Construct a `relevance_grader` node to evaluate the relevance of the generated answer to the question.<br>\n",
    "`yes` means the answer is relevant to the question, and `no` means the answer is not relevant to the question."
   ]
  },
  {
   "cell_type": "code",
   "execution_count": 20,
   "id": "c5b80ab5",
   "metadata": {},
   "outputs": [
    {
     "name": "stdout",
     "output_type": "stream",
     "text": [
      "{'relevance': 3.0, 'gpt_relevance': 3.0, 'relevance_reason': 'The RESPONSE partially addresses the QUERY by listing hotels, but it includes one hotel that does not offer complimentary breakfast and another that charges for it. This omission of key details regarding the complimentary aspect leads to an incomplete response.'}\n"
     ]
    }
   ],
   "source": [
    "relevance_eval = RelevanceEvaluator(model_config)\n",
    "\n",
    "query_response = dict(\n",
    "    query=query,\n",
    "    response=response_content\n",
    ")\n",
    "\n",
    "relevance_score = relevance_eval(\n",
    "    **query_response\n",
    ")\n",
    "print(relevance_score)"
   ]
  },
  {
   "cell_type": "markdown",
   "id": "fd05275c",
   "metadata": {},
   "source": [
    "### Keyword Re-writer\n",
    "\n",
    "Construct a `keyword_rewriter` agent to rewrite the question as the search keyword."
   ]
  },
  {
   "cell_type": "code",
   "execution_count": 21,
   "id": "806f6d04",
   "metadata": {},
   "outputs": [
    {
     "name": "stdout",
     "output_type": "stream",
     "text": [
      "\"best hotels with complimentary breakfast options\"\n"
     ]
    }
   ],
   "source": [
    "\n",
    "# This prompt provides instructions to the model\n",
    "KEYWORD_REWRITE_PROMPT=\"\"\"\n",
    "You a keyword re-writer that converts an input question to a better version that is optimized for search. \n",
    "Generate search keyword from a user query \n",
    "to be more specific, detailed, and likely to retrieve relevant information, allowing for a more accurate response through web search.\n",
    "Don't include the additional context from the user question.\n",
    "\n",
    "Query: {query}\n",
    "Revised web search query:\n",
    "\"\"\"\n",
    "\n",
    "# Send the search results and the query to the LLM to generate a response based on the prompt.\n",
    "response = await autogen_aoai_client.create(\n",
    "        messages = [\n",
    "        UserMessage(content=KEYWORD_REWRITE_PROMPT.format(query=query), source=\"user\"),\n",
    "    ]\n",
    ")\n",
    "\n",
    "\n",
    "# Here is the response from the chat model.\n",
    "print(response.content)\n",
    "query = response.content"
   ]
  },
  {
   "cell_type": "markdown",
   "id": "00a7d8b2",
   "metadata": {},
   "source": [
    "### Web Search Tool\n",
    "\n",
    "Web search tool is used to enhance the context. <br>\n",
    "\n",
    "It is used when all the documents do not meet the relevance threshold or the evaluator is not confident."
   ]
  },
  {
   "cell_type": "code",
   "execution_count": 22,
   "id": "e5444bcf",
   "metadata": {},
   "outputs": [],
   "source": [
    "from azure_genai_utils.tools import BingSearch\n",
    "\n",
    "WEB_SEARCH_FORMAT_OUTPUT = False\n",
    "\n",
    "web_search_tool = BingSearch(\n",
    "    max_results=3,\n",
    "    locale=\"en-US\",\n",
    "    include_news=False,\n",
    "    include_entity=False,\n",
    "    format_output=WEB_SEARCH_FORMAT_OUTPUT,\n",
    ")"
   ]
  },
  {
   "cell_type": "code",
   "execution_count": 23,
   "id": "595b71f8",
   "metadata": {},
   "outputs": [
    {
     "name": "stderr",
     "output_type": "stream",
     "text": [
      "/anaconda/envs/venv_agent/lib/python3.11/site-packages/langsmith/client.py:253: LangSmithMissingAPIKeyWarning: API key must be provided when using hosted LangSmith API\n",
      "  warnings.warn(\n",
      "Failed to multipart ingest runs: langsmith.utils.LangSmithAuthError: Authentication failed for https://api.smith.langchain.com/runs/multipart. HTTPError('401 Client Error: Unauthorized for url: https://api.smith.langchain.com/runs/multipart', '{\"error\":\"Unauthorized\"}\\n')trace=087c8b58-f8b9-47ef-a45d-f581c01451b3,id=087c8b58-f8b9-47ef-a45d-f581c01451b3\n"
     ]
    },
    {
     "name": "stdout",
     "output_type": "stream",
     "text": [
      "This page was last updated: 2025-01-31 Best new hotels in NYC (New York City)\n",
      "- Days Inn New York Chinatown (Dec 2024)\n",
      "- Four Seasons Hotel (2024)\n",
      "- Waldorf Astoria (Reopening 2025)\n",
      "- The Manner (2024) - Aura Hotel Times Square (2024) - The Luxury Collection Hotel (2024) - The Surrey (2024) - SpringHill Suites Manhattan (2024) -\n",
      "Tru by Hilton\n",
      "Brooklyn\n",
      "(2024) -\n",
      "Warren Street Hotel (2024) - Holiday Inn Express Bronx (2024)﻿... Newest Hotels in New York City 2024 Hotel near Chinatown opened in December 2024 This new Days Inn hotel near Chinatown was opened in December 2024. The\n",
      "Days Inn\n",
      "is located on Eldridge Street, offering modern guest accommodations that come with a free breakfast, free Wi-Fi, a\n",
      "business center, and a fitness center. Read Reviews / Check Prices Luxury 5-star\n",
      "hotel in Manhattan reopened in late 2024 This top luxury hotel in New York City was reopened in November 2024 after a four-year closure. The\n",
      "five-star\n",
      "Four Seasons Hotel New York is located at\n",
      "57 East 57th Street, just a short walk from\n",
      "Central Park, between\n",
      "Park Avenue and Madison Avenue. Read Reviews / Check Prices Luxury Hilton Hotel in NYC reopening in 2025 This historic luxury hotel in the\n",
      "Midtown Manhattan\n",
      "area of New York City is currently undergoing a transformative restoration and is due to reopen on September 1, 2025 (the opening date may change). Read Reviews / Check Prices New Hotel in\n",
      "SoHo\n",
      "NYC opened in September 2024 This new upscale hotel in NYC is located on Thompson Street in the SoHo neighborhood of Lower Manhattan. The Manner offers a total of 97 guest rooms or suites and features an in-house restaurant and a cocktail bar. Read Reviews / Check Prices New Hotel in Times Square opened in August 2024 This new hotel near Times Square in Manhattan is located on W 44th Street, offering recently renovated guest accommodations (it was formerly the Mela Hotel). The pet-friendly Aura Hotel features an in-house restaurant, a bar, free Wi-Fi, and a fitness center. Read Reviews / Check Prices New Marriott Luxury Hotel in Midtown Manhattan 2024 Formerly the Conrad Hotel, this new Marriott hotel is located on 54th Street close to the southern end of Central Park, offering a range of upscale guest rooms, suites, and apartments. The Luxury Collection Hotel features an in-house restaurant, room service, a fitness center, free Wi-Fi, and valet parking (fees apply). Read Reviews / Check Prices Newly Renovated Luxury Hotel in\n",
      "Upper East Side\n",
      "Manhattan 2024 This newly renovated luxury hotel has recently reopened again. The Surrey is located close to Central Park in the Upper East Side of Manhattan, offering a total of 100 luxurious guest rooms or suites, in-house restaurants, a spa, and a gym. Read Reviews / Check Prices New Hotel in Times Square opened in May 2024 This brand new Marriott hotel in Times Square New York was opened in May 2024 offering 167 guest accommodations that include a free daily breakfast. Read Reviews / Check Prices New Hotel in Brooklyn opened in 2024 This new Hilton hotel in Brooklyn was recently opened in March 2024 offering modern guest rooms that come with a free hot breakfast.Read more... Read Reviews / Check Prices New Luxury NYC Hotel opened in February 2024 This new luxury hotel in the Tribeca neighborhood of Manhattan, NYC, offers a total of 69 individually designed guest rooms, suites, and residences and features an in-house restaurant and bar. Read Reviews / Check Prices New IHG Hotel in the Bronx NYC opening soon in 2024 This new InterContinental Hotels Group hotel in the Bronx NYC was opened in 2024.Read more... Hotels in NYC Opened in 2023 Marriott Hotel in Chelsea NYC opened in November 2023 This new Marriott hotel in Chelsea, Manhattan, New York City, was opened in November. The Aloft New York Chelsea is located at 132 West 28th Street, half a mile away from Chelsea Park and the Empire State Building. At the property there are 234 guest accommodations, a bar, a fitness center, free Wi-Fi and a meeting room. Luxury Hotel in NYC opened in October 2023 This new luxury hotel in Midtown Manhattan was opened in October. The Fifth Avenue Hotel is located in the heart of Midtown in the NoMad district, just a few minutes walk away from Madison Square Park and a little over 5 minutes walk away from the Empire State Building. At the property you will find a range of upscale accommodations in spacious guest rooms or suites, their signature restaurant - Café Carmellini, and The Portrait Bar. Hilton Hotel near Times Square opened in October 2023 This new all-suites hotel near Times Square has been opened by Hilton in October. The Home2 Suites by Hilton New York Times Square is located just a couple of minutes walk away from Times Square and 5 minutes walk away from the Theater District. The pet-friendly property offers accommodation in spacious suites that come with a kitchenette/kitchen, a free daily breakfast, free Wi-Fi, and features a rooftop lounge, a lobby bar, a fitness center, a business center, and valet parking (fees apply). Boutique Hotel in New York City opened in September 2023 This new luxury hotel in Midtown Manhattan was opened by InterContinental Hotels Group (IHG) in September. The Kimpton Theta Hotel is located along 8th Avenue, around 5 minutes walk away from Times Square, the Broadway Theater, the Gershwin Theater, and many other nearby attractions. At this pet-friendly new boutique hotel, you will find upscale accommodation in spacious guest rooms or suites, a fitness center, valet parking (fees apply), a rooftop restaurant - Bar Sprezzatura, Café Otto, evening socials, and room service. Hotel in Hell's Kitchen NYC opened in September 2023 This brand new hotel in Hell's Kitchen in the West Side of Midtown Manhattan was recently opened in September. The Romer Hell's Kitchen Hotel is located just a few minutes walk away from the Broadway Theater District, offering accommodation in a choice of stylish guest rooms or suites. At the pet-friendly property, you will find the all-day cafe - Hell’s Kitchen Neighborhood Café, the Corner Store, So & So’s speakeasy restaurant and piano bar, and valet parking (fees apply). Hilton Hotel near Times Square opened in September 2023 This new hotel in the Times Square area of Midtown Manhattan was opened by Hilton in September. The Motto by Hilton New York City Times Square Hotel is located just a few minutes walk away from Times Square, Radio City Music Hall, M&M World, and the Rockefeller Center. The property offers a range of fairly compact, pet-friendly guest rooms (connecting rooms available) and features a fitness center and free Wi-Fi internet access. Hotel in\n",
      "Midtown Manhattan\n",
      "opened in August 2023 This new hotel in Midtown West NYC was opened by Marriott in August offering 310 modern guest rooms over 32 floors. The Delta Hotels by Marriott Times Square Hotel is located within walking distance of Times Square, Madison Square Garden and Madame Tussauds. At the hotel you will find a full-service restaurant - George’s Nephew, The George - Lobby Bar, a coffee house, room service, a fitness center, a business center, off-site parking / valet parking (fees apply) and free Wi-Fi internet access for guests. Hotel in Times Square NYC opened in August 2023 This new hotel in Times Square was opened by Hilton in August offering a good central location just a minute away from Times Square and 5 minutes walk away from the Theater District. The Tempo by Hilton New York Times Square features a wide choice of guest rooms or suites, an on-site restaurant,\n",
      "the Highball cocktail bar that overlooks Times Square,\n",
      "a fitness center, valet parking (fees apply) and free Wi-Fi internet access. Hotel in Harlem NY opened in August 2023 This new hotel in Harlem, New York was recently opened by Marriott in August. The Renaissance New York Harlem Hotel offers a total of 211 stylish guest rooms and features a rooftop bar and an in-house restaurant and bar. Hotel in Downtown Manhattan opened in March 2023 The Fidi Hotel is new hotel in the financial district of New York City that was recently opened in March, offering a total of\n",
      "131\n",
      "modern guest rooms and suites. Marriott Hotel in Williamsburg opened in March 2023 The Moxy Brooklyn Williamsburg is a new Marriott hotel in Brooklyn, NY recently opened in March.Read more... See all new hotels in Brooklyn here > Virgin Hotel NYC opened in February 2023 This new upscale hotel in NoMad, in the heart of Midtown Manhattan, was opened in February, offering a range of upmarket guest rooms (chambers) and suites. Virgin Hotels New York City is located less than 10 minutes walk away from the Empire State Building. At the property you will find multiple dining and drinking outlets, a seasonal pool and bar, a state-of-the-art fitness center, meeting and event spaces, and room service. Hotels in NYC Opened in 2022 Hotel in Lower Manhattan opened in December 2022 This new hotel in the Financial District of Lower Manhattan was recently opened by IHG. The Hotel Indigo NYC Financial District offers 180 stylish guest accommodations and features the\n",
      "Half Moon\n",
      "restaurant and lounge. Hotel in Soho opened in December 2022 This newly built hotel in SoHo, NYC that was recently opened in December. The Best Western Plus Soho Hotel offers modern guest rooms that come with a free breakfast included in the price of your stay. Hotel on Fifth Avenue NYC opened in December 2022 Le Méridien is new Marriott hotel on 5th Avenue that was recently opened in December, offering 165 upmarket guest rooms and 17 luxurious suites. Hotel LES, New York opened in November 2022 This brand new Marriott hotel in SoHo, Lower Manhattan was recently opened in early November. The Moxy NYC Lower East Side offers 303 guest accommodations and features 5 on-site restaurants and bars. Luxury Hotel in Midtown Manhattan NYC opened in November 2022 This new upscale hotel in Mahattan was opened in November. The Grayson Hotel offers 296 rooms or suites and features three restaurants / bars and a fitness centre. Hotel near JFK Airport opened in November 2022 This new Marriott hotel near JFK Airport was opened on November. The Residence Inn by Marriott New York JFK Airport offers spacious, extended-stay accommodation with studio, one and two bedroom suites that come with a full kitchen and a complimentary breakfast included in the price. Luxury Hotel in Tribeca, Lower Manhattan opened in September 2022 The Hôtel Barrière Fouquet's is new top luxury hotel in Tribeca, Lower Manhattan, New York City offering a total of 97 residential-style guest rooms and suites. Top Luxury Hotel in NYC opened in August 2022 This new luxurious hotel is located in the North of Madison (NoMad) neighborhood of NYC and offers a total of 250 upmarket guest rooms and luxurious suites. The Ritz-Carlton New York, NoMad features two on-site restaurants and bars, a luxury spa, a 24-hour fitness center, and 10,000 sq. ft. of both indoor and outdoor event spaces. Luxury Suites Hotel in Manhattan opened in July 2022 Aman New York is a new luxury suites hotel housed in the Crown Building located on the corner of 5th Avenue and 57th Street. The property offers a total of 83 suites with Japanese-inspired interiors. Luxury Residence Club in New York City opened in July 2022 5th & 55th was opened in July. This new Residence Club is housed within the St. Regis Hotel New York offering luxurious accommodation in studio, one-bedroom and two-bedroom residences that include a 24-hour personal butler service. Hotel in Lower East Side of Manhattan opened in June 2022 This new hotel in LES is a recently opened luxury accommodation housed in a restored Beaux-Arts building originally built in 1912. The Nine Orchard Hotel offers 116 upscale guest rooms and features the\n",
      "Corner Bar restaurant. 5 Star Hotel in New York City opened in June 2022 This new 5-star hotel in New York City was recently opened on June 1. Located on Wall Street in the Financial District of NYC, the Wall Street Hotel offers 180 luxury guest rooms and suites. Hotel in the NoMad Neighborhood NYC\n",
      "opened in June 2022 The Ned NoMad is a new upscale hotel and members' club located in NoMad, Manhattan. Housed in the Johnston Building, the historic property offers a total of 167 guest accommodations. Hotel in Midtown NYC opened in April 2022 The new Hard Rock Hotel in New York City was opened in April. Located in Midtown Manhattan, the 36-storey property offers 446 guestrooms and suites, and features the RT60 rooftop bar and lounge, the NYY Steak Restaurant, Sessions Restaurant & Bar and various entertainment venues. We try to keep our pages about new hotels in NYC as\n",
      "up-to-date as possible and will be updating this page when any new\n",
      "hotels open or when any upcoming hotels in NYC open for reservation.\n",
      "However, if you know of any good quality, recently opened new hotels\n",
      "not mentioned in the list above, or you are the owner / manager of an\n",
      "upcoming hotel in New York City opening soon and want some publicity for your\n",
      "grand opening, you cancontact us hereand let us know the details so that we can possibly add your property to our site. Find more new hotels in New York Albany-Bronx-Brooklyn-Flushing-New York City-Queens-Rochester New hotels opened in popular destinations around the USA: Albuquerque-Amarillo-Anaheim (Disneyland)-Anchorage-Atlanta-Austin-Baltimore-Baton Rouge-Birmingham-Boise-Boston-Boulder-Charleston-Charlotte-Cheyenne-Chicago-Cincinnati-Colorado Springs-Columbus-Dallas-Delaware-Des Moines-Destin-Detroit-Denver-Flagstaff-Fargo-Florence-Fort Lauderdale-Fort Worth-Hawaii-Hilton Head-Hollywood-Houston-Indianapolis-Jackson-Kansas City-Las Vegas-Lexington-Little Rock-Los Angeles-Lubbock-Manchester-Memphis-Miami-Miami Beach-Milwaukee-Minneapolis-Montana-Montgomery-Morgantown-Myrtle Beach-Nashville-New Haven-New Jersey-New Orleans-New York City-Oklahoma City-Omaha-Orlando-Philadelphia-Phoenix-Portland (ME)-Portland (OR)-Providence-Raleigh-Reno-Richmond-St Louis-Sacramento-Salt Lake City-San Antonio-San Diego-San Francisco-San Jose-Savannah-Scottsdale-Seattle-Sedona-Sioux Falls-Tacoma-Tallahassee-Tampa-Tucson-Tuscaloosa-Vermont-Virginia Beach-Waco-Washington-Wilmington See more destinations in the USA > Find new hotels opened in popular destinations in Canada: Banff-Calgary-Halifax-Montreal-Ottawa-Toronto-Vancouver Find the latest hotels opened in popular destinations in Mexico: Cancun-Los Cabos-Mazatlan-Mexico City-Playa del Carmen-Puerto Vallarta-Riviera Maya-San Miguel de Allende-Tulum Find the latest hotels opened in popular destinations in the Caribbean: Aruba-Antigua-Barbados-Curacao-Dominican Republic-Jamaica-Puerto Rico-Santo Domingo-Turks & Caicos Others in this area:Costa Rica Other Destinations: Mauritius-Seychelles Home Page Blog Copyright © 2025 Privacy Policy / Disclaimer\n"
     ]
    },
    {
     "name": "stderr",
     "output_type": "stream",
     "text": [
      "Failed to send compressed multipart ingest: langsmith.utils.LangSmithAuthError: Authentication failed for https://api.smith.langchain.com/runs/multipart. HTTPError('401 Client Error: Unauthorized for url: https://api.smith.langchain.com/runs/multipart', '{\"error\":\"Unauthorized\"}\\n')\n",
      "Failed to send compressed multipart ingest: langsmith.utils.LangSmithAuthError: Authentication failed for https://api.smith.langchain.com/runs/multipart. HTTPError('401 Client Error: Unauthorized for url: https://api.smith.langchain.com/runs/multipart', '{\"error\":\"Unauthorized\"}\\n')\n",
      "Failed to send compressed multipart ingest: langsmith.utils.LangSmithAuthError: Authentication failed for https://api.smith.langchain.com/runs/multipart. HTTPError('401 Client Error: Unauthorized for url: https://api.smith.langchain.com/runs/multipart', '{\"error\":\"Unauthorized\"}\\n')\n",
      "Failed to send compressed multipart ingest: langsmith.utils.LangSmithAuthError: Authentication failed for https://api.smith.langchain.com/runs/multipart. HTTPError('401 Client Error: Unauthorized for url: https://api.smith.langchain.com/runs/multipart', '{\"error\":\"Unauthorized\"}\\n')\n"
     ]
    }
   ],
   "source": [
    "query = \"Newest Openings Hotels in NYC 2024 2025?\"\n",
    "results = web_search_tool.invoke({\"query\": query})\n",
    "print(results[0].get(\"content\", \"No content\"))"
   ]
  },
  {
   "cell_type": "markdown",
   "id": "f08d720d",
   "metadata": {},
   "source": [
    "<br>\n",
    "\n",
    "## 🧪 Step 2. Define the Agentic Architecture\n",
    "- Before building the agentic pipeline, we need to design the message, topic, agent and message routing logic. \n",
    "- You should define the terminate condition for the pipeline.\n",
    "\n",
    "### Message, Topic, Agent Definition\n",
    "\n",
    "```markdown\n",
    "```python\n",
    "\n",
    "# Message Definition\n",
    "@dataclass\n",
    "class Message:\n",
    "    query: str = None\n",
    "    context: str = None\n",
    "    response: str = None\n",
    "    source: str = None\n",
    "\n",
    "\n",
    "# Topic Definition\n",
    "user_query_topic_type = \"UserQuery\"\n",
    "rag_grader_topic_type = \"RagGraderAgent\"\n",
    "query_rewrite_topic_type = \"QueryRewriteAgent\"\n",
    "generate_topic_type = \"GenerateAgent\"\n",
    "eval_topic_type = \"EvalAgent\"\n",
    "keyword_rewrite_topic_type = \"KeywordRewriteAgent\"\n",
    "web_search_topic_type = \"WebSearchAgent\"\n",
    "user_topic_type = \"UserAgent\"\n",
    "\n",
    "# Agent Definition\n",
    "class IntentRouterAgent(RoutedAgent):\n",
    "class RAGGraderAgent(RoutedAgent):\n",
    "class QueryRewriteAgent(RoutedAgent):\n",
    "class GenerateAgent(RoutedAgent):\n",
    "class EvalAgent(RoutedAgent):\n",
    "class KeywordRewriteAgent(RoutedAgent):\n",
    "class WebSearchAgent(RoutedAgent):\n",
    "class UserAgent(RoutedAgent):\n",
    "\n",
    "\n",
    "```\n",
    "```"
   ]
  },
  {
   "cell_type": "markdown",
   "id": "e378d9fd",
   "metadata": {},
   "source": [
    "Visualizing the abstract architecture of the pipeline will help you understand the message flow and the agent's role in the pipeline."
   ]
  },
  {
   "cell_type": "code",
   "execution_count": 24,
   "id": "52aa07a7",
   "metadata": {},
   "outputs": [
    {
     "data": {
      "image/png": "[encoded data removed]",
      "text/plain": [
       "<IPython.core.display.Image object>"
      ]
     },
     "metadata": {},
     "output_type": "display_data"
    }
   ],
   "source": [
    "from azure_genai_utils.graphs import visualize_agents\n",
    "\n",
    "agents = [\n",
    "    \"Start\",\n",
    "    \"IntentRouterAgent\",\n",
    "    \"RAGGraderAgent\",\n",
    "    \"QueryRewriteAgent\",\n",
    "    \"GenerateAgent\",\n",
    "    \"EvalAgent\",\n",
    "    \"KeywordRewriteAgent\",\n",
    "    \"WebSearchAgent\",\n",
    "    \"UserAgent\",\n",
    "]\n",
    "interactions = [\n",
    "    (\"Start\", \"IntentRouterAgent\"),\n",
    "    (\"IntentRouterAgent\", \"GenerateAgent\", \"Generates Response\"),\n",
    "    (\"IntentRouterAgent\", \"RAGGraderAgent\", \"Retrieval Context\"),\n",
    "    (\"IntentRouterAgent\", \"KeywordRewriteAgent\", \"Rewrites as keyword for bing search\"),\n",
    "    (\"GenerateAgent\", \"EvalAgent\"),\n",
    "    (\"EvalAgent\", \"UserAgent\"),\n",
    "    (\"RAGGraderAgent\", \"GenerateAgent\", \"Generates Response\"),\n",
    "    (\"RAGGraderAgent\", \"QueryRewriteAgent\", \"Rewrites Query\"),\n",
    "    (\"QueryRewriteAgent\", \"GenerateAgent\"),\n",
    "    (\"KeywordRewriteAgent\", \"WebSearchAgent\"),\n",
    "    (\"WebSearchAgent\", \"GenerateAgent\"),\n",
    "    #(\"EvalAgent\", \"IntentRouterAgent\"),\n",
    "]\n",
    "\n",
    "visualize_agents(agents, interactions)"
   ]
  },
  {
   "cell_type": "markdown",
   "id": "2c98b3eb",
   "metadata": {},
   "source": [
    "This is an example of visualized pipeline\n",
    "\n",
    "![\"adaptive-RAG\"](../../images/adaptive-RAG.png)"
   ]
  },
  {
   "cell_type": "code",
   "execution_count": 25,
   "id": "87d1f724",
   "metadata": {},
   "outputs": [],
   "source": [
    "@dataclass\n",
    "class Message:\n",
    "    intent: str = None\n",
    "    query: str = None\n",
    "    context: str = None\n",
    "    response: str = None\n",
    "    source: str = None\n",
    "    def set_source(self, source: str) -> \"Message\":\n",
    "        self.source = source\n",
    "        return self\n",
    "\n",
    "# Topic Definition\n",
    "user_query_topic_type = \"UserQuery\"\n",
    "rag_grader_topic_type = \"RagGraderAgent\"\n",
    "query_rewrite_topic_type = \"QueryRewriteAgent\"\n",
    "generate_topic_type = \"GenerateAgent\"\n",
    "eval_topic_type = \"EvalAgent\"\n",
    "keyword_rewrite_topic_type = \"KeywordRewriteAgent\"\n",
    "web_search_topic_type = \"WebSearchAgent\"\n",
    "user_topic_type = \"UserAgent\"\n",
    "\n",
    "query = \"\""
   ]
  },
  {
   "cell_type": "code",
   "execution_count": 26,
   "id": "6ee78e07",
   "metadata": {},
   "outputs": [],
   "source": [
    "# This prompt provides instructions to the model\n",
    "INTENT_ROUTER_PROMPT=\"\"\"\n",
    "                    The LLM covers casual topic such as greeting, small talks and basic information. \n",
    "                    Use the LLM for questions on IT related topics such as what is the history of microsoft, what is deep learning?, how can I learn about Gen AI.\n",
    "                    The RAG contains documents related to hotel information in New York until Aug, 2024.\n",
    "                    Use the RAG for questions on the hotel related topics. For all else, websearch.\n",
    "                    response inent_type such as LLM, RAG, or websearch.\n",
    "Query: {query}\n",
    "\"\"\"\n",
    "\n",
    "@type_subscription(topic_type=user_query_topic_type)\n",
    "class IntentRouterAgent(RoutedAgent):\n",
    "    def __init__(self, model_client: ChatCompletionClient) -> None:\n",
    "        super().__init__(\"Query Rewrite Agent\")\n",
    "        self._system_message = SystemMessage(\n",
    "            content=(\n",
    "                \"\"\"\n",
    "                    You are an expert at routing a user question to LLM or RAG or websearch.\n",
    "                \"\"\"\n",
    "            )\n",
    "        )\n",
    "        self._model_client = model_client\n",
    "\n",
    "    @message_handler\n",
    "    async def handle_message(self, message: Message, ctx: MessageContext) -> None:\n",
    "        print(f\"\\n{'-'*80}\\n{self.id.type} received a message:\\n\")\n",
    "\n",
    "        llm_result = await self._model_client.create(\n",
    "            messages=[self._system_message, \n",
    "                        UserMessage(content=INTENT_ROUTER_PROMPT.format(query=message.query), source=message.source),\n",
    "                      ],\n",
    "            extra_create_args={\"response_format\": IntentResponse},\n",
    "            cancellation_token=ctx.cancellation_token,\n",
    "        )\n",
    "        response_content = json.loads(llm_result.content)\n",
    "        print(response_content)\n",
    "        \n",
    "        if(response_content[\"intent_type\"] == \"LLM\"):\n",
    "            await self.publish_message(Message(intent=response_content[\"intent_type\"], query=message.query, context=\"no context\", source=message.source), topic_id=TopicId(type=generate_topic_type, source=message.source))\n",
    "        elif(response_content[\"intent_type\"] == \"RAG\"):    \n",
    "            await self.publish_message(Message(intent=response_content[\"intent_type\"], query=message.query, source=message.source), topic_id=TopicId(type=rag_grader_topic_type, source=message.source))\n",
    "        elif(response_content[\"intent_type\"] == \"websearch\"):\n",
    "            await self.publish_message(Message(intent=response_content[\"intent_type\"], query=message.query, source=message.source), topic_id=TopicId(type=keyword_rewrite_topic_type, source=message.source))"
   ]
  },
  {
   "cell_type": "code",
   "execution_count": 27,
   "id": "883dde68",
   "metadata": {},
   "outputs": [],
   "source": [
    "\n",
    "@type_subscription(topic_type=rag_grader_topic_type)\n",
    "class RAGGraderAgent(RoutedAgent):\n",
    "\n",
    "    def __init__(\n",
    "            self, \n",
    "            azure_ai_search_endpoint:str, \n",
    "            azure_search_admin_key:str,\n",
    "            index_name: str,\n",
    "            retrieval_evaluator: RetrievalEvaluator,\n",
    "            ) -> None:\n",
    "        \n",
    "        super().__init__(\"RAG Grader Agent\")\n",
    "        self.index_name = index_name\n",
    "        self.azure_ai_search_endpoint = azure_ai_search_endpoint\n",
    "        self.azure_search_admin_key = azure_search_admin_key\n",
    "        self.retrieval_evaluator = retrieval_evaluator\n",
    "\n",
    "    def config_search(self) -> SearchClient:\n",
    "        service_endpoint = self.azure_ai_search_endpoint\n",
    "        key = self.azure_search_admin_key\n",
    "        index_name = self.index_name\n",
    "        credential = AzureKeyCredential(key)\n",
    "        return SearchClient(endpoint=service_endpoint, index_name=index_name, credential=credential)\n",
    "\n",
    "    async def do_search(self, query: str) -> str:\n",
    "        \"\"\"Search indexed data using Azure Cognitive Search with vector-based queries.\"\"\"\n",
    "        aia_search_client = self.config_search()\n",
    "\n",
    "        fields = \"descriptionVector\" # TODO: Check if this is the correct field name\n",
    "        # don't use exhaustive search for large indexes\n",
    "        vector_query = VectorizableTextQuery(text=query, k_nearest_neighbors=1, fields=fields, exhaustive=True)\n",
    " \n",
    "        search_results = aia_search_client.search(  \n",
    "            search_text=query,  \n",
    "            vector_queries= [vector_query],\n",
    "            select=[\"Description,HotelName,Tags\"], #TODO: Check if these are the correct field names\n",
    "            top=5 #TODO: Check if this is the correct number of results\n",
    "        )\n",
    "        answer = \"\\n\".join([f'{document[\"HotelName\"]}:{document[\"Description\"]}:{document[\"Tags\"]}' for document in search_results])  \n",
    "        return answer\n",
    "    \n",
    "    @message_handler\n",
    "    async def handle_message(self, message: Message, ctx: MessageContext) -> None:\n",
    "        print(f\"\\n{'-'*80}\\n{self.id.type} received a message:\\n\")\n",
    "        \n",
    "        context_from_ai_search = await self.do_search(message.query)\n",
    "        print(context_from_ai_search)\n",
    "\n",
    "        query_response = dict(\n",
    "            query=query,\n",
    "            context=context_from_ai_search\n",
    "        )\n",
    "\n",
    "        retrieval_score = self.retrieval_evaluator (\n",
    "            **query_response\n",
    "        )\n",
    "\n",
    "        print(f\"retrieval_score: {retrieval_score['retrieval']}\")\n",
    "    \n",
    "        if(retrieval_score[\"retrieval\"] >= 3.0):\n",
    "            await self.publish_message(Message(intent=message.intent, query=message.query, context=context_from_ai_search, source=message.source), topic_id=TopicId(type=generate_topic_type, source=message.source))\n",
    "        elif(retrieval_score[\"retrieval\"] < 3.0):\n",
    "            await self.publish_message(Message(intent=message.intent, query=message.query, context=context_from_ai_search, source=message.source), topic_id=TopicId(type=query_rewrite_topic_type, source=message.source))"
   ]
  },
  {
   "cell_type": "code",
   "execution_count": 28,
   "id": "1e1edfc9",
   "metadata": {},
   "outputs": [],
   "source": [
    "REWRITE_PROMPT=\"\"\"\n",
    "You a question re-writer that converts an input question to a better version that is optimized\n",
    "for vectorstore retrieval. Look at the input and try to rewrite for hotel information service about the underlying semantic intent / meaning.\n",
    "follow the scope of the query and don't add more additional condition. \n",
    "Query: {query}\n",
    "\"\"\"\n",
    "\n",
    "@type_subscription(topic_type=query_rewrite_topic_type)\n",
    "class QueryRewriteAgent(RoutedAgent):\n",
    "    def __init__(self, model_client: ChatCompletionClient) -> None:\n",
    "        super().__init__(\"Query Rewrite Agent\")\n",
    "        self._system_message = SystemMessage(\n",
    "            content=(\n",
    "                \"\"\"\n",
    "                    You are an helper agent that can rewrite the query.\n",
    "                \"\"\"\n",
    "            )\n",
    "        )\n",
    "        self._model_client = model_client\n",
    "\n",
    "    @message_handler\n",
    "    async def handle_message(self, message: Message, ctx: MessageContext) -> None:\n",
    "        print(f\"\\n{'-'*80}\\n{self.id.type} received a message:\\n\")\n",
    "        print(f\"\\n{'-'*80}\\n{message.query} received query:\\n\")\n",
    "        llm_result = await self._model_client.create(\n",
    "            messages=[self._system_message, \n",
    "                        UserMessage(content=REWRITE_PROMPT.format(query=message.query), source=message.source),\n",
    "                      ],\n",
    "            cancellation_token=ctx.cancellation_token,\n",
    "        )\n",
    "        response = llm_result.content\n",
    "        print(f\"Rewrite query:\\n{response}\")\n",
    "        await self.publish_message(Message(intent=message.intent, query=response, context=message.context, source=message.source), topic_id=TopicId(type=generate_topic_type, source=message.source))"
   ]
  },
  {
   "cell_type": "code",
   "execution_count": 29,
   "id": "93e9a219",
   "metadata": {},
   "outputs": [],
   "source": [
    "# This prompt provides instructions to the model\n",
    "GROUNDED_PROMPT=\"\"\"\n",
    "Read the context carefully and answer the query in a friendly, concise, bulleted format.\n",
    "\n",
    "Follow these rules based on the Intent:\n",
    "\n",
    "LLM:\n",
    "Provide the answer in a casual, human-like chatbot style.\n",
    "Conclude with the statement: “I am saying this from my basic knowledge.”\n",
    "websearch or RAG:\n",
    "Use only the facts explicitly stated in the context.\n",
    "Conclude with the statement: “I am saying this based on the {intent}”\n",
    "If the context does not contain enough information to answer, respond with:\n",
    "\n",
    "“I don’t know.”\n",
    "Do not include any information outside the provided context.\n",
    "\n",
    "Intent: {intent}\n",
    "Query: {query}\n",
    "Context:\\n{context}\n",
    "\"\"\"\n",
    "\n",
    "@type_subscription(topic_type=generate_topic_type)\n",
    "class GenerateAgent(RoutedAgent):\n",
    "    def __init__(self, model_client: ChatCompletionClient) -> None:\n",
    "        super().__init__(\"Generate Agent\")\n",
    "        self._system_message = SystemMessage(\n",
    "            content=(\n",
    "                \"\"\"\n",
    "                    You are a friendly assistant that recommends hotels based on activities and amenities.\n",
    "                \"\"\"\n",
    "            )\n",
    "        )\n",
    "        self._model_client = model_client\n",
    "\n",
    "    @message_handler\n",
    "    async def handle_message(self, message: Message, ctx: MessageContext) -> None:\n",
    "        print(f\"\\n{'-'*80}\\n{self.id.type} received a message:\\n\")\n",
    "        llm_result = await self._model_client.create(\n",
    "            messages=[self._system_message, \n",
    "                UserMessage(content=GROUNDED_PROMPT.format(intent=message.intent, query=message.query, context=message.context), source=message.source),\n",
    "                  ],\n",
    "                  extra_create_args={\"response_format\": RecommendationList} if message.intent == \"RAG\" else {},\n",
    "            cancellation_token=ctx.cancellation_token,\n",
    "        )\n",
    "\n",
    "        response_content = llm_result.content\n",
    "\n",
    "        print(f\"Generated response:\\n{response_content}\")\n",
    "        if(message.intent == \"LLM\"):\n",
    "            await self.publish_message(AssistantMessage(content=response_content, source=message.source), topic_id=TopicId(type=user_topic_type, source=message.source))\n",
    "        else:\n",
    "            await self.publish_message(Message(intent=message.intent, query=message.query, context=message.context, response=response_content, source=message.source), topic_id=TopicId(type=eval_topic_type, source=message.source))"
   ]
  },
  {
   "cell_type": "code",
   "execution_count": 30,
   "id": "48289751",
   "metadata": {},
   "outputs": [],
   "source": [
    "INCORRECT_ANSWER=\"\"\"\n",
    "Hello, and thank you for bringing this to our attention! I may have provided an inaccurate or misleading response, and I sincerely apologize for the confusion.\n",
    "As an AI, I aim to deliver helpful and accurate information, but sometimes I might misinterpret or generate an incorrect response. Your feedback is invaluable and helps me improve.\n",
    "\n",
    "If you'd like, feel free to share more details or clarify your question, and I’ll do my best to assist you further. Thank you for your understanding and patience! 😊\n",
    "\"\"\"\n",
    "\n",
    "@type_subscription(topic_type=eval_topic_type)\n",
    "class EvalAgent(RoutedAgent):\n",
    "\n",
    "    def __init__(\n",
    "            self, \n",
    "            groundedness_evaluator: GroundednessEvaluator,\n",
    "            relevance_evaluator: RelevanceEvaluator,\n",
    "            ) -> None:\n",
    "        \n",
    "        super().__init__(\"Eval Agent\")\n",
    "        self.groundedness_evaluator = groundedness_evaluator\n",
    "        self.relevance_evaluator = relevance_evaluator\n",
    "\n",
    "    @message_handler\n",
    "    async def handle_message(self, message: Message, ctx: MessageContext) -> None:\n",
    "        print(f\"\\n{'-'*80}\\n{self.id.type} received a message:\\n\")\n",
    "        query_response = dict(\n",
    "            query=message.query,\n",
    "            context=message.context,\n",
    "            response=message.response\n",
    "            \n",
    "        )\n",
    "\n",
    "        groundedness_score = self.groundedness_evaluator (\n",
    "            **query_response\n",
    "        )\n",
    "        print(f\"groundness_score: {groundedness_score['groundedness']}\")\n",
    "        if(groundedness_score[\"groundedness\"] < 3.0):\n",
    "            await self.publish_message(AssistantMessage(content=INCORRECT_ANSWER, source=message.source), topic_id=TopicId(type=user_topic_type, source=message.source))\n",
    "        relevance_score = self.relevance_evaluator (\n",
    "            **query_response\n",
    "        )\n",
    "        \n",
    "        print(f\"relevance_score: {relevance_score['relevance']}\")\n",
    "        if(relevance_score[\"relevance\"] >= 3.0):\n",
    "            await self.publish_message(AssistantMessage(content=message.response, source=message.source), topic_id=TopicId(type=user_topic_type, source=message.source))\n",
    "        elif(relevance_score[\"relevance\"] < 3.0):\n",
    "            await self.publish_message(AssistantMessage(content=INCORRECT_ANSWER, source=message.source), topic_id=TopicId(type=user_topic_type, source=message.source))\n",
    "        "
   ]
  },
  {
   "cell_type": "code",
   "execution_count": 31,
   "id": "1078e59c",
   "metadata": {},
   "outputs": [],
   "source": [
    "KEYWORD_REWRITE_PROMPT=\"\"\"\n",
    "You a keyword re-writer that converts an input question to a better version that is optimized for search. \n",
    "Generate search keyword from a user query \n",
    "to be more specific, detailed, and likely to retrieve relevant information, allowing for a more accurate response through web search.\n",
    "Don't include the additional context from the user question.\n",
    "\n",
    "Query: {query}\n",
    "Revised web search query:\n",
    "\"\"\"\n",
    "\n",
    "@type_subscription(topic_type=keyword_rewrite_topic_type)\n",
    "class KeywordRewriteAgent(RoutedAgent):\n",
    "    def __init__(self, model_client: ChatCompletionClient) -> None:\n",
    "        super().__init__(\"Query Rewrite Agent\")\n",
    "        self._system_message = SystemMessage(\n",
    "            content=(\n",
    "                \"\"\"\n",
    "                    You are an helper agent that can rewrite the query.\n",
    "                \"\"\"\n",
    "            )\n",
    "        )\n",
    "        self._model_client = model_client\n",
    "\n",
    "    @message_handler\n",
    "    async def handle_message(self, message: Message, ctx: MessageContext) -> None:\n",
    "        print(f\"\\n{'-'*80}\\n{self.id.type} received a message:\\n\")\n",
    "        llm_result = await self._model_client.create(\n",
    "            messages=[self._system_message, \n",
    "                        UserMessage(content=KEYWORD_REWRITE_PROMPT.format(query=message.query), source=message.source),\n",
    "                      ],\n",
    "            cancellation_token=ctx.cancellation_token,\n",
    "        )\n",
    "        response = llm_result.content\n",
    "        \n",
    "        await self.publish_message(Message(intent=message.intent, query=response, context=message.context, source=message.source), topic_id=TopicId(type=web_search_topic_type, source=message.source))"
   ]
  },
  {
   "cell_type": "code",
   "execution_count": 32,
   "id": "f38deeb1",
   "metadata": {},
   "outputs": [],
   "source": [
    "INCORRECT_ANSWER=\"\"\"\n",
    "Hello, and thank you for bringing this to our attention! I may have provided an inaccurate or misleading response, and I sincerely apologize for the confusion.\n",
    "As an AI, I aim to deliver helpful and accurate information, but sometimes I might misinterpret or generate an incorrect response. Your feedback is invaluable and helps me improve.\n",
    "\n",
    "If you'd like, feel free to share more details or clarify your question, and I’ll do my best to assist you further. Thank you for your understanding and patience! 😊\n",
    "\"\"\"\n",
    "\n",
    "@type_subscription(topic_type=web_search_topic_type)\n",
    "class WebSearchAgent(RoutedAgent):\n",
    "\n",
    "    def __init__(\n",
    "            self, \n",
    "            web_search_tool: BingSearch,\n",
    "            retrieval_evaluator: RetrievalEvaluator,\n",
    "            ) -> None:\n",
    "        \n",
    "        super().__init__(\"WebSearch Agent\")\n",
    "        self.web_search_tool = web_search_tool\n",
    "        self.retrieval_evaluator = retrieval_evaluator\n",
    "\n",
    "    @message_handler\n",
    "    async def handle_message(self, message: Message, ctx: MessageContext) -> None:\n",
    "        print(f\"\\n{'-'*80}\\n{self.id.type} received a message:\\n\")\n",
    "        search_results = web_search_tool.invoke({\"query\": message.query})\n",
    "        print(search_results)\n",
    "        try:\n",
    "            contents = []\n",
    "            items = list(search_results)\n",
    "            for i in range(min(5, len(items))):\n",
    "                doc = items[i]\n",
    "                contents.append(doc.get(\"content\", \"No content\"))\n",
    "            content = \"\\n\".join(contents)\n",
    "        except Exception as e:\n",
    "            print(f\"Error: {e}\")\n",
    "            content = \"No content\"\n",
    "        \n",
    "        print(\"================================ search results ================================\")\n",
    "        print(content)\n",
    "\n",
    "        search_response = dict(\n",
    "            query=message.query,\n",
    "            context=content\n",
    "            \n",
    "        )\n",
    "\n",
    "        retrieval_score = self.retrieval_evaluator (\n",
    "            **search_response\n",
    "        )\n",
    "        print(f\"retrieval_score: {retrieval_score['retrieval']}\")\n",
    "        \n",
    "        if(retrieval_score[\"retrieval\"] >= 3.0):\n",
    "            await self.publish_message(Message(intent=message.intent, query=message.query, context=content, source=message.source), topic_id=TopicId(type=generate_topic_type, source=message.source))\n",
    "        elif(retrieval_score[\"retrieval\"] < 2.0):\n",
    "            await self.publish_message(AssistantMessage(content=INCORRECT_ANSWER, source=message.source), topic_id=TopicId(type=user_topic_type, source=message.source))\n",
    "        "
   ]
  },
  {
   "cell_type": "code",
   "execution_count": 33,
   "id": "d39cebcb",
   "metadata": {},
   "outputs": [],
   "source": [
    "def is_valid_json(data: str) -> bool:\n",
    "    if not isinstance(data, str):\n",
    "        return False\n",
    "    data = data.strip()\n",
    "    if not data:\n",
    "        return False\n",
    "    if not (data.startswith(\"{\") or data.startswith(\"[\")):  \n",
    "        return False\n",
    "    \n",
    "@type_subscription(topic_type=user_topic_type)\n",
    "class UserAgent(RoutedAgent):\n",
    "    def __init__(self) -> None:\n",
    "        super().__init__(\"A user agent that outputs the final copy to the user.\")\n",
    "\n",
    "    @message_handler\n",
    "    async def handle_final_copy(self, message: AssistantMessage, ctx: MessageContext) -> None:\n",
    "        print(f\"\\n{'-'*80}\\n{self.id.type} received a message:\\n\")\n",
    "        \n",
    "        if(is_valid_json(message.content)):\n",
    "            response_content = json.loads(message.content)\n",
    "            for recommendation in response_content['recommendation']:\n",
    "                print(recommendation)\n",
    "        else:\n",
    "            print(message.content)"
   ]
  },
  {
   "cell_type": "markdown",
   "id": "2a8fce6e",
   "metadata": {},
   "source": [
    "<br>\n",
    "\n",
    "## 🧪 Step 3. Execute the Workflow\n",
    "---\n",
    "\n",
    "### Execute the workflow"
   ]
  },
  {
   "cell_type": "code",
   "execution_count": 34,
   "id": "8c329af2",
   "metadata": {},
   "outputs": [
    {
     "data": {
      "text/plain": [
       "AgentType(type='UserAgent')"
      ]
     },
     "execution_count": 34,
     "metadata": {},
     "output_type": "execute_result"
    }
   ],
   "source": [
    "runtime = SingleThreadedAgentRuntime()\n",
    "\n",
    "await IntentRouterAgent.register(runtime, type=user_query_topic_type, factory=lambda: IntentRouterAgent(model_client=autogen_aoai_client))\n",
    "\n",
    "await RAGGraderAgent.register(runtime, type=rag_grader_topic_type, factory=lambda: RAGGraderAgent(\n",
    "    azure_ai_search_endpoint=azure_ai_search_endpoint,\n",
    "    azure_search_admin_key=azure_search_admin_key,\n",
    "    index_name=index_name,\n",
    "    retrieval_evaluator=RetrievalEvaluator(model_config),\n",
    "    ))\n",
    "\n",
    "await QueryRewriteAgent.register(runtime, type=query_rewrite_topic_type, factory=lambda: QueryRewriteAgent(model_client=autogen_aoai_client))\n",
    "\n",
    "await GenerateAgent.register(runtime, type=generate_topic_type, factory=lambda: GenerateAgent(model_client=autogen_aoai_client))\n",
    "\n",
    "await EvalAgent.register(runtime, type=eval_topic_type, factory=lambda: EvalAgent(\n",
    "    groundedness_evaluator=GroundednessEvaluator(model_config),\n",
    "    relevance_evaluator=RelevanceEvaluator(model_config),\n",
    "    ))\n",
    "\n",
    "WEB_SEARCH_FORMAT_OUTPUT = False\n",
    "\n",
    "await KeywordRewriteAgent.register(runtime, type=keyword_rewrite_topic_type, factory=lambda: KeywordRewriteAgent(model_client=autogen_aoai_client))\n",
    "\n",
    "await WebSearchAgent.register(runtime, type=web_search_topic_type, factory=lambda: WebSearchAgent(\n",
    "    web_search_tool=BingSearch(\n",
    "        max_results=3,\n",
    "        locale=\"en-US\",\n",
    "        include_news=False,\n",
    "        include_entity=False,\n",
    "        format_output=WEB_SEARCH_FORMAT_OUTPUT,\n",
    "    ),\n",
    "    retrieval_evaluator=RetrievalEvaluator(model_config),\n",
    "    ))\n",
    "\n",
    "\n",
    "await UserAgent.register(runtime, type=user_topic_type, factory=lambda: UserAgent())"
   ]
  },
  {
   "cell_type": "code",
   "execution_count": 37,
   "id": "32562244",
   "metadata": {},
   "outputs": [
    {
     "name": "stdout",
     "output_type": "stream",
     "text": [
      "\n",
      "--------------------------------------------------------------------------------\n",
      "UserQuery received a message:\n",
      "\n"
     ]
    },
    {
     "name": "stdout",
     "output_type": "stream",
     "text": [
      "{'intent_type': 'RAG'}\n",
      "\n",
      "--------------------------------------------------------------------------------\n",
      "RagGraderAgent received a message:\n",
      "\n",
      "Friendly Motor Inn:Close to historic sites, local attractions, and urban parks. Free Shuttle to the airport and casinos. Free breakfast and WiFi.:['24-hour front desk service', 'continental breakfast', 'free wifi']\n",
      "Double Sanctuary Resort:5 star Luxury Hotel - Biggest Rooms in the city. #1 Hotel in the area listed by Traveler magazine. Free WiFi, Flexible check in/out, Fitness Center & espresso in room.:['view', 'pool', 'restaurant', 'bar', 'continental breakfast']\n",
      "Starlight Suites:Complimentary Airport Shuttle & WiFi. Book Now and save - Spacious All Suite Hotel, Indoor Outdoor Pool, Fitness Center, Florida Green certified, Complimentary Coffee, HDTV:['pool', 'coffee in lobby', 'free wifi']\n",
      "Countryside Hotel:Save up to 50% off traditional hotels. Free WiFi, great location near downtown, full kitchen, washer & dryer, 24/7 support, bowling alley, fitness center and more.:['24-hour front desk service', 'laundry service', 'free wifi']\n",
      "Good Business Hotel:1 Mile from the airport. Free WiFi, Outdoor Pool, Complimentary Airport Shuttle, 6 miles from Lake Lanier & 10 miles from downtown. Our business center includes printers, a copy machine, fax, and a work area.:['pool', 'continental breakfast', 'free parking']\n",
      "retrieval_score: 1.0\n",
      "\n",
      "--------------------------------------------------------------------------------\n",
      "QueryRewriteAgent received a message:\n",
      "\n",
      "\n",
      "--------------------------------------------------------------------------------\n",
      "can you recommend some hotels with free wifi? received query:\n",
      "\n",
      "Rewrite query:\n",
      "Can you suggest hotels that offer complimentary Wi-Fi?\n",
      "\n",
      "--------------------------------------------------------------------------------\n",
      "GenerateAgent received a message:\n",
      "\n",
      "Generated response:\n",
      "{\"recommendation\":[{\"hotel_name\":\"Friendly Motor Inn\",\"description\":\"Close to historic sites, local attractions, and urban parks. Offers free breakfast and WiFi.\"},{\"hotel_name\":\"Double Sanctuary Resort\",\"description\":\"5-star Luxury Hotel with the biggest rooms in the city and free WiFi.\"},{\"hotel_name\":\"Starlight Suites\",\"description\":\"Spacious all-suite hotel with complimentary airport shuttle and WiFi.\"},{\"hotel_name\":\"Countryside Hotel\",\"description\":\"Great location near downtown with free WiFi and full kitchen amenities.\"},{\"hotel_name\":\"Good Business Hotel\",\"description\":\"Offers free WiFi, outdoor pool, and is close to the airport.\"}]}\n",
      "\n",
      "--------------------------------------------------------------------------------\n",
      "EvalAgent received a message:\n",
      "\n",
      "groundness_score: 5.0\n",
      "relevance_score: 5.0\n",
      "\n",
      "--------------------------------------------------------------------------------\n",
      "UserAgent received a message:\n",
      "\n",
      "{\"recommendation\":[{\"hotel_name\":\"Friendly Motor Inn\",\"description\":\"Close to historic sites, local attractions, and urban parks. Offers free breakfast and WiFi.\"},{\"hotel_name\":\"Double Sanctuary Resort\",\"description\":\"5-star Luxury Hotel with the biggest rooms in the city and free WiFi.\"},{\"hotel_name\":\"Starlight Suites\",\"description\":\"Spacious all-suite hotel with complimentary airport shuttle and WiFi.\"},{\"hotel_name\":\"Countryside Hotel\",\"description\":\"Great location near downtown with free WiFi and full kitchen amenities.\"},{\"hotel_name\":\"Good Business Hotel\",\"description\":\"Offers free WiFi, outdoor pool, and is close to the airport.\"}]}\n",
      "Elapsed time: 13.888880520011298 seconds\n"
     ]
    }
   ],
   "source": [
    "import time\n",
    "\n",
    "start_time = time.perf_counter()\n",
    "\n",
    "runtime.start()\n",
    "\n",
    "#await runtime.publish_message(Message(query=\"what is the history of Microsoft?\", source=\"User\"), topic_id=TopicId(type=user_query_topic_type, source=\"user\"))\n",
    "#await runtime.publish_message(Message(query=\"can you recommend a hoels\", source=\"User\"), topic_id=TopicId(type=user_query_topic_type, source=\"user\"))\n",
    "await runtime.publish_message(Message(query=\"can you recommend some hotels with free wifi?\", source=\"User\"), topic_id=TopicId(type=user_query_topic_type, source=\"user\"))\n",
    "#await runtime.publish_message(Message(query=\"can you tell me openning hotels in NY 2025?\", source=\"User\"), topic_id=TopicId(type=user_query_topic_type, source=\"user\"))\n",
    "\n",
    "await runtime.stop_when_idle()\n",
    "\n",
    "\n",
    "end_time = time.perf_counter()\n",
    "print(f\"Elapsed time: {end_time - start_time} seconds\")"
   ]
  },
  {
   "cell_type": "markdown",
   "id": "2cda1a04",
   "metadata": {},
   "source": []
  },
  {
   "cell_type": "markdown",
   "id": "eea3e223",
   "metadata": {},
   "source": []
  }
 ],
 "metadata": {
  "kernelspec": {
   "display_name": "venv_agent",
   "language": "python",
   "name": "python3"
  },
  "language_info": {
   "codemirror_mode": {
    "name": "ipython",
    "version": 3
   },
   "file_extension": ".py",
   "mimetype": "text/x-python",
   "name": "python",
   "nbconvert_exporter": "python",
   "pygments_lexer": "ipython3",
   "version": "3.11.11"
  }
 },
 "nbformat": 4,
 "nbformat_minor": 5
}
