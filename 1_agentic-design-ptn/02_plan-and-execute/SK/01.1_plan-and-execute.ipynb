{
 "cells": [
  {
   "cell_type": "markdown",
   "id": "abe54f99",
   "metadata": {},
   "source": [
    "# Plan and Execute Pattern using Semantic Kernel\n",
    "\n",
    "This notebook demonstrates the implementation of the Plan and Execute pattern using Semantic Kernel. This pattern improves agent performance by:\n",
    "\n",
    "1. Breaking down complex tasks into manageable sub-tasks (Planning)\n",
    "2. Executing each sub-task in sequence\n",
    "3. Adapting to feedback during execution\n",
    "\n",
    "## Architecture Overview\n",
    "\n",
    "The Plan and Execute pattern involves:\n",
    "- **Planner**: Responsible for generating a structured plan of sub-tasks\n",
    "- **Executor**: Handles the execution of each sub-task\n",
    "- **Memory**: Maintains context between steps\n",
    "- **Tools**: Custom functions that can be called during execution\n",
    "\n",
    "![Plan and Execute Pattern](../../../1_agentic-design-ptn/images/planning.png)"
   ]
  },
  {
   "cell_type": "markdown",
   "id": "354c1321",
   "metadata": {},
   "source": [
    "## Understanding the Plan and Execute Pattern\n",
    "\n",
    "The Plan and Execute pattern we've demonstrated offers several advantages:\n",
    "\n",
    "1. **Task Decomposition**: Complex tasks are broken down into simpler, manageable steps\n",
    "2. **Tool Selection**: The planner automatically selects the appropriate tools for each step\n",
    "3. **Adaptability**: If a step fails, the planner can adapt by trying alternative approaches\n",
    "4. **Explainability**: The plan provides transparency into how the agent approaches problems\n",
    "\n",
    "This pattern is particularly useful for tasks that require multiple steps or the use of various tools to complete.\n",
    "\n",
    "## Practical Applications\n",
    "\n",
    "The Plan and Execute pattern can be applied to various real-world scenarios:\n",
    "\n",
    "- **Customer Support**: Helping customers troubleshoot complex issues step by step\n",
    "- **Research Assistance**: Breaking down research questions into specific search queries and synthesis steps\n",
    "- **Task Automation**: Creating workflows that combine multiple API calls and data transformations\n",
    "- **Product Recommendations**: Gathering user preferences and matching them to suitable products\n",
    "\n",
    "## Next Steps\n",
    "\n",
    "To extend this pattern, consider:\n",
    "\n",
    "1. Adding error handling to retry failed steps\n",
    "2. Implementing dynamic replanning based on execution results\n",
    "3. Incorporating user feedback between steps\n",
    "4. Adding more specialized tools for specific domains"
   ]
  },
  {
   "cell_type": "code",
   "execution_count": 1,
   "id": "fa9e6a74",
   "metadata": {},
   "outputs": [],
   "source": [
    "# Setup and Dependencies\n",
    "import os\n",
    "import json\n",
    "import requests\n",
    "import asyncio\n",
    "import httpx\n",
    "from urllib.parse import urljoin\n",
    "import semantic_kernel as sk\n",
    "from semantic_kernel.connectors.ai.open_ai import AzureChatCompletion\n",
    "from semantic_kernel.planners import SequentialPlanner\n",
    "from semantic_kernel.planners.sequential_planner.sequential_planner_config import SequentialPlannerConfig\n",
    "from semantic_kernel.functions.kernel_function_decorator import kernel_function\n",
    "from typing import List, Dict, Any\n",
    "import nest_asyncio\n",
    "from IPython.display import display, Markdown\n",
    "import logging\n",
    "import sys\n",
    "sys.path.append(os.path.abspath('../../..'))  # Adjust the path as necessary\n",
    "from utils.search_utils import web_search\n",
    "\n",
    "\n",
    "# Apply nest_asyncio to allow nested event loops (required for Jupyter)\n",
    "nest_asyncio.apply()\n",
    "\n",
    "# Configure logging\n",
    "logging.basicConfig(level=logging.ERROR, format='%(asctime)s - %(name)s - %(levelname)s - %(message)s')\n",
    "logger = logging.getLogger(__name__)\n",
    "\n",
    "# Helper function to display markdown content\n",
    "def display_md(text: str):\n",
    "    display(Markdown(text))"
   ]
  },
  {
   "cell_type": "code",
   "execution_count": 2,
   "id": "bdce8539",
   "metadata": {},
   "outputs": [
    {
     "name": "stdout",
     "output_type": "stream",
     "text": [
      "Azure OpenAI Endpoint: https://aoai-services1.openai.azure.com/\n",
      "Deployment Name: gpt-4o-mini\n"
     ]
    }
   ],
   "source": [
    "# Load environment variables and configure Azure OpenAI\n",
    "from dotenv import load_dotenv\n",
    "load_dotenv()\n",
    "\n",
    "# Get API keys from environment variables\n",
    "AZURE_OPENAI_ENDPOINT = os.getenv(\"AZURE_OPENAI_ENDPOINT\")\n",
    "AZURE_OPENAI_API_KEY = os.getenv(\"AZURE_OPENAI_API_KEY\")\n",
    "DEPLOYMENT_NAME = os.getenv(\"AZURE_OPENAI_CHAT_DEPLOYMENT_NAME\")\n",
    "GOOGLE_API_KEY = os.getenv(\"GOOGLE_API_KEY\")\n",
    "GOOGLE_CSE_ID = os.getenv(\"GOOGLE_CSE_ID\")\n",
    "\n",
    "# Check that environment variables are set\n",
    "if not AZURE_OPENAI_ENDPOINT or not AZURE_OPENAI_API_KEY or not DEPLOYMENT_NAME:\n",
    "    raise ValueError(\"Please set AZURE_OPENAI_ENDPOINT, AZURE_OPENAI_KEY, and AZURE_OPENAI_DEPLOYMENT_NAME in .env file\")\n",
    "    \n",
    "print(f\"Azure OpenAI Endpoint: {AZURE_OPENAI_ENDPOINT}\")\n",
    "print(f\"Deployment Name: {DEPLOYMENT_NAME}\")\n",
    "\n",
    "# Check if Google Search API keys are available\n",
    "if not GOOGLE_API_KEY or not GOOGLE_CSE_ID:\n",
    "    print(\"Warning: GOOGLE_API_KEY or GOOGLE_CSE_ID not set. Web search functionality will be limited to demo mode.\")"
   ]
  },
  {
   "cell_type": "code",
   "execution_count": 3,
   "id": "04eb1c1b",
   "metadata": {},
   "outputs": [],
   "source": [
    "\n",
    "\n",
    "async def extract_text_from_url(url):\n",
    "    \"\"\"\n",
    "    Extract text content from a webpage URL.\n",
    "    \n",
    "    Args:\n",
    "        url: The URL to extract text from\n",
    "        \n",
    "    Returns:\n",
    "        Extracted text content\n",
    "    \"\"\"\n",
    "    # For demo purposes, we'll generate some simulated content\n",
    "    # In a real implementation, you would use httpx to fetch and parse the content\n",
    "    \n",
    "    # Simple simulation of webpage content based on URL\n",
    "    if \"example.com\" in url:\n",
    "        product_type = \"\"\n",
    "        for product in [\"smartphone\", \"laptop\", \"headphones\", \"smartwatch\", \"tablet\"]:\n",
    "            if product in url:\n",
    "                product_type = product\n",
    "                break\n",
    "        \n",
    "        if product_type:\n",
    "            return f\"This is a webpage about {product_type}s. It contains detailed information about features, specifications, and user reviews.\"\n",
    "        else:\n",
    "            return \"This is a generic technology webpage with product information and reviews.\"\n",
    "    \n",
    "    return \"Could not extract content from the provided URL.\"\n",
    "\n",
    "async def add_context_async(urls):\n",
    "    \"\"\"\n",
    "    Fetch and extract content from multiple URLs asynchronously.\n",
    "    \n",
    "    Args:\n",
    "        urls: List of URLs to fetch content from\n",
    "        \n",
    "    Returns:\n",
    "        List of extracted text content\n",
    "    \"\"\"\n",
    "    tasks = [extract_text_from_url(url) for url in urls]\n",
    "    results = await asyncio.gather(*tasks)\n",
    "    return results"
   ]
  },
  {
   "cell_type": "code",
   "execution_count": 4,
   "id": "e0fa46ca",
   "metadata": {},
   "outputs": [
    {
     "name": "stdout",
     "output_type": "stream",
     "text": [
      "Semantic Kernel initialized with Azure OpenAI service\n"
     ]
    }
   ],
   "source": [
    "# Initialize Semantic Kernel with Azure OpenAI\n",
    "kernel = sk.Kernel()\n",
    "\n",
    "# Add Azure OpenAI service\n",
    "kernel.add_service(\n",
    "    AzureChatCompletion(\n",
    "        service_id=\"azure_chat_completion\",\n",
    "        deployment_name=DEPLOYMENT_NAME,\n",
    "        endpoint=AZURE_OPENAI_ENDPOINT,\n",
    "        api_key=AZURE_OPENAI_API_KEY\n",
    "    )\n",
    ")\n",
    "\n",
    "print(\"Semantic Kernel initialized with Azure OpenAI service\")"
   ]
  },
  {
   "cell_type": "markdown",
   "id": "98cb63da",
   "metadata": {},
   "source": [
    "## Creating Native Functions (Tools)\n",
    "\n",
    "First, we'll create several native functions that our planner can use during execution. These functions represent the tools that our agent can use to complete tasks."
   ]
  },
  {
   "cell_type": "code",
   "execution_count": 5,
   "id": "0f7f4f76",
   "metadata": {},
   "outputs": [
    {
     "name": "stdout",
     "output_type": "stream",
     "text": [
      "Native functions registered as tools\n"
     ]
    }
   ],
   "source": [
    "# Create a plugin with native functions that can be used by the planner\n",
    "@kernel_function(\n",
    "    description=\"Searches for information about a product.\",\n",
    "    name=\"search_product\"\n",
    ")\n",
    "def search_product(query: str) -> str:\n",
    "    \"\"\"\n",
    "    Searches for information about a specified product using web search.\n",
    "    \n",
    "    Args:\n",
    "        query: The product to search for.\n",
    "        \n",
    "    Returns:\n",
    "        Information about the product.\n",
    "    \"\"\"\n",
    "    logger.info(f\"Searching for product: {query}\")\n",
    "    \n",
    "    # First try web search\n",
    "    results = web_search(query, num=3)\n",
    "    \n",
    "    if results:\n",
    "        # Process search results\n",
    "        product_info = f\"Found information about {query} from web search:\\n\\n\"\n",
    "        \n",
    "        for i, result in enumerate(results):\n",
    "            title = result.get(\"title\", \"Untitled\")\n",
    "            link = result.get(\"link\", \"\")\n",
    "            snippet = result.get(\"snippet\", result.get(\"text_content\", \"\"))\n",
    "            \n",
    "            product_info += f\"{i+1}. {title}\\n\"\n",
    "            product_info += f\"   URL: {link}\\n\"\n",
    "            if snippet:\n",
    "                product_info += f\"   Summary: {snippet}\\n\"\n",
    "            product_info += \"\\n\"\n",
    "            \n",
    "        return product_info\n",
    "    \n",
    "    return f\"Could not find specific information about '{query}'. Available products in our local database are: {', '.join(static_product_database.keys())}.\"\n",
    "\n",
    "@kernel_function(\n",
    "    description=\"Compares features between two products.\",\n",
    "    name=\"compare_products\"\n",
    ")\n",
    "def compare_products(product1: str, product2: str) -> str:\n",
    "    \"\"\"\n",
    "    Compares features between two products using web search.\n",
    "    \n",
    "    Args:\n",
    "        product1: First product to compare.\n",
    "        product2: Second product to compare.\n",
    "        \n",
    "    Returns:\n",
    "        Comparison between the products.\n",
    "    \"\"\"\n",
    "    logger.info(f\"Comparing products: {product1} vs {product2}\")\n",
    "    \n",
    "    # Search for each product\n",
    "    product1_results = web_search(product1, num=2)\n",
    "    product2_results = web_search(product2, num=2)\n",
    "    \n",
    "    if product1_results and product2_results:\n",
    "        comparison = f\"Comparison between {product1} and {product2} based on web search:\\n\\n\"\n",
    "        \n",
    "        # First product info\n",
    "        comparison += f\"## {product1.capitalize()} Information:\\n\"\n",
    "        for i, result in enumerate(product1_results[:2]):\n",
    "            title = result.get(\"title\", \"Untitled\")\n",
    "            snippet = result.get(\"snippet\", result.get(\"text_content\", \"No description available\"))\n",
    "            comparison += f\"{i+1}. {title}\\n   {snippet}\\n\\n\"\n",
    "        \n",
    "        # Second product info\n",
    "        comparison += f\"## {product2.capitalize()} Information:\\n\"\n",
    "        for i, result in enumerate(product2_results[:2]):\n",
    "            title = result.get(\"title\", \"Untitled\")\n",
    "            snippet = result.get(\"snippet\", result.get(\"text_content\", \"No description available\"))\n",
    "            comparison += f\"{i+1}. {title}\\n   {snippet}\\n\\n\"\n",
    "        \n",
    "        # Add comparison prompt\n",
    "        comparison += f\"Based on the information above, here are the key differences between {product1} and {product2}:\"\n",
    "        \n",
    "        return comparison\n",
    "    \n",
    "    return f\"No comparison data available between '{product1}' and '{product2}'. Try with more specific product types.\"\n",
    "\n",
    "@kernel_function(\n",
    "    description=\"Provides recommendations based on user preferences.\",\n",
    "    name=\"recommend_product\"\n",
    ")\n",
    "def recommend_product(preferences: str) -> str:\n",
    "    \"\"\"\n",
    "    Recommends products based on user preferences using web search.\n",
    "    \n",
    "    Args:\n",
    "        preferences: User preferences for product recommendations.\n",
    "        \n",
    "    Returns:\n",
    "        Product recommendations.\n",
    "    \"\"\"\n",
    "    logger.info(f\"Generating recommendations based on preferences: {preferences}\")\n",
    "    \n",
    "    # Create a search query based on user preferences\n",
    "    search_query = f\"best products for {preferences}\"\n",
    "    \n",
    "    # Perform web search\n",
    "    results = web_search(search_query, num=3)\n",
    "    \n",
    "    if results:\n",
    "        recommendations = f\"Based on your preferences for '{preferences}', here are some recommended products:\\n\\n\"\n",
    "        \n",
    "        for i, result in enumerate(results):\n",
    "            title = result.get(\"title\", \"Untitled\")\n",
    "            snippet = result.get(\"snippet\", result.get(\"text_content\", \"No description available\"))\n",
    "            \n",
    "            recommendations += f\"{i+1}. {title}\\n\"\n",
    "            recommendations += f\"   {snippet}\\n\\n\"\n",
    "            \n",
    "        return recommendations\n",
    "    \n",
    "    return \"Based on your preferences (from local database), I might need more specific information to make a tailored recommendation.\"\n",
    "\n",
    "# Register functions with the kernel\n",
    "# Register each function as a plugin\n",
    "kernel.add_function(plugin_name=\"product_plugin\", function=search_product)\n",
    "kernel.add_function(plugin_name=\"product_plugin\", function=compare_products)\n",
    "kernel.add_function(plugin_name=\"product_plugin\", function=recommend_product)\n",
    "\n",
    "print(\"Native functions registered as tools\")"
   ]
  },
  {
   "cell_type": "markdown",
   "id": "e53113fc",
   "metadata": {},
   "source": [
    "## Creating Semantic Functions\n",
    "\n",
    "Next, we'll create semantic functions that use natural language to perform tasks. These will be combined with our native functions in the planner."
   ]
  },
  {
   "cell_type": "code",
   "execution_count": 6,
   "id": "4d9d3681",
   "metadata": {},
   "outputs": [
    {
     "name": "stdout",
     "output_type": "stream",
     "text": [
      "Semantic functions created\n"
     ]
    }
   ],
   "source": [
    "# Create a semantic function for summarizing product information\n",
    "summarize_prompt = \"\"\"\n",
    "You are a helpful product specialist.\n",
    "Summarize the following product information in a concise and helpful manner.\n",
    "Focus on the key features and benefits that would be most relevant to customers.\n",
    "\n",
    "Product Information:\n",
    "{{$input}}\n",
    "\n",
    "Summary:\n",
    "\"\"\"\n",
    "\n",
    "summarize_function = kernel.add_function(\n",
    "    function_name=\"summarize_product_info\",\n",
    "    plugin_name=\"product_plugin\",\n",
    "    prompt=summarize_prompt,\n",
    "    description=\"Summarizes product information in a concise and helpful manner.\"\n",
    ")\n",
    "\n",
    "# Create a semantic function for generating product comparisons\n",
    "compare_prompt = \"\"\"\n",
    "You are a helpful product specialist.\n",
    "Create a detailed comparison between the products based on the information provided.\n",
    "Include pros and cons for each product and mention which types of users would prefer each option.\n",
    "\n",
    "Product Information:\n",
    "{{$input}}\n",
    "\n",
    "Comparison:\n",
    "\"\"\"\n",
    "\n",
    "compare_function = kernel.add_function(\n",
    "    function_name=\"generate_detailed_comparison\",\n",
    "    plugin_name=\"product_plugin\",\n",
    "    prompt=compare_prompt,\n",
    "    description=\"Generates a detailed comparison between products.\"\n",
    ")\n",
    "\n",
    "print(\"Semantic functions created\")"
   ]
  },
  {
   "cell_type": "markdown",
   "id": "5b439844",
   "metadata": {},
   "source": [
    "## Setting Up the Planner\n",
    "\n",
    "Now we'll configure the sequential planner, which will break down complex tasks into a sequence of steps using our available functions."
   ]
  },
  {
   "cell_type": "code",
   "execution_count": 7,
   "id": "0d7dc477",
   "metadata": {},
   "outputs": [
    {
     "name": "stdout",
     "output_type": "stream",
     "text": [
      "Sequential planner configured\n"
     ]
    }
   ],
   "source": [
    "# Configure the sequential planner\n",
    "planner_config = SequentialPlannerConfig(\n",
    "    relevancy_threshold=0.7,\n",
    "    max_tokens=1000,\n",
    "    included_functions=[\"search_product\", \"compare_products\", \"recommend_product\", \"summarize_product_info\", \"generate_detailed_comparison\"],\n",
    ")\n",
    "\n",
    "# Create the planner with the config as a named parameter\n",
    "planner = SequentialPlanner(service_id=\"azure_chat_completion\", kernel=kernel, config=planner_config)\n",
    "\n",
    "print(\"Sequential planner configured\")"
   ]
  },
  {
   "cell_type": "markdown",
   "id": "a841db64",
   "metadata": {},
   "source": [
    "## Executing a Plan\n",
    "\n",
    "Let's put our plan and execute pattern to work with a sample scenario. We'll ask the agent to help a customer find the right product based on their needs."
   ]
  },
  {
   "cell_type": "code",
   "execution_count": 8,
   "id": "b482e61e",
   "metadata": {},
   "outputs": [
    {
     "name": "stdout",
     "output_type": "stream",
     "text": [
      "🎯 Goal: I need a recommendation for a product with good battery life for a college student.\n",
      "\n",
      "⚙️ Generating plan...\n",
      "\n"
     ]
    },
    {
     "data": {
      "text/markdown": [
       "### Generated Plan\n",
       "Step 1: Provides recommendations based on user preferences."
      ],
      "text/plain": [
       "<IPython.core.display.Markdown object>"
      ]
     },
     "metadata": {},
     "output_type": "display_data"
    },
    {
     "name": "stdout",
     "output_type": "stream",
     "text": [
      "\n",
      "🚀 Executing plan...\n",
      "\n",
      "Using web search mode: bing\n",
      "\n",
      "✅ Plan execution completed\n",
      "\n"
     ]
    },
    {
     "data": {
      "text/markdown": [
       "### Result\n",
       "Based on your preferences for 'good battery life for a college student', here are some recommended products:\n",
       "\n",
       "1. Untitled\n",
       "   No description available\n",
       "\n",
       "2. Untitled\n",
       "   No description available\n",
       "\n",
       "3. Untitled\n",
       "   No description available\n",
       "\n",
       "4. Untitled\n",
       "   No description available\n",
       "\n"
      ],
      "text/plain": [
       "<IPython.core.display.Markdown object>"
      ]
     },
     "metadata": {},
     "output_type": "display_data"
    }
   ],
   "source": [
    "async def execute_plan_and_display(goal: str):\n",
    "    \n",
    "    \n",
    "    \n",
    "    \"\"\"Execute a plan based on the specified goal and display the results.\"\"\"\n",
    "    print(f\"🎯 Goal: {goal}\")\n",
    "    print(\"\\n⚙️ Generating plan...\\n\")\n",
    "    \n",
    "    # Create and display the plan\n",
    "    plan = await planner.create_plan(goal)\n",
    "    plan_steps = \"\\n\".join([f\"Step {i+1}: {step.description}\" for i, step in enumerate(plan.steps)])\n",
    "    display_md(f\"### Generated Plan\\n{plan_steps}\")\n",
    "    \n",
    "    print(\"\\n🚀 Executing plan...\\n\")\n",
    "    \n",
    "    # Execute the plan\n",
    "    result = await plan.invoke(kernel=kernel)\n",
    "    print(\"\\n✅ Plan execution completed\\n\")\n",
    "    display_md(f\"### Result\\n{result}\")\n",
    "\n",
    "# Example goal\n",
    "goal = \"I need a recommendation for a product with good battery life for a college student.\"\n",
    "\n",
    "# Execute the plan\n",
    "await execute_plan_and_display(goal)"
   ]
  },
  {
   "cell_type": "markdown",
   "id": "705722fc",
   "metadata": {},
   "source": [
    "## Try Different Goals\n",
    "\n",
    "Let's try different types of user requests to see how our planner adapts."
   ]
  },
  {
   "cell_type": "code",
   "execution_count": 9,
   "id": "c0928a49",
   "metadata": {},
   "outputs": [
    {
     "name": "stdout",
     "output_type": "stream",
     "text": [
      "🎯 Goal: Compare the features of a samsung laptop and a samsung tablet for someone who needs to do both schoolwork and watch movies.\n",
      "\n",
      "⚙️ Generating plan...\n",
      "\n"
     ]
    },
    {
     "data": {
      "text/markdown": [
       "### Generated Plan\n",
       "Step 1: Searches for information about a product.\n",
       "Step 2: Searches for information about a product.\n",
       "Step 3: Generates a detailed comparison between products."
      ],
      "text/plain": [
       "<IPython.core.display.Markdown object>"
      ]
     },
     "metadata": {},
     "output_type": "display_data"
    },
    {
     "name": "stdout",
     "output_type": "stream",
     "text": [
      "\n",
      "🚀 Executing plan...\n",
      "\n",
      "Using web search mode: bing\n",
      "Using web search mode: bing\n",
      "\n",
      "✅ Plan execution completed\n",
      "\n"
     ]
    },
    {
     "data": {
      "text/markdown": [
       "### Result\n",
       "It appears that there may have been an error in the product information you intended to share, as there is no specific data or URLs provided for the Samsung tablet or any other competing product. However, I can create a hypothetical comparison between a Samsung tablet and another popular tablet brand, such as Apple’s iPad, as an example.\n",
       "\n",
       "### Product Comparison: Samsung Tablet vs. Apple iPad\n",
       "\n",
       "---\n",
       "\n",
       "#### 1. Samsung Galaxy Tab S7+\n",
       "\n",
       "**Overview:**\n",
       "The Samsung Galaxy Tab S7+ is a high-end tablet characterized by its vibrant display, powerful processor, and versatility, especially when paired with the S Pen.\n",
       "\n",
       "**Pros:**\n",
       "- **Display:** 12.4-inch Super AMOLED display with a resolution of 2800 x 1752 pixels, offering vibrant colors and deep blacks.\n",
       "- **Performance:** Powerful Snapdragon 865+ chipset, capable of handling tasks from graphic-intensive games to multitasking with multiple apps.\n",
       "- **Stylus Support:** Comes with an S Pen included, perfect for note-taking, drawing, and other creative tasks.\n",
       "- **Expandable Storage:** Supports microSD cards for additional storage, allowing users to easily expand their memory.\n",
       "- **DeX Mode:** Offers a desktop-like experience when connected to a monitor, ideal for productivity users.\n",
       "\n",
       "**Cons:**\n",
       "- **Price:** More expensive than other tablets in the market, which might not fit all budgets.\n",
       "- **Software Updates:** While Samsung provides updates, they may not be as timely as Apple’s iOS updates.\n",
       "- **App Optimization:** Some apps may not be fully optimized for tablet use compared to their iOS counterparts.\n",
       "\n",
       "**Ideal Users:**\n",
       "- Creative professionals who benefit from the S Pen and large display.\n",
       "- Multitaskers who need a reliable device for productivity.\n",
       "- Users who prefer Android OS and want the flexibility of expandable storage.\n",
       "\n",
       "---\n",
       "\n",
       "#### 2. Apple iPad Pro (12.9-inch)\n",
       "\n",
       "**Overview:**\n",
       "The iPad Pro is Apple’s premium tablet, known for its exceptional build quality, strong performance, and a rich ecosystem of applications.\n",
       "\n",
       "**Pros:**\n",
       "- **Display:** 12.9-inch Liquid Retina display with ProMotion technology, resulting in ultra-smooth visuals and responsiveness.\n",
       "- **Performance:** Equipped with the M1 chip, delivering high performance that can rival laptops.\n",
       "- **App Ecosystem:** Access to a comprehensive range of apps, many of which are optimized for the iPad experience.\n",
       "- **Apple Pencil Support:** The Apple Pencil (2nd generation) provides excellent precision for drawing and note-taking (sold separately).\n",
       "- **Longevity and Resale Value:** iPads generally have longer software support and better resale values.\n",
       "\n",
       "**Cons:**\n",
       "- **Price:** Premium pricing can be a barrier for budget-conscious consumers.\n",
       "- **No Expandable Storage:** Users are limited to the internal storage options, with no microSD support.\n",
       "- **Accessories Extra Cost:** Accessories like the Apple Pencil and Magic Keyboard add to the overall price.\n",
       "\n",
       "**Ideal Users:**\n",
       "- Professionals and creatives who use design, illustration, and productivity software extensively.\n",
       "- Apple ecosystem users who want seamless integration with their other Apple devices.\n",
       "- Users looking for a device with high resale value and longevity.\n",
       "\n",
       "---\n",
       "\n",
       "### Conclusion\n",
       "\n",
       "**Choosing the Right Tablet:**\n",
       "\n",
       "- **Samsung Galaxy Tab S7+:** Ideal for users who enjoy flexibility with Android, want a stylus included for creative uses, and value expandable storage. Great for artists, students, and multitaskers.\n",
       "  \n",
       "- **Apple iPad Pro:** Best suited for users who are already invested in the Apple ecosystem, prioritize performance, and require apps that are well-optimized for the tablet interface. Excellent for professionals involved in creative fields or anyone needing a powerful productivity tool.\n",
       "\n",
       "In summary, the decision largely boils down to personal preference in operating systems, desired features (like stylus functionality), and how much budget flexibility exists."
      ],
      "text/plain": [
       "<IPython.core.display.Markdown object>"
      ]
     },
     "metadata": {},
     "output_type": "display_data"
    }
   ],
   "source": [
    "# Let's try a comparison request\n",
    "comparison_goal = \"Compare the features of a samsung laptop and a samsung tablet for someone who needs to do both schoolwork and watch movies.\"\n",
    "\n",
    "await execute_plan_and_display(comparison_goal)"
   ]
  },
  {
   "cell_type": "code",
   "execution_count": 10,
   "id": "d6c5fb82",
   "metadata": {},
   "outputs": [
    {
     "name": "stdout",
     "output_type": "stream",
     "text": [
      "🎯 Goal: I want to know the camera quality and storage options for the smartphone.\n",
      "\n",
      "⚙️ Generating plan...\n",
      "\n"
     ]
    },
    {
     "data": {
      "text/markdown": [
       "### Generated Plan\n",
       "Step 1: Searches for information about a product.\n",
       "Step 2: Summarizes product information in a concise and helpful manner.\n",
       "Step 3: Generates a detailed comparison between products."
      ],
      "text/plain": [
       "<IPython.core.display.Markdown object>"
      ]
     },
     "metadata": {},
     "output_type": "display_data"
    },
    {
     "name": "stdout",
     "output_type": "stream",
     "text": [
      "\n",
      "🚀 Executing plan...\n",
      "\n",
      "Using web search mode: bing\n",
      "\n",
      "✅ Plan execution completed\n",
      "\n"
     ]
    },
    {
     "data": {
      "text/markdown": [
       "### Result\n",
       "It seems there might have been some misunderstanding as no specific products or their details were provided for comparison. However, I can help you create a structured outline for comparing smartphones based on hypothetical or commonly found features. If you have specific smartphones in mind or can provide more details, feel free to share, and I will tailor the comparison accordingly.\n",
       "\n",
       "Here's a structured comparison format you can use:\n",
       "\n",
       "### Smartphone A vs. Smartphone B\n",
       "\n",
       "#### Key Features\n",
       "- **Smartphone A**:\n",
       "  - Display Size: 6.5 inches, AMOLED\n",
       "  - Processor: Snapdragon 888\n",
       "  - Camera: Triple-lens (108MP main, 12MP ultrawide, 5MP macro)\n",
       "  - Battery: 4500mAh with fast charging\n",
       "  - OS: Android 12\n",
       "  - Storage Options: 128GB, 256GB with expandable storage\n",
       "\n",
       "- **Smartphone B**:\n",
       "  - Display Size: 6.2 inches, LCD\n",
       "  - Processor: MediaTek Dimensity 1200\n",
       "  - Camera: Dual-lens (64MP main, 12MP ultrawide)\n",
       "  - Battery: 5000mAh with standard charging\n",
       "  - OS: Android 11\n",
       "  - Storage Options: 64GB, 128GB without expandable storage\n",
       "\n",
       "#### Pros and Cons\n",
       "\n",
       "**Smartphone A:**\n",
       "- **Pros:**\n",
       "  - High-resolution camera ideal for photography enthusiasts.\n",
       "  - AMOLED display offering better colors and contrast.\n",
       "  - Faster processor, great for gaming and multitasking.\n",
       "  - Expandable storage helps accommodate more files and apps.\n",
       "  \n",
       "- **Cons:**\n",
       "  - Smaller battery compared to Smartphone B, potentially leading to shorter usage time.\n",
       "  - Premium features might lead to a higher price point.\n",
       "\n",
       "- **Target Users:**\n",
       "  - Ideal for tech-savvy users who prioritize camera quality, gaming performance, and media consumption.\n",
       "\n",
       "**Smartphone B:**\n",
       "- **Pros:**\n",
       "  - Larger battery capacity ensures longer usage on a full charge.\n",
       "  - More affordable price point, making it budget-friendly.\n",
       "  - Decent performance for everyday tasks and moderate gaming.\n",
       "\n",
       "- **Cons:**\n",
       "  - LCD display may not provide vibrant colors compared to AMOLED.\n",
       "  - Limited camera setup may not appeal to serious photography enthusiasts.\n",
       "  - No option for expandable storage can limit file storage options.\n",
       "\n",
       "- **Target Users:**\n",
       "  - Suitable for budget-conscious users who need a reliable smartphone for daily use without advanced photography or gaming features.\n",
       "\n",
       "### Conclusion\n",
       "In choosing between Smartphone A and Smartphone B, potential users should consider their priorities. Those seeking high performance, excellent camera capabilities, and vibrant displays might lean towards Smartphone A, while those looking for a more budget-friendly, reliable, and longer-lasting device might find Smartphone B to be more suitable.\n",
       "\n",
       "If you can provide specific smartphone models or additional details, I'll create a more tailored and accurate comparison!"
      ],
      "text/plain": [
       "<IPython.core.display.Markdown object>"
      ]
     },
     "metadata": {},
     "output_type": "display_data"
    }
   ],
   "source": [
    "# Let's try a specific product search request\n",
    "search_goal = \"I want to know the camera quality and storage options for the smartphone.\"\n",
    "\n",
    "await execute_plan_and_display(search_goal)"
   ]
  },
  {
   "cell_type": "code",
   "execution_count": null,
   "id": "8d7dd02b",
   "metadata": {},
   "outputs": [],
   "source": []
  }
 ],
 "metadata": {
  "kernelspec": {
   "display_name": "venv_agentlab",
   "language": "python",
   "name": "python3"
  },
  "language_info": {
   "codemirror_mode": {
    "name": "ipython",
    "version": 3
   },
   "file_extension": ".py",
   "mimetype": "text/x-python",
   "name": "python",
   "nbconvert_exporter": "python",
   "pygments_lexer": "ipython3",
   "version": "3.11.11"
  }
 },
 "nbformat": 4,
 "nbformat_minor": 5
}
