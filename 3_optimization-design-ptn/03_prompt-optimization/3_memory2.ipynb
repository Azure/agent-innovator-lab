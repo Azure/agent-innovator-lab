{
 "cells": [
  {
   "cell_type": "code",
   "execution_count": 1,
   "id": "f2d5666f",
   "metadata": {},
   "outputs": [
    {
     "name": "stdout",
     "output_type": "stream",
     "text": [
      "=== Initialized AzuureOpenAI client ===\n",
      "AZURE_OPENAI_ENDPOINT=https://aihubeastus-aiservices.openai.azure.com/\n",
      "AZURE_OPENAI_API_VERSION=2025-01-01-preview\n",
      "AZURE_OPENAI_DEPLOYMENT_NAME=gpt-4o\n"
     ]
    }
   ],
   "source": [
    "import os\n",
    "from openai import AzureOpenAI\n",
    "from dotenv import load_dotenv, find_dotenv\n",
    "\n",
    "load_dotenv()\n",
    "\n",
    "aoai_api_endpoint = os.getenv(\"AZURE_OPENAI_ENDPOINT\")\n",
    "aoai_api_key = os.getenv(\"AZURE_OPENAI_API_KEY\")\n",
    "aoai_api_version = os.getenv(\"AZURE_OPENAI_API_VERSION\")\n",
    "aoai_deployment_name = os.getenv(\"AZURE_OPENAI_DEPLOYMENT_NAME\")\n",
    "\n",
    "if not aoai_api_version:\n",
    "    aoai_api_version = os.getenv(\"OPENAI_API_VERSION\")\n",
    "if not aoai_deployment_name:\n",
    "    aoai_deployment_name = os.getenv(\"DEPLOYMENT_NAME\")\n",
    "\n",
    "try:\n",
    "    print(\"=== Initialized AzuureOpenAI client ===\")\n",
    "    print(f\"AZURE_OPENAI_ENDPOINT={aoai_api_endpoint}\")\n",
    "    print(f\"AZURE_OPENAI_API_VERSION={aoai_api_version}\")\n",
    "    print(f\"AZURE_OPENAI_DEPLOYMENT_NAME={aoai_deployment_name}\")\n",
    "except (ValueError, TypeError) as e:\n",
    "    print(e)"
   ]
  },
  {
   "cell_type": "code",
   "execution_count": 2,
   "id": "25957ecf",
   "metadata": {},
   "outputs": [
    {
     "name": "stderr",
     "output_type": "stream",
     "text": [
      "/Users/daekeun/.pyenv/versions/3.12.2/envs/py312-dev/lib/python3.12/site-packages/langsmith/client.py:354: LangSmithMissingAPIKeyWarning: API key must be provided when using hosted LangSmith API\n",
      "  warnings.warn(\n"
     ]
    }
   ],
   "source": [
    "from azure_genai_utils.rag.pdf import PDFRetrievalChain\n",
    "\n",
    "pdf_path = \"./AutoGen-paper.pdf\"\n",
    "\n",
    "pdf = PDFRetrievalChain(\n",
    "    source_uri=[pdf_path],\n",
    "    loader_type=\"PDFPlumber\",\n",
    "    model_name=\"gpt-4o-mini\",\n",
    "    embedding_name=\"text-embedding-3-large\",\n",
    "    chunk_size=500,\n",
    "    chunk_overlap=50,\n",
    ").create_chain()\n",
    "\n",
    "pdf_retriever = pdf.retriever\n",
    "pdf_chain = pdf.chain"
   ]
  },
  {
   "cell_type": "code",
   "execution_count": 3,
   "id": "12935d44",
   "metadata": {},
   "outputs": [],
   "source": [
    "# from langchain import hub\n",
    "# from langchain_core.output_parsers import StrOutputParser\n",
    "# from langchain_core.prompts import load_prompt\n",
    "# from langchain_openai import AzureChatOpenAI\n",
    "\n",
    "\n",
    "# def format_docs(docs):\n",
    "#     return \"\\n\\n\".join(\n",
    "#         [\n",
    "#             f'<document><content>{doc.page_content}</content><source>{doc.metadata[\"source\"]}</source><page>{doc.metadata[\"page\"]+1}</page></document>'\n",
    "#             for doc in docs\n",
    "#         ]\n",
    "#     )"
   ]
  },
  {
   "cell_type": "code",
   "execution_count": 4,
   "id": "5a1641f5",
   "metadata": {},
   "outputs": [],
   "source": [
    "import json\n",
    "from typing import List, Literal, Optional\n",
    "\n",
    "import tiktoken\n",
    "from langchain_community.tools.tavily_search import TavilySearchResults\n",
    "from langchain_core.documents import Document\n",
    "from langchain_core.embeddings import Embeddings\n",
    "from langchain_core.messages import get_buffer_string\n",
    "from langchain_core.prompts import ChatPromptTemplate\n",
    "from langchain_core.runnables import RunnableConfig\n",
    "from langchain_core.tools import tool\n",
    "from langchain_core.vectorstores import InMemoryVectorStore\n",
    "from langchain_openai import AzureChatOpenAI\n",
    "from langchain_openai.embeddings import AzureOpenAIEmbeddings\n",
    "from langgraph.checkpoint.memory import MemorySaver\n",
    "from langgraph.graph import END, START, MessagesState, StateGraph\n",
    "from langgraph.prebuilt import ToolNode"
   ]
  },
  {
   "cell_type": "code",
   "execution_count": 5,
   "id": "36b9c940",
   "metadata": {},
   "outputs": [],
   "source": [
    "embeddings = AzureOpenAIEmbeddings(\n",
    "    model=\"text-embedding-3-large\",\n",
    "    chunk_size=1000,\n",
    ")\n",
    "recall_vector_store = InMemoryVectorStore(embeddings)"
   ]
  },
  {
   "cell_type": "markdown",
   "id": "644bcb72",
   "metadata": {},
   "source": [
    "### Define tools"
   ]
  },
  {
   "cell_type": "code",
   "execution_count": 6,
   "id": "65772621",
   "metadata": {},
   "outputs": [],
   "source": [
    "import uuid\n",
    "\n",
    "\n",
    "def get_user_id(config: RunnableConfig) -> str:\n",
    "    user_id = config[\"configurable\"].get(\"user_id\")\n",
    "    if user_id is None:\n",
    "        raise ValueError(\"User ID needs to be provided to save a memory.\")\n",
    "\n",
    "    return user_id\n",
    "\n",
    "\n",
    "@tool\n",
    "def save_recall_memory(memory: str, config: RunnableConfig) -> str:\n",
    "    \"\"\"Save memory to vectorstore for later semantic retrieval.\"\"\"\n",
    "    user_id = get_user_id(config)\n",
    "    document = Document(\n",
    "        page_content=memory, id=str(uuid.uuid4()), metadata={\"user_id\": user_id}\n",
    "    )\n",
    "    recall_vector_store.add_documents([document])\n",
    "    return memory\n",
    "\n",
    "\n",
    "@tool\n",
    "def search_recall_memories(query: str, config: RunnableConfig) -> List[str]:\n",
    "    \"\"\"Search for relevant memories.\"\"\"\n",
    "    user_id = get_user_id(config)\n",
    "\n",
    "    def _filter_function(doc: Document) -> bool:\n",
    "        return doc.metadata.get(\"user_id\") == user_id\n",
    "\n",
    "    documents = recall_vector_store.similarity_search(\n",
    "        query, k=3, filter=_filter_function\n",
    "    )\n",
    "    return [document.page_content for document in documents]\n",
    "\n",
    "\n",
    "@tool\n",
    "def pdf_retrieve(query: str, config: RunnableConfig):\n",
    "    \"\"\"Retrieve information regarding AutoGen paper. If the query asks for details about AutoGen, use this tool.\"\"\"\n",
    "    print(\"\\n==== [RETRIEVE] ====\\n\")\n",
    "    # msg = state[\"messages\"][-1][\"user\"]\n",
    "    # convo_str = get_buffer_string(state[\"messages\"])\n",
    "    documents = pdf_retriever.invoke(query)\n",
    "    return [document.page_content for document in documents]"
   ]
  },
  {
   "cell_type": "code",
   "execution_count": 7,
   "id": "9b760cbc",
   "metadata": {},
   "outputs": [],
   "source": [
    "from azure_genai_utils.tools import BingSearch\n",
    "\n",
    "WEB_SEARCH_FORMAT_OUTPUT = False\n",
    "\n",
    "web_search_tool = BingSearch(\n",
    "    max_results=1,\n",
    "    locale=\"en-US\",\n",
    "    include_news=False,\n",
    "    include_entity=False,\n",
    "    format_output=WEB_SEARCH_FORMAT_OUTPUT,\n",
    ")"
   ]
  },
  {
   "cell_type": "code",
   "execution_count": null,
   "id": "93d20006",
   "metadata": {},
   "outputs": [],
   "source": [
    "# search = TavilySearchResults(max_results=1)\n",
    "tools = [save_recall_memory, search_recall_memories, pdf_retrieve, web_search_tool]"
   ]
  },
  {
   "cell_type": "code",
   "execution_count": 9,
   "id": "e99967ca",
   "metadata": {},
   "outputs": [],
   "source": [
    "from typing import List\n",
    "from typing_extensions import TypedDict, Annotated\n",
    "\n",
    "\n",
    "class State(MessagesState):\n",
    "    # add memories that will be retrieved based on the conversation context\n",
    "    recall_memories: Annotated[List[str], \"List of recall memories\"]\n",
    "    # documents: Annotated[List[str], \"List of documents\"]"
   ]
  },
  {
   "cell_type": "code",
   "execution_count": 10,
   "id": "b47dcb90",
   "metadata": {},
   "outputs": [],
   "source": [
    "system_prpmpt = \"\"\"\n",
    "You are a helpful assistant with advanced long-term memory capabilities. \n",
    "Powered by a stateless LLM, you must rely on external memory to store information between conversations. \n",
    "Utilize the available memory tools to store and retrieve important details that will help you better attend to the user's needs and understand their context.\n",
    "\n",
    "## Memory Usage Guidelines:\n",
    "1. Actively use memory tools (save_core_memory, save_recall_memory) to build a comprehensive understanding of the user.\n",
    "2. Make informed suppositions and extrapolations based on stored memories.\n",
    "3. Regularly reflect on past interactions to identify patterns and preferences.\n",
    "4. Update your mental model of the user with each new piece of information.\n",
    "5. Cross-reference new information with existing memories for consistency.\n",
    "6. Prioritize storing emotional context and personal values alongside facts.\n",
    "7. Use memory to anticipate needs and tailor responses to the user's style.\n",
    "8. Recognize and acknowledge changes in the user's situation or perspectives over time.\n",
    "9. Leverage memories to provide personalized examples and analogies.\n",
    "10. Recall past challenges or successes to inform current problem-solving.\n",
    "\n",
    "## Constraint\n",
    "1. Review the provided context thoroughly and extract key details related to the question.\n",
    "2. Craft a precise answer based on the relevant information.\n",
    "3. Keep the answer concise but logical/natural/in-depth.\n",
    "4. If the retrieved context does not contain relevant information or no context is available, respond with: 'I can't find the answer to that question in the context.'\n",
    "\n",
    "## Recall Memories\n",
    "Recall memories are contextually retrieved based on the current conversation:\n",
    "{recall_memories}\n",
    "\n",
    "## Instructions\n",
    "Engage with the user naturally, as a trusted colleague or friend. There's no need to explicitly mention your memory capabilities. \n",
    "Instead, seamlessly incorporate your understanding of the user into your responses. \n",
    "Be attentive to subtle cues and underlying emotions. Adapt your communication style to match the user's preferences and current emotional state. \n",
    "Use tools to persist information you want to retain in the next conversation. \n",
    "If you do call tools, all text preceding the tool call is an internal message. \n",
    "Respond AFTER calling the tool, once you have confirmation that the tool completed successfully.\n",
    "\"\"\"\n",
    "\n",
    "# Define the prompt template for the agent\n",
    "prompt = ChatPromptTemplate.from_messages(\n",
    "    [\n",
    "        (\"system\", system_prpmpt),\n",
    "        (\"placeholder\", \"{messages}\"),\n",
    "    ]\n",
    ")"
   ]
  },
  {
   "cell_type": "code",
   "execution_count": null,
   "id": "05f88e7b",
   "metadata": {},
   "outputs": [],
   "source": [
    "# # 예쁘게 출력\n",
    "# print(prompt.pretty_print())"
   ]
  },
  {
   "cell_type": "code",
   "execution_count": 11,
   "id": "0b9b2001",
   "metadata": {},
   "outputs": [],
   "source": [
    "model = AzureChatOpenAI(model_name=aoai_deployment_name)\n",
    "model_with_tools = model.bind_tools(tools)\n",
    "tokenizer = tiktoken.encoding_for_model(\"gpt-4o\")\n",
    "\n",
    "# def retrieve(state: State) -> State:\n",
    "#     \"\"\"\n",
    "#     Retrieve documents based on the user question.\n",
    "#     \"\"\"\n",
    "#     print(\"\\n==== [RETRIEVE] ====\\n\")\n",
    "#     # msg = state[\"messages\"][-1][\"user\"]\n",
    "#     convo_str = get_buffer_string(state[\"messages\"])\n",
    "#     documents = pdf_retriever.invoke(convo_str)\n",
    "#     return {\"documents\": documents}\n",
    "\n",
    "from typing import List\n",
    "from typing_extensions import TypedDict, Annotated\n",
    "\n",
    "\n",
    "class State(MessagesState):\n",
    "    # add memories that will be retrieved based on the conversation context\n",
    "    recall_memories: Annotated[List[str], \"List of recall memories\"]\n",
    "\n",
    "\n",
    "def agent(state: State) -> State:\n",
    "    \"\"\"Process the current state and generate a response using the LLM.\n",
    "\n",
    "    Args:\n",
    "        state (schemas.State): The current state of the conversation.\n",
    "\n",
    "    Returns:\n",
    "        schemas.State: The updated state with the agent's response.\n",
    "    \"\"\"\n",
    "    bound = prompt | model_with_tools\n",
    "    recall_str = (\n",
    "        \"<recall_memory>\\n\" + \"\\n\".join(state[\"recall_memories\"]) + \"\\n</recall_memory>\"\n",
    "    )\n",
    "    prediction = bound.invoke(\n",
    "        {\n",
    "            \"messages\": state[\"messages\"],\n",
    "            # \"context\": format_docs(state[\"documents\"]),\n",
    "            \"recall_memories\": recall_str,\n",
    "        }\n",
    "    )\n",
    "    return {\n",
    "        \"messages\": [prediction],\n",
    "    }\n",
    "\n",
    "\n",
    "def load_memories(state: State, config: RunnableConfig) -> State:\n",
    "    \"\"\"Load memories for the current conversation.\n",
    "\n",
    "    Args:\n",
    "        state (schemas.State): The current state of the conversation.\n",
    "        config (RunnableConfig): The runtime configuration for the agent.\n",
    "\n",
    "    Returns:\n",
    "        State: The updated state with loaded memories.\n",
    "    \"\"\"\n",
    "    convo_str = get_buffer_string(state[\"messages\"])\n",
    "    convo_str = tokenizer.decode(tokenizer.encode(convo_str)[:2048])\n",
    "    recall_memories = search_recall_memories.invoke(convo_str, config)\n",
    "    return {\n",
    "        \"recall_memories\": recall_memories,\n",
    "    }\n",
    "\n",
    "\n",
    "def route_tools(state: State):\n",
    "    \"\"\"Determine whether to use tools or end the conversation based on the last message.\n",
    "\n",
    "    Args:\n",
    "        state (schemas.State): The current state of the conversation.\n",
    "\n",
    "    Returns:\n",
    "        Literal[\"tools\", \"__end__\"]: The next step in the graph.\n",
    "    \"\"\"\n",
    "    msg = state[\"messages\"][-1]\n",
    "    if msg.tool_calls:\n",
    "        return \"tools\"\n",
    "\n",
    "    return END"
   ]
  },
  {
   "cell_type": "code",
   "execution_count": 12,
   "id": "b20e1537",
   "metadata": {},
   "outputs": [],
   "source": [
    "# Create the graph and add nodes\n",
    "builder = StateGraph(State)\n",
    "\n",
    "builder.add_node(load_memories)\n",
    "builder.add_node(agent)\n",
    "builder.add_node(\"tools\", ToolNode(tools))\n",
    "\n",
    "# Add edges to the graph\n",
    "builder.add_edge(START, \"load_memories\")\n",
    "builder.add_edge(\"load_memories\", \"agent\")\n",
    "builder.add_conditional_edges(\"agent\", route_tools, [\"tools\", END])\n",
    "builder.add_edge(\"tools\", \"agent\")\n",
    "\n",
    "# Compile the graph\n",
    "memory = MemorySaver()\n",
    "graph = builder.compile(checkpointer=memory)"
   ]
  },
  {
   "cell_type": "code",
   "execution_count": null,
   "id": "5e850925",
   "metadata": {},
   "outputs": [],
   "source": [
    "# from IPython.display import Image, display\n",
    "\n",
    "# display(Image(graph.get_graph().draw_mermaid_png()))"
   ]
  },
  {
   "cell_type": "code",
   "execution_count": 13,
   "id": "6697192b",
   "metadata": {},
   "outputs": [],
   "source": [
    "def pretty_print_stream_chunk(chunk):\n",
    "    for node, updates in chunk.items():\n",
    "        print(f\"Update from node: {node}\")\n",
    "        if \"messages\" in updates:\n",
    "            updates[\"messages\"][-1].pretty_print()\n",
    "        else:\n",
    "            print(updates)\n",
    "\n",
    "        print(\"\\n\")"
   ]
  },
  {
   "cell_type": "code",
   "execution_count": 14,
   "id": "a6f0563c",
   "metadata": {},
   "outputs": [
    {
     "name": "stdout",
     "output_type": "stream",
     "text": [
      "Update from node: load_memories\n",
      "{'recall_memories': []}\n",
      "\n",
      "\n",
      "Update from node: agent\n",
      "==================================\u001b[1m Ai Message \u001b[0m==================================\n",
      "Tool Calls:\n",
      "  save_recall_memory (call_RnPKSwbwnR33G3BikwwUNFVH)\n",
      " Call ID: call_RnPKSwbwnR33G3BikwwUNFVH\n",
      "  Args:\n",
      "    memory: Daekeun is passionate about Machine Learning and enjoys learning new concepts related to AI and ML.\n",
      "\n",
      "\n",
      "Update from node: tools\n",
      "=================================\u001b[1m Tool Message \u001b[0m=================================\n",
      "Name: save_recall_memory\n",
      "\n",
      "Daekeun is passionate about Machine Learning and enjoys learning new concepts related to AI and ML.\n",
      "\n",
      "\n",
      "Update from node: agent\n",
      "==================================\u001b[1m Ai Message \u001b[0m==================================\n",
      "\n",
      "Got it! If you want to delve into any specific AI or Machine Learning topics, let me know!\n",
      "\n",
      "\n"
     ]
    }
   ],
   "source": [
    "# NOTE: we're specifying `user_id` to save memories for a given user\n",
    "config = {\"configurable\": {\"user_id\": \"1\", \"thread_id\": \"1\"}}\n",
    "\n",
    "for chunk in graph.stream(\n",
    "    {\"messages\": [(\"user\", \"Daekeun is a Machine Learning geek. He loves to learn AIML new things.\")]},\n",
    "    config=config,\n",
    "):\n",
    "    pretty_print_stream_chunk(chunk)"
   ]
  },
  {
   "cell_type": "code",
   "execution_count": 15,
   "id": "19fd1c58",
   "metadata": {},
   "outputs": [
    {
     "name": "stdout",
     "output_type": "stream",
     "text": [
      "Update from node: load_memories\n",
      "{'recall_memories': ['Daekeun is passionate about Machine Learning and enjoys learning new concepts related to AI and ML.']}\n",
      "\n",
      "\n",
      "Update from node: agent\n",
      "==================================\u001b[1m Ai Message \u001b[0m==================================\n",
      "Tool Calls:\n",
      "  save_recall_memory (call_lGAVrh9UHJ7TckqOngfBOHjY)\n",
      " Call ID: call_lGAVrh9UHJ7TckqOngfBOHjY\n",
      "  Args:\n",
      "    memory: Daekeun provides AI and Machine Learning technology support at Microsoft.\n",
      "\n",
      "\n",
      "Update from node: tools\n",
      "=================================\u001b[1m Tool Message \u001b[0m=================================\n",
      "Name: save_recall_memory\n",
      "\n",
      "Daekeun provides AI and Machine Learning technology support at Microsoft.\n",
      "\n",
      "\n",
      "Update from node: agent\n",
      "==================================\u001b[1m Ai Message \u001b[0m==================================\n",
      "\n",
      "That's impressive! Let me know if there's any way I can assist with your work or learning endeavors in AIML.\n",
      "\n",
      "\n"
     ]
    }
   ],
   "source": [
    "for chunk in graph.stream(\n",
    "    {\"messages\": [(\"user\", \"Daekeun provides AIML technology support at Microsoft.\")]},\n",
    "    config=config,\n",
    "):\n",
    "    pretty_print_stream_chunk(chunk)"
   ]
  },
  {
   "cell_type": "code",
   "execution_count": 16,
   "id": "776b9339",
   "metadata": {},
   "outputs": [
    {
     "name": "stdout",
     "output_type": "stream",
     "text": [
      "Update from node: load_memories\n",
      "{'recall_memories': ['Daekeun provides AI and Machine Learning technology support at Microsoft.', 'Daekeun is passionate about Machine Learning and enjoys learning new concepts related to AI and ML.']}\n",
      "\n",
      "\n",
      "Update from node: agent\n",
      "==================================\u001b[1m Ai Message \u001b[0m==================================\n",
      "Tool Calls:\n",
      "  pdf_retrieve (call_xtbWZ0mupRSllAjkj7RTWLrR)\n",
      " Call ID: call_xtbWZ0mupRSllAjkj7RTWLrR\n",
      "  Args:\n",
      "    query: AutoGen\n",
      "\n",
      "\n",
      "\n",
      "==== [RETRIEVE] ====\n",
      "\n",
      "Update from node: tools\n",
      "=================================\u001b[1m Tool Message \u001b[0m=================================\n",
      "Name: pdf_retrieve\n",
      "\n",
      "[\"tasks. AutoGen agents are customizable, conversable, and can operate in vari-\\nous modes that employ combinations of LLMs, human inputs, and tools. Using\\nAutoGen, developers can also flexibly define agent interaction behaviors. Both\\nnaturallanguageandcomputercodecanbeusedtoprogramflexibleconversation\\npatterns for different applications. AutoGen serves as a generic framework for\\nbuilding diverse applications of various complexities and LLM capacities. Em-\", \"message. AutoGen also introduces and by default adopts an agent auto-reply mechanism to\\nrealizeconversation-drivencontrol: Onceanagentreceivesamessagefromanotheragent,itau-\\ntomaticallyinvokesgenerate replyandsendsthereplybacktothesenderunlessatermination\\nconditionissatisfied. AutoGenprovidesbuilt-inreplyfunctionsbasedonLLMinference,code\\norfunctionexecution,orhumaninput.Onecanalsoregistercustomreplyfunctionstocustomize\", \"ingaspecializeddecision-makingagentforeverynewenvironment.\\nWorkflow. We demonstrate how to use AutoGen to build a working system for handling such\\nscenarios with the MiniWoB++ benchmark (Shi et al., 2017). MiniWoB++ comprises browser in-\\nteraction tasks that involve utilizing mouse and keyboard actions to interact with browsers. The\\nultimateobjectiveofeachtaskistocompletethetasksdescribedconciselyinnaturallanguage,such\", \"‘static’pattern, agenttopologyremainsunchangedregardlessofdifferentinputs. AutoGenallows\\nflexible conversation patterns, including both static and dynamic patterns that can be customized\\nbased on different application needs. execution-capable: whether the system can execute LLM-\\ngenerated code; human involvement: whether (and how) the system allows human participation\\nduringtheexecutionprocessofthesystem. AutoGenallowsflexiblehumaninvolvementinmulti-\", \"patterns. In addition to static conversation with predefined flow, AutoGen also supports dynamic\\nconversation flows with multiple agents. AutoGen provides two general ways to achieve this: 1)\\nCustomized generate reply function: within the customized generate reply function, one\\nagentcanholdthecurrentconversationwhileinvokingconversationswithotheragentsdepending\\nonthecontentofthecurrentmessageandcontext. 2)Functioncalls: Inthisapproach,LLMdecides\", \"limittheframework’sscopeofapplicabilityandgenerality.\\nWhile there is contemporaneous exploration of multi-agent approaches,3 we present AutoGen, a\\ngeneralizedmulti-agentconversationframework(Figure1),basedonthefollowingnewconcepts.\\n1 Customizableandconversableagents. AutoGenusesagenericdesignofagentsthatcanlever-\\nage LLMs, human inputs, tools, or a combination of them. The result is that developers can\", \"figureillustratesthebuilt-inagentsprovidedbyAutoGen,whichhaveunifiedconversationinterfaces\\nand can be customized. The middle sub-figure shows an example of using AutoGen to develop\\na two-agent system with a custom reply function. The bottom sub-figure illustrates the resulting\\nautomatedagentchatfromthetwo-agentsystemduringprogramexecution.\\nByallowingcustomagentsthatcanconversewitheachother,conversableagentsinAutoGenserve\", \"AutoGenagentsareconversable,customizable,andcanbebasedonLLMs,tools,humans,oreven\\na combination of them. (Top-middle) Agents can converse to solve tasks. (Right) They can form\\na chat, potentially with humans in the loop. (Bottom-middle) The framework supports flexible\\nconversationpatterns.\\nAbstract\\nAutoGen2 isanopen-sourceframeworkthatallowsdeveloperstobuildLLMap-\\nplications via multiple agents that can converse with each other to accomplish\", \"agent systems that can easily fulfill various practical requirements, such as reusing, customizing,\\nandextendingexistingagents,aswellasprogrammingconversationsbetweenthem.\\nOurexperiments,asdetailedinSection3,demonstratethatthisapproachoffersnumerousbenefits.\\nTheadoptionofAutoGenhasresultedinimprovedperformance(overstate-of-the-artapproaches),\\nreduced development code, and decreased manual burden for existing applications. It offers flex-\", \"gramminglanguagestobuildapplicationswithawiderangeofconversationpatternsandagent\\nbehaviors. AutoGenprovidesready-to-useimplementationsandalsoallowseasyextensionand\\nexperimentationforbothsteps. (Section2.2)\\n3WerefertoAppendixAforadetaileddiscussion.\\n2\"]\n",
      "\n",
      "\n",
      "Update from node: agent\n",
      "==================================\u001b[1m Ai Message \u001b[0m==================================\n",
      "\n",
      "AutoGen is an open-source framework designed to develop applications using multiple agents powered by large language models (LLMs). It supports flexible and customizable agent conversations, allowing them to leverage tools, human inputs, or combinations of these. The framework emphasizes the development of diverse applications through customizable interaction behaviors, flexible conversation patterns, and adaptable agent capabilities.\n",
      "\n",
      "Key aspects include:\n",
      "- **Conversable, Customizable Agents:** These agents can use LLMs, tools, and human inputs to address a variety of tasks.\n",
      "- **Dynamic Conversation Flows:** AutoGen supports both static and dynamic patterns, enabling complex multi-agent interactions.\n",
      "- **Built-in Features:** AutoGen provides tools like automated reply mechanisms and execution capabilities (LLM-generated code or human involvement).\n",
      "- **Ease of Development:** Developers enjoy reduced code burden, customizable workflows, and improved operational efficiency for applications.\n",
      "\n",
      "Let me know if you'd like a deeper dive into specific features or applications!\n",
      "\n",
      "\n"
     ]
    }
   ],
   "source": [
    "for chunk in graph.stream(\n",
    "    {\"messages\": [(\"user\", \"Daekeun wants to know AutoGen\")]}, config=config\n",
    "):\n",
    "    pretty_print_stream_chunk(chunk)"
   ]
  },
  {
   "cell_type": "code",
   "execution_count": 17,
   "id": "c034f9ac",
   "metadata": {},
   "outputs": [
    {
     "name": "stdout",
     "output_type": "stream",
     "text": [
      "Update from node: load_memories\n",
      "{'recall_memories': ['Daekeun provides AI and Machine Learning technology support at Microsoft.', 'Daekeun is passionate about Machine Learning and enjoys learning new concepts related to AI and ML.']}\n",
      "\n",
      "\n",
      "Update from node: agent\n",
      "==================================\u001b[1m Ai Message \u001b[0m==================================\n",
      "\n",
      "AutoGen’s main features include:\n",
      "\n",
      "1. **Customizable and Conversable Agents**: \n",
      "   - AutoGen agents are designed to be adaptable, capable of leveraging large language models (LLMs), human inputs, tool integrations, or a combination of these.\n",
      "\n",
      "2. **Dynamic and Flexible Conversation Patterns**: \n",
      "   - AutoGen supports both static and dynamic conversation flows, allowing agents to converse and adjust based on different application needs.\n",
      "\n",
      "3. **Agent Interaction Behavior**:\n",
      "   - Developers can define flexible and programmable conversation workflows, including customized reply functions and behavioral patterns.\n",
      "\n",
      "4. **Tool Integration and Execution**:\n",
      "   - AutoGen enables automatic execution capabilities for LLM-generated code and supports human involvement during the process.\n",
      "\n",
      "5. **Multi-Agent Collaboration**:\n",
      "   - Multiple agents can collaborate, exchange messages, and engage in system-level interactions to solve tasks efficiently.\n",
      "\n",
      "6. **Efficient Application Development**:\n",
      "   - Reduces development code burden and manual effort while allowing experimentation, extension, and reuse of existing agent frameworks.\n",
      "\n",
      "7. **Open-Source Flexibility**:\n",
      "   - Includes built-in tools and APIs for developing AI applications, making it accessible for use and modification.\n",
      "\n",
      "AutoGen facilitates the creation of robust and scalable applications where agents can work independently or collaborate seamlessly. Let me know if you want to explore its implementation techniques or specific use cases!\n",
      "\n",
      "\n"
     ]
    }
   ],
   "source": [
    "for chunk in graph.stream(\n",
    "    {\"messages\": [(\"user\", \"What is AutoGen's main featrues?\")]}, config=config\n",
    "):\n",
    "    pretty_print_stream_chunk(chunk)"
   ]
  },
  {
   "cell_type": "code",
   "execution_count": null,
   "id": "6e7ddad7",
   "metadata": {},
   "outputs": [],
   "source": [
    "for chunk in graph.stream(\n",
    "    {\n",
    "        \"messages\": [\n",
    "            (\"user\", \"Daekeun wants to study AutoGen in 4 weeks. How can he does?\")\n",
    "        ]\n",
    "    },\n",
    "    config=config,\n",
    "):\n",
    "    pretty_print_stream_chunk(chunk)"
   ]
  },
  {
   "cell_type": "code",
   "execution_count": null,
   "id": "50924fc0",
   "metadata": {},
   "outputs": [],
   "source": [
    "config = {\"configurable\": {\"user_id\": \"1\", \"thread_id\": \"1\"}}"
   ]
  },
  {
   "cell_type": "code",
   "execution_count": 18,
   "id": "45f92e32",
   "metadata": {},
   "outputs": [
    {
     "name": "stdout",
     "output_type": "stream",
     "text": [
      "Update from node: load_memories\n",
      "{'recall_memories': ['Daekeun provides AI and Machine Learning technology support at Microsoft.', 'Daekeun is passionate about Machine Learning and enjoys learning new concepts related to AI and ML.']}\n",
      "\n",
      "\n",
      "Update from node: agent\n",
      "==================================\u001b[1m Ai Message \u001b[0m==================================\n",
      "Tool Calls:\n",
      "  bing_search_results (call_ZylvsVW2yFx8TeL13HUNBUrz)\n",
      " Call ID: call_ZylvsVW2yFx8TeL13HUNBUrz\n",
      "  Args:\n",
      "    query: Microsoft learning material AutoGen study\n",
      "\n",
      "\n",
      "Update from node: tools\n",
      "=================================\u001b[1m Tool Message \u001b[0m=================================\n",
      "Name: bing_search_results\n",
      "\n",
      "[{\"kind\": \"web\", \"title\": \"AutoGen: Publications - Microsoft Research\", \"snippet\": \"<b>AutoGen</b>: Enabling Next-Gen LLM Applications via Multi-Agent Conversation Qingyun Wu, Gagan Bansal, Jieyu Zhang, Yiran Wu, Beibin Li, Erkang (Eric) Zhu, Li Jiang, Xiaoyun Zhang, Shaokun Zhang, Ahmed Awadallah, Ryen W. White, Doug Burger, Chi Wang COLM 2024 | August 2024 . Best Paper, LLM Agents Workshop ICLR&#39;24 Publication Video Video Video\", \"content\": \"Open-Source Framework for Agentic AI aka.ms/autogen(opens in new tab) autogen@microsoft.com Gagan Bansal,Jennifer Wortman Vaughan,Saleema Amershi,Eric Horvitz,Adam Fourney,Hussein Mozannar,Victor Dibia, Daniel S. Weld MSR-TR-2024-53 | December 2024 Published by Microsoft Publication Victor Dibia,Jingya Chen,Gagan Bansal,Suff Syed,Adam Fourney,Erkang (Eric) Zhu, Chi Wang,Saleema Amershi August 2024 Preprint PDFPublicationVideoVideo Qingyun Wu,Gagan Bansal, Jieyu Zhang, Yiran Wu, Beibin Li,Erkang (Eric) Zhu, Li Jiang, Xiaoyun Zhang, Shaokun Zhang,Ahmed Awadallah,Ryen W. White,Doug Burger, Chi Wang COLM 2024| August 2024 Best Paper, LLM Agents Workshop ICLR'24 PublicationVideoVideoVideo Ching-An Cheng,Andrey Kolobov, Dipendra Misra, Allen Nie, Adith Swaminathan December 2023 December 2023 PublicationPreprintGithubProject Chi Wang,  Susan Xueqing Liu,Ahmed Awadallah March 2023 PublicationGithubGithubProject Gagan Bansal,Jennifer Wortman Vaughan,Saleema Amershi,Eric Horvitz,Adam Fourney,Hussein Mozannar,Victor Dibia, Daniel S. Weld MSR-TR-2024-53 | December 2024 Published by Microsoft Publication Victor Dibia,Jingya Chen,Gagan Bansal,Suff Syed,Adam Fourney,Erkang (Eric) Zhu, Chi Wang,Saleema Amershi August 2024 Preprint PDFPublicationVideoVideo Qingyun Wu,Gagan Bansal, Jieyu Zhang, Yiran Wu, Beibin Li,Erkang (Eric) Zhu, Li Jiang, Xiaoyun Zhang, Shaokun Zhang,Ahmed Awadallah,Ryen W. White,Doug Burger, Chi Wang COLM 2024| August 2024 Best Paper, LLM Agents Workshop ICLR'24 PublicationVideoVideoVideo Ching-An Cheng,Andrey Kolobov, Dipendra Misra, Allen Nie, Adith Swaminathan December 2023 December 2023 PublicationPreprintGithubProject Chi Wang,  Susan Xueqing Liu,Ahmed Awadallah March 2023 PublicationGithubGithubProject Gagan Bansal,Jennifer Wortman Vaughan,Saleema Amershi,Eric Horvitz,Adam Fourney,Hussein Mozannar,Victor Dibia, Daniel S. Weld MSR-TR-2024-53 | December 2024 Published by Microsoft Publication Victor Dibia,Jingya Chen,Gagan Bansal,Suff Syed,Adam Fourney,Erkang (Eric) Zhu, Chi Wang,Saleema Amershi August 2024 Preprint PDFPublicationVideoVideo Qingyun Wu,Gagan Bansal, Jieyu Zhang, Yiran Wu, Beibin Li,Erkang (Eric) Zhu, Li Jiang, Xiaoyun Zhang, Shaokun Zhang,Ahmed Awadallah,Ryen W. White,Doug Burger, Chi Wang COLM 2024| August 2024 Best Paper, LLM Agents Workshop ICLR'24 PublicationVideoVideoVideo Gagan Bansal,Jennifer Wortman Vaughan,Saleema Amershi,Eric Horvitz,Adam Fourney,Hussein Mozannar,Victor Dibia, Daniel S. Weld MSR-TR-2024-53 | December 2024 Published by Microsoft Publication Victor Dibia,Jingya Chen,Gagan Bansal,Suff Syed,Adam Fourney,Erkang (Eric) Zhu, Chi Wang,Saleema Amershi August 2024 Preprint PDFPublicationVideoVideo Ching-An Cheng,Andrey Kolobov, Dipendra Misra, Allen Nie, Adith Swaminathan December 2023 December 2023 PublicationPreprintGithubProject Qingyun Wu,Gagan Bansal, Jieyu Zhang, Yiran Wu, Beibin Li,Erkang (Eric) Zhu, Li Jiang, Xiaoyun Zhang, Shaokun Zhang,Ahmed Awadallah,Ryen W. White,Doug Burger, Chi Wang COLM 2024| August 2024 Best Paper, LLM Agents Workshop ICLR'24 PublicationVideoVideoVideo Chi Wang,  Susan Xueqing Liu,Ahmed Awadallah March 2023 PublicationGithubGithubProject  Follow us: Share this page:\", \"url\": \"https://www.microsoft.com/en-us/research/project/autogen/publications/\", \"thumbnail_url\": null, \"source\": \"Microsoft\"}]\n",
      "\n",
      "\n",
      "Update from node: agent\n",
      "==================================\u001b[1m Ai Message \u001b[0m==================================\n",
      "\n",
      "You can explore AutoGen resources through Microsoft's research page, which has publications and learning materials about AutoGen [here](https://www.microsoft.com/en-us/research/project/autogen/publications/). This should be a great starting point to understand its functionalities, features, and applications. Let me know if you'd like further assistance!\n",
      "\n",
      "\n"
     ]
    }
   ],
   "source": [
    "for chunk in graph.stream(\n",
    "    {\n",
    "        \"messages\": [\n",
    "            (\"user\", \"Daekeun wants to study AutoGen in 2 weeks. Please recommend Microsoft's website or appropriate learning material.\")\n",
    "        ]\n",
    "    },\n",
    "    config=config,\n",
    "):\n",
    "    pretty_print_stream_chunk(chunk)"
   ]
  },
  {
   "cell_type": "code",
   "execution_count": null,
   "id": "5e8bf9ee",
   "metadata": {},
   "outputs": [],
   "source": [
    "d"
   ]
  },
  {
   "cell_type": "markdown",
   "id": "05a7ce1d",
   "metadata": {},
   "source": [
    "Now we can use the saved information about our user on a different thread. Let's try it out:"
   ]
  },
  {
   "cell_type": "code",
   "execution_count": 19,
   "id": "f8908707",
   "metadata": {},
   "outputs": [
    {
     "name": "stdout",
     "output_type": "stream",
     "text": [
      "Update from node: load_memories\n",
      "{'recall_memories': []}\n",
      "\n",
      "\n",
      "Update from node: agent\n",
      "==================================\u001b[1m Ai Message \u001b[0m==================================\n",
      "Tool Calls:\n",
      "  save_recall_memory (call_msnnVuceYB8ysbCUtZsoC5mE)\n",
      " Call ID: call_msnnVuceYB8ysbCUtZsoC5mE\n",
      "  Args:\n",
      "    memory: Hyo is a big fan of Microsoft.\n",
      "\n",
      "\n",
      "Update from node: tools\n",
      "=================================\u001b[1m Tool Message \u001b[0m=================================\n",
      "Name: save_recall_memory\n",
      "\n",
      "Hyo is a big fan of Microsoft.\n",
      "\n",
      "\n",
      "Update from node: agent\n",
      "==================================\u001b[1m Ai Message \u001b[0m==================================\n",
      "\n",
      "That's awesome! If Hyo is curious about anything related to Microsoft—like its products, services, or innovations—I'd be happy to help or share some insights.\n",
      "\n",
      "\n"
     ]
    }
   ],
   "source": [
    "config = {\"configurable\": {\"user_id\": \"2\", \"thread_id\": \"1\"}}\n",
    "\n",
    "for chunk in graph.stream(\n",
    "    {\"messages\": [(\"user\", \"Hyo is a big fan of Microsoft\")]}, config=config\n",
    "):\n",
    "    pretty_print_stream_chunk(chunk)"
   ]
  },
  {
   "cell_type": "code",
   "execution_count": 20,
   "id": "d44ab64e",
   "metadata": {},
   "outputs": [
    {
     "name": "stdout",
     "output_type": "stream",
     "text": [
      "Update from node: load_memories\n",
      "{'recall_memories': ['Hyo is a big fan of Microsoft.']}\n",
      "\n",
      "\n",
      "Update from node: agent\n",
      "==================================\u001b[1m Ai Message \u001b[0m==================================\n",
      "Tool Calls:\n",
      "  save_recall_memory (call_XrTkFbnbEkcPj6JFGBs4x5CJ)\n",
      " Call ID: call_XrTkFbnbEkcPj6JFGBs4x5CJ\n",
      "  Args:\n",
      "    memory: Hyo is interested in AutoGen and Semantic Kernel.\n",
      "\n",
      "\n",
      "Update from node: tools\n",
      "=================================\u001b[1m Tool Message \u001b[0m=================================\n",
      "Name: save_recall_memory\n",
      "\n",
      "Hyo is interested in AutoGen and Semantic Kernel.\n",
      "\n",
      "\n",
      "Update from node: agent\n",
      "==================================\u001b[1m Ai Message \u001b[0m==================================\n",
      "\n",
      "That's great! If Hyo needs resources, explanations, or guidance on AutoGen or Semantic Kernel, I can provide helpful information or recommendations. Just let me know!\n",
      "\n",
      "\n"
     ]
    }
   ],
   "source": [
    "config = {\"configurable\": {\"user_id\": \"2\", \"thread_id\": \"1\"}}\n",
    "\n",
    "for chunk in graph.stream(\n",
    "    {\"messages\": [(\"user\", \"Hyo is interested in AutoGen and Semantic Kernel\")]}, config=config\n",
    "):\n",
    "    pretty_print_stream_chunk(chunk)"
   ]
  },
  {
   "cell_type": "code",
   "execution_count": 21,
   "id": "d26af86c",
   "metadata": {},
   "outputs": [
    {
     "name": "stdout",
     "output_type": "stream",
     "text": [
      "Update from node: load_memories\n",
      "{'recall_memories': ['Hyo is interested in AutoGen and Semantic Kernel.', 'Hyo is a big fan of Microsoft.']}\n",
      "\n",
      "\n",
      "Update from node: agent\n",
      "==================================\u001b[1m Ai Message \u001b[0m==================================\n",
      "\n",
      "For AutoGen, you can find detailed learning materials, publications, and insights on Microsoft's official page [here](https://www.microsoft.com/en-us/research/project/autogen/publications/).\n",
      "\n",
      "For Semantic Kernel, its primary learning resources are on its [GitHub repository](https://github.com/microsoft/semantic-kernel), where you'll find documentation, examples, and implementation guidelines to study and experiment with the framework.\n",
      "\n",
      "Let me know if you'd like further assistance navigating or understanding these materials!\n",
      "\n",
      "\n"
     ]
    }
   ],
   "source": [
    "config = {\"configurable\": {\"user_id\": \"2\", \"thread_id\": \"1\"}}\n",
    "\n",
    "for chunk in graph.stream(\n",
    "    {\"messages\": [(\"user\", \"Where is learning materials?\")]}, config=config\n",
    "):\n",
    "    pretty_print_stream_chunk(chunk)"
   ]
  },
  {
   "cell_type": "markdown",
   "id": "618f9d1f",
   "metadata": {},
   "source": [
    "Notice how the agent is loading the most relevant memories before answering, and in our case suggests the dinner recommendations based on both the food preferences as well as location.\n",
    "\n",
    "Finally, let's use the search tool together with the rest of the conversation context and memory to find location of a pizzeria:\n",
    "\n",
    "에이전트가 답변하기 전에 가장 관련성 높은 기억을 불러오는 방식에 주목하세요. 이 경우에는 음식 선호도와 위치를 모두 고려하여 저녁 식사 추천을 제안합니다.\n",
    "\n",
    "마지막으로, 검색 도구를 나머지 대화 맥락 및 기억과 함께 사용하여 피자 가게의 위치를 ​​찾아 보겠습니다."
   ]
  },
  {
   "cell_type": "code",
   "execution_count": null,
   "id": "36fa1929",
   "metadata": {},
   "outputs": [],
   "source": [
    "for chunk in graph.stream(\n",
    "    {\"messages\": [(\"user\", \"what's the address for joe's in greenwich village?\")]},\n",
    "    config=config,\n",
    "):\n",
    "    pretty_print_stream_chunk(chunk)"
   ]
  },
  {
   "cell_type": "markdown",
   "id": "3de5c10f",
   "metadata": {},
   "source": [
    "### Adding structured memories\n",
    "\n",
    "지금까지 메모리를 문자열로 표현했습니다(예: \"John은 피자를 좋아해\"). 이는 메모리를 벡터 저장소에 저장할 때 자연스러운 표현입니다. 그래프 데이터베이스와 같은 다른 지속성 백엔드를 사용하는 것이 유용하다면, 애플리케이션을 업데이트하여 추가적인 구조를 가진 메모리를 생성할 수 있습니다.\n",
    "\n",
    "아래에서는 save_recall_memory 도구를 업데이트하여 지식 그래프에 저장하기에 적합한 \"지식 트리플\", 즉 주어, 술어, 목적어를 가진 3-튜플 목록을 받습니다. 그러면 모델이 도구 호출의 일부로 이러한 표현을 생성합니다.\n",
    "\n",
    "간단성을 위해 이전과 동일한 벡터 데이터베이스를 사용하지만, save_recall_memory 및 search_recall_memory 도구를 추가로 업데이트하여 그래프 데이터베이스와 상호 작용할 수 있습니다. 지금은 save_recall_memory 도구만 업데이트하면 됩니다."
   ]
  },
  {
   "cell_type": "code",
   "execution_count": null,
   "id": "889ca9ae",
   "metadata": {},
   "outputs": [],
   "source": [
    "recall_vector_store = InMemoryVectorStore(embeddings)"
   ]
  },
  {
   "cell_type": "code",
   "execution_count": 22,
   "id": "2f3c7ef4",
   "metadata": {},
   "outputs": [],
   "source": [
    "from typing_extensions import TypedDict\n",
    "\n",
    "\n",
    "class KnowledgeTriple(TypedDict):\n",
    "    subject: str\n",
    "    predicate: str\n",
    "    object_: str\n",
    "\n",
    "# @tool\n",
    "# def save_recall_memory(memory: str, config: RunnableConfig) -> str:\n",
    "#     \"\"\"Save memory to vectorstore for later semantic retrieval.\"\"\"\n",
    "#     user_id = get_user_id(config)\n",
    "#     document = Document(\n",
    "#         page_content=memory, id=str(uuid.uuid4()), metadata={\"user_id\": user_id}\n",
    "#     )\n",
    "#     recall_vector_store.add_documents([document])\n",
    "#     return memory\n",
    "\n",
    "\n",
    "@tool\n",
    "def save_recall_memory(memories: List[KnowledgeTriple], config: RunnableConfig) -> str:\n",
    "    \"\"\"Save memory to vectorstore for later semantic retrieval.\"\"\"\n",
    "    user_id = get_user_id(config)\n",
    "    for memory in memories:\n",
    "        serialized = \" \".join(memory.values())\n",
    "        document = Document(\n",
    "            serialized,\n",
    "            id=str(uuid.uuid4()),\n",
    "            metadata={\n",
    "                \"user_id\": user_id,\n",
    "                **memory,\n",
    "            },\n",
    "        )\n",
    "        recall_vector_store.add_documents([document])\n",
    "    return memories"
   ]
  },
  {
   "cell_type": "code",
   "execution_count": 23,
   "id": "83c3281c",
   "metadata": {},
   "outputs": [],
   "source": [
    "tools = [save_recall_memory, search_recall_memories, pdf_retrieve, web_search_tool]\n",
    "model_with_tools = model.bind_tools(tools)\n",
    "\n",
    "# Create the graph and add nodes\n",
    "builder = StateGraph(State)\n",
    "builder.add_node(load_memories)\n",
    "builder.add_node(agent)\n",
    "builder.add_node(\"tools\", ToolNode(tools))\n",
    "\n",
    "# Add edges to the graph\n",
    "builder.add_edge(START, \"load_memories\")\n",
    "builder.add_edge(\"load_memories\", \"agent\")\n",
    "builder.add_conditional_edges(\"agent\", route_tools, [\"tools\", END])\n",
    "builder.add_edge(\"tools\", \"agent\")\n",
    "\n",
    "# Compile the graph\n",
    "memory = MemorySaver()\n",
    "graph = builder.compile(checkpointer=memory)"
   ]
  },
  {
   "cell_type": "code",
   "execution_count": 24,
   "id": "6d017b3f",
   "metadata": {},
   "outputs": [
    {
     "name": "stdout",
     "output_type": "stream",
     "text": [
      "Update from node: load_memories\n",
      "{'recall_memories': []}\n",
      "\n",
      "\n",
      "Update from node: agent\n",
      "==================================\u001b[1m Ai Message \u001b[0m==================================\n",
      "Tool Calls:\n",
      "  save_recall_memory (call_zDJ5n3jwkQWHtFKTz3WOAY1n)\n",
      " Call ID: call_zDJ5n3jwkQWHtFKTz3WOAY1n\n",
      "  Args:\n",
      "    memories: [{'subject': 'Wonchan', 'predicate': 'introduced themselves', 'object_': 'Hi, I am Wonchan.'}]\n",
      "\n",
      "\n",
      "Update from node: tools\n",
      "=================================\u001b[1m Tool Message \u001b[0m=================================\n",
      "Name: save_recall_memory\n",
      "\n",
      "[{\"subject\": \"Wonchan\", \"predicate\": \"introduced themselves\", \"object_\": \"Hi, I am Wonchan.\"}]\n",
      "\n",
      "\n",
      "Update from node: agent\n",
      "==================================\u001b[1m Ai Message \u001b[0m==================================\n",
      "\n",
      "Hello, Wonchan! How can I assist you today?\n",
      "\n",
      "\n"
     ]
    }
   ],
   "source": [
    "config = {\"configurable\": {\"user_id\": \"3\", \"thread_id\": \"1\"}}\n",
    "\n",
    "for chunk in graph.stream({\"messages\": [(\"user\", \"Hi I am Wonchan.\")]}, config=config):\n",
    "    pretty_print_stream_chunk(chunk)"
   ]
  },
  {
   "cell_type": "code",
   "execution_count": 25,
   "id": "42f8d3a1",
   "metadata": {},
   "outputs": [
    {
     "name": "stdout",
     "output_type": "stream",
     "text": [
      "Update from node: load_memories\n",
      "{'recall_memories': ['Wonchan introduced themselves Hi, I am Wonchan.']}\n",
      "\n",
      "\n",
      "Update from node: agent\n",
      "==================================\u001b[1m Ai Message \u001b[0m==================================\n",
      "Tool Calls:\n",
      "  save_recall_memory (call_KAafUGDKnzp5QtEmr1i91Ghg)\n",
      " Call ID: call_KAafUGDKnzp5QtEmr1i91Ghg\n",
      "  Args:\n",
      "    memories: [{'subject': 'Wonchan', 'predicate': 'is non-tech but interested', 'object_': \"Microsoft's multi-agent strategy and tech stack like AutoGen.\"}]\n",
      "\n",
      "\n",
      "Update from node: tools\n",
      "=================================\u001b[1m Tool Message \u001b[0m=================================\n",
      "Name: save_recall_memory\n",
      "\n",
      "[{\"subject\": \"Wonchan\", \"predicate\": \"is non-tech but interested\", \"object_\": \"Microsoft's multi-agent strategy and tech stack like AutoGen.\"}]\n",
      "\n",
      "\n",
      "Update from node: agent\n",
      "==================================\u001b[1m Ai Message \u001b[0m==================================\n",
      "\n",
      "That's great, Wonchan! Microsoft's multi-agent strategy and their AutoGen tech stack involve innovative technologies focused on enabling intelligent collaboration between AI agents. Would you like me to explain some of these concepts in non-technical terms, or is there something specific you would like to learn about?\n",
      "\n",
      "\n"
     ]
    }
   ],
   "source": [
    "for chunk in graph.stream(\n",
    "    {\"messages\": [(\"user\", \"I am non-tech, but interested in Microsoft's multi-agent strategy and tech stack like AutoGen.\")]}, config=config\n",
    "):\n",
    "    pretty_print_stream_chunk(chunk)"
   ]
  },
  {
   "cell_type": "markdown",
   "id": "30b523c0",
   "metadata": {},
   "source": [
    "As before, the memories generated from one thread are accessed in another thread from the same user:"
   ]
  },
  {
   "cell_type": "code",
   "execution_count": 30,
   "id": "06ebca1a",
   "metadata": {},
   "outputs": [
    {
     "name": "stdout",
     "output_type": "stream",
     "text": [
      "Update from node: load_memories\n",
      "{'recall_memories': [\"Wonchan is non-tech but interested Microsoft's multi-agent strategy and tech stack like AutoGen.\", 'Wonchan introduced themselves Hi, I am Wonchan.']}\n",
      "\n",
      "\n",
      "Update from node: agent\n",
      "==================================\u001b[1m Ai Message \u001b[0m==================================\n",
      "Tool Calls:\n",
      "  bing_search_results (call_YTjtERjiXOdsq0XcFKjzMpM8)\n",
      " Call ID: call_YTjtERjiXOdsq0XcFKjzMpM8\n",
      "  Args:\n",
      "    query: AutoGen open-source framework hands-on website\n",
      "\n",
      "\n",
      "Update from node: tools\n",
      "=================================\u001b[1m Tool Message \u001b[0m=================================\n",
      "Name: bing_search_results\n",
      "\n",
      "[{\"kind\": \"web\", \"title\": \"AutoGen Studio — AutoGen\", \"snippet\": \"Caution <b>AutoGen</b> Studio is meant to help you rapidly prototype multi-agent workflows and demonstrate an example of end user interfaces built with <b>AutoGen</b>. It is not meant to be a production-ready app. Developers are encouraged to use the <b>AutoGen</b> <b>framework</b> to build their own applications, implementing authentication, security and other features required for deployed applications.\", \"content\": \" AutoGen Studio is a low-code interface built to help you rapidly prototype AI agents, enhance them with tools, compose them into teams and interact with them to accomplish tasks. It is built onAutoGen AgentChat- a high-level API for building multi-agent applications. See a video tutorial on AutoGen Studio v0.4 (02/25) -https://youtu.be/oum6EI7wohM  Code for AutoGen Studio is on GitHub atmicrosoft/autogen Caution AutoGen Studio is meant to help you rapidly prototype multi-agent workflows and demonstrate an example of end user interfaces built with AutoGen. It is not meant to be a production-ready app. Developers are encouraged to use the AutoGen framework to build their own applications, implementing authentication, security and other features required for deployed applications. AutoGen Studio offers four main interfaces to help you build and manage multi-agent systems: Team Builder A visual interface for creating agent teams through declarative specification (JSON) or drag-and-drop Supports configuration of all core components: teams, agents, tools, models, and termination conditions Fully compatible with AgentChat’s component definitions Playground Interactive environment for testing and running agent teams Features include: Live message streaming between agents Visual representation of message flow through a control transition graph Interactive sessions with teams using UserProxyAgent Full run control with the ability to pause or stop execution Gallery Central hub for discovering and importing community-created components Enables easy integration of third-party components Deployment Export and run teams in python code Setup and test endpoints based on a team configuration Run teams in a docker container Review project roadmap and issueshere. We welcome contributions to AutoGen Studio. We recommend the following general steps to contribute to the project: Review the overall AutoGen projectcontribution guide Please review the AutoGen Studioroadmapto get a sense of the current priorities for the project. Help is appreciated especially with Studio issues tagged withhelp-wanted Please use the tagproj-studiotag for any issues, questions, and PRs related to Studio Please initiate a discussion on the roadmap issue or a new issue to discuss your proposed contribution. Submit a pull request with your contribution! If you are modifying AutoGen Studio, it has its own devcontainer. See instructions in.devcontainer/README.mdto use it AutoGen Studio is a research prototype and isnot meant to be usedin a production environment. Some baseline practices are encouraged e.g., using Docker code execution environment for your agents. However, other considerations such as rigorous tests related to jailbreaking, ensuring LLMs only have access to the right keys of data given the end user’s permissions, and other security features are not implemented in AutoGen Studio. If you are building a production application, please use the AutoGen framework and implement the necessary security features. AutoGen Studio is based on theAutoGenproject. It was adapted from a research prototype built in October 2023 (original credits: Victor Dibia, Gagan Bansal, Adam Fourney, Piali Choudhury, Saleema Amershi, Ahmed Awadallah, Chi Wang). If you use AutoGen Studio in your research, please cite the following paper: To begin, follow theinstallation instructionsto install AutoGen Studio. previous ACA Dynamic Sessions Code Executor next Installation © Copyright 2024, Microsoft. Privacy Policy|Consumer Health Privacy Built with thePyData Sphinx Theme0.16.0.\", \"url\": \"https://microsoft.github.io/autogen/stable/user-guide/autogenstudio-user-guide/index.html\", \"thumbnail_url\": null, \"source\": null}]\n",
      "\n",
      "\n",
      "Update from node: agent\n",
      "==================================\u001b[1m Ai Message \u001b[0m==================================\n",
      "\n",
      "You can try AutoGen hands-on at the [AutoGen Studio](https://microsoft.github.io/autogen/stable/user-guide/autogenstudio-user-guide/index.html). It provides a low-code interface for prototyping multi-agent workflows, building agent teams, and testing them interactively. It’s ideal for experimenting and better understanding the AutoGen framework. Let me know if you'd like further guidance!\n",
      "\n",
      "\n"
     ]
    }
   ],
   "source": [
    "config = {\"configurable\": {\"user_id\": \"3\", \"thread_id\": \"2\"}}\n",
    "\n",
    "for chunk in graph.stream(\n",
    "    {\"messages\": [(\"user\", \"Recommend me a website where I can easily try AutoGen hands-on\")]}, config=config\n",
    "):\n",
    "    pretty_print_stream_chunk(chunk)"
   ]
  },
  {
   "cell_type": "code",
   "execution_count": 39,
   "id": "b78bec73",
   "metadata": {},
   "outputs": [
    {
     "name": "stdout",
     "output_type": "stream",
     "text": [
      "Update from node: load_memories\n",
      "{'recall_memories': [\"Wonchan is non-tech but interested Microsoft's multi-agent strategy and tech stack like AutoGen.\", 'Wonchan introduced themselves Hi, I am Wonchan.']}\n",
      "\n",
      "\n",
      "Update from node: agent\n",
      "==================================\u001b[1m Ai Message \u001b[0m==================================\n",
      "Tool Calls:\n",
      "  bing_search_results (call_pYjDSRklOEKy34SREElGGmwX)\n",
      " Call ID: call_pYjDSRklOEKy34SREElGGmwX\n",
      "  Args:\n",
      "    query: current popular multi-agent frameworks from companies\n",
      "\n",
      "\n",
      "Update from node: tools\n",
      "=================================\u001b[1m Tool Message \u001b[0m=================================\n",
      "Name: bing_search_results\n",
      "\n",
      "[{\"kind\": \"web\", \"title\": \"Multi-Agent AI Systems: Frameworks, Use Cases &amp; Trends 2025\", \"snippet\": \"Why <b>Multi-Agent</b> Systems Matter in 2025? The rise of <b>multi-agent</b> AI systems is becoming increasingly important in 2025, driven by the growing complexity of enterprise infrastructures, global markets, and the demand for real-time decision-making. Traditional AI models often struggle to scale and adapt in highly dynamic, <b>multi</b>-variable environments—this is where <b>multi-agent</b> AI <b>frameworks</b> truly ...\", \"content\": \"Multi-Agent AI Systems: Frameworks, Use Cases & Trends 2025 As artificial intelligence continues to evolve, one paradigm is quickly gaining traction across industries:multi-agent AI systems. But what is multi-agent AI, and why is it becoming so pivotal in 2025? In simple terms,multi-agent AIrefers to a system composed of multiple intelligent agents that interact, collaborate, or compete to achieve individual or shared objectives. From robotics and logistics tocybersecurityand finance, multi-agent AI frameworks are transforming how complex tasks are executed. This article exploreswhat is multi-agent AI, howmulti-agent systems in AIoperate, and the growing impact ofmulti-AI agent systemsacross sectors. We’ll also dive into architecture, use cases, and emerging trends to help you fully understand the potential and challenges of this powerful AI approach. At its core,multi-agent AIis a branch of artificial intelligence in which multiple autonomous agents operate in a shared environment. Each agent in amulti-agent system in AIcan perceive its environment, make decisions, and take actions to achieve specific goals. These agents may operate independently or interact with one another to collaborate or compete. Key Features of Multi-Agent AI Systems: If you’re wonderingwhat a multi-agent system is is in AI, think of it as a team ofAI-powered individuals—each with its own goals and behavior—working toward a larger mission. The rise ofmulti-agent AI systemsis becoming increasingly important in 2025, driven by the growing complexity of enterprise infrastructures, global markets, and the demand for real-time decision-making. Traditional AI models often struggle to scale and adapt in highly dynamic, multi-variable environments—this is wheremulti-agent AI frameworkstruly excel. By leveraging autonomous agents that operate independently yet collaboratively, multi-agent systems in AI offersignificant benefits: These advantages make multi-agent AI a vital component of modern, intelligent systems in enterprise and industry use cases alike. To build an effective multi-agent AI system, the architecture must support communication, coordination, and decision-making amongagents. The core entities that act based on internal states and external observations. The space (physical or digital) in which agents operate. Mechanisms for information exchange between agents. Rules or strategies that govern how agents interact. AI models that allow agents to adapt based on feedback (e.g., reinforcement learning, deep learning). Middleware or platforms likeJADEorSPADEprovide tools for building, deploying, and managing agent-based systems. Multi-agent AI systemsare making significant strides in the real world, particularly in industries where automation, coordination, and rapid decision-making are critical. In the field ofautonomous vehicles, multiple self-driving cars act as intelligent agents, interacting with each other and traffic infrastructure to optimize traffic flow, reduce congestion, and enhance road safety. Similarly,smart gridsutilize energy agents to manage power generation, distribution, and consumption—leading to more sustainable and efficient energy use. Inlogistics and supply chain management, multi-agent systems streamline operations by enabling warehouses, delivery trucks, and inventory systems to act independently yet collaboratively. These AI agents dynamically optimize delivery routes, restocking schedules, and resource allocation, significantly reducing operational costs and improving responsiveness. In the realm ofcybersecurity, intelligent agents work together to detect anomalies, neutralize threats, and provide real-time system protection, making organizations more resilient to cyber attacks. Financial marketsare another area wheremulti-agent AI thrives. These agents analyze live market data, execute trades, and apply hedging strategies autonomously, enabling faster, more informed trading decisions. Ingame development and simulations, multi-agent systems power strategic AI opponents and complex scenario modeling for training, planning, and forecasting. These real-world applications illustrate the transformative potential of multi-agent AI systems across diverse sectors. In enterprise software development,multi-agent AI systems bring automation, modularity, and real-time decision support. B2B platforms integrating multi-AI agent systems can benefit in areas like: By embedding multi-agent AI frameworks intotheir ecosystems, B2B software companies can offer smarter, more responsive, and scalable solutions. Despite its advantages, building multi-agent AI systems comes withhurdles: These statistics reflect the accelerating momentum behind AI adoption, particularly in multi-agent systems and enterprise applications. As organizations seek smarter automation and real-time intelligence, AI agents are becoming integral to driving efficiency, scalability, and innovation. The following trends highlight just how transformative multi-agent AI technologies will be in the years ahead. Understandingwhat multi-agent AI is is crucial for staying ahead in the era of intelligent automation. As enterprise systems become more dynamic and data-driven, the need for scalable, distributed AI solutions grows. Multi-agent AI systems, with their ability to collaborate, adapt, and optimize in real-time, are positioned to play a central role in the future of AI. Whether you’re a B2B software provider or an AI strategist, now is the time to explore the potential of multi-AI agent systems. From logistics and fintech to cybersecurity and robotics, the adoption of multi-agent AI frameworks is no longer a trend—it’s a necessity for innovation in 2025 and beyond. For deeper integration and enterprise-grade applications, consider partnering with experienced AI developers or using open-source multi-agent system in AI tools to accelerate your implementation. Eastgate Software We Drive Digital Transformation Eastgate Software We Drive Digital Transformation. Case Studies Company Contact Copyright © 2024.  All rights reserved. Support(+84) 246.276.35661 \", \"url\": \"https://eastgate-software.com/multi-agent-ai-systems-frameworks-use-cases-trends-2025/\", \"thumbnail_url\": null, \"source\": null}]\n",
      "\n",
      "\n",
      "Update from node: agent\n",
      "==================================\u001b[1m Ai Message \u001b[0m==================================\n",
      "\n",
      "Besides Microsoft's AutoGen framework, you can explore other multi-agent strategies through prominent systems such as:\n",
      "\n",
      "1. **JADE (Java Agent Development Framework)**: A well-established framework for developing agent-based systems. It allows agents to interact in various environments supporting collaboration and communication.\n",
      "\n",
      "2. **SPADE**: Another multi-agent platform focused on scalable, distributed applications. It is used for real-time systems like logistics, smart grids, and cybersecurity.\n",
      "\n",
      "3. **Eastgate Software’s Insights on AI Trends 2025**: This resource highlights how multi-agent systems integrate smart coordination mechanisms in industries like autonomous vehicles, fintech, and energy.\n",
      "\n",
      "You can search further about these platforms to dive deeper into various companies' approaches to multi-agent ecosystems. Let me know if you'd like a specific direction or starting material!\n",
      "\n",
      "\n"
     ]
    }
   ],
   "source": [
    "config = {\"configurable\": {\"user_id\": \"3\", \"thread_id\": \"2\"}}\n",
    "\n",
    "for chunk in graph.stream(\n",
    "    {\"messages\": [(\"user\", \"Recommend other multi-agent frameworks to me inorder to learn about other companies' multi-agent strategies\")]}, config=config\n",
    "):\n",
    "    pretty_print_stream_chunk(chunk)"
   ]
  },
  {
   "cell_type": "code",
   "execution_count": 45,
   "id": "5051041a",
   "metadata": {},
   "outputs": [
    {
     "name": "stdout",
     "output_type": "stream",
     "text": [
      "[Document(id='3f669daa-6568-494d-a67f-ab5859268c2d', metadata={'user_id': '3', 'subject': 'Wonchan', 'predicate': 'is non-tech but interested', 'object_': \"Microsoft's multi-agent strategy and tech stack like AutoGen.\"}, page_content=\"Wonchan is non-tech but interested Microsoft's multi-agent strategy and tech stack like AutoGen.\"), Document(id='649391d9-e34f-42d2-8239-d68637c5f666', metadata={'user_id': '3', 'subject': 'Wonchan', 'predicate': 'introduced themselves', 'object_': 'Hi, I am Wonchan.'}, page_content='Wonchan introduced themselves Hi, I am Wonchan.')]\n"
     ]
    }
   ],
   "source": [
    "records = recall_vector_store.similarity_search(\n",
    "    \"multi-agent\", k=3, filter=lambda doc: doc.metadata[\"user_id\"] == \"3\"\n",
    ")\n",
    "print(records)"
   ]
  },
  {
   "cell_type": "code",
   "execution_count": 46,
   "id": "564738b8",
   "metadata": {},
   "outputs": [
    {
     "data": {
      "image/png": "[encoded data removed]",
      "text/plain": [
       "<Figure size 480x320 with 1 Axes>"
      ]
     },
     "metadata": {},
     "output_type": "display_data"
    }
   ],
   "source": [
    "import matplotlib.pyplot as plt\n",
    "import networkx as nx\n",
    "\n",
    "# Fetch records\n",
    "records = recall_vector_store.similarity_search(\n",
    "    \"multi-agent\", k=3, filter=lambda doc: doc.metadata[\"user_id\"] == \"3\"\n",
    ")\n",
    "\n",
    "\n",
    "# Plot graph\n",
    "plt.figure(figsize=(6, 4), dpi=80)\n",
    "G = nx.DiGraph()\n",
    "\n",
    "for record in records:\n",
    "    G.add_edge(\n",
    "        record.metadata[\"subject\"],\n",
    "        record.metadata[\"object_\"],\n",
    "        label=record.metadata[\"predicate\"],\n",
    "    )\n",
    "\n",
    "pos = nx.spring_layout(G)\n",
    "nx.draw(\n",
    "    G,\n",
    "    pos,\n",
    "    with_labels=True,\n",
    "    node_size=3000,\n",
    "    node_color=\"lightblue\",\n",
    "    font_size=10,\n",
    "    font_weight=\"bold\",\n",
    "    arrows=True,\n",
    ")\n",
    "edge_labels = nx.get_edge_attributes(G, \"label\")\n",
    "nx.draw_networkx_edge_labels(G, pos, edge_labels=edge_labels, font_color=\"red\")\n",
    "plt.show()"
   ]
  },
  {
   "cell_type": "code",
   "execution_count": null,
   "id": "3aa8f770",
   "metadata": {},
   "outputs": [],
   "source": []
  }
 ],
 "metadata": {
  "kernelspec": {
   "display_name": "py312-dev",
   "language": "python",
   "name": "python3"
  },
  "language_info": {
   "codemirror_mode": {
    "name": "ipython",
    "version": 3
   },
   "file_extension": ".py",
   "mimetype": "text/x-python",
   "name": "python",
   "nbconvert_exporter": "python",
   "pygments_lexer": "ipython3",
   "version": "3.12.2"
  }
 },
 "nbformat": 4,
 "nbformat_minor": 5
}
